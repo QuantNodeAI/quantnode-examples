{
 "cells": [
  {
   "cell_type": "markdown",
   "metadata": {},
   "source": [
    "# Correlation of Price and Sentiment Messages Number"
   ]
  },
  {
   "cell_type": "markdown",
   "metadata": {},
   "source": [
    "## Intro"
   ]
  },
  {
   "cell_type": "markdown",
   "metadata": {},
   "source": [
    "### Imports"
   ]
  },
  {
   "cell_type": "code",
   "execution_count": 1,
   "metadata": {},
   "outputs": [],
   "source": [
    "%reload_ext autoreload\n",
    "%autoreload 2"
   ]
  },
  {
   "cell_type": "code",
   "execution_count": 2,
   "metadata": {},
   "outputs": [],
   "source": [
    "import os\n",
    "import sys\n",
    "from dotenv import load_dotenv\n"
   ]
  },
  {
   "cell_type": "code",
   "execution_count": 3,
   "metadata": {},
   "outputs": [],
   "source": [
    "from typing import List, Union\n",
    "\n",
    "import matplotlib.pyplot as plt\n",
    "from  matplotlib.colors import LinearSegmentedColormap\n",
    "import numpy as np\n",
    "import pandas as pd\n",
    "from tqdm.notebook import tqdm, trange\n",
    "\n",
    "from datetime import datetime as dt\n",
    "from datetime import timedelta\n",
    "\n",
    "from helixirapi.helixir_api import HelixirApi"
   ]
  },
  {
   "cell_type": "code",
   "execution_count": 4,
   "metadata": {},
   "outputs": [],
   "source": [
    "import matplotlib.pyplot as plt\n",
    "plt.style.use('ggplot')\n",
    "\n",
    "import plotly.io as pio\n",
    "pio.renderers.default = \"notebook_connected\""
   ]
  },
  {
   "cell_type": "markdown",
   "metadata": {},
   "source": [
    "### Create client instance"
   ]
  },
  {
   "cell_type": "code",
   "execution_count": 5,
   "metadata": {},
   "outputs": [
    {
     "data": {
      "text/plain": [
       "<helixirapi.helixir_api.HelixirApi at 0x7f70d849d280>"
      ]
     },
     "execution_count": 5,
     "metadata": {},
     "output_type": "execute_result"
    }
   ],
   "source": [
    "load_dotenv()\n",
    "AUTH_TOKEN = os.getenv(\"AUTH_TOKEN\")\n",
    "client = HelixirApi(auth_token=AUTH_TOKEN)\n",
    "client"
   ]
  },
  {
   "cell_type": "markdown",
   "metadata": {},
   "source": [
    "## Get Data"
   ]
  },
  {
   "cell_type": "code",
   "execution_count": 6,
   "metadata": {},
   "outputs": [
    {
     "data": {
      "text/plain": [
       "TokenResponse(\n",
       "\tid = 685,\n",
       "\tname = Dogecoin,\n",
       "\tsymbol = DOGE,\n",
       "\tchain = BSC,\n",
       "\tactive = True,\n",
       "\tdecimals = 8.0,\n",
       "\ttotal_supply = 1400000000.0,\n",
       "\tcirculating_supply = 1398977878.7484114,\n",
       "\tcontract = 0xbA2aE424d960c26247Dd6c32edC70B295c744C43,\n",
       ")"
      ]
     },
     "execution_count": 6,
     "metadata": {},
     "output_type": "execute_result"
    }
   ],
   "source": [
    "from_ = \"2022-05-10\"\n",
    "to = \"2022-06-01\"\n",
    "resolution = \"D1\"\n",
    "\n",
    "client.get_token(contract=\"0xbA2aE424d960c26247Dd6c32edC70B295c744C43\")"
   ]
  },
  {
   "cell_type": "code",
   "execution_count": 7,
   "metadata": {},
   "outputs": [
    {
     "data": {
      "application/vnd.jupyter.widget-view+json": {
       "model_id": "",
       "version_major": 2,
       "version_minor": 0
      },
      "text/plain": [
       "Iterating requests to meet the limit:   0%|          | 0/1 [00:00<?, ?it/s]"
      ]
     },
     "metadata": {},
     "output_type": "display_data"
    },
    {
     "data": {
      "text/html": [
       "<div>\n",
       "<style scoped>\n",
       "    .dataframe tbody tr th:only-of-type {\n",
       "        vertical-align: middle;\n",
       "    }\n",
       "\n",
       "    .dataframe tbody tr th {\n",
       "        vertical-align: top;\n",
       "    }\n",
       "\n",
       "    .dataframe thead th {\n",
       "        text-align: right;\n",
       "    }\n",
       "</style>\n",
       "<table border=\"1\" class=\"dataframe\">\n",
       "  <thead>\n",
       "    <tr style=\"text-align: right;\">\n",
       "      <th></th>\n",
       "      <th>open</th>\n",
       "      <th>high</th>\n",
       "      <th>low</th>\n",
       "      <th>close</th>\n",
       "    </tr>\n",
       "    <tr>\n",
       "      <th>time</th>\n",
       "      <th></th>\n",
       "      <th></th>\n",
       "      <th></th>\n",
       "      <th></th>\n",
       "    </tr>\n",
       "  </thead>\n",
       "  <tbody>\n",
       "    <tr>\n",
       "      <th>2022-05-09 00:00:00+00:00</th>\n",
       "      <td>0.742159</td>\n",
       "      <td>0.752084</td>\n",
       "      <td>0.601878</td>\n",
       "      <td>0.601878</td>\n",
       "    </tr>\n",
       "    <tr>\n",
       "      <th>2022-05-10 00:00:00+00:00</th>\n",
       "      <td>0.601540</td>\n",
       "      <td>0.697380</td>\n",
       "      <td>0.583951</td>\n",
       "      <td>0.627792</td>\n",
       "    </tr>\n",
       "    <tr>\n",
       "      <th>2022-05-11 00:00:00+00:00</th>\n",
       "      <td>0.629235</td>\n",
       "      <td>0.659482</td>\n",
       "      <td>0.472842</td>\n",
       "      <td>0.512539</td>\n",
       "    </tr>\n",
       "    <tr>\n",
       "      <th>2022-05-12 00:00:00+00:00</th>\n",
       "      <td>0.512994</td>\n",
       "      <td>0.545571</td>\n",
       "      <td>0.376689</td>\n",
       "      <td>0.472623</td>\n",
       "    </tr>\n",
       "    <tr>\n",
       "      <th>2022-05-13 00:00:00+00:00</th>\n",
       "      <td>0.472629</td>\n",
       "      <td>0.604366</td>\n",
       "      <td>0.469098</td>\n",
       "      <td>0.527113</td>\n",
       "    </tr>\n",
       "    <tr>\n",
       "      <th>2022-05-14 00:00:00+00:00</th>\n",
       "      <td>0.526666</td>\n",
       "      <td>0.553432</td>\n",
       "      <td>0.490227</td>\n",
       "      <td>0.538704</td>\n",
       "    </tr>\n",
       "    <tr>\n",
       "      <th>2022-05-15 00:00:00+00:00</th>\n",
       "      <td>0.538450</td>\n",
       "      <td>0.597034</td>\n",
       "      <td>0.515621</td>\n",
       "      <td>0.596734</td>\n",
       "    </tr>\n",
       "    <tr>\n",
       "      <th>2022-05-16 00:00:00+00:00</th>\n",
       "      <td>0.596239</td>\n",
       "      <td>0.612645</td>\n",
       "      <td>0.546210</td>\n",
       "      <td>0.554959</td>\n",
       "    </tr>\n",
       "    <tr>\n",
       "      <th>2022-05-17 00:00:00+00:00</th>\n",
       "      <td>0.554937</td>\n",
       "      <td>0.597575</td>\n",
       "      <td>0.553454</td>\n",
       "      <td>0.575779</td>\n",
       "    </tr>\n",
       "    <tr>\n",
       "      <th>2022-05-18 00:00:00+00:00</th>\n",
       "      <td>0.574064</td>\n",
       "      <td>0.583662</td>\n",
       "      <td>0.504044</td>\n",
       "      <td>0.504715</td>\n",
       "    </tr>\n",
       "    <tr>\n",
       "      <th>2022-05-19 00:00:00+00:00</th>\n",
       "      <td>0.504529</td>\n",
       "      <td>0.544845</td>\n",
       "      <td>0.493568</td>\n",
       "      <td>0.534868</td>\n",
       "    </tr>\n",
       "    <tr>\n",
       "      <th>2022-05-20 00:00:00+00:00</th>\n",
       "      <td>0.534866</td>\n",
       "      <td>0.541785</td>\n",
       "      <td>0.502975</td>\n",
       "      <td>0.517258</td>\n",
       "    </tr>\n",
       "    <tr>\n",
       "      <th>2022-05-21 00:00:00+00:00</th>\n",
       "      <td>0.517395</td>\n",
       "      <td>0.536013</td>\n",
       "      <td>0.510346</td>\n",
       "      <td>0.527952</td>\n",
       "    </tr>\n",
       "    <tr>\n",
       "      <th>2022-05-22 00:00:00+00:00</th>\n",
       "      <td>0.527939</td>\n",
       "      <td>0.546312</td>\n",
       "      <td>0.521394</td>\n",
       "      <td>0.542538</td>\n",
       "    </tr>\n",
       "    <tr>\n",
       "      <th>2022-05-23 00:00:00+00:00</th>\n",
       "      <td>0.542497</td>\n",
       "      <td>0.558678</td>\n",
       "      <td>0.507193</td>\n",
       "      <td>0.511120</td>\n",
       "    </tr>\n",
       "    <tr>\n",
       "      <th>2022-05-24 00:00:00+00:00</th>\n",
       "      <td>0.511546</td>\n",
       "      <td>0.524677</td>\n",
       "      <td>0.493326</td>\n",
       "      <td>0.520757</td>\n",
       "    </tr>\n",
       "    <tr>\n",
       "      <th>2022-05-25 00:00:00+00:00</th>\n",
       "      <td>0.521372</td>\n",
       "      <td>0.533152</td>\n",
       "      <td>0.506336</td>\n",
       "      <td>0.513366</td>\n",
       "    </tr>\n",
       "    <tr>\n",
       "      <th>2022-05-26 00:00:00+00:00</th>\n",
       "      <td>0.513360</td>\n",
       "      <td>0.518155</td>\n",
       "      <td>0.464823</td>\n",
       "      <td>0.477799</td>\n",
       "    </tr>\n",
       "    <tr>\n",
       "      <th>2022-05-27 00:00:00+00:00</th>\n",
       "      <td>0.478275</td>\n",
       "      <td>0.481787</td>\n",
       "      <td>0.440518</td>\n",
       "      <td>0.453206</td>\n",
       "    </tr>\n",
       "    <tr>\n",
       "      <th>2022-05-28 00:00:00+00:00</th>\n",
       "      <td>0.454353</td>\n",
       "      <td>0.467049</td>\n",
       "      <td>0.448055</td>\n",
       "      <td>0.465410</td>\n",
       "    </tr>\n",
       "    <tr>\n",
       "      <th>2022-05-30 00:00:00+00:00</th>\n",
       "      <td>0.479633</td>\n",
       "      <td>0.574968</td>\n",
       "      <td>0.479152</td>\n",
       "      <td>0.569971</td>\n",
       "    </tr>\n",
       "  </tbody>\n",
       "</table>\n",
       "</div>"
      ],
      "text/plain": [
       "                               open      high       low     close\n",
       "time                                                             \n",
       "2022-05-09 00:00:00+00:00  0.742159  0.752084  0.601878  0.601878\n",
       "2022-05-10 00:00:00+00:00  0.601540  0.697380  0.583951  0.627792\n",
       "2022-05-11 00:00:00+00:00  0.629235  0.659482  0.472842  0.512539\n",
       "2022-05-12 00:00:00+00:00  0.512994  0.545571  0.376689  0.472623\n",
       "2022-05-13 00:00:00+00:00  0.472629  0.604366  0.469098  0.527113\n",
       "2022-05-14 00:00:00+00:00  0.526666  0.553432  0.490227  0.538704\n",
       "2022-05-15 00:00:00+00:00  0.538450  0.597034  0.515621  0.596734\n",
       "2022-05-16 00:00:00+00:00  0.596239  0.612645  0.546210  0.554959\n",
       "2022-05-17 00:00:00+00:00  0.554937  0.597575  0.553454  0.575779\n",
       "2022-05-18 00:00:00+00:00  0.574064  0.583662  0.504044  0.504715\n",
       "2022-05-19 00:00:00+00:00  0.504529  0.544845  0.493568  0.534868\n",
       "2022-05-20 00:00:00+00:00  0.534866  0.541785  0.502975  0.517258\n",
       "2022-05-21 00:00:00+00:00  0.517395  0.536013  0.510346  0.527952\n",
       "2022-05-22 00:00:00+00:00  0.527939  0.546312  0.521394  0.542538\n",
       "2022-05-23 00:00:00+00:00  0.542497  0.558678  0.507193  0.511120\n",
       "2022-05-24 00:00:00+00:00  0.511546  0.524677  0.493326  0.520757\n",
       "2022-05-25 00:00:00+00:00  0.521372  0.533152  0.506336  0.513366\n",
       "2022-05-26 00:00:00+00:00  0.513360  0.518155  0.464823  0.477799\n",
       "2022-05-27 00:00:00+00:00  0.478275  0.481787  0.440518  0.453206\n",
       "2022-05-28 00:00:00+00:00  0.454353  0.467049  0.448055  0.465410\n",
       "2022-05-30 00:00:00+00:00  0.479633  0.574968  0.479152  0.569971"
      ]
     },
     "execution_count": 7,
     "metadata": {},
     "output_type": "execute_result"
    }
   ],
   "source": [
    "candles = pd.DataFrame([c.__dict__ for c in client.get_candles(\n",
    "    contract = \"0x3EE2200Efb3400fAbB9AacF31297cBdD1d435D47\",\n",
    "    from_ = from_,\n",
    "    to = to,\n",
    "    resolution = resolution,\n",
    ")]).set_index(\"time\")\n",
    "candles"
   ]
  },
  {
   "cell_type": "code",
   "execution_count": 8,
   "metadata": {},
   "outputs": [
    {
     "data": {
      "text/plain": [
       "((21, 4), 21, (21, 4))"
      ]
     },
     "execution_count": 8,
     "metadata": {},
     "output_type": "execute_result"
    }
   ],
   "source": [
    "candles.shape, candles.index.nunique(), candles.drop_duplicates().shape"
   ]
  },
  {
   "cell_type": "code",
   "execution_count": 9,
   "metadata": {},
   "outputs": [
    {
     "data": {
      "application/vnd.jupyter.widget-view+json": {
       "model_id": "",
       "version_major": 2,
       "version_minor": 0
      },
      "text/plain": [
       "Iterating time to retrieve discord messages of doge tag:   0%|          | 0/21 [00:00<?, ?it/s]"
      ]
     },
     "metadata": {},
     "output_type": "display_data"
    },
    {
     "data": {
      "application/vnd.jupyter.widget-view+json": {
       "model_id": "",
       "version_major": 2,
       "version_minor": 0
      },
      "text/plain": [
       "Iterating time to retrieve publications messages of doge tag:   0%|          | 0/21 [00:00<?, ?it/s]"
      ]
     },
     "metadata": {},
     "output_type": "display_data"
    },
    {
     "data": {
      "application/vnd.jupyter.widget-view+json": {
       "model_id": "00ec81ab552745c8a2a9638322338edd",
       "version_major": 2,
       "version_minor": 0
      },
      "text/plain": [
       "Iterating time to retrieve reddit messages of doge tag:   0%|          | 0/21 [00:00<?, ?it/s]"
      ]
     },
     "metadata": {},
     "output_type": "display_data"
    },
    {
     "ename": "JSONDecodeError",
     "evalue": "Expecting value: line 1 column 1 (char 0)",
     "output_type": "error",
     "traceback": [
      "\u001b[0;31m---------------------------------------------------------------------------\u001b[0m",
      "\u001b[0;31mJSONDecodeError\u001b[0m                           Traceback (most recent call last)",
      "Input \u001b[0;32mIn [9]\u001b[0m, in \u001b[0;36m<cell line: 52>\u001b[0;34m()\u001b[0m\n\u001b[1;32m     49\u001b[0m     messages \u001b[38;5;241m=\u001b[39m messages\u001b[38;5;241m.\u001b[39mastype(\u001b[38;5;28mint\u001b[39m)\n\u001b[1;32m     50\u001b[0m     \u001b[38;5;28;01mreturn\u001b[39;00m messages\n\u001b[0;32m---> 52\u001b[0m messages \u001b[38;5;241m=\u001b[39m \u001b[43mget_messages_numbers\u001b[49m\u001b[43m(\u001b[49m\n\u001b[1;32m     53\u001b[0m \u001b[43m    \u001b[49m\u001b[43mclient\u001b[49m\u001b[43m \u001b[49m\u001b[38;5;241;43m=\u001b[39;49m\u001b[43m \u001b[49m\u001b[43mclient\u001b[49m\u001b[43m,\u001b[49m\n\u001b[1;32m     54\u001b[0m \u001b[43m    \u001b[49m\u001b[43mtag\u001b[49m\u001b[43m \u001b[49m\u001b[38;5;241;43m=\u001b[39;49m\u001b[43m \u001b[49m\u001b[38;5;124;43m\"\u001b[39;49m\u001b[38;5;124;43mdoge\u001b[39;49m\u001b[38;5;124;43m\"\u001b[39;49m\u001b[43m,\u001b[49m\n\u001b[1;32m     55\u001b[0m \u001b[43m    \u001b[49m\u001b[43mfrom_\u001b[49m\u001b[38;5;241;43m=\u001b[39;49m\u001b[43mfrom_\u001b[49m\u001b[43m,\u001b[49m\n\u001b[1;32m     56\u001b[0m \u001b[43m    \u001b[49m\u001b[43mcandles\u001b[49m\u001b[43m \u001b[49m\u001b[38;5;241;43m=\u001b[39;49m\u001b[43m \u001b[49m\u001b[43mcandles\u001b[49m\u001b[43m,\u001b[49m\n\u001b[1;32m     57\u001b[0m \u001b[43m)\u001b[49m\n\u001b[1;32m     58\u001b[0m messages\n",
      "Input \u001b[0;32mIn [9]\u001b[0m, in \u001b[0;36mget_messages_numbers\u001b[0;34m(client, methods, tag, candles, from_, to, resolution)\u001b[0m\n\u001b[1;32m     31\u001b[0m     m \u001b[38;5;241m=\u001b[39m m[\u001b[38;5;241m-\u001b[39mabove:]\n\u001b[1;32m     32\u001b[0m \u001b[38;5;28;01mwhile\u001b[39;00m tt \u001b[38;5;241m<\u001b[39m t \u001b[38;5;241m+\u001b[39m delta:\n\u001b[0;32m---> 33\u001b[0m     new_m \u001b[38;5;241m=\u001b[39m \u001b[38;5;28;43mgetattr\u001b[39;49m\u001b[43m(\u001b[49m\u001b[43mclient\u001b[49m\u001b[43m,\u001b[49m\u001b[43m \u001b[49m\u001b[43mmethod\u001b[49m\u001b[43m)\u001b[49m\u001b[43m(\u001b[49m\n\u001b[1;32m     34\u001b[0m \u001b[43m        \u001b[49m\u001b[43mfrom_\u001b[49m\u001b[43m \u001b[49m\u001b[38;5;241;43m=\u001b[39;49m\u001b[43m \u001b[49m\u001b[43mtt\u001b[49m\u001b[43m,\u001b[49m\n\u001b[1;32m     35\u001b[0m \u001b[43m        \u001b[49m\u001b[43mlimit\u001b[49m\u001b[43m \u001b[49m\u001b[38;5;241;43m=\u001b[39;49m\u001b[43m \u001b[49m\u001b[38;5;241;43m400\u001b[39;49m\u001b[43m,\u001b[49m\n\u001b[1;32m     36\u001b[0m \u001b[43m        \u001b[49m\u001b[43mtag\u001b[49m\u001b[43m \u001b[49m\u001b[38;5;241;43m=\u001b[39;49m\u001b[43m \u001b[49m\u001b[43mtag\u001b[49m\u001b[43m,\u001b[49m\n\u001b[1;32m     37\u001b[0m \u001b[43m    \u001b[49m\u001b[43m)\u001b[49m\n\u001b[1;32m     38\u001b[0m     above \u001b[38;5;241m=\u001b[39m \u001b[38;5;28mlen\u001b[39m([mm \u001b[38;5;28;01mfor\u001b[39;00m mm \u001b[38;5;129;01min\u001b[39;00m new_m \u001b[38;5;28;01mif\u001b[39;00m mm\u001b[38;5;241m.\u001b[39mcreated_at \u001b[38;5;241m>\u001b[39m (t \u001b[38;5;241m+\u001b[39m delta)])\n\u001b[1;32m     39\u001b[0m     m \u001b[38;5;241m=\u001b[39m new_m[\u001b[38;5;241m-\u001b[39mabove:]\n",
      "File \u001b[0;32m~/Documents/turing/repos/helixir-api-client/helixirapi/helixir_api.py:1459\u001b[0m, in \u001b[0;36mHelixirApi.get_reddit\u001b[0;34m(self, from_, limit, tag, validate_params)\u001b[0m\n\u001b[1;32m   1453\u001b[0m query_params \u001b[38;5;241m=\u001b[39m {\n\u001b[1;32m   1454\u001b[0m     \u001b[38;5;124m\"\u001b[39m\u001b[38;5;124mfrom\u001b[39m\u001b[38;5;124m\"\u001b[39m: from_,\n\u001b[1;32m   1455\u001b[0m     \u001b[38;5;124m\"\u001b[39m\u001b[38;5;124mlimit\u001b[39m\u001b[38;5;124m\"\u001b[39m: limit,\n\u001b[1;32m   1456\u001b[0m     \u001b[38;5;124m\"\u001b[39m\u001b[38;5;124mtag\u001b[39m\u001b[38;5;124m\"\u001b[39m: tag,\n\u001b[1;32m   1457\u001b[0m }\n\u001b[1;32m   1458\u001b[0m url \u001b[38;5;241m=\u001b[39m \u001b[38;5;124m\"\u001b[39m\u001b[38;5;124mreddit\u001b[39m\u001b[38;5;124m\"\u001b[39m\n\u001b[0;32m-> 1459\u001b[0m \u001b[38;5;28;01mreturn\u001b[39;00m \u001b[38;5;28;43mself\u001b[39;49m\u001b[38;5;241;43m.\u001b[39;49m\u001b[43m_handle_response\u001b[49m\u001b[43m(\u001b[49m\u001b[43mresponse_type\u001b[49m\u001b[38;5;241;43m=\u001b[39;49m\u001b[38;5;124;43m\"\u001b[39;49m\u001b[38;5;124;43mList[Readable]\u001b[39;49m\u001b[38;5;124;43m\"\u001b[39;49m\u001b[43m,\u001b[49m\u001b[43m \u001b[49m\u001b[43mendpoint\u001b[49m\u001b[38;5;241;43m=\u001b[39;49m\u001b[43murl\u001b[49m\u001b[43m,\u001b[49m\u001b[43m \u001b[49m\u001b[43mmethod\u001b[49m\u001b[38;5;241;43m=\u001b[39;49m\u001b[38;5;124;43m\"\u001b[39;49m\u001b[38;5;124;43mGET\u001b[39;49m\u001b[38;5;124;43m\"\u001b[39;49m\u001b[43m,\u001b[49m\u001b[43m \u001b[49m\u001b[43mparams\u001b[49m\u001b[38;5;241;43m=\u001b[39;49m\u001b[43mquery_params\u001b[49m\u001b[43m)\u001b[49m\n",
      "File \u001b[0;32m~/Documents/turing/repos/helixir-api-client/helixirapi/helixir_api.py:171\u001b[0m, in \u001b[0;36mHelixirApi._handle_response\u001b[0;34m(self, response_type, endpoint, method, params, data, timeout_repetitions, timeout)\u001b[0m\n\u001b[1;32m    169\u001b[0m \u001b[38;5;28;01mtry\u001b[39;00m:\n\u001b[1;32m    170\u001b[0m     response \u001b[38;5;241m=\u001b[39m \u001b[38;5;28mself\u001b[39m\u001b[38;5;241m.\u001b[39m_session\u001b[38;5;241m.\u001b[39mrequest(method\u001b[38;5;241m=\u001b[39mmethod, url\u001b[38;5;241m=\u001b[39mabsolute_url, data\u001b[38;5;241m=\u001b[39mdata, params\u001b[38;5;241m=\u001b[39mparams, timeout\u001b[38;5;241m=\u001b[39mtimeout \u001b[38;5;28;01mif\u001b[39;00m timeout \u001b[38;5;28;01melse\u001b[39;00m \u001b[38;5;28mself\u001b[39m\u001b[38;5;241m.\u001b[39mtimeout)\n\u001b[0;32m--> 171\u001b[0m     data \u001b[38;5;241m=\u001b[39m \u001b[43mresponse\u001b[49m\u001b[38;5;241;43m.\u001b[39;49m\u001b[43mjson\u001b[49m\u001b[43m(\u001b[49m\u001b[43m)\u001b[49m\n\u001b[1;32m    172\u001b[0m     response\u001b[38;5;241m.\u001b[39mraise_for_status()\n\u001b[1;32m    173\u001b[0m \u001b[38;5;28;01mexcept\u001b[39;00m requests\u001b[38;5;241m.\u001b[39mexceptions\u001b[38;5;241m.\u001b[39mRequestException \u001b[38;5;28;01mas\u001b[39;00m err:\n",
      "File \u001b[0;32m~/Documents/turing/repos/helixir-api-client/venv/lib/python3.9/site-packages/requests/models.py:898\u001b[0m, in \u001b[0;36mResponse.json\u001b[0;34m(self, **kwargs)\u001b[0m\n\u001b[1;32m    892\u001b[0m         \u001b[38;5;28;01mexcept\u001b[39;00m \u001b[38;5;167;01mUnicodeDecodeError\u001b[39;00m:\n\u001b[1;32m    893\u001b[0m             \u001b[38;5;66;03m# Wrong UTF codec detected; usually because it's not UTF-8\u001b[39;00m\n\u001b[1;32m    894\u001b[0m             \u001b[38;5;66;03m# but some other 8-bit codec.  This is an RFC violation,\u001b[39;00m\n\u001b[1;32m    895\u001b[0m             \u001b[38;5;66;03m# and the server didn't bother to tell us what codec *was*\u001b[39;00m\n\u001b[1;32m    896\u001b[0m             \u001b[38;5;66;03m# used.\u001b[39;00m\n\u001b[1;32m    897\u001b[0m             \u001b[38;5;28;01mpass\u001b[39;00m\n\u001b[0;32m--> 898\u001b[0m \u001b[38;5;28;01mreturn\u001b[39;00m \u001b[43mcomplexjson\u001b[49m\u001b[38;5;241;43m.\u001b[39;49m\u001b[43mloads\u001b[49m\u001b[43m(\u001b[49m\u001b[38;5;28;43mself\u001b[39;49m\u001b[38;5;241;43m.\u001b[39;49m\u001b[43mtext\u001b[49m\u001b[43m,\u001b[49m\u001b[43m \u001b[49m\u001b[38;5;241;43m*\u001b[39;49m\u001b[38;5;241;43m*\u001b[39;49m\u001b[43mkwargs\u001b[49m\u001b[43m)\u001b[49m\n",
      "File \u001b[0;32m/usr/lib/python3.9/json/__init__.py:346\u001b[0m, in \u001b[0;36mloads\u001b[0;34m(s, cls, object_hook, parse_float, parse_int, parse_constant, object_pairs_hook, **kw)\u001b[0m\n\u001b[1;32m    341\u001b[0m     s \u001b[38;5;241m=\u001b[39m s\u001b[38;5;241m.\u001b[39mdecode(detect_encoding(s), \u001b[38;5;124m'\u001b[39m\u001b[38;5;124msurrogatepass\u001b[39m\u001b[38;5;124m'\u001b[39m)\n\u001b[1;32m    343\u001b[0m \u001b[38;5;28;01mif\u001b[39;00m (\u001b[38;5;28mcls\u001b[39m \u001b[38;5;129;01mis\u001b[39;00m \u001b[38;5;28;01mNone\u001b[39;00m \u001b[38;5;129;01mand\u001b[39;00m object_hook \u001b[38;5;129;01mis\u001b[39;00m \u001b[38;5;28;01mNone\u001b[39;00m \u001b[38;5;129;01mand\u001b[39;00m\n\u001b[1;32m    344\u001b[0m         parse_int \u001b[38;5;129;01mis\u001b[39;00m \u001b[38;5;28;01mNone\u001b[39;00m \u001b[38;5;129;01mand\u001b[39;00m parse_float \u001b[38;5;129;01mis\u001b[39;00m \u001b[38;5;28;01mNone\u001b[39;00m \u001b[38;5;129;01mand\u001b[39;00m\n\u001b[1;32m    345\u001b[0m         parse_constant \u001b[38;5;129;01mis\u001b[39;00m \u001b[38;5;28;01mNone\u001b[39;00m \u001b[38;5;129;01mand\u001b[39;00m object_pairs_hook \u001b[38;5;129;01mis\u001b[39;00m \u001b[38;5;28;01mNone\u001b[39;00m \u001b[38;5;129;01mand\u001b[39;00m \u001b[38;5;129;01mnot\u001b[39;00m kw):\n\u001b[0;32m--> 346\u001b[0m     \u001b[38;5;28;01mreturn\u001b[39;00m \u001b[43m_default_decoder\u001b[49m\u001b[38;5;241;43m.\u001b[39;49m\u001b[43mdecode\u001b[49m\u001b[43m(\u001b[49m\u001b[43ms\u001b[49m\u001b[43m)\u001b[49m\n\u001b[1;32m    347\u001b[0m \u001b[38;5;28;01mif\u001b[39;00m \u001b[38;5;28mcls\u001b[39m \u001b[38;5;129;01mis\u001b[39;00m \u001b[38;5;28;01mNone\u001b[39;00m:\n\u001b[1;32m    348\u001b[0m     \u001b[38;5;28mcls\u001b[39m \u001b[38;5;241m=\u001b[39m JSONDecoder\n",
      "File \u001b[0;32m/usr/lib/python3.9/json/decoder.py:337\u001b[0m, in \u001b[0;36mJSONDecoder.decode\u001b[0;34m(self, s, _w)\u001b[0m\n\u001b[1;32m    332\u001b[0m \u001b[38;5;28;01mdef\u001b[39;00m \u001b[38;5;21mdecode\u001b[39m(\u001b[38;5;28mself\u001b[39m, s, _w\u001b[38;5;241m=\u001b[39mWHITESPACE\u001b[38;5;241m.\u001b[39mmatch):\n\u001b[1;32m    333\u001b[0m     \u001b[38;5;124;03m\"\"\"Return the Python representation of ``s`` (a ``str`` instance\u001b[39;00m\n\u001b[1;32m    334\u001b[0m \u001b[38;5;124;03m    containing a JSON document).\u001b[39;00m\n\u001b[1;32m    335\u001b[0m \n\u001b[1;32m    336\u001b[0m \u001b[38;5;124;03m    \"\"\"\u001b[39;00m\n\u001b[0;32m--> 337\u001b[0m     obj, end \u001b[38;5;241m=\u001b[39m \u001b[38;5;28;43mself\u001b[39;49m\u001b[38;5;241;43m.\u001b[39;49m\u001b[43mraw_decode\u001b[49m\u001b[43m(\u001b[49m\u001b[43ms\u001b[49m\u001b[43m,\u001b[49m\u001b[43m \u001b[49m\u001b[43midx\u001b[49m\u001b[38;5;241;43m=\u001b[39;49m\u001b[43m_w\u001b[49m\u001b[43m(\u001b[49m\u001b[43ms\u001b[49m\u001b[43m,\u001b[49m\u001b[43m \u001b[49m\u001b[38;5;241;43m0\u001b[39;49m\u001b[43m)\u001b[49m\u001b[38;5;241;43m.\u001b[39;49m\u001b[43mend\u001b[49m\u001b[43m(\u001b[49m\u001b[43m)\u001b[49m\u001b[43m)\u001b[49m\n\u001b[1;32m    338\u001b[0m     end \u001b[38;5;241m=\u001b[39m _w(s, end)\u001b[38;5;241m.\u001b[39mend()\n\u001b[1;32m    339\u001b[0m     \u001b[38;5;28;01mif\u001b[39;00m end \u001b[38;5;241m!=\u001b[39m \u001b[38;5;28mlen\u001b[39m(s):\n",
      "File \u001b[0;32m/usr/lib/python3.9/json/decoder.py:355\u001b[0m, in \u001b[0;36mJSONDecoder.raw_decode\u001b[0;34m(self, s, idx)\u001b[0m\n\u001b[1;32m    353\u001b[0m     obj, end \u001b[38;5;241m=\u001b[39m \u001b[38;5;28mself\u001b[39m\u001b[38;5;241m.\u001b[39mscan_once(s, idx)\n\u001b[1;32m    354\u001b[0m \u001b[38;5;28;01mexcept\u001b[39;00m \u001b[38;5;167;01mStopIteration\u001b[39;00m \u001b[38;5;28;01mas\u001b[39;00m err:\n\u001b[0;32m--> 355\u001b[0m     \u001b[38;5;28;01mraise\u001b[39;00m JSONDecodeError(\u001b[38;5;124m\"\u001b[39m\u001b[38;5;124mExpecting value\u001b[39m\u001b[38;5;124m\"\u001b[39m, s, err\u001b[38;5;241m.\u001b[39mvalue) \u001b[38;5;28;01mfrom\u001b[39;00m \u001b[38;5;28mNone\u001b[39m\n\u001b[1;32m    356\u001b[0m \u001b[38;5;28;01mreturn\u001b[39;00m obj, end\n",
      "\u001b[0;31mJSONDecodeError\u001b[0m: Expecting value: line 1 column 1 (char 0)"
     ]
    }
   ],
   "source": [
    "from dateutil.parser import isoparse\n",
    "\n",
    "def get_messages_numbers(client, methods: List[str] = None, tag: str = \"\", candles: pd.DataFrame = None,\n",
    "                        from_: Union[str, int, dt] = None, to: Union[str, int, dt] = None, resolution: str = None) -> pd.DataFrame:\n",
    "    if not methods:\n",
    "        methods = [\n",
    "            \"get_discord\",\n",
    "            \"get_publications\",\n",
    "            \"get_reddit\",\n",
    "            \"get_telegram\",\n",
    "            \"get_twitter\",\n",
    "        ]\n",
    "    if candles is None:\n",
    "        index = [i for i in range(int(isoparse(from_).timestamp()), int(isoparse(to).timestamp()), client.candle_seconds[resolution])]\n",
    "        candles = pd.DataFrame(index=index)\n",
    "    if not from_:\n",
    "        from_ = candles.index[0]\n",
    "    \n",
    "    messages = pd.DataFrame(index=candles.index)   \n",
    "    delta = candles.index[1] - candles.index[0]\n",
    "    for method in methods:\n",
    "        messages_counts = []\n",
    "        m = []\n",
    "        for t in tqdm(candles.index, leave=False, desc=f\"Iterating time to retrieve {str(method).split('_')[-1]} messages of {tag} tag\"):\n",
    "            tt = m[-1].created_at if m else t\n",
    "            if m and m[0].created_at > t:\n",
    "                messages_number = 0\n",
    "            else:\n",
    "                above = len([mm for mm in m if mm.created_at > (t + delta)])\n",
    "                messages_number = len(m) - above\n",
    "                m = m[-above:]\n",
    "            while tt < t + delta:\n",
    "                new_m = getattr(client, method)(\n",
    "                    from_ = tt,\n",
    "                    limit = 400,\n",
    "                    tag = tag,\n",
    "                )\n",
    "                above = len([mm for mm in new_m if mm.created_at > (t + delta)])\n",
    "                m = new_m[-above:]\n",
    "                new_m = new_m[:-above]\n",
    "                messages_number += len(new_m)\n",
    "                if new_m == [] or len(new_m) < 499:\n",
    "                    tt = t + delta\n",
    "                else:\n",
    "                    tt = new_m[-1].created_at + timedelta(microseconds=1)\n",
    "            messages_counts.append(messages_number)\n",
    "        messages[str(method).split(\"_\")[-1]] = messages_counts\n",
    "    messages[\"total\"] = messages.sum(axis=1)\n",
    "    messages = messages.astype(int)\n",
    "    return messages\n",
    "\n",
    "messages = get_messages_numbers(\n",
    "    client = client,\n",
    "    tag = \"doge\",\n",
    "    from_=from_,\n",
    "    candles = candles,\n",
    ")\n",
    "messages"
   ]
  },
  {
   "cell_type": "markdown",
   "metadata": {},
   "source": [
    "## Calculate Correlation"
   ]
  },
  {
   "cell_type": "code",
   "execution_count": 10,
   "metadata": {},
   "outputs": [
    {
     "ename": "NameError",
     "evalue": "name 'messages' is not defined",
     "output_type": "error",
     "traceback": [
      "\u001b[0;31m---------------------------------------------------------------------------\u001b[0m",
      "\u001b[0;31mNameError\u001b[0m                                 Traceback (most recent call last)",
      "Input \u001b[0;32mIn [10]\u001b[0m, in \u001b[0;36m<cell line: 2>\u001b[0;34m()\u001b[0m\n\u001b[1;32m      1\u001b[0m rwg_cmap\u001b[38;5;241m=\u001b[39mLinearSegmentedColormap\u001b[38;5;241m.\u001b[39mfrom_list(\u001b[38;5;124m'\u001b[39m\u001b[38;5;124mrg\u001b[39m\u001b[38;5;124m'\u001b[39m,[\u001b[38;5;124m\"\u001b[39m\u001b[38;5;124mr\u001b[39m\u001b[38;5;124m\"\u001b[39m, \u001b[38;5;124m\"\u001b[39m\u001b[38;5;124mw\u001b[39m\u001b[38;5;124m\"\u001b[39m, \u001b[38;5;124m\"\u001b[39m\u001b[38;5;124mg\u001b[39m\u001b[38;5;124m\"\u001b[39m], N\u001b[38;5;241m=\u001b[39m\u001b[38;5;241m256\u001b[39m)\n\u001b[1;32m      2\u001b[0m pd\u001b[38;5;241m.\u001b[39mDataFrame(\n\u001b[0;32m----> 3\u001b[0m     \u001b[43mmessages\u001b[49m\u001b[38;5;241m.\u001b[39mcorrwith(candles[\u001b[38;5;124m\"\u001b[39m\u001b[38;5;124mclose\u001b[39m\u001b[38;5;124m\"\u001b[39m]),\n\u001b[1;32m      4\u001b[0m     columns\u001b[38;5;241m=\u001b[39m[\u001b[38;5;124m\"\u001b[39m\u001b[38;5;124mcorrelation\u001b[39m\u001b[38;5;124m\"\u001b[39m],\n\u001b[1;32m      5\u001b[0m )\u001b[38;5;241m.\u001b[39mT\u001b[38;5;241m.\u001b[39mstyle\u001b[38;5;241m.\u001b[39mbackground_gradient(\n\u001b[1;32m      6\u001b[0m     cmap\u001b[38;5;241m=\u001b[39mrwg_cmap,\n\u001b[1;32m      7\u001b[0m     axis\u001b[38;5;241m=\u001b[39m\u001b[38;5;28;01mNone\u001b[39;00m,\n\u001b[1;32m      8\u001b[0m     \u001b[38;5;66;03m# vmin=-1,\u001b[39;00m\n\u001b[1;32m      9\u001b[0m     \u001b[38;5;66;03m# vmax=1,\u001b[39;00m\n\u001b[1;32m     10\u001b[0m )\n",
      "\u001b[0;31mNameError\u001b[0m: name 'messages' is not defined"
     ]
    }
   ],
   "source": [
    "rwg_cmap=LinearSegmentedColormap.from_list('rg',[\"r\", \"w\", \"g\"], N=256)\n",
    "pd.DataFrame(\n",
    "    messages.corrwith(candles[\"close\"]),\n",
    "    columns=[\"correlation\"],\n",
    ").T.style.background_gradient(\n",
    "    cmap=rwg_cmap,\n",
    "    axis=None,\n",
    "    # vmin=-1,\n",
    "    # vmax=1,\n",
    ")"
   ]
  },
  {
   "cell_type": "markdown",
   "metadata": {},
   "source": [
    "## Bucket Processing"
   ]
  },
  {
   "cell_type": "code",
   "execution_count": 70,
   "metadata": {},
   "outputs": [],
   "source": [
    "def calculate_price_messages_correlation(client, contract: str, symbol: str = None, chain: Union[str, int] = \"bsc\",\n",
    "                                    from_: Union[str, int, dt] = None, to: Union[str, int, dt] = None, resolution: str = \"H1\",\n",
    "                                    tag: str = None, methods: List[str] = None) -> pd.Series:\n",
    "    if not symbol:\n",
    "        token = client.get_token(contract=contract)\n",
    "        symbol = token.symbol\n",
    "    candles = pd.DataFrame([c.__dict__ for c in client.get_candles(\n",
    "        symbol=symbol, contract=contract, from_=from_, to=to, chain=chain, resolution=resolution,\n",
    "    )])\n",
    "    if candles.shape[0] <= 1:\n",
    "        print(f\"No price data for {symbol} symbol ({contract}).\")\n",
    "        return\n",
    "    candles = candles.set_index(\"time\")\n",
    "    messages = get_messages_numbers(\n",
    "        client = client,\n",
    "        methods=methods,\n",
    "        tag = tag if tag else symbol,\n",
    "        from_=from_,\n",
    "        candles = candles,\n",
    "    ).dropna(axis=0, how=\"all\")\n",
    "    return messages.corrwith(candles[\"close\"])\n"
   ]
  },
  {
   "cell_type": "code",
   "execution_count": 15,
   "metadata": {},
   "outputs": [
    {
     "data": {
      "text/html": [
       "<div>\n",
       "<style scoped>\n",
       "    .dataframe tbody tr th:only-of-type {\n",
       "        vertical-align: middle;\n",
       "    }\n",
       "\n",
       "    .dataframe tbody tr th {\n",
       "        vertical-align: top;\n",
       "    }\n",
       "\n",
       "    .dataframe thead th {\n",
       "        text-align: right;\n",
       "    }\n",
       "</style>\n",
       "<table border=\"1\" class=\"dataframe\">\n",
       "  <thead>\n",
       "    <tr style=\"text-align: right;\">\n",
       "      <th></th>\n",
       "      <th>id</th>\n",
       "      <th>name</th>\n",
       "      <th>symbol</th>\n",
       "      <th>chain</th>\n",
       "      <th>active</th>\n",
       "      <th>decimals</th>\n",
       "      <th>total_supply</th>\n",
       "      <th>circulating_supply</th>\n",
       "      <th>market_cap</th>\n",
       "      <th>liquidity_usd</th>\n",
       "      <th>price_usd</th>\n",
       "      <th>price_peg</th>\n",
       "      <th>price_change_24_h</th>\n",
       "      <th>price_change_7_d</th>\n",
       "      <th>volume_24_h</th>\n",
       "      <th>contract</th>\n",
       "    </tr>\n",
       "  </thead>\n",
       "  <tbody>\n",
       "    <tr>\n",
       "      <th>0</th>\n",
       "      <td>10</td>\n",
       "      <td>Wrapped BNB</td>\n",
       "      <td>WBNB</td>\n",
       "      <td>BSC</td>\n",
       "      <td>True</td>\n",
       "      <td>18.0</td>\n",
       "      <td>4.872168e+06</td>\n",
       "      <td>4.872161e+06</td>\n",
       "      <td>1.130852e+09</td>\n",
       "      <td>7.133598e+20</td>\n",
       "      <td>2.253544e+02</td>\n",
       "      <td>1.000000e+00</td>\n",
       "      <td>-5.535</td>\n",
       "      <td>-20.232</td>\n",
       "      <td>6.174111e+08</td>\n",
       "      <td>0xbb4CdB9CBd36B01bD1cBaEBF2De08d9173bc095c</td>\n",
       "    </tr>\n",
       "    <tr>\n",
       "      <th>1</th>\n",
       "      <td>2</td>\n",
       "      <td>BUSD Token</td>\n",
       "      <td>BUSD</td>\n",
       "      <td>BSC</td>\n",
       "      <td>True</td>\n",
       "      <td>18.0</td>\n",
       "      <td>4.850999e+09</td>\n",
       "      <td>4.850774e+09</td>\n",
       "      <td>4.845429e+09</td>\n",
       "      <td>2.498289e+18</td>\n",
       "      <td>9.988980e-01</td>\n",
       "      <td>4.432588e-03</td>\n",
       "      <td>-0.378</td>\n",
       "      <td>-0.443</td>\n",
       "      <td>3.576921e+08</td>\n",
       "      <td>0xe9e7CEA3DedcA5984780Bafc599bD69ADd087D56</td>\n",
       "    </tr>\n",
       "    <tr>\n",
       "      <th>2</th>\n",
       "      <td>23</td>\n",
       "      <td>PancakeSwap Token</td>\n",
       "      <td>Cake</td>\n",
       "      <td>BSC</td>\n",
       "      <td>True</td>\n",
       "      <td>18.0</td>\n",
       "      <td>7.899806e+08</td>\n",
       "      <td>3.022353e+08</td>\n",
       "      <td>9.927590e+08</td>\n",
       "      <td>1.790681e+18</td>\n",
       "      <td>3.283777e+00</td>\n",
       "      <td>1.456959e-02</td>\n",
       "      <td>-7.176</td>\n",
       "      <td>-24.388</td>\n",
       "      <td>2.113425e+07</td>\n",
       "      <td>0x0E09FaBB73Bd3Ade0a17ECC321fD13a19e81cE82</td>\n",
       "    </tr>\n",
       "    <tr>\n",
       "      <th>3</th>\n",
       "      <td>6</td>\n",
       "      <td>Tether USD</td>\n",
       "      <td>USDT</td>\n",
       "      <td>BSC</td>\n",
       "      <td>True</td>\n",
       "      <td>18.0</td>\n",
       "      <td>4.979998e+09</td>\n",
       "      <td>4.979964e+09</td>\n",
       "      <td>4.973145e+09</td>\n",
       "      <td>1.521374e+16</td>\n",
       "      <td>9.986308e-01</td>\n",
       "      <td>4.431382e-03</td>\n",
       "      <td>0.006</td>\n",
       "      <td>-0.088</td>\n",
       "      <td>1.156232e+59</td>\n",
       "      <td>0x55d398326f99059fF775485246999027B3197955</td>\n",
       "    </tr>\n",
       "    <tr>\n",
       "      <th>4</th>\n",
       "      <td>694429</td>\n",
       "      <td>Bitcoin</td>\n",
       "      <td>XBTC</td>\n",
       "      <td>BSC</td>\n",
       "      <td>True</td>\n",
       "      <td>18.0</td>\n",
       "      <td>2.100000e+16</td>\n",
       "      <td>2.100000e+16</td>\n",
       "      <td>1.753158e+25</td>\n",
       "      <td>4.215631e+14</td>\n",
       "      <td>8.348370e+08</td>\n",
       "      <td>2.068397e+06</td>\n",
       "      <td>0.000</td>\n",
       "      <td>0.000</td>\n",
       "      <td>0.000000e+00</td>\n",
       "      <td>0x3E7B06B9c88ef97cF43C53F88F4f0689bDBd52AB</td>\n",
       "    </tr>\n",
       "    <tr>\n",
       "      <th>5</th>\n",
       "      <td>740948</td>\n",
       "      <td>Bitcoin</td>\n",
       "      <td>BTC</td>\n",
       "      <td>BSC</td>\n",
       "      <td>True</td>\n",
       "      <td>18.0</td>\n",
       "      <td>2.100000e+13</td>\n",
       "      <td>2.100000e+13</td>\n",
       "      <td>1.059938e+22</td>\n",
       "      <td>4.194548e+14</td>\n",
       "      <td>5.047326e+08</td>\n",
       "      <td>1.859682e+06</td>\n",
       "      <td>0.000</td>\n",
       "      <td>0.000</td>\n",
       "      <td>0.000000e+00</td>\n",
       "      <td>0x74042a20eb5F24cbE38AA1D5DaFc9bA6f07Eb35d</td>\n",
       "    </tr>\n",
       "    <tr>\n",
       "      <th>6</th>\n",
       "      <td>1012735</td>\n",
       "      <td>USDT</td>\n",
       "      <td>USDT</td>\n",
       "      <td>BSC</td>\n",
       "      <td>True</td>\n",
       "      <td>8.0</td>\n",
       "      <td>1.000000e+20</td>\n",
       "      <td>1.000000e+20</td>\n",
       "      <td>0.000000e+00</td>\n",
       "      <td>2.124138e+14</td>\n",
       "      <td>0.000000e+00</td>\n",
       "      <td>0.000000e+00</td>\n",
       "      <td>0.000</td>\n",
       "      <td>0.000</td>\n",
       "      <td>0.000000e+00</td>\n",
       "      <td>0x96e677F2bd7fFf30A0D6c25Be3f5820e6Be04CD3</td>\n",
       "    </tr>\n",
       "    <tr>\n",
       "      <th>7</th>\n",
       "      <td>699876</td>\n",
       "      <td>dead money token</td>\n",
       "      <td>DDM</td>\n",
       "      <td>BSC</td>\n",
       "      <td>True</td>\n",
       "      <td>18.0</td>\n",
       "      <td>1.000000e+13</td>\n",
       "      <td>1.000000e+13</td>\n",
       "      <td>4.942687e+16</td>\n",
       "      <td>5.078107e+12</td>\n",
       "      <td>4.942687e+03</td>\n",
       "      <td>1.175816e+01</td>\n",
       "      <td>0.000</td>\n",
       "      <td>0.000</td>\n",
       "      <td>0.000000e+00</td>\n",
       "      <td>0xe6A9C705165b27E5Ac2570A7C727921aAEa78bB8</td>\n",
       "    </tr>\n",
       "    <tr>\n",
       "      <th>8</th>\n",
       "      <td>699877</td>\n",
       "      <td>dead money token</td>\n",
       "      <td>DDM</td>\n",
       "      <td>BSC</td>\n",
       "      <td>True</td>\n",
       "      <td>18.0</td>\n",
       "      <td>1.000000e+13</td>\n",
       "      <td>1.000000e+13</td>\n",
       "      <td>4.978536e+16</td>\n",
       "      <td>5.041540e+12</td>\n",
       "      <td>4.978536e+03</td>\n",
       "      <td>1.184344e+01</td>\n",
       "      <td>0.000</td>\n",
       "      <td>0.000</td>\n",
       "      <td>0.000000e+00</td>\n",
       "      <td>0x37b53A16573DbFE9A1DcF5496C16E6C9d01b9618</td>\n",
       "    </tr>\n",
       "    <tr>\n",
       "      <th>9</th>\n",
       "      <td>1176</td>\n",
       "      <td>Super Floki</td>\n",
       "      <td>SLOKI</td>\n",
       "      <td>BSC</td>\n",
       "      <td>True</td>\n",
       "      <td>9.0</td>\n",
       "      <td>1.000000e+17</td>\n",
       "      <td>4.418478e+16</td>\n",
       "      <td>6.442461e+04</td>\n",
       "      <td>2.582861e+12</td>\n",
       "      <td>1.458037e-12</td>\n",
       "      <td>6.700000e-15</td>\n",
       "      <td>-6.514</td>\n",
       "      <td>-27.619</td>\n",
       "      <td>1.382861e+01</td>\n",
       "      <td>0xf7BF4507336AeA836ab5575eC1801d96c3059483</td>\n",
       "    </tr>\n",
       "    <tr>\n",
       "      <th>10</th>\n",
       "      <td>4582</td>\n",
       "      <td>Gold Nugget</td>\n",
       "      <td>GOLD NUGGET</td>\n",
       "      <td>BSC</td>\n",
       "      <td>True</td>\n",
       "      <td>18.0</td>\n",
       "      <td>7.989634e+06</td>\n",
       "      <td>2.786817e+06</td>\n",
       "      <td>7.842262e+03</td>\n",
       "      <td>1.592617e+12</td>\n",
       "      <td>2.814056e-03</td>\n",
       "      <td>1.313471e-05</td>\n",
       "      <td>-9.431</td>\n",
       "      <td>-19.872</td>\n",
       "      <td>3.363989e+01</td>\n",
       "      <td>0xE0B58022487131eC9913C1F3AcFD8F74FC6A6C7E</td>\n",
       "    </tr>\n",
       "    <tr>\n",
       "      <th>11</th>\n",
       "      <td>420365</td>\n",
       "      <td>radium</td>\n",
       "      <td>Radium</td>\n",
       "      <td>BSC</td>\n",
       "      <td>True</td>\n",
       "      <td>18.0</td>\n",
       "      <td>1.000000e+09</td>\n",
       "      <td>1.000000e+09</td>\n",
       "      <td>6.593260e+02</td>\n",
       "      <td>4.662463e+11</td>\n",
       "      <td>6.593260e-07</td>\n",
       "      <td>1.551246e-09</td>\n",
       "      <td>0.000</td>\n",
       "      <td>0.000</td>\n",
       "      <td>0.000000e+00</td>\n",
       "      <td>0x2b92f4284C6D375eeC13e4Ad6d9db476B9B812CB</td>\n",
       "    </tr>\n",
       "    <tr>\n",
       "      <th>12</th>\n",
       "      <td>204</td>\n",
       "      <td>BTCB Token</td>\n",
       "      <td>BTCB</td>\n",
       "      <td>BSC</td>\n",
       "      <td>True</td>\n",
       "      <td>18.0</td>\n",
       "      <td>1.125010e+05</td>\n",
       "      <td>1.124942e+05</td>\n",
       "      <td>2.497969e+09</td>\n",
       "      <td>5.809270e+09</td>\n",
       "      <td>2.220533e+04</td>\n",
       "      <td>9.852146e+01</td>\n",
       "      <td>-12.461</td>\n",
       "      <td>-24.722</td>\n",
       "      <td>1.233746e+08</td>\n",
       "      <td>0x7130d2A12B9BCbFAe4f2634d864A1Ee1Ce3Ead9c</td>\n",
       "    </tr>\n",
       "    <tr>\n",
       "      <th>13</th>\n",
       "      <td>9</td>\n",
       "      <td>USD Coin</td>\n",
       "      <td>USDC</td>\n",
       "      <td>BSC</td>\n",
       "      <td>True</td>\n",
       "      <td>18.0</td>\n",
       "      <td>1.879000e+09</td>\n",
       "      <td>1.879000e+09</td>\n",
       "      <td>1.877400e+09</td>\n",
       "      <td>4.102639e+09</td>\n",
       "      <td>9.991489e-01</td>\n",
       "      <td>4.433042e-03</td>\n",
       "      <td>0.014</td>\n",
       "      <td>0.047</td>\n",
       "      <td>7.642379e+07</td>\n",
       "      <td>0x8AC76a51cc950d9822D68b83fE1Ad97B32Cd580d</td>\n",
       "    </tr>\n",
       "    <tr>\n",
       "      <th>14</th>\n",
       "      <td>592588</td>\n",
       "      <td>RedrubyDao</td>\n",
       "      <td>RRB</td>\n",
       "      <td>BSC</td>\n",
       "      <td>True</td>\n",
       "      <td>8.0</td>\n",
       "      <td>1.000000e+10</td>\n",
       "      <td>4.842168e+09</td>\n",
       "      <td>2.410196e+07</td>\n",
       "      <td>1.368066e+09</td>\n",
       "      <td>4.975727e-03</td>\n",
       "      <td>2.209567e-05</td>\n",
       "      <td>19.076</td>\n",
       "      <td>-16.310</td>\n",
       "      <td>7.685326e+04</td>\n",
       "      <td>0xa8d22026119bC8A33941853614148Fda61971d4D</td>\n",
       "    </tr>\n",
       "    <tr>\n",
       "      <th>15</th>\n",
       "      <td>107</td>\n",
       "      <td>FistToken</td>\n",
       "      <td>FIST</td>\n",
       "      <td>BSC</td>\n",
       "      <td>True</td>\n",
       "      <td>6.0</td>\n",
       "      <td>2.000000e+08</td>\n",
       "      <td>1.990549e+08</td>\n",
       "      <td>4.912844e+08</td>\n",
       "      <td>4.392110e+08</td>\n",
       "      <td>2.468085e+00</td>\n",
       "      <td>1.095048e-02</td>\n",
       "      <td>1.510</td>\n",
       "      <td>-14.471</td>\n",
       "      <td>3.390709e+07</td>\n",
       "      <td>0xC9882dEF23bc42D53895b8361D0b1EDC7570Bc6A</td>\n",
       "    </tr>\n",
       "    <tr>\n",
       "      <th>16</th>\n",
       "      <td>596376</td>\n",
       "      <td>OSK</td>\n",
       "      <td>OSK</td>\n",
       "      <td>BSC</td>\n",
       "      <td>True</td>\n",
       "      <td>18.0</td>\n",
       "      <td>1.000000e+07</td>\n",
       "      <td>9.999000e+06</td>\n",
       "      <td>3.573999e+08</td>\n",
       "      <td>2.276309e+08</td>\n",
       "      <td>3.574357e+01</td>\n",
       "      <td>1.572642e-01</td>\n",
       "      <td>1.351</td>\n",
       "      <td>-15.580</td>\n",
       "      <td>5.263556e+06</td>\n",
       "      <td>0x04fA9Eb295266d9d4650EDCB879da204887Dc3Da</td>\n",
       "    </tr>\n",
       "    <tr>\n",
       "      <th>17</th>\n",
       "      <td>1146298</td>\n",
       "      <td>OverHtmoon</td>\n",
       "      <td>OverHtmoon</td>\n",
       "      <td>BSC</td>\n",
       "      <td>True</td>\n",
       "      <td>1.0</td>\n",
       "      <td>2.000000e+27</td>\n",
       "      <td>2.000000e+27</td>\n",
       "      <td>0.000000e+00</td>\n",
       "      <td>1.931142e+08</td>\n",
       "      <td>0.000000e+00</td>\n",
       "      <td>0.000000e+00</td>\n",
       "      <td>0.000</td>\n",
       "      <td>0.000</td>\n",
       "      <td>0.000000e+00</td>\n",
       "      <td>0x25e11B72a39224dE5b03eDbb4a1E5F982A08aADd</td>\n",
       "    </tr>\n",
       "    <tr>\n",
       "      <th>18</th>\n",
       "      <td>8</td>\n",
       "      <td>Ethereum Token</td>\n",
       "      <td>ETH</td>\n",
       "      <td>BSC</td>\n",
       "      <td>True</td>\n",
       "      <td>18.0</td>\n",
       "      <td>1.405000e+06</td>\n",
       "      <td>1.404988e+06</td>\n",
       "      <td>1.710144e+09</td>\n",
       "      <td>9.426864e+07</td>\n",
       "      <td>1.217195e+03</td>\n",
       "      <td>5.400463e+00</td>\n",
       "      <td>-8.161</td>\n",
       "      <td>-30.670</td>\n",
       "      <td>1.082360e+08</td>\n",
       "      <td>0x2170Ed0880ac9A755fd29B2688956BD959F933F8</td>\n",
       "    </tr>\n",
       "    <tr>\n",
       "      <th>19</th>\n",
       "      <td>1195956</td>\n",
       "      <td>Willdog</td>\n",
       "      <td>wdog</td>\n",
       "      <td>BSC</td>\n",
       "      <td>True</td>\n",
       "      <td>12.0</td>\n",
       "      <td>7.777778e+13</td>\n",
       "      <td>7.777778e+13</td>\n",
       "      <td>0.000000e+00</td>\n",
       "      <td>9.188242e+07</td>\n",
       "      <td>0.000000e+00</td>\n",
       "      <td>0.000000e+00</td>\n",
       "      <td>0.000</td>\n",
       "      <td>0.000</td>\n",
       "      <td>0.000000e+00</td>\n",
       "      <td>0x1912D58e97aeE85B19803509F87e6fd6Fc2C0b3A</td>\n",
       "    </tr>\n",
       "    <tr>\n",
       "      <th>20</th>\n",
       "      <td>706461</td>\n",
       "      <td>Crush Coin</td>\n",
       "      <td>CRUSH</td>\n",
       "      <td>BSC</td>\n",
       "      <td>True</td>\n",
       "      <td>18.0</td>\n",
       "      <td>2.984882e+07</td>\n",
       "      <td>2.984882e+07</td>\n",
       "      <td>6.513746e+03</td>\n",
       "      <td>8.397922e+07</td>\n",
       "      <td>2.182246e-04</td>\n",
       "      <td>7.160745e-07</td>\n",
       "      <td>0.000</td>\n",
       "      <td>0.000</td>\n",
       "      <td>0.000000e+00</td>\n",
       "      <td>0x9FD3a361734BF7a8f543E02F79f24EBBd867d844</td>\n",
       "    </tr>\n",
       "    <tr>\n",
       "      <th>21</th>\n",
       "      <td>832045</td>\n",
       "      <td>USDT</td>\n",
       "      <td>USDT</td>\n",
       "      <td>BSC</td>\n",
       "      <td>True</td>\n",
       "      <td>18.0</td>\n",
       "      <td>3.000000e+08</td>\n",
       "      <td>3.000000e+08</td>\n",
       "      <td>3.840030e+07</td>\n",
       "      <td>6.723013e+07</td>\n",
       "      <td>1.280010e-01</td>\n",
       "      <td>3.953469e-04</td>\n",
       "      <td>0.000</td>\n",
       "      <td>0.000</td>\n",
       "      <td>0.000000e+00</td>\n",
       "      <td>0xeCbfC582F333346D8E9B0a7d344244104F5FF4d8</td>\n",
       "    </tr>\n",
       "    <tr>\n",
       "      <th>22</th>\n",
       "      <td>877966</td>\n",
       "      <td>Tesla</td>\n",
       "      <td>Tesla</td>\n",
       "      <td>BSC</td>\n",
       "      <td>True</td>\n",
       "      <td>6.0</td>\n",
       "      <td>1.000000e+07</td>\n",
       "      <td>1.000000e+07</td>\n",
       "      <td>2.668664e+10</td>\n",
       "      <td>5.514602e+07</td>\n",
       "      <td>2.668664e+03</td>\n",
       "      <td>8.489688e+00</td>\n",
       "      <td>0.000</td>\n",
       "      <td>0.000</td>\n",
       "      <td>0.000000e+00</td>\n",
       "      <td>0x0974B34408eAE452A103c765b0b0Cf0a61022109</td>\n",
       "    </tr>\n",
       "    <tr>\n",
       "      <th>23</th>\n",
       "      <td>877695</td>\n",
       "      <td>BNB</td>\n",
       "      <td>BNB</td>\n",
       "      <td>BSC</td>\n",
       "      <td>True</td>\n",
       "      <td>6.0</td>\n",
       "      <td>1.000000e+07</td>\n",
       "      <td>1.000000e+07</td>\n",
       "      <td>1.395337e+10</td>\n",
       "      <td>5.462066e+07</td>\n",
       "      <td>1.395337e+03</td>\n",
       "      <td>4.598617e+00</td>\n",
       "      <td>0.000</td>\n",
       "      <td>0.000</td>\n",
       "      <td>0.000000e+00</td>\n",
       "      <td>0x64a3ccB40ffC6103eeBF20749c2243386387d863</td>\n",
       "    </tr>\n",
       "    <tr>\n",
       "      <th>24</th>\n",
       "      <td>750415</td>\n",
       "      <td>Fonvity Token</td>\n",
       "      <td>FON</td>\n",
       "      <td>BSC</td>\n",
       "      <td>True</td>\n",
       "      <td>18.0</td>\n",
       "      <td>1.110000e+08</td>\n",
       "      <td>1.105179e+08</td>\n",
       "      <td>1.132657e+09</td>\n",
       "      <td>5.430235e+07</td>\n",
       "      <td>1.020412e+01</td>\n",
       "      <td>3.911983e-02</td>\n",
       "      <td>0.000</td>\n",
       "      <td>-99.981</td>\n",
       "      <td>5.281784e+06</td>\n",
       "      <td>0x12a055D95855b4Ec2cd70C1A5EaDb1ED43eaeF65</td>\n",
       "    </tr>\n",
       "    <tr>\n",
       "      <th>25</th>\n",
       "      <td>707375</td>\n",
       "      <td>OSK-DAO</td>\n",
       "      <td>OSK-DAO</td>\n",
       "      <td>BSC</td>\n",
       "      <td>True</td>\n",
       "      <td>18.0</td>\n",
       "      <td>1.000000e+07</td>\n",
       "      <td>2.940509e+06</td>\n",
       "      <td>2.168219e+08</td>\n",
       "      <td>4.974901e+07</td>\n",
       "      <td>7.373619e+01</td>\n",
       "      <td>2.550067e-01</td>\n",
       "      <td>0.000</td>\n",
       "      <td>38.464</td>\n",
       "      <td>5.882651e+06</td>\n",
       "      <td>0x869a7236280E2516491dE8848391b2a02077daf7</td>\n",
       "    </tr>\n",
       "    <tr>\n",
       "      <th>26</th>\n",
       "      <td>841</td>\n",
       "      <td>Valkyrio Token</td>\n",
       "      <td>VALK</td>\n",
       "      <td>BSC</td>\n",
       "      <td>True</td>\n",
       "      <td>18.0</td>\n",
       "      <td>1.000000e+08</td>\n",
       "      <td>1.000000e+08</td>\n",
       "      <td>2.267745e+05</td>\n",
       "      <td>3.911826e+07</td>\n",
       "      <td>2.267745e-03</td>\n",
       "      <td>1.042344e-05</td>\n",
       "      <td>-11.266</td>\n",
       "      <td>-31.789</td>\n",
       "      <td>1.310462e+03</td>\n",
       "      <td>0x405cFf4cE041d3235E8b1f7AaA4E458998A47363</td>\n",
       "    </tr>\n",
       "    <tr>\n",
       "      <th>27</th>\n",
       "      <td>415277</td>\n",
       "      <td>DOGS</td>\n",
       "      <td>DOGS</td>\n",
       "      <td>BSC</td>\n",
       "      <td>True</td>\n",
       "      <td>18.0</td>\n",
       "      <td>1.351593e+06</td>\n",
       "      <td>1.325214e+06</td>\n",
       "      <td>3.643770e+07</td>\n",
       "      <td>2.439429e+07</td>\n",
       "      <td>4.189821e+01</td>\n",
       "      <td>1.134341e-01</td>\n",
       "      <td>0.000</td>\n",
       "      <td>0.000</td>\n",
       "      <td>0.000000e+00</td>\n",
       "      <td>0xDBdC73B95cC0D5e7E99dC95523045Fc8d075Fb9e</td>\n",
       "    </tr>\n",
       "    <tr>\n",
       "      <th>28</th>\n",
       "      <td>708397</td>\n",
       "      <td>Mastermind Games</td>\n",
       "      <td>MGT</td>\n",
       "      <td>BSC</td>\n",
       "      <td>True</td>\n",
       "      <td>18.0</td>\n",
       "      <td>3.000000e+08</td>\n",
       "      <td>3.000000e+08</td>\n",
       "      <td>9.136214e+02</td>\n",
       "      <td>2.277333e+07</td>\n",
       "      <td>3.045405e-06</td>\n",
       "      <td>1.193406e-08</td>\n",
       "      <td>0.000</td>\n",
       "      <td>-76.058</td>\n",
       "      <td>0.000000e+00</td>\n",
       "      <td>0x6292F56ccE9FB34e21010a1A237a4D908a6474eA</td>\n",
       "    </tr>\n",
       "    <tr>\n",
       "      <th>29</th>\n",
       "      <td>2084</td>\n",
       "      <td>TrueUSD</td>\n",
       "      <td>TUSD</td>\n",
       "      <td>BSC</td>\n",
       "      <td>True</td>\n",
       "      <td>18.0</td>\n",
       "      <td>1.130000e+08</td>\n",
       "      <td>1.130000e+08</td>\n",
       "      <td>1.111958e+08</td>\n",
       "      <td>1.959939e+07</td>\n",
       "      <td>9.840339e-01</td>\n",
       "      <td>4.314375e-03</td>\n",
       "      <td>-2.089</td>\n",
       "      <td>-0.931</td>\n",
       "      <td>9.116767e+05</td>\n",
       "      <td>0x14016E85a25aeb13065688cAFB43044C2ef86784</td>\n",
       "    </tr>\n",
       "    <tr>\n",
       "      <th>30</th>\n",
       "      <td>683934</td>\n",
       "      <td>FGDTOKEN</td>\n",
       "      <td>FGD</td>\n",
       "      <td>BSC</td>\n",
       "      <td>True</td>\n",
       "      <td>18.0</td>\n",
       "      <td>2.100000e+07</td>\n",
       "      <td>1.950000e+07</td>\n",
       "      <td>1.267181e+08</td>\n",
       "      <td>1.863015e+07</td>\n",
       "      <td>6.498362e+00</td>\n",
       "      <td>2.883204e-02</td>\n",
       "      <td>-4.609</td>\n",
       "      <td>-19.848</td>\n",
       "      <td>2.405326e+06</td>\n",
       "      <td>0x0566B9a8fFb8908682796751EEd00722da967Be0</td>\n",
       "    </tr>\n",
       "    <tr>\n",
       "      <th>31</th>\n",
       "      <td>739339</td>\n",
       "      <td>QSQ</td>\n",
       "      <td>QSQ</td>\n",
       "      <td>BSC</td>\n",
       "      <td>True</td>\n",
       "      <td>18.0</td>\n",
       "      <td>1.000000e+06</td>\n",
       "      <td>9.995429e+05</td>\n",
       "      <td>2.336807e+02</td>\n",
       "      <td>1.711742e+07</td>\n",
       "      <td>2.337256e-04</td>\n",
       "      <td>6.010789e-07</td>\n",
       "      <td>0.000</td>\n",
       "      <td>0.000</td>\n",
       "      <td>0.000000e+00</td>\n",
       "      <td>0xAC2dC9481640AACB37A253360D01CcA4eA37523d</td>\n",
       "    </tr>\n",
       "    <tr>\n",
       "      <th>32</th>\n",
       "      <td>76</td>\n",
       "      <td>BinaryX</td>\n",
       "      <td>BNX</td>\n",
       "      <td>BSC</td>\n",
       "      <td>True</td>\n",
       "      <td>18.0</td>\n",
       "      <td>5.807624e+06</td>\n",
       "      <td>5.724335e+06</td>\n",
       "      <td>7.123190e+08</td>\n",
       "      <td>1.640194e+07</td>\n",
       "      <td>1.244554e+02</td>\n",
       "      <td>5.520277e-01</td>\n",
       "      <td>-3.265</td>\n",
       "      <td>-2.748</td>\n",
       "      <td>8.374412e+06</td>\n",
       "      <td>0x8C851d1a123Ff703BD1f9dabe631b69902Df5f97</td>\n",
       "    </tr>\n",
       "    <tr>\n",
       "      <th>33</th>\n",
       "      <td>1580</td>\n",
       "      <td>Elephant Money</td>\n",
       "      <td>ELEPHANT</td>\n",
       "      <td>BSC</td>\n",
       "      <td>True</td>\n",
       "      <td>9.0</td>\n",
       "      <td>1.000000e+15</td>\n",
       "      <td>1.000000e+15</td>\n",
       "      <td>6.447831e+07</td>\n",
       "      <td>1.529095e+07</td>\n",
       "      <td>6.447831e-08</td>\n",
       "      <td>2.840573e-10</td>\n",
       "      <td>-0.260</td>\n",
       "      <td>-10.699</td>\n",
       "      <td>6.689604e+05</td>\n",
       "      <td>0xE283D0e3B8c102BAdF5E8166B73E02D96d92F688</td>\n",
       "    </tr>\n",
       "    <tr>\n",
       "      <th>34</th>\n",
       "      <td>549</td>\n",
       "      <td>Dai Token</td>\n",
       "      <td>DAI</td>\n",
       "      <td>BSC</td>\n",
       "      <td>True</td>\n",
       "      <td>18.0</td>\n",
       "      <td>2.620000e+08</td>\n",
       "      <td>2.619999e+08</td>\n",
       "      <td>2.610679e+08</td>\n",
       "      <td>1.496279e+07</td>\n",
       "      <td>9.964427e-01</td>\n",
       "      <td>4.421057e-03</td>\n",
       "      <td>-0.455</td>\n",
       "      <td>-0.058</td>\n",
       "      <td>1.180993e+06</td>\n",
       "      <td>0x1AF3F329e8BE154074D8769D1FFa4eE058B1DBc3</td>\n",
       "    </tr>\n",
       "    <tr>\n",
       "      <th>35</th>\n",
       "      <td>3520</td>\n",
       "      <td>Baby Shiba Inu</td>\n",
       "      <td>BabyShibaInu</td>\n",
       "      <td>BSC</td>\n",
       "      <td>True</td>\n",
       "      <td>9.0</td>\n",
       "      <td>1.000000e+15</td>\n",
       "      <td>4.415892e+14</td>\n",
       "      <td>1.753182e+06</td>\n",
       "      <td>1.467173e+07</td>\n",
       "      <td>3.970115e-09</td>\n",
       "      <td>1.754630e-11</td>\n",
       "      <td>-5.213</td>\n",
       "      <td>-19.732</td>\n",
       "      <td>4.671693e+02</td>\n",
       "      <td>0xAECf6d1afF214feF70042740054f0f6D0Caa98Ab</td>\n",
       "    </tr>\n",
       "    <tr>\n",
       "      <th>36</th>\n",
       "      <td>179</td>\n",
       "      <td>Biswap</td>\n",
       "      <td>BSW</td>\n",
       "      <td>BSC</td>\n",
       "      <td>True</td>\n",
       "      <td>18.0</td>\n",
       "      <td>3.438398e+08</td>\n",
       "      <td>3.095264e+08</td>\n",
       "      <td>1.101387e+08</td>\n",
       "      <td>1.349576e+07</td>\n",
       "      <td>3.562940e-01</td>\n",
       "      <td>1.580809e-03</td>\n",
       "      <td>-2.372</td>\n",
       "      <td>-31.418</td>\n",
       "      <td>1.455627e+07</td>\n",
       "      <td>0x965F527D9159dCe6288a2219DB51fc6Eef120dD1</td>\n",
       "    </tr>\n",
       "    <tr>\n",
       "      <th>37</th>\n",
       "      <td>691</td>\n",
       "      <td>Nominex</td>\n",
       "      <td>NMX</td>\n",
       "      <td>BSC</td>\n",
       "      <td>True</td>\n",
       "      <td>18.0</td>\n",
       "      <td>3.654176e+07</td>\n",
       "      <td>3.654176e+07</td>\n",
       "      <td>4.531149e+07</td>\n",
       "      <td>1.298109e+07</td>\n",
       "      <td>1.240529e+00</td>\n",
       "      <td>5.502082e-03</td>\n",
       "      <td>-8.956</td>\n",
       "      <td>-14.969</td>\n",
       "      <td>4.129360e+06</td>\n",
       "      <td>0xd32d01A43c869EdcD1117C640fBDcfCFD97d9d65</td>\n",
       "    </tr>\n",
       "    <tr>\n",
       "      <th>38</th>\n",
       "      <td>7384</td>\n",
       "      <td>BitTorrent</td>\n",
       "      <td>BTT</td>\n",
       "      <td>BSC</td>\n",
       "      <td>True</td>\n",
       "      <td>18.0</td>\n",
       "      <td>3.437100e+13</td>\n",
       "      <td>3.437100e+13</td>\n",
       "      <td>2.752814e+07</td>\n",
       "      <td>1.232934e+07</td>\n",
       "      <td>8.174535e-07</td>\n",
       "      <td>3.599765e-09</td>\n",
       "      <td>-7.629</td>\n",
       "      <td>-22.923</td>\n",
       "      <td>2.239362e+06</td>\n",
       "      <td>0x352Cb5E19b12FC216548a2677bD0fce83BaE434B</td>\n",
       "    </tr>\n",
       "    <tr>\n",
       "      <th>39</th>\n",
       "      <td>44</td>\n",
       "      <td>Baby Doge Coin</td>\n",
       "      <td>BabyDoge</td>\n",
       "      <td>BSC</td>\n",
       "      <td>True</td>\n",
       "      <td>9.0</td>\n",
       "      <td>4.200000e+17</td>\n",
       "      <td>2.240540e+17</td>\n",
       "      <td>2.454127e+08</td>\n",
       "      <td>1.189250e+07</td>\n",
       "      <td>1.095240e-09</td>\n",
       "      <td>4.859400e-12</td>\n",
       "      <td>-7.240</td>\n",
       "      <td>-28.885</td>\n",
       "      <td>4.786643e+05</td>\n",
       "      <td>0xc748673057861a797275CD8A068AbB95A902e8de</td>\n",
       "    </tr>\n",
       "    <tr>\n",
       "      <th>40</th>\n",
       "      <td>59</td>\n",
       "      <td>Mobox</td>\n",
       "      <td>MBOX</td>\n",
       "      <td>BSC</td>\n",
       "      <td>True</td>\n",
       "      <td>18.0</td>\n",
       "      <td>3.811076e+08</td>\n",
       "      <td>3.811075e+08</td>\n",
       "      <td>2.249169e+08</td>\n",
       "      <td>1.154318e+07</td>\n",
       "      <td>5.900784e-01</td>\n",
       "      <td>2.618066e-03</td>\n",
       "      <td>0.575</td>\n",
       "      <td>-31.333</td>\n",
       "      <td>4.031794e+06</td>\n",
       "      <td>0x3203c9E46cA618C8C1cE5dC67e7e9D75f5da2377</td>\n",
       "    </tr>\n",
       "    <tr>\n",
       "      <th>41</th>\n",
       "      <td>772333</td>\n",
       "      <td>PIGS Token</td>\n",
       "      <td>AFP</td>\n",
       "      <td>BSC</td>\n",
       "      <td>True</td>\n",
       "      <td>18.0</td>\n",
       "      <td>3.596651e+05</td>\n",
       "      <td>3.596651e+05</td>\n",
       "      <td>3.168444e+07</td>\n",
       "      <td>1.100248e+07</td>\n",
       "      <td>8.807075e+01</td>\n",
       "      <td>3.871062e-01</td>\n",
       "      <td>-3.797</td>\n",
       "      <td>-19.192</td>\n",
       "      <td>2.293360e+05</td>\n",
       "      <td>0x9a3321E1aCD3B9F6debEE5e042dD2411A1742002</td>\n",
       "    </tr>\n",
       "  </tbody>\n",
       "</table>\n",
       "</div>"
      ],
      "text/plain": [
       "         id               name        symbol chain  active  decimals  \\\n",
       "0        10        Wrapped BNB          WBNB   BSC    True      18.0   \n",
       "1         2         BUSD Token          BUSD   BSC    True      18.0   \n",
       "2        23  PancakeSwap Token          Cake   BSC    True      18.0   \n",
       "3         6         Tether USD          USDT   BSC    True      18.0   \n",
       "4    694429            Bitcoin          XBTC   BSC    True      18.0   \n",
       "5    740948            Bitcoin           BTC   BSC    True      18.0   \n",
       "6   1012735               USDT          USDT   BSC    True       8.0   \n",
       "7    699876   dead money token           DDM   BSC    True      18.0   \n",
       "8    699877   dead money token           DDM   BSC    True      18.0   \n",
       "9      1176        Super Floki         SLOKI   BSC    True       9.0   \n",
       "10     4582        Gold Nugget   GOLD NUGGET   BSC    True      18.0   \n",
       "11   420365             radium        Radium   BSC    True      18.0   \n",
       "12      204         BTCB Token          BTCB   BSC    True      18.0   \n",
       "13        9           USD Coin          USDC   BSC    True      18.0   \n",
       "14   592588         RedrubyDao           RRB   BSC    True       8.0   \n",
       "15      107          FistToken          FIST   BSC    True       6.0   \n",
       "16   596376                OSK           OSK   BSC    True      18.0   \n",
       "17  1146298         OverHtmoon    OverHtmoon   BSC    True       1.0   \n",
       "18        8     Ethereum Token           ETH   BSC    True      18.0   \n",
       "19  1195956            Willdog          wdog   BSC    True      12.0   \n",
       "20   706461         Crush Coin         CRUSH   BSC    True      18.0   \n",
       "21   832045               USDT          USDT   BSC    True      18.0   \n",
       "22   877966              Tesla         Tesla   BSC    True       6.0   \n",
       "23   877695                BNB           BNB   BSC    True       6.0   \n",
       "24   750415      Fonvity Token           FON   BSC    True      18.0   \n",
       "25   707375            OSK-DAO       OSK-DAO   BSC    True      18.0   \n",
       "26      841     Valkyrio Token          VALK   BSC    True      18.0   \n",
       "27   415277               DOGS          DOGS   BSC    True      18.0   \n",
       "28   708397   Mastermind Games           MGT   BSC    True      18.0   \n",
       "29     2084            TrueUSD          TUSD   BSC    True      18.0   \n",
       "30   683934           FGDTOKEN           FGD   BSC    True      18.0   \n",
       "31   739339                QSQ           QSQ   BSC    True      18.0   \n",
       "32       76            BinaryX           BNX   BSC    True      18.0   \n",
       "33     1580     Elephant Money      ELEPHANT   BSC    True       9.0   \n",
       "34      549          Dai Token           DAI   BSC    True      18.0   \n",
       "35     3520     Baby Shiba Inu  BabyShibaInu   BSC    True       9.0   \n",
       "36      179             Biswap           BSW   BSC    True      18.0   \n",
       "37      691            Nominex           NMX   BSC    True      18.0   \n",
       "38     7384         BitTorrent           BTT   BSC    True      18.0   \n",
       "39       44     Baby Doge Coin      BabyDoge   BSC    True       9.0   \n",
       "40       59              Mobox          MBOX   BSC    True      18.0   \n",
       "41   772333         PIGS Token           AFP   BSC    True      18.0   \n",
       "\n",
       "    total_supply  circulating_supply    market_cap  liquidity_usd  \\\n",
       "0   4.872168e+06        4.872161e+06  1.130852e+09   7.133598e+20   \n",
       "1   4.850999e+09        4.850774e+09  4.845429e+09   2.498289e+18   \n",
       "2   7.899806e+08        3.022353e+08  9.927590e+08   1.790681e+18   \n",
       "3   4.979998e+09        4.979964e+09  4.973145e+09   1.521374e+16   \n",
       "4   2.100000e+16        2.100000e+16  1.753158e+25   4.215631e+14   \n",
       "5   2.100000e+13        2.100000e+13  1.059938e+22   4.194548e+14   \n",
       "6   1.000000e+20        1.000000e+20  0.000000e+00   2.124138e+14   \n",
       "7   1.000000e+13        1.000000e+13  4.942687e+16   5.078107e+12   \n",
       "8   1.000000e+13        1.000000e+13  4.978536e+16   5.041540e+12   \n",
       "9   1.000000e+17        4.418478e+16  6.442461e+04   2.582861e+12   \n",
       "10  7.989634e+06        2.786817e+06  7.842262e+03   1.592617e+12   \n",
       "11  1.000000e+09        1.000000e+09  6.593260e+02   4.662463e+11   \n",
       "12  1.125010e+05        1.124942e+05  2.497969e+09   5.809270e+09   \n",
       "13  1.879000e+09        1.879000e+09  1.877400e+09   4.102639e+09   \n",
       "14  1.000000e+10        4.842168e+09  2.410196e+07   1.368066e+09   \n",
       "15  2.000000e+08        1.990549e+08  4.912844e+08   4.392110e+08   \n",
       "16  1.000000e+07        9.999000e+06  3.573999e+08   2.276309e+08   \n",
       "17  2.000000e+27        2.000000e+27  0.000000e+00   1.931142e+08   \n",
       "18  1.405000e+06        1.404988e+06  1.710144e+09   9.426864e+07   \n",
       "19  7.777778e+13        7.777778e+13  0.000000e+00   9.188242e+07   \n",
       "20  2.984882e+07        2.984882e+07  6.513746e+03   8.397922e+07   \n",
       "21  3.000000e+08        3.000000e+08  3.840030e+07   6.723013e+07   \n",
       "22  1.000000e+07        1.000000e+07  2.668664e+10   5.514602e+07   \n",
       "23  1.000000e+07        1.000000e+07  1.395337e+10   5.462066e+07   \n",
       "24  1.110000e+08        1.105179e+08  1.132657e+09   5.430235e+07   \n",
       "25  1.000000e+07        2.940509e+06  2.168219e+08   4.974901e+07   \n",
       "26  1.000000e+08        1.000000e+08  2.267745e+05   3.911826e+07   \n",
       "27  1.351593e+06        1.325214e+06  3.643770e+07   2.439429e+07   \n",
       "28  3.000000e+08        3.000000e+08  9.136214e+02   2.277333e+07   \n",
       "29  1.130000e+08        1.130000e+08  1.111958e+08   1.959939e+07   \n",
       "30  2.100000e+07        1.950000e+07  1.267181e+08   1.863015e+07   \n",
       "31  1.000000e+06        9.995429e+05  2.336807e+02   1.711742e+07   \n",
       "32  5.807624e+06        5.724335e+06  7.123190e+08   1.640194e+07   \n",
       "33  1.000000e+15        1.000000e+15  6.447831e+07   1.529095e+07   \n",
       "34  2.620000e+08        2.619999e+08  2.610679e+08   1.496279e+07   \n",
       "35  1.000000e+15        4.415892e+14  1.753182e+06   1.467173e+07   \n",
       "36  3.438398e+08        3.095264e+08  1.101387e+08   1.349576e+07   \n",
       "37  3.654176e+07        3.654176e+07  4.531149e+07   1.298109e+07   \n",
       "38  3.437100e+13        3.437100e+13  2.752814e+07   1.232934e+07   \n",
       "39  4.200000e+17        2.240540e+17  2.454127e+08   1.189250e+07   \n",
       "40  3.811076e+08        3.811075e+08  2.249169e+08   1.154318e+07   \n",
       "41  3.596651e+05        3.596651e+05  3.168444e+07   1.100248e+07   \n",
       "\n",
       "       price_usd     price_peg  price_change_24_h  price_change_7_d  \\\n",
       "0   2.253544e+02  1.000000e+00             -5.535           -20.232   \n",
       "1   9.988980e-01  4.432588e-03             -0.378            -0.443   \n",
       "2   3.283777e+00  1.456959e-02             -7.176           -24.388   \n",
       "3   9.986308e-01  4.431382e-03              0.006            -0.088   \n",
       "4   8.348370e+08  2.068397e+06              0.000             0.000   \n",
       "5   5.047326e+08  1.859682e+06              0.000             0.000   \n",
       "6   0.000000e+00  0.000000e+00              0.000             0.000   \n",
       "7   4.942687e+03  1.175816e+01              0.000             0.000   \n",
       "8   4.978536e+03  1.184344e+01              0.000             0.000   \n",
       "9   1.458037e-12  6.700000e-15             -6.514           -27.619   \n",
       "10  2.814056e-03  1.313471e-05             -9.431           -19.872   \n",
       "11  6.593260e-07  1.551246e-09              0.000             0.000   \n",
       "12  2.220533e+04  9.852146e+01            -12.461           -24.722   \n",
       "13  9.991489e-01  4.433042e-03              0.014             0.047   \n",
       "14  4.975727e-03  2.209567e-05             19.076           -16.310   \n",
       "15  2.468085e+00  1.095048e-02              1.510           -14.471   \n",
       "16  3.574357e+01  1.572642e-01              1.351           -15.580   \n",
       "17  0.000000e+00  0.000000e+00              0.000             0.000   \n",
       "18  1.217195e+03  5.400463e+00             -8.161           -30.670   \n",
       "19  0.000000e+00  0.000000e+00              0.000             0.000   \n",
       "20  2.182246e-04  7.160745e-07              0.000             0.000   \n",
       "21  1.280010e-01  3.953469e-04              0.000             0.000   \n",
       "22  2.668664e+03  8.489688e+00              0.000             0.000   \n",
       "23  1.395337e+03  4.598617e+00              0.000             0.000   \n",
       "24  1.020412e+01  3.911983e-02              0.000           -99.981   \n",
       "25  7.373619e+01  2.550067e-01              0.000            38.464   \n",
       "26  2.267745e-03  1.042344e-05            -11.266           -31.789   \n",
       "27  4.189821e+01  1.134341e-01              0.000             0.000   \n",
       "28  3.045405e-06  1.193406e-08              0.000           -76.058   \n",
       "29  9.840339e-01  4.314375e-03             -2.089            -0.931   \n",
       "30  6.498362e+00  2.883204e-02             -4.609           -19.848   \n",
       "31  2.337256e-04  6.010789e-07              0.000             0.000   \n",
       "32  1.244554e+02  5.520277e-01             -3.265            -2.748   \n",
       "33  6.447831e-08  2.840573e-10             -0.260           -10.699   \n",
       "34  9.964427e-01  4.421057e-03             -0.455            -0.058   \n",
       "35  3.970115e-09  1.754630e-11             -5.213           -19.732   \n",
       "36  3.562940e-01  1.580809e-03             -2.372           -31.418   \n",
       "37  1.240529e+00  5.502082e-03             -8.956           -14.969   \n",
       "38  8.174535e-07  3.599765e-09             -7.629           -22.923   \n",
       "39  1.095240e-09  4.859400e-12             -7.240           -28.885   \n",
       "40  5.900784e-01  2.618066e-03              0.575           -31.333   \n",
       "41  8.807075e+01  3.871062e-01             -3.797           -19.192   \n",
       "\n",
       "     volume_24_h                                    contract  \n",
       "0   6.174111e+08  0xbb4CdB9CBd36B01bD1cBaEBF2De08d9173bc095c  \n",
       "1   3.576921e+08  0xe9e7CEA3DedcA5984780Bafc599bD69ADd087D56  \n",
       "2   2.113425e+07  0x0E09FaBB73Bd3Ade0a17ECC321fD13a19e81cE82  \n",
       "3   1.156232e+59  0x55d398326f99059fF775485246999027B3197955  \n",
       "4   0.000000e+00  0x3E7B06B9c88ef97cF43C53F88F4f0689bDBd52AB  \n",
       "5   0.000000e+00  0x74042a20eb5F24cbE38AA1D5DaFc9bA6f07Eb35d  \n",
       "6   0.000000e+00  0x96e677F2bd7fFf30A0D6c25Be3f5820e6Be04CD3  \n",
       "7   0.000000e+00  0xe6A9C705165b27E5Ac2570A7C727921aAEa78bB8  \n",
       "8   0.000000e+00  0x37b53A16573DbFE9A1DcF5496C16E6C9d01b9618  \n",
       "9   1.382861e+01  0xf7BF4507336AeA836ab5575eC1801d96c3059483  \n",
       "10  3.363989e+01  0xE0B58022487131eC9913C1F3AcFD8F74FC6A6C7E  \n",
       "11  0.000000e+00  0x2b92f4284C6D375eeC13e4Ad6d9db476B9B812CB  \n",
       "12  1.233746e+08  0x7130d2A12B9BCbFAe4f2634d864A1Ee1Ce3Ead9c  \n",
       "13  7.642379e+07  0x8AC76a51cc950d9822D68b83fE1Ad97B32Cd580d  \n",
       "14  7.685326e+04  0xa8d22026119bC8A33941853614148Fda61971d4D  \n",
       "15  3.390709e+07  0xC9882dEF23bc42D53895b8361D0b1EDC7570Bc6A  \n",
       "16  5.263556e+06  0x04fA9Eb295266d9d4650EDCB879da204887Dc3Da  \n",
       "17  0.000000e+00  0x25e11B72a39224dE5b03eDbb4a1E5F982A08aADd  \n",
       "18  1.082360e+08  0x2170Ed0880ac9A755fd29B2688956BD959F933F8  \n",
       "19  0.000000e+00  0x1912D58e97aeE85B19803509F87e6fd6Fc2C0b3A  \n",
       "20  0.000000e+00  0x9FD3a361734BF7a8f543E02F79f24EBBd867d844  \n",
       "21  0.000000e+00  0xeCbfC582F333346D8E9B0a7d344244104F5FF4d8  \n",
       "22  0.000000e+00  0x0974B34408eAE452A103c765b0b0Cf0a61022109  \n",
       "23  0.000000e+00  0x64a3ccB40ffC6103eeBF20749c2243386387d863  \n",
       "24  5.281784e+06  0x12a055D95855b4Ec2cd70C1A5EaDb1ED43eaeF65  \n",
       "25  5.882651e+06  0x869a7236280E2516491dE8848391b2a02077daf7  \n",
       "26  1.310462e+03  0x405cFf4cE041d3235E8b1f7AaA4E458998A47363  \n",
       "27  0.000000e+00  0xDBdC73B95cC0D5e7E99dC95523045Fc8d075Fb9e  \n",
       "28  0.000000e+00  0x6292F56ccE9FB34e21010a1A237a4D908a6474eA  \n",
       "29  9.116767e+05  0x14016E85a25aeb13065688cAFB43044C2ef86784  \n",
       "30  2.405326e+06  0x0566B9a8fFb8908682796751EEd00722da967Be0  \n",
       "31  0.000000e+00  0xAC2dC9481640AACB37A253360D01CcA4eA37523d  \n",
       "32  8.374412e+06  0x8C851d1a123Ff703BD1f9dabe631b69902Df5f97  \n",
       "33  6.689604e+05  0xE283D0e3B8c102BAdF5E8166B73E02D96d92F688  \n",
       "34  1.180993e+06  0x1AF3F329e8BE154074D8769D1FFa4eE058B1DBc3  \n",
       "35  4.671693e+02  0xAECf6d1afF214feF70042740054f0f6D0Caa98Ab  \n",
       "36  1.455627e+07  0x965F527D9159dCe6288a2219DB51fc6Eef120dD1  \n",
       "37  4.129360e+06  0xd32d01A43c869EdcD1117C640fBDcfCFD97d9d65  \n",
       "38  2.239362e+06  0x352Cb5E19b12FC216548a2677bD0fce83BaE434B  \n",
       "39  4.786643e+05  0xc748673057861a797275CD8A068AbB95A902e8de  \n",
       "40  4.031794e+06  0x3203c9E46cA618C8C1cE5dC67e7e9D75f5da2377  \n",
       "41  2.293360e+05  0x9a3321E1aCD3B9F6debEE5e042dD2411A1742002  "
      ]
     },
     "execution_count": 15,
     "metadata": {},
     "output_type": "execute_result"
    }
   ],
   "source": [
    "tokens = pd.DataFrame([t.__dict__ for t in client.get_tokens(limit=42, extended=True)])\n",
    "tokens"
   ]
  },
  {
   "cell_type": "code",
   "execution_count": 82,
   "metadata": {},
   "outputs": [
    {
     "data": {
      "application/vnd.jupyter.widget-view+json": {
       "model_id": "4c195bd241204981b845d06e56aff25f",
       "version_major": 2,
       "version_minor": 0
      },
      "text/plain": [
       "Iteration of tokens:   0%|          | 0/42 [00:00<?, ?it/s]"
      ]
     },
     "metadata": {},
     "output_type": "display_data"
    },
    {
     "data": {
      "application/vnd.jupyter.widget-view+json": {
       "model_id": "1bef3326d32c4c4a9ba9f7bda6c08e48",
       "version_major": 2,
       "version_minor": 0
      },
      "text/plain": [
       "Iterating requests to meet the limit:   0%|          | 0/6 [00:00<?, ?it/s]"
      ]
     },
     "metadata": {},
     "output_type": "display_data"
    },
    {
     "data": {
      "application/vnd.jupyter.widget-view+json": {
       "model_id": "e229d30b22804aecb05feb08b06de9ff",
       "version_major": 2,
       "version_minor": 0
      },
      "text/plain": [
       "Iterating time to retrieve discord messages of BTC tag:   0%|          | 0/2 [00:00<?, ?it/s]"
      ]
     },
     "metadata": {},
     "output_type": "display_data"
    },
    {
     "data": {
      "application/vnd.jupyter.widget-view+json": {
       "model_id": "36d3a3ad50d34ff081b7a757765fb152",
       "version_major": 2,
       "version_minor": 0
      },
      "text/plain": [
       "Iterating time to retrieve publications messages of BTC tag:   0%|          | 0/2 [00:00<?, ?it/s]"
      ]
     },
     "metadata": {},
     "output_type": "display_data"
    },
    {
     "data": {
      "application/vnd.jupyter.widget-view+json": {
       "model_id": "f94f97486fe747b1a3158f422d31647a",
       "version_major": 2,
       "version_minor": 0
      },
      "text/plain": [
       "Iterating time to retrieve reddit messages of BTC tag:   0%|          | 0/2 [00:00<?, ?it/s]"
      ]
     },
     "metadata": {},
     "output_type": "display_data"
    },
    {
     "data": {
      "application/vnd.jupyter.widget-view+json": {
       "model_id": "e3e6b2bf961646e2a923be8b57d13818",
       "version_major": 2,
       "version_minor": 0
      },
      "text/plain": [
       "Iterating time to retrieve telegram messages of BTC tag:   0%|          | 0/2 [00:00<?, ?it/s]"
      ]
     },
     "metadata": {},
     "output_type": "display_data"
    },
    {
     "data": {
      "application/vnd.jupyter.widget-view+json": {
       "model_id": "6b16c32837ce421e8729bf5344ee539c",
       "version_major": 2,
       "version_minor": 0
      },
      "text/plain": [
       "Iterating time to retrieve twitter messages of BTC tag:   0%|          | 0/2 [00:00<?, ?it/s]"
      ]
     },
     "metadata": {},
     "output_type": "display_data"
    },
    {
     "data": {
      "application/vnd.jupyter.widget-view+json": {
       "model_id": "782c1ba897874bf3b4fe0f4ab88e903b",
       "version_major": 2,
       "version_minor": 0
      },
      "text/plain": [
       "Iterating requests to meet the limit:   0%|          | 0/6 [00:00<?, ?it/s]"
      ]
     },
     "metadata": {},
     "output_type": "display_data"
    },
    {
     "name": "stdout",
     "output_type": "stream",
     "text": [
      "No price data for USDT symbol (0x96e677F2bd7fFf30A0D6c25Be3f5820e6Be04CD3).\n"
     ]
    },
    {
     "data": {
      "application/vnd.jupyter.widget-view+json": {
       "model_id": "f00f3663f4604275b5bdd4187313b495",
       "version_major": 2,
       "version_minor": 0
      },
      "text/plain": [
       "Iterating requests to meet the limit:   0%|          | 0/6 [00:00<?, ?it/s]"
      ]
     },
     "metadata": {},
     "output_type": "display_data"
    },
    {
     "name": "stdout",
     "output_type": "stream",
     "text": [
      "No price data for DDM symbol (0xe6A9C705165b27E5Ac2570A7C727921aAEa78bB8).\n"
     ]
    },
    {
     "data": {
      "application/vnd.jupyter.widget-view+json": {
       "model_id": "0d73b12bbd32458caea26788e9946bf7",
       "version_major": 2,
       "version_minor": 0
      },
      "text/plain": [
       "Iterating requests to meet the limit:   0%|          | 0/6 [00:00<?, ?it/s]"
      ]
     },
     "metadata": {},
     "output_type": "display_data"
    },
    {
     "name": "stdout",
     "output_type": "stream",
     "text": [
      "No price data for DDM symbol (0x37b53A16573DbFE9A1DcF5496C16E6C9d01b9618).\n"
     ]
    },
    {
     "data": {
      "application/vnd.jupyter.widget-view+json": {
       "model_id": "f6c9041ad8e4421e961d7873eff31328",
       "version_major": 2,
       "version_minor": 0
      },
      "text/plain": [
       "Iterating requests to meet the limit:   0%|          | 0/6 [00:00<?, ?it/s]"
      ]
     },
     "metadata": {},
     "output_type": "display_data"
    },
    {
     "data": {
      "application/vnd.jupyter.widget-view+json": {
       "model_id": "b4170575ca734a45a493544a2742061d",
       "version_major": 2,
       "version_minor": 0
      },
      "text/plain": [
       "Iterating time to retrieve discord messages of SLOKI tag:   0%|          | 0/150 [00:00<?, ?it/s]"
      ]
     },
     "metadata": {},
     "output_type": "display_data"
    },
    {
     "data": {
      "application/vnd.jupyter.widget-view+json": {
       "model_id": "9f6e87cdbd4545a8b8b73d411fbaa10c",
       "version_major": 2,
       "version_minor": 0
      },
      "text/plain": [
       "Iterating time to retrieve publications messages of SLOKI tag:   0%|          | 0/150 [00:00<?, ?it/s]"
      ]
     },
     "metadata": {},
     "output_type": "display_data"
    },
    {
     "data": {
      "application/vnd.jupyter.widget-view+json": {
       "model_id": "43c6c3ad13324056b61e0c4200910f9f",
       "version_major": 2,
       "version_minor": 0
      },
      "text/plain": [
       "Iterating time to retrieve reddit messages of SLOKI tag:   0%|          | 0/150 [00:00<?, ?it/s]"
      ]
     },
     "metadata": {},
     "output_type": "display_data"
    },
    {
     "data": {
      "application/vnd.jupyter.widget-view+json": {
       "model_id": "be1bd15669624f1e801410cdab4ec19c",
       "version_major": 2,
       "version_minor": 0
      },
      "text/plain": [
       "Iterating time to retrieve telegram messages of SLOKI tag:   0%|          | 0/150 [00:00<?, ?it/s]"
      ]
     },
     "metadata": {},
     "output_type": "display_data"
    },
    {
     "data": {
      "application/vnd.jupyter.widget-view+json": {
       "model_id": "bb40009011c74754b8c486f79b0fcb04",
       "version_major": 2,
       "version_minor": 0
      },
      "text/plain": [
       "Iterating time to retrieve twitter messages of SLOKI tag:   0%|          | 0/150 [00:00<?, ?it/s]"
      ]
     },
     "metadata": {},
     "output_type": "display_data"
    },
    {
     "data": {
      "application/vnd.jupyter.widget-view+json": {
       "model_id": "9034b392b065401eba992d4c566396e2",
       "version_major": 2,
       "version_minor": 0
      },
      "text/plain": [
       "Iterating requests to meet the limit:   0%|          | 0/6 [00:00<?, ?it/s]"
      ]
     },
     "metadata": {},
     "output_type": "display_data"
    },
    {
     "data": {
      "application/vnd.jupyter.widget-view+json": {
       "model_id": "ecc5e4fa7bec4ca08299b30b7f75008d",
       "version_major": 2,
       "version_minor": 0
      },
      "text/plain": [
       "Iterating time to retrieve discord messages of GOLD NUGGET tag:   0%|          | 0/7 [00:00<?, ?it/s]"
      ]
     },
     "metadata": {},
     "output_type": "display_data"
    },
    {
     "data": {
      "application/vnd.jupyter.widget-view+json": {
       "model_id": "70c5c062f14c41b79e5aed55a6aa8daa",
       "version_major": 2,
       "version_minor": 0
      },
      "text/plain": [
       "Iterating time to retrieve publications messages of GOLD NUGGET tag:   0%|          | 0/7 [00:00<?, ?it/s]"
      ]
     },
     "metadata": {},
     "output_type": "display_data"
    },
    {
     "data": {
      "application/vnd.jupyter.widget-view+json": {
       "model_id": "ea8455739ed64d2f9a641a9418ec4e9b",
       "version_major": 2,
       "version_minor": 0
      },
      "text/plain": [
       "Iterating time to retrieve reddit messages of GOLD NUGGET tag:   0%|          | 0/7 [00:00<?, ?it/s]"
      ]
     },
     "metadata": {},
     "output_type": "display_data"
    },
    {
     "data": {
      "application/vnd.jupyter.widget-view+json": {
       "model_id": "9ff8db4593754532b092536577e7e12c",
       "version_major": 2,
       "version_minor": 0
      },
      "text/plain": [
       "Iterating time to retrieve telegram messages of GOLD NUGGET tag:   0%|          | 0/7 [00:00<?, ?it/s]"
      ]
     },
     "metadata": {},
     "output_type": "display_data"
    },
    {
     "data": {
      "application/vnd.jupyter.widget-view+json": {
       "model_id": "64674444dae642e4b6d5d1b0405bf4e5",
       "version_major": 2,
       "version_minor": 0
      },
      "text/plain": [
       "Iterating time to retrieve twitter messages of GOLD NUGGET tag:   0%|          | 0/7 [00:00<?, ?it/s]"
      ]
     },
     "metadata": {},
     "output_type": "display_data"
    },
    {
     "data": {
      "application/vnd.jupyter.widget-view+json": {
       "model_id": "78afe68c1ead4c9382eb9a4644d17f01",
       "version_major": 2,
       "version_minor": 0
      },
      "text/plain": [
       "Iterating requests to meet the limit:   0%|          | 0/6 [00:00<?, ?it/s]"
      ]
     },
     "metadata": {},
     "output_type": "display_data"
    },
    {
     "data": {
      "application/vnd.jupyter.widget-view+json": {
       "model_id": "0dad6b694cc34a5abb7eb679e4159699",
       "version_major": 2,
       "version_minor": 0
      },
      "text/plain": [
       "Iterating time to retrieve discord messages of Radium tag:   0%|          | 0/25 [00:00<?, ?it/s]"
      ]
     },
     "metadata": {},
     "output_type": "display_data"
    },
    {
     "data": {
      "application/vnd.jupyter.widget-view+json": {
       "model_id": "23aa86b4766841f4b12589af24588974",
       "version_major": 2,
       "version_minor": 0
      },
      "text/plain": [
       "Iterating time to retrieve publications messages of Radium tag:   0%|          | 0/25 [00:00<?, ?it/s]"
      ]
     },
     "metadata": {},
     "output_type": "display_data"
    },
    {
     "data": {
      "application/vnd.jupyter.widget-view+json": {
       "model_id": "2f574679fbf445febe5b54997493c4a0",
       "version_major": 2,
       "version_minor": 0
      },
      "text/plain": [
       "Iterating time to retrieve reddit messages of Radium tag:   0%|          | 0/25 [00:00<?, ?it/s]"
      ]
     },
     "metadata": {},
     "output_type": "display_data"
    },
    {
     "data": {
      "application/vnd.jupyter.widget-view+json": {
       "model_id": "cae752e466ac43a89e934d18689e96b6",
       "version_major": 2,
       "version_minor": 0
      },
      "text/plain": [
       "Iterating time to retrieve telegram messages of Radium tag:   0%|          | 0/25 [00:00<?, ?it/s]"
      ]
     },
     "metadata": {},
     "output_type": "display_data"
    },
    {
     "data": {
      "application/vnd.jupyter.widget-view+json": {
       "model_id": "c8e96b8f1bc746779cfed2768771f4c8",
       "version_major": 2,
       "version_minor": 0
      },
      "text/plain": [
       "Iterating time to retrieve twitter messages of Radium tag:   0%|          | 0/25 [00:00<?, ?it/s]"
      ]
     },
     "metadata": {},
     "output_type": "display_data"
    },
    {
     "data": {
      "application/vnd.jupyter.widget-view+json": {
       "model_id": "c7f04b24c74c442d9f55d95c1b8afe50",
       "version_major": 2,
       "version_minor": 0
      },
      "text/plain": [
       "Iterating requests to meet the limit:   0%|          | 0/6 [00:00<?, ?it/s]"
      ]
     },
     "metadata": {},
     "output_type": "display_data"
    },
    {
     "data": {
      "application/vnd.jupyter.widget-view+json": {
       "model_id": "14f11003af51483899312254297bc1f8",
       "version_major": 2,
       "version_minor": 0
      },
      "text/plain": [
       "Iterating time to retrieve discord messages of BTCB tag:   0%|          | 0/150 [00:00<?, ?it/s]"
      ]
     },
     "metadata": {},
     "output_type": "display_data"
    },
    {
     "data": {
      "application/vnd.jupyter.widget-view+json": {
       "model_id": "3af614faa58447b28192086c7873c0b0",
       "version_major": 2,
       "version_minor": 0
      },
      "text/plain": [
       "Iterating time to retrieve publications messages of BTCB tag:   0%|          | 0/150 [00:00<?, ?it/s]"
      ]
     },
     "metadata": {},
     "output_type": "display_data"
    },
    {
     "data": {
      "application/vnd.jupyter.widget-view+json": {
       "model_id": "4edfe9938d9a4476815c8e084f23fa52",
       "version_major": 2,
       "version_minor": 0
      },
      "text/plain": [
       "Iterating time to retrieve reddit messages of BTCB tag:   0%|          | 0/150 [00:00<?, ?it/s]"
      ]
     },
     "metadata": {},
     "output_type": "display_data"
    },
    {
     "data": {
      "application/vnd.jupyter.widget-view+json": {
       "model_id": "4ed550fd3fca42debb7b24c27b252ec5",
       "version_major": 2,
       "version_minor": 0
      },
      "text/plain": [
       "Iterating time to retrieve telegram messages of BTCB tag:   0%|          | 0/150 [00:00<?, ?it/s]"
      ]
     },
     "metadata": {},
     "output_type": "display_data"
    },
    {
     "data": {
      "application/vnd.jupyter.widget-view+json": {
       "model_id": "4b8016af3929422a9aa50d97527269d6",
       "version_major": 2,
       "version_minor": 0
      },
      "text/plain": [
       "Iterating time to retrieve twitter messages of BTCB tag:   0%|          | 0/150 [00:00<?, ?it/s]"
      ]
     },
     "metadata": {},
     "output_type": "display_data"
    },
    {
     "data": {
      "application/vnd.jupyter.widget-view+json": {
       "model_id": "44034429e0fc48f5ae9087d97f68b3c2",
       "version_major": 2,
       "version_minor": 0
      },
      "text/plain": [
       "Iterating requests to meet the limit:   0%|          | 0/6 [00:00<?, ?it/s]"
      ]
     },
     "metadata": {},
     "output_type": "display_data"
    },
    {
     "data": {
      "application/vnd.jupyter.widget-view+json": {
       "model_id": "80fe0ab9694a4154aaefddde38c5a005",
       "version_major": 2,
       "version_minor": 0
      },
      "text/plain": [
       "Iterating time to retrieve discord messages of USDC tag:   0%|          | 0/150 [00:00<?, ?it/s]"
      ]
     },
     "metadata": {},
     "output_type": "display_data"
    },
    {
     "data": {
      "application/vnd.jupyter.widget-view+json": {
       "model_id": "990e747d522f4710ac317952e6eff595",
       "version_major": 2,
       "version_minor": 0
      },
      "text/plain": [
       "Iterating time to retrieve publications messages of USDC tag:   0%|          | 0/150 [00:00<?, ?it/s]"
      ]
     },
     "metadata": {},
     "output_type": "display_data"
    },
    {
     "data": {
      "application/vnd.jupyter.widget-view+json": {
       "model_id": "f170b486ad344109bbc3714d119ec068",
       "version_major": 2,
       "version_minor": 0
      },
      "text/plain": [
       "Iterating time to retrieve reddit messages of USDC tag:   0%|          | 0/150 [00:00<?, ?it/s]"
      ]
     },
     "metadata": {},
     "output_type": "display_data"
    },
    {
     "data": {
      "application/vnd.jupyter.widget-view+json": {
       "model_id": "330b73f1af1c44b295699e66ab14b1a0",
       "version_major": 2,
       "version_minor": 0
      },
      "text/plain": [
       "Iterating time to retrieve telegram messages of USDC tag:   0%|          | 0/150 [00:00<?, ?it/s]"
      ]
     },
     "metadata": {},
     "output_type": "display_data"
    },
    {
     "data": {
      "application/vnd.jupyter.widget-view+json": {
       "model_id": "838962585fcc4bbe9716e09318dc1442",
       "version_major": 2,
       "version_minor": 0
      },
      "text/plain": [
       "Iterating time to retrieve twitter messages of USDC tag:   0%|          | 0/150 [00:00<?, ?it/s]"
      ]
     },
     "metadata": {},
     "output_type": "display_data"
    },
    {
     "data": {
      "application/vnd.jupyter.widget-view+json": {
       "model_id": "65478f449e4948e3bcbb559e8c1d6dd8",
       "version_major": 2,
       "version_minor": 0
      },
      "text/plain": [
       "Iterating requests to meet the limit:   0%|          | 0/6 [00:00<?, ?it/s]"
      ]
     },
     "metadata": {},
     "output_type": "display_data"
    },
    {
     "data": {
      "application/vnd.jupyter.widget-view+json": {
       "model_id": "cb9b76c81e0842019b9d668b50ab957a",
       "version_major": 2,
       "version_minor": 0
      },
      "text/plain": [
       "Iterating time to retrieve discord messages of RRB tag:   0%|          | 0/86 [00:00<?, ?it/s]"
      ]
     },
     "metadata": {},
     "output_type": "display_data"
    },
    {
     "data": {
      "application/vnd.jupyter.widget-view+json": {
       "model_id": "472248774a914d849a02001dcb8ab657",
       "version_major": 2,
       "version_minor": 0
      },
      "text/plain": [
       "Iterating time to retrieve publications messages of RRB tag:   0%|          | 0/86 [00:00<?, ?it/s]"
      ]
     },
     "metadata": {},
     "output_type": "display_data"
    },
    {
     "data": {
      "application/vnd.jupyter.widget-view+json": {
       "model_id": "f29b50081170410bb5b45b21cc65b300",
       "version_major": 2,
       "version_minor": 0
      },
      "text/plain": [
       "Iterating time to retrieve reddit messages of RRB tag:   0%|          | 0/86 [00:00<?, ?it/s]"
      ]
     },
     "metadata": {},
     "output_type": "display_data"
    },
    {
     "data": {
      "application/vnd.jupyter.widget-view+json": {
       "model_id": "0cbc9101a5d14127bc6ca3cf62c100d2",
       "version_major": 2,
       "version_minor": 0
      },
      "text/plain": [
       "Iterating time to retrieve telegram messages of RRB tag:   0%|          | 0/86 [00:00<?, ?it/s]"
      ]
     },
     "metadata": {},
     "output_type": "display_data"
    },
    {
     "data": {
      "application/vnd.jupyter.widget-view+json": {
       "model_id": "86b72afd595346c9aaef88b127186d1c",
       "version_major": 2,
       "version_minor": 0
      },
      "text/plain": [
       "Iterating time to retrieve twitter messages of RRB tag:   0%|          | 0/86 [00:00<?, ?it/s]"
      ]
     },
     "metadata": {},
     "output_type": "display_data"
    },
    {
     "data": {
      "application/vnd.jupyter.widget-view+json": {
       "model_id": "55cadc8106f24f0a8c0e3d27ce17087b",
       "version_major": 2,
       "version_minor": 0
      },
      "text/plain": [
       "Iterating requests to meet the limit:   0%|          | 0/6 [00:00<?, ?it/s]"
      ]
     },
     "metadata": {},
     "output_type": "display_data"
    },
    {
     "data": {
      "application/vnd.jupyter.widget-view+json": {
       "model_id": "bdaf8c6bb6114d4da405891704f74d8b",
       "version_major": 2,
       "version_minor": 0
      },
      "text/plain": [
       "Iterating time to retrieve discord messages of FIST tag:   0%|          | 0/150 [00:00<?, ?it/s]"
      ]
     },
     "metadata": {},
     "output_type": "display_data"
    },
    {
     "data": {
      "application/vnd.jupyter.widget-view+json": {
       "model_id": "fc38b935f9bc4db1a9cef2880b8baeef",
       "version_major": 2,
       "version_minor": 0
      },
      "text/plain": [
       "Iterating time to retrieve publications messages of FIST tag:   0%|          | 0/150 [00:00<?, ?it/s]"
      ]
     },
     "metadata": {},
     "output_type": "display_data"
    },
    {
     "data": {
      "application/vnd.jupyter.widget-view+json": {
       "model_id": "f54d3793587f452393b32e16ec4e1951",
       "version_major": 2,
       "version_minor": 0
      },
      "text/plain": [
       "Iterating time to retrieve reddit messages of FIST tag:   0%|          | 0/150 [00:00<?, ?it/s]"
      ]
     },
     "metadata": {},
     "output_type": "display_data"
    },
    {
     "data": {
      "application/vnd.jupyter.widget-view+json": {
       "model_id": "ea65b107fcad43d7ab564208d2a28cbb",
       "version_major": 2,
       "version_minor": 0
      },
      "text/plain": [
       "Iterating time to retrieve telegram messages of FIST tag:   0%|          | 0/150 [00:00<?, ?it/s]"
      ]
     },
     "metadata": {},
     "output_type": "display_data"
    },
    {
     "data": {
      "application/vnd.jupyter.widget-view+json": {
       "model_id": "ece95c0859a649c4b487ca67d375097a",
       "version_major": 2,
       "version_minor": 0
      },
      "text/plain": [
       "Iterating time to retrieve twitter messages of FIST tag:   0%|          | 0/150 [00:00<?, ?it/s]"
      ]
     },
     "metadata": {},
     "output_type": "display_data"
    },
    {
     "data": {
      "application/vnd.jupyter.widget-view+json": {
       "model_id": "7cc0909507694d7b8839e8efcb8c843c",
       "version_major": 2,
       "version_minor": 0
      },
      "text/plain": [
       "Iterating requests to meet the limit:   0%|          | 0/6 [00:00<?, ?it/s]"
      ]
     },
     "metadata": {},
     "output_type": "display_data"
    },
    {
     "data": {
      "application/vnd.jupyter.widget-view+json": {
       "model_id": "abaebfa84a5e42aa9daf6aa5a4e91889",
       "version_major": 2,
       "version_minor": 0
      },
      "text/plain": [
       "Iterating time to retrieve discord messages of OSK tag:   0%|          | 0/61 [00:00<?, ?it/s]"
      ]
     },
     "metadata": {},
     "output_type": "display_data"
    },
    {
     "data": {
      "application/vnd.jupyter.widget-view+json": {
       "model_id": "34689b2033474165bbf769bd66387be2",
       "version_major": 2,
       "version_minor": 0
      },
      "text/plain": [
       "Iterating time to retrieve publications messages of OSK tag:   0%|          | 0/61 [00:00<?, ?it/s]"
      ]
     },
     "metadata": {},
     "output_type": "display_data"
    },
    {
     "data": {
      "application/vnd.jupyter.widget-view+json": {
       "model_id": "02e8ab5a4be943b593ea1975b562fd6b",
       "version_major": 2,
       "version_minor": 0
      },
      "text/plain": [
       "Iterating time to retrieve reddit messages of OSK tag:   0%|          | 0/61 [00:00<?, ?it/s]"
      ]
     },
     "metadata": {},
     "output_type": "display_data"
    },
    {
     "data": {
      "application/vnd.jupyter.widget-view+json": {
       "model_id": "ef9cc2fe18d9468495564f30ee8d565f",
       "version_major": 2,
       "version_minor": 0
      },
      "text/plain": [
       "Iterating time to retrieve telegram messages of OSK tag:   0%|          | 0/61 [00:00<?, ?it/s]"
      ]
     },
     "metadata": {},
     "output_type": "display_data"
    },
    {
     "data": {
      "application/vnd.jupyter.widget-view+json": {
       "model_id": "e12773c19eb84a4789bd89068fb73e72",
       "version_major": 2,
       "version_minor": 0
      },
      "text/plain": [
       "Iterating time to retrieve twitter messages of OSK tag:   0%|          | 0/61 [00:00<?, ?it/s]"
      ]
     },
     "metadata": {},
     "output_type": "display_data"
    },
    {
     "data": {
      "application/vnd.jupyter.widget-view+json": {
       "model_id": "f6ef90e51ef74fcb9a16a0ecedf6cfd8",
       "version_major": 2,
       "version_minor": 0
      },
      "text/plain": [
       "Iterating requests to meet the limit:   0%|          | 0/6 [00:00<?, ?it/s]"
      ]
     },
     "metadata": {},
     "output_type": "display_data"
    },
    {
     "name": "stdout",
     "output_type": "stream",
     "text": [
      "No price data for OverHtmoon symbol (0x25e11B72a39224dE5b03eDbb4a1E5F982A08aADd).\n"
     ]
    },
    {
     "data": {
      "application/vnd.jupyter.widget-view+json": {
       "model_id": "09802f72794f400ba2f573c1d0f719f5",
       "version_major": 2,
       "version_minor": 0
      },
      "text/plain": [
       "Iterating requests to meet the limit:   0%|          | 0/6 [00:00<?, ?it/s]"
      ]
     },
     "metadata": {},
     "output_type": "display_data"
    },
    {
     "data": {
      "application/vnd.jupyter.widget-view+json": {
       "model_id": "f763d27916704bd9ace30945e551c497",
       "version_major": 2,
       "version_minor": 0
      },
      "text/plain": [
       "Iterating time to retrieve discord messages of ETH tag:   0%|          | 0/150 [00:00<?, ?it/s]"
      ]
     },
     "metadata": {},
     "output_type": "display_data"
    },
    {
     "data": {
      "application/vnd.jupyter.widget-view+json": {
       "model_id": "911a5379f06a4f549ac61807d3f3df21",
       "version_major": 2,
       "version_minor": 0
      },
      "text/plain": [
       "Iterating time to retrieve publications messages of ETH tag:   0%|          | 0/150 [00:00<?, ?it/s]"
      ]
     },
     "metadata": {},
     "output_type": "display_data"
    },
    {
     "data": {
      "application/vnd.jupyter.widget-view+json": {
       "model_id": "b384e3ff17fb44318451e26efb7da875",
       "version_major": 2,
       "version_minor": 0
      },
      "text/plain": [
       "Iterating time to retrieve reddit messages of ETH tag:   0%|          | 0/150 [00:00<?, ?it/s]"
      ]
     },
     "metadata": {},
     "output_type": "display_data"
    },
    {
     "data": {
      "application/vnd.jupyter.widget-view+json": {
       "model_id": "ac055ebfaeb44cc8b132fc1af6091176",
       "version_major": 2,
       "version_minor": 0
      },
      "text/plain": [
       "Iterating time to retrieve telegram messages of ETH tag:   0%|          | 0/150 [00:00<?, ?it/s]"
      ]
     },
     "metadata": {},
     "output_type": "display_data"
    },
    {
     "data": {
      "application/vnd.jupyter.widget-view+json": {
       "model_id": "447642c4a3a948948a488cb4cc819a90",
       "version_major": 2,
       "version_minor": 0
      },
      "text/plain": [
       "Iterating time to retrieve twitter messages of ETH tag:   0%|          | 0/150 [00:00<?, ?it/s]"
      ]
     },
     "metadata": {},
     "output_type": "display_data"
    },
    {
     "data": {
      "application/vnd.jupyter.widget-view+json": {
       "model_id": "cda03b6879914ecebe107acd5b7573fb",
       "version_major": 2,
       "version_minor": 0
      },
      "text/plain": [
       "Iterating requests to meet the limit:   0%|          | 0/6 [00:00<?, ?it/s]"
      ]
     },
     "metadata": {},
     "output_type": "display_data"
    },
    {
     "name": "stdout",
     "output_type": "stream",
     "text": [
      "No price data for wdog symbol (0x1912D58e97aeE85B19803509F87e6fd6Fc2C0b3A).\n"
     ]
    },
    {
     "data": {
      "application/vnd.jupyter.widget-view+json": {
       "model_id": "62c3e4f95b6a450cbf4b79d179168f0c",
       "version_major": 2,
       "version_minor": 0
      },
      "text/plain": [
       "Iterating requests to meet the limit:   0%|          | 0/6 [00:00<?, ?it/s]"
      ]
     },
     "metadata": {},
     "output_type": "display_data"
    },
    {
     "data": {
      "application/vnd.jupyter.widget-view+json": {
       "model_id": "dca6bf46beaf4ba2a5e8cda3a7571f84",
       "version_major": 2,
       "version_minor": 0
      },
      "text/plain": [
       "Iterating time to retrieve discord messages of CRUSH tag:   0%|          | 0/12 [00:00<?, ?it/s]"
      ]
     },
     "metadata": {},
     "output_type": "display_data"
    },
    {
     "data": {
      "application/vnd.jupyter.widget-view+json": {
       "model_id": "6c2bc0f46b524c5ba95cebc167e8d3d3",
       "version_major": 2,
       "version_minor": 0
      },
      "text/plain": [
       "Iterating time to retrieve publications messages of CRUSH tag:   0%|          | 0/12 [00:00<?, ?it/s]"
      ]
     },
     "metadata": {},
     "output_type": "display_data"
    },
    {
     "data": {
      "application/vnd.jupyter.widget-view+json": {
       "model_id": "fabd6e6217764b7f8a01568b0af50b7a",
       "version_major": 2,
       "version_minor": 0
      },
      "text/plain": [
       "Iterating time to retrieve reddit messages of CRUSH tag:   0%|          | 0/12 [00:00<?, ?it/s]"
      ]
     },
     "metadata": {},
     "output_type": "display_data"
    },
    {
     "data": {
      "application/vnd.jupyter.widget-view+json": {
       "model_id": "bbee3ea17b344c37bca05426629a40fa",
       "version_major": 2,
       "version_minor": 0
      },
      "text/plain": [
       "Iterating time to retrieve telegram messages of CRUSH tag:   0%|          | 0/12 [00:00<?, ?it/s]"
      ]
     },
     "metadata": {},
     "output_type": "display_data"
    },
    {
     "data": {
      "application/vnd.jupyter.widget-view+json": {
       "model_id": "f264cbfe356b4bad87143c7245632190",
       "version_major": 2,
       "version_minor": 0
      },
      "text/plain": [
       "Iterating time to retrieve twitter messages of CRUSH tag:   0%|          | 0/12 [00:00<?, ?it/s]"
      ]
     },
     "metadata": {},
     "output_type": "display_data"
    },
    {
     "data": {
      "application/vnd.jupyter.widget-view+json": {
       "model_id": "d39ca859489a43dda2f37f2a60230b1d",
       "version_major": 2,
       "version_minor": 0
      },
      "text/plain": [
       "Iterating requests to meet the limit:   0%|          | 0/6 [00:00<?, ?it/s]"
      ]
     },
     "metadata": {},
     "output_type": "display_data"
    },
    {
     "name": "stdout",
     "output_type": "stream",
     "text": [
      "No price data for USDT symbol (0xeCbfC582F333346D8E9B0a7d344244104F5FF4d8).\n"
     ]
    },
    {
     "data": {
      "application/vnd.jupyter.widget-view+json": {
       "model_id": "bb8a0fa9580a424d885752d1f5d1ca8c",
       "version_major": 2,
       "version_minor": 0
      },
      "text/plain": [
       "Iterating requests to meet the limit:   0%|          | 0/6 [00:00<?, ?it/s]"
      ]
     },
     "metadata": {},
     "output_type": "display_data"
    },
    {
     "data": {
      "application/vnd.jupyter.widget-view+json": {
       "model_id": "f21be5ceaae747d68b998b417acb8a26",
       "version_major": 2,
       "version_minor": 0
      },
      "text/plain": [
       "Iterating time to retrieve discord messages of Tesla tag:   0%|          | 0/2 [00:00<?, ?it/s]"
      ]
     },
     "metadata": {},
     "output_type": "display_data"
    },
    {
     "data": {
      "application/vnd.jupyter.widget-view+json": {
       "model_id": "7ce26c280d66413da15247f43285f03c",
       "version_major": 2,
       "version_minor": 0
      },
      "text/plain": [
       "Iterating time to retrieve publications messages of Tesla tag:   0%|          | 0/2 [00:00<?, ?it/s]"
      ]
     },
     "metadata": {},
     "output_type": "display_data"
    },
    {
     "data": {
      "application/vnd.jupyter.widget-view+json": {
       "model_id": "286e83a74a384cbda490902c784117e8",
       "version_major": 2,
       "version_minor": 0
      },
      "text/plain": [
       "Iterating time to retrieve reddit messages of Tesla tag:   0%|          | 0/2 [00:00<?, ?it/s]"
      ]
     },
     "metadata": {},
     "output_type": "display_data"
    },
    {
     "data": {
      "application/vnd.jupyter.widget-view+json": {
       "model_id": "0ce4413686a24294882c68673eb76520",
       "version_major": 2,
       "version_minor": 0
      },
      "text/plain": [
       "Iterating time to retrieve telegram messages of Tesla tag:   0%|          | 0/2 [00:00<?, ?it/s]"
      ]
     },
     "metadata": {},
     "output_type": "display_data"
    },
    {
     "data": {
      "application/vnd.jupyter.widget-view+json": {
       "model_id": "17556bc555d24d1885d888bf7b188681",
       "version_major": 2,
       "version_minor": 0
      },
      "text/plain": [
       "Iterating time to retrieve twitter messages of Tesla tag:   0%|          | 0/2 [00:00<?, ?it/s]"
      ]
     },
     "metadata": {},
     "output_type": "display_data"
    },
    {
     "data": {
      "application/vnd.jupyter.widget-view+json": {
       "model_id": "c607a56fc05649f18429d2d574574697",
       "version_major": 2,
       "version_minor": 0
      },
      "text/plain": [
       "Iterating requests to meet the limit:   0%|          | 0/6 [00:00<?, ?it/s]"
      ]
     },
     "metadata": {},
     "output_type": "display_data"
    },
    {
     "name": "stdout",
     "output_type": "stream",
     "text": [
      "No price data for BNB symbol (0x64a3ccB40ffC6103eeBF20749c2243386387d863).\n"
     ]
    },
    {
     "data": {
      "application/vnd.jupyter.widget-view+json": {
       "model_id": "37cef4e1857540b7b4e3cc03606875b7",
       "version_major": 2,
       "version_minor": 0
      },
      "text/plain": [
       "Iterating requests to meet the limit:   0%|          | 0/6 [00:00<?, ?it/s]"
      ]
     },
     "metadata": {},
     "output_type": "display_data"
    },
    {
     "data": {
      "application/vnd.jupyter.widget-view+json": {
       "model_id": "7d7070e64b1b450bb5e2a870980946ef",
       "version_major": 2,
       "version_minor": 0
      },
      "text/plain": [
       "Iterating time to retrieve discord messages of FON tag:   0%|          | 0/9 [00:00<?, ?it/s]"
      ]
     },
     "metadata": {},
     "output_type": "display_data"
    },
    {
     "data": {
      "application/vnd.jupyter.widget-view+json": {
       "model_id": "107188567ffd4bc8a4a905a859e0b9b4",
       "version_major": 2,
       "version_minor": 0
      },
      "text/plain": [
       "Iterating time to retrieve publications messages of FON tag:   0%|          | 0/9 [00:00<?, ?it/s]"
      ]
     },
     "metadata": {},
     "output_type": "display_data"
    },
    {
     "data": {
      "application/vnd.jupyter.widget-view+json": {
       "model_id": "587a4eb8897e41c4b58f0a4bbfd1a7a8",
       "version_major": 2,
       "version_minor": 0
      },
      "text/plain": [
       "Iterating time to retrieve reddit messages of FON tag:   0%|          | 0/9 [00:00<?, ?it/s]"
      ]
     },
     "metadata": {},
     "output_type": "display_data"
    },
    {
     "data": {
      "application/vnd.jupyter.widget-view+json": {
       "model_id": "5e94be9ca9754f91af68f40f95746d9f",
       "version_major": 2,
       "version_minor": 0
      },
      "text/plain": [
       "Iterating time to retrieve telegram messages of FON tag:   0%|          | 0/9 [00:00<?, ?it/s]"
      ]
     },
     "metadata": {},
     "output_type": "display_data"
    },
    {
     "data": {
      "application/vnd.jupyter.widget-view+json": {
       "model_id": "246b79551bea4811981955d919474def",
       "version_major": 2,
       "version_minor": 0
      },
      "text/plain": [
       "Iterating time to retrieve twitter messages of FON tag:   0%|          | 0/9 [00:00<?, ?it/s]"
      ]
     },
     "metadata": {},
     "output_type": "display_data"
    },
    {
     "data": {
      "application/vnd.jupyter.widget-view+json": {
       "model_id": "ab14ee58a1a946f7bcb769d4b49a9be3",
       "version_major": 2,
       "version_minor": 0
      },
      "text/plain": [
       "Iterating requests to meet the limit:   0%|          | 0/6 [00:00<?, ?it/s]"
      ]
     },
     "metadata": {},
     "output_type": "display_data"
    },
    {
     "data": {
      "application/vnd.jupyter.widget-view+json": {
       "model_id": "b79c879167a74f53a167147195c30853",
       "version_major": 2,
       "version_minor": 0
      },
      "text/plain": [
       "Iterating time to retrieve discord messages of OSK-DAO tag:   0%|          | 0/7 [00:00<?, ?it/s]"
      ]
     },
     "metadata": {},
     "output_type": "display_data"
    },
    {
     "data": {
      "application/vnd.jupyter.widget-view+json": {
       "model_id": "5d2b63de45c24a25ab4550b8be0aef0b",
       "version_major": 2,
       "version_minor": 0
      },
      "text/plain": [
       "Iterating time to retrieve publications messages of OSK-DAO tag:   0%|          | 0/7 [00:00<?, ?it/s]"
      ]
     },
     "metadata": {},
     "output_type": "display_data"
    },
    {
     "data": {
      "application/vnd.jupyter.widget-view+json": {
       "model_id": "d3211f58914c4543adc676faf09b95e9",
       "version_major": 2,
       "version_minor": 0
      },
      "text/plain": [
       "Iterating time to retrieve reddit messages of OSK-DAO tag:   0%|          | 0/7 [00:00<?, ?it/s]"
      ]
     },
     "metadata": {},
     "output_type": "display_data"
    },
    {
     "data": {
      "application/vnd.jupyter.widget-view+json": {
       "model_id": "70a090224db146ce9e355a856074a119",
       "version_major": 2,
       "version_minor": 0
      },
      "text/plain": [
       "Iterating time to retrieve telegram messages of OSK-DAO tag:   0%|          | 0/7 [00:00<?, ?it/s]"
      ]
     },
     "metadata": {},
     "output_type": "display_data"
    },
    {
     "data": {
      "application/vnd.jupyter.widget-view+json": {
       "model_id": "e63cdedfec79440f9a1905103fedfedf",
       "version_major": 2,
       "version_minor": 0
      },
      "text/plain": [
       "Iterating time to retrieve twitter messages of OSK-DAO tag:   0%|          | 0/7 [00:00<?, ?it/s]"
      ]
     },
     "metadata": {},
     "output_type": "display_data"
    },
    {
     "data": {
      "application/vnd.jupyter.widget-view+json": {
       "model_id": "88b1d4ac256748018010aa000e839af4",
       "version_major": 2,
       "version_minor": 0
      },
      "text/plain": [
       "Iterating requests to meet the limit:   0%|          | 0/6 [00:00<?, ?it/s]"
      ]
     },
     "metadata": {},
     "output_type": "display_data"
    },
    {
     "data": {
      "application/vnd.jupyter.widget-view+json": {
       "model_id": "8d0c75e77e894fb9861f0d90a07b86ee",
       "version_major": 2,
       "version_minor": 0
      },
      "text/plain": [
       "Iterating time to retrieve discord messages of VALK tag:   0%|          | 0/150 [00:00<?, ?it/s]"
      ]
     },
     "metadata": {},
     "output_type": "display_data"
    },
    {
     "data": {
      "application/vnd.jupyter.widget-view+json": {
       "model_id": "5156b3f678f14afbb7f9067dfe27e234",
       "version_major": 2,
       "version_minor": 0
      },
      "text/plain": [
       "Iterating time to retrieve publications messages of VALK tag:   0%|          | 0/150 [00:00<?, ?it/s]"
      ]
     },
     "metadata": {},
     "output_type": "display_data"
    },
    {
     "data": {
      "application/vnd.jupyter.widget-view+json": {
       "model_id": "7b8bc8b1429c4a55b4212ecff036ed65",
       "version_major": 2,
       "version_minor": 0
      },
      "text/plain": [
       "Iterating time to retrieve reddit messages of VALK tag:   0%|          | 0/150 [00:00<?, ?it/s]"
      ]
     },
     "metadata": {},
     "output_type": "display_data"
    },
    {
     "data": {
      "application/vnd.jupyter.widget-view+json": {
       "model_id": "68131ef5b0854631ad41484ebce61599",
       "version_major": 2,
       "version_minor": 0
      },
      "text/plain": [
       "Iterating time to retrieve telegram messages of VALK tag:   0%|          | 0/150 [00:00<?, ?it/s]"
      ]
     },
     "metadata": {},
     "output_type": "display_data"
    },
    {
     "data": {
      "application/vnd.jupyter.widget-view+json": {
       "model_id": "8e091e9b926b4a69818a3c147977f79b",
       "version_major": 2,
       "version_minor": 0
      },
      "text/plain": [
       "Iterating time to retrieve twitter messages of VALK tag:   0%|          | 0/150 [00:00<?, ?it/s]"
      ]
     },
     "metadata": {},
     "output_type": "display_data"
    },
    {
     "data": {
      "application/vnd.jupyter.widget-view+json": {
       "model_id": "3a44b4bc975d4a739309e895d37c7b22",
       "version_major": 2,
       "version_minor": 0
      },
      "text/plain": [
       "Iterating requests to meet the limit:   0%|          | 0/6 [00:00<?, ?it/s]"
      ]
     },
     "metadata": {},
     "output_type": "display_data"
    },
    {
     "data": {
      "application/vnd.jupyter.widget-view+json": {
       "model_id": "3a197a1c26664cd1b655feefc3047306",
       "version_major": 2,
       "version_minor": 0
      },
      "text/plain": [
       "Iterating time to retrieve discord messages of DOGS tag:   0%|          | 0/35 [00:00<?, ?it/s]"
      ]
     },
     "metadata": {},
     "output_type": "display_data"
    },
    {
     "data": {
      "application/vnd.jupyter.widget-view+json": {
       "model_id": "a6c50670fdc14fe9a5cb85e4ffd43165",
       "version_major": 2,
       "version_minor": 0
      },
      "text/plain": [
       "Iterating time to retrieve publications messages of DOGS tag:   0%|          | 0/35 [00:00<?, ?it/s]"
      ]
     },
     "metadata": {},
     "output_type": "display_data"
    },
    {
     "data": {
      "application/vnd.jupyter.widget-view+json": {
       "model_id": "a42a0a2493b043e095c232eba5d059a9",
       "version_major": 2,
       "version_minor": 0
      },
      "text/plain": [
       "Iterating time to retrieve reddit messages of DOGS tag:   0%|          | 0/35 [00:00<?, ?it/s]"
      ]
     },
     "metadata": {},
     "output_type": "display_data"
    },
    {
     "data": {
      "application/vnd.jupyter.widget-view+json": {
       "model_id": "6ccc0746d3154cd08d034741d8102d02",
       "version_major": 2,
       "version_minor": 0
      },
      "text/plain": [
       "Iterating time to retrieve telegram messages of DOGS tag:   0%|          | 0/35 [00:00<?, ?it/s]"
      ]
     },
     "metadata": {},
     "output_type": "display_data"
    },
    {
     "data": {
      "application/vnd.jupyter.widget-view+json": {
       "model_id": "6c4f3dac82294abbb9526132079961ed",
       "version_major": 2,
       "version_minor": 0
      },
      "text/plain": [
       "Iterating time to retrieve twitter messages of DOGS tag:   0%|          | 0/35 [00:00<?, ?it/s]"
      ]
     },
     "metadata": {},
     "output_type": "display_data"
    },
    {
     "data": {
      "application/vnd.jupyter.widget-view+json": {
       "model_id": "b989d27a220842868a3268eec7202b90",
       "version_major": 2,
       "version_minor": 0
      },
      "text/plain": [
       "Iterating requests to meet the limit:   0%|          | 0/6 [00:00<?, ?it/s]"
      ]
     },
     "metadata": {},
     "output_type": "display_data"
    },
    {
     "data": {
      "application/vnd.jupyter.widget-view+json": {
       "model_id": "0efbdc93b2934f469c3ff39710203253",
       "version_major": 2,
       "version_minor": 0
      },
      "text/plain": [
       "Iterating time to retrieve discord messages of MGT tag:   0%|          | 0/2 [00:00<?, ?it/s]"
      ]
     },
     "metadata": {},
     "output_type": "display_data"
    },
    {
     "data": {
      "application/vnd.jupyter.widget-view+json": {
       "model_id": "0e3ca84d8ef045e3b8c0e685b0f693c6",
       "version_major": 2,
       "version_minor": 0
      },
      "text/plain": [
       "Iterating time to retrieve publications messages of MGT tag:   0%|          | 0/2 [00:00<?, ?it/s]"
      ]
     },
     "metadata": {},
     "output_type": "display_data"
    },
    {
     "data": {
      "application/vnd.jupyter.widget-view+json": {
       "model_id": "9d2ac354247f41b493d98959d04ed86c",
       "version_major": 2,
       "version_minor": 0
      },
      "text/plain": [
       "Iterating time to retrieve reddit messages of MGT tag:   0%|          | 0/2 [00:00<?, ?it/s]"
      ]
     },
     "metadata": {},
     "output_type": "display_data"
    },
    {
     "data": {
      "application/vnd.jupyter.widget-view+json": {
       "model_id": "f1f81354b52a49b6a61ff5b55ebd084f",
       "version_major": 2,
       "version_minor": 0
      },
      "text/plain": [
       "Iterating time to retrieve telegram messages of MGT tag:   0%|          | 0/2 [00:00<?, ?it/s]"
      ]
     },
     "metadata": {},
     "output_type": "display_data"
    },
    {
     "data": {
      "application/vnd.jupyter.widget-view+json": {
       "model_id": "0b36f0f89c684eef98be0d7dd53e65e1",
       "version_major": 2,
       "version_minor": 0
      },
      "text/plain": [
       "Iterating time to retrieve twitter messages of MGT tag:   0%|          | 0/2 [00:00<?, ?it/s]"
      ]
     },
     "metadata": {},
     "output_type": "display_data"
    },
    {
     "data": {
      "application/vnd.jupyter.widget-view+json": {
       "model_id": "95b9c0b2660b4027beb4907dbbacd285",
       "version_major": 2,
       "version_minor": 0
      },
      "text/plain": [
       "Iterating requests to meet the limit:   0%|          | 0/6 [00:00<?, ?it/s]"
      ]
     },
     "metadata": {},
     "output_type": "display_data"
    },
    {
     "data": {
      "application/vnd.jupyter.widget-view+json": {
       "model_id": "d1459ca597a04048a6a21739f82d3244",
       "version_major": 2,
       "version_minor": 0
      },
      "text/plain": [
       "Iterating time to retrieve discord messages of TUSD tag:   0%|          | 0/149 [00:00<?, ?it/s]"
      ]
     },
     "metadata": {},
     "output_type": "display_data"
    },
    {
     "data": {
      "application/vnd.jupyter.widget-view+json": {
       "model_id": "e3fa2b1e510f47ac800353b001fd34c2",
       "version_major": 2,
       "version_minor": 0
      },
      "text/plain": [
       "Iterating time to retrieve publications messages of TUSD tag:   0%|          | 0/149 [00:00<?, ?it/s]"
      ]
     },
     "metadata": {},
     "output_type": "display_data"
    },
    {
     "data": {
      "application/vnd.jupyter.widget-view+json": {
       "model_id": "14523c2dc9bd4356b5c95a133c14d0ff",
       "version_major": 2,
       "version_minor": 0
      },
      "text/plain": [
       "Iterating time to retrieve reddit messages of TUSD tag:   0%|          | 0/149 [00:00<?, ?it/s]"
      ]
     },
     "metadata": {},
     "output_type": "display_data"
    },
    {
     "data": {
      "application/vnd.jupyter.widget-view+json": {
       "model_id": "ee05854059084aa9940c0ccb5bec7be9",
       "version_major": 2,
       "version_minor": 0
      },
      "text/plain": [
       "Iterating time to retrieve telegram messages of TUSD tag:   0%|          | 0/149 [00:00<?, ?it/s]"
      ]
     },
     "metadata": {},
     "output_type": "display_data"
    },
    {
     "data": {
      "application/vnd.jupyter.widget-view+json": {
       "model_id": "cc26b78ea3bc40f7b14c25d63b38e862",
       "version_major": 2,
       "version_minor": 0
      },
      "text/plain": [
       "Iterating time to retrieve twitter messages of TUSD tag:   0%|          | 0/149 [00:00<?, ?it/s]"
      ]
     },
     "metadata": {},
     "output_type": "display_data"
    },
    {
     "data": {
      "application/vnd.jupyter.widget-view+json": {
       "model_id": "9096f7361c63439f8ae99ccfe00059ea",
       "version_major": 2,
       "version_minor": 0
      },
      "text/plain": [
       "Iterating requests to meet the limit:   0%|          | 0/6 [00:00<?, ?it/s]"
      ]
     },
     "metadata": {},
     "output_type": "display_data"
    },
    {
     "data": {
      "application/vnd.jupyter.widget-view+json": {
       "model_id": "51d0fac26975488eaeb38131f891a83c",
       "version_major": 2,
       "version_minor": 0
      },
      "text/plain": [
       "Iterating time to retrieve discord messages of FGD tag:   0%|          | 0/54 [00:00<?, ?it/s]"
      ]
     },
     "metadata": {},
     "output_type": "display_data"
    },
    {
     "data": {
      "application/vnd.jupyter.widget-view+json": {
       "model_id": "a45e0ab5263b4fce904a3f52225ae9b5",
       "version_major": 2,
       "version_minor": 0
      },
      "text/plain": [
       "Iterating time to retrieve publications messages of FGD tag:   0%|          | 0/54 [00:00<?, ?it/s]"
      ]
     },
     "metadata": {},
     "output_type": "display_data"
    },
    {
     "data": {
      "application/vnd.jupyter.widget-view+json": {
       "model_id": "dccfe14d4f51439386070781509afe25",
       "version_major": 2,
       "version_minor": 0
      },
      "text/plain": [
       "Iterating time to retrieve reddit messages of FGD tag:   0%|          | 0/54 [00:00<?, ?it/s]"
      ]
     },
     "metadata": {},
     "output_type": "display_data"
    },
    {
     "data": {
      "application/vnd.jupyter.widget-view+json": {
       "model_id": "51c831b572a4457cbd4df13fd1493eae",
       "version_major": 2,
       "version_minor": 0
      },
      "text/plain": [
       "Iterating time to retrieve telegram messages of FGD tag:   0%|          | 0/54 [00:00<?, ?it/s]"
      ]
     },
     "metadata": {},
     "output_type": "display_data"
    },
    {
     "data": {
      "application/vnd.jupyter.widget-view+json": {
       "model_id": "83bb5262df194cd3902459b07da5f43c",
       "version_major": 2,
       "version_minor": 0
      },
      "text/plain": [
       "Iterating time to retrieve twitter messages of FGD tag:   0%|          | 0/54 [00:00<?, ?it/s]"
      ]
     },
     "metadata": {},
     "output_type": "display_data"
    },
    {
     "data": {
      "application/vnd.jupyter.widget-view+json": {
       "model_id": "3a0a4e9ce05e4ef0a62b66f1290bd3ca",
       "version_major": 2,
       "version_minor": 0
      },
      "text/plain": [
       "Iterating requests to meet the limit:   0%|          | 0/6 [00:00<?, ?it/s]"
      ]
     },
     "metadata": {},
     "output_type": "display_data"
    },
    {
     "data": {
      "application/vnd.jupyter.widget-view+json": {
       "model_id": "eca9f05e4aa347f894a5d121eeb9105c",
       "version_major": 2,
       "version_minor": 0
      },
      "text/plain": [
       "Iterating time to retrieve discord messages of QSQ tag:   0%|          | 0/5 [00:00<?, ?it/s]"
      ]
     },
     "metadata": {},
     "output_type": "display_data"
    },
    {
     "data": {
      "application/vnd.jupyter.widget-view+json": {
       "model_id": "91b766ce687447189ef3e472b9f63fd1",
       "version_major": 2,
       "version_minor": 0
      },
      "text/plain": [
       "Iterating time to retrieve publications messages of QSQ tag:   0%|          | 0/5 [00:00<?, ?it/s]"
      ]
     },
     "metadata": {},
     "output_type": "display_data"
    },
    {
     "data": {
      "application/vnd.jupyter.widget-view+json": {
       "model_id": "4621cf56921f474c841c24bc36d7a557",
       "version_major": 2,
       "version_minor": 0
      },
      "text/plain": [
       "Iterating time to retrieve reddit messages of QSQ tag:   0%|          | 0/5 [00:00<?, ?it/s]"
      ]
     },
     "metadata": {},
     "output_type": "display_data"
    },
    {
     "data": {
      "application/vnd.jupyter.widget-view+json": {
       "model_id": "ddd1118905e744bdb782bb4373242788",
       "version_major": 2,
       "version_minor": 0
      },
      "text/plain": [
       "Iterating time to retrieve telegram messages of QSQ tag:   0%|          | 0/5 [00:00<?, ?it/s]"
      ]
     },
     "metadata": {},
     "output_type": "display_data"
    },
    {
     "data": {
      "application/vnd.jupyter.widget-view+json": {
       "model_id": "9fbde1966eca4f47a1f7bd251fdfc9a2",
       "version_major": 2,
       "version_minor": 0
      },
      "text/plain": [
       "Iterating time to retrieve twitter messages of QSQ tag:   0%|          | 0/5 [00:00<?, ?it/s]"
      ]
     },
     "metadata": {},
     "output_type": "display_data"
    },
    {
     "data": {
      "application/vnd.jupyter.widget-view+json": {
       "model_id": "99d0e561000448b080565e9cf9903525",
       "version_major": 2,
       "version_minor": 0
      },
      "text/plain": [
       "Iterating requests to meet the limit:   0%|          | 0/6 [00:00<?, ?it/s]"
      ]
     },
     "metadata": {},
     "output_type": "display_data"
    },
    {
     "data": {
      "application/vnd.jupyter.widget-view+json": {
       "model_id": "c4aaecb7f83a49c7b162e6d28a5ea5b6",
       "version_major": 2,
       "version_minor": 0
      },
      "text/plain": [
       "Iterating time to retrieve discord messages of BNX tag:   0%|          | 0/150 [00:00<?, ?it/s]"
      ]
     },
     "metadata": {},
     "output_type": "display_data"
    },
    {
     "data": {
      "application/vnd.jupyter.widget-view+json": {
       "model_id": "9170bbab30f64146b3c48c5efa52eabc",
       "version_major": 2,
       "version_minor": 0
      },
      "text/plain": [
       "Iterating time to retrieve publications messages of BNX tag:   0%|          | 0/150 [00:00<?, ?it/s]"
      ]
     },
     "metadata": {},
     "output_type": "display_data"
    },
    {
     "data": {
      "application/vnd.jupyter.widget-view+json": {
       "model_id": "914e59bb53ca466ca963962338879915",
       "version_major": 2,
       "version_minor": 0
      },
      "text/plain": [
       "Iterating time to retrieve reddit messages of BNX tag:   0%|          | 0/150 [00:00<?, ?it/s]"
      ]
     },
     "metadata": {},
     "output_type": "display_data"
    },
    {
     "data": {
      "application/vnd.jupyter.widget-view+json": {
       "model_id": "dc7155202cf94586833367accbaa417a",
       "version_major": 2,
       "version_minor": 0
      },
      "text/plain": [
       "Iterating time to retrieve telegram messages of BNX tag:   0%|          | 0/150 [00:00<?, ?it/s]"
      ]
     },
     "metadata": {},
     "output_type": "display_data"
    },
    {
     "data": {
      "application/vnd.jupyter.widget-view+json": {
       "model_id": "3715d9554f6b414da1603dd7ade8402d",
       "version_major": 2,
       "version_minor": 0
      },
      "text/plain": [
       "Iterating time to retrieve twitter messages of BNX tag:   0%|          | 0/150 [00:00<?, ?it/s]"
      ]
     },
     "metadata": {},
     "output_type": "display_data"
    },
    {
     "data": {
      "application/vnd.jupyter.widget-view+json": {
       "model_id": "a4106c805e7644b6a7fa0a1b7524acc1",
       "version_major": 2,
       "version_minor": 0
      },
      "text/plain": [
       "Iterating requests to meet the limit:   0%|          | 0/6 [00:00<?, ?it/s]"
      ]
     },
     "metadata": {},
     "output_type": "display_data"
    },
    {
     "data": {
      "application/vnd.jupyter.widget-view+json": {
       "model_id": "faf753581ea045359c90ef175dbfd9aa",
       "version_major": 2,
       "version_minor": 0
      },
      "text/plain": [
       "Iterating time to retrieve discord messages of ELEPHANT tag:   0%|          | 0/150 [00:00<?, ?it/s]"
      ]
     },
     "metadata": {},
     "output_type": "display_data"
    },
    {
     "data": {
      "application/vnd.jupyter.widget-view+json": {
       "model_id": "9a419c9fb00743729baf5f036a29e4a2",
       "version_major": 2,
       "version_minor": 0
      },
      "text/plain": [
       "Iterating time to retrieve publications messages of ELEPHANT tag:   0%|          | 0/150 [00:00<?, ?it/s]"
      ]
     },
     "metadata": {},
     "output_type": "display_data"
    },
    {
     "data": {
      "application/vnd.jupyter.widget-view+json": {
       "model_id": "9c703c42327e46459a432e5eaa0d1598",
       "version_major": 2,
       "version_minor": 0
      },
      "text/plain": [
       "Iterating time to retrieve reddit messages of ELEPHANT tag:   0%|          | 0/150 [00:00<?, ?it/s]"
      ]
     },
     "metadata": {},
     "output_type": "display_data"
    },
    {
     "data": {
      "application/vnd.jupyter.widget-view+json": {
       "model_id": "3386dab4b91f48a38eb7234e4c56b154",
       "version_major": 2,
       "version_minor": 0
      },
      "text/plain": [
       "Iterating time to retrieve telegram messages of ELEPHANT tag:   0%|          | 0/150 [00:00<?, ?it/s]"
      ]
     },
     "metadata": {},
     "output_type": "display_data"
    },
    {
     "data": {
      "application/vnd.jupyter.widget-view+json": {
       "model_id": "5f2117d494334c0691f134381593cca7",
       "version_major": 2,
       "version_minor": 0
      },
      "text/plain": [
       "Iterating time to retrieve twitter messages of ELEPHANT tag:   0%|          | 0/150 [00:00<?, ?it/s]"
      ]
     },
     "metadata": {},
     "output_type": "display_data"
    },
    {
     "data": {
      "application/vnd.jupyter.widget-view+json": {
       "model_id": "8e70ee31cf7347249135ab129591071e",
       "version_major": 2,
       "version_minor": 0
      },
      "text/plain": [
       "Iterating requests to meet the limit:   0%|          | 0/6 [00:00<?, ?it/s]"
      ]
     },
     "metadata": {},
     "output_type": "display_data"
    },
    {
     "data": {
      "application/vnd.jupyter.widget-view+json": {
       "model_id": "3eb7e3ae9ce8407986946955121f785d",
       "version_major": 2,
       "version_minor": 0
      },
      "text/plain": [
       "Iterating time to retrieve discord messages of DAI tag:   0%|          | 0/150 [00:00<?, ?it/s]"
      ]
     },
     "metadata": {},
     "output_type": "display_data"
    },
    {
     "data": {
      "application/vnd.jupyter.widget-view+json": {
       "model_id": "af669a4bd8214c5cb6fd9b769cc3fdeb",
       "version_major": 2,
       "version_minor": 0
      },
      "text/plain": [
       "Iterating time to retrieve publications messages of DAI tag:   0%|          | 0/150 [00:00<?, ?it/s]"
      ]
     },
     "metadata": {},
     "output_type": "display_data"
    },
    {
     "data": {
      "application/vnd.jupyter.widget-view+json": {
       "model_id": "f8257436abf34495978aa1a7463b5b29",
       "version_major": 2,
       "version_minor": 0
      },
      "text/plain": [
       "Iterating time to retrieve reddit messages of DAI tag:   0%|          | 0/150 [00:00<?, ?it/s]"
      ]
     },
     "metadata": {},
     "output_type": "display_data"
    },
    {
     "data": {
      "application/vnd.jupyter.widget-view+json": {
       "model_id": "bb2d5af455e74075814b6940cd947ea9",
       "version_major": 2,
       "version_minor": 0
      },
      "text/plain": [
       "Iterating time to retrieve telegram messages of DAI tag:   0%|          | 0/150 [00:00<?, ?it/s]"
      ]
     },
     "metadata": {},
     "output_type": "display_data"
    },
    {
     "data": {
      "application/vnd.jupyter.widget-view+json": {
       "model_id": "f2158c86999e40089e4aac9bd6b927e5",
       "version_major": 2,
       "version_minor": 0
      },
      "text/plain": [
       "Iterating time to retrieve twitter messages of DAI tag:   0%|          | 0/150 [00:00<?, ?it/s]"
      ]
     },
     "metadata": {},
     "output_type": "display_data"
    },
    {
     "data": {
      "application/vnd.jupyter.widget-view+json": {
       "model_id": "445ecb33fe4c42c882223c6becdc96a7",
       "version_major": 2,
       "version_minor": 0
      },
      "text/plain": [
       "Iterating requests to meet the limit:   0%|          | 0/6 [00:00<?, ?it/s]"
      ]
     },
     "metadata": {},
     "output_type": "display_data"
    },
    {
     "data": {
      "application/vnd.jupyter.widget-view+json": {
       "model_id": "215cb4cb05cb451b8e47403a73963d61",
       "version_major": 2,
       "version_minor": 0
      },
      "text/plain": [
       "Iterating time to retrieve discord messages of BabyShibaInu tag:   0%|          | 0/150 [00:00<?, ?it/s]"
      ]
     },
     "metadata": {},
     "output_type": "display_data"
    },
    {
     "data": {
      "application/vnd.jupyter.widget-view+json": {
       "model_id": "01c017f4395b4f29814d96e51128aeee",
       "version_major": 2,
       "version_minor": 0
      },
      "text/plain": [
       "Iterating time to retrieve publications messages of BabyShibaInu tag:   0%|          | 0/150 [00:00<?, ?it/s]"
      ]
     },
     "metadata": {},
     "output_type": "display_data"
    },
    {
     "data": {
      "application/vnd.jupyter.widget-view+json": {
       "model_id": "10de818fc936462e986e14aaf158acd4",
       "version_major": 2,
       "version_minor": 0
      },
      "text/plain": [
       "Iterating time to retrieve reddit messages of BabyShibaInu tag:   0%|          | 0/150 [00:00<?, ?it/s]"
      ]
     },
     "metadata": {},
     "output_type": "display_data"
    },
    {
     "data": {
      "application/vnd.jupyter.widget-view+json": {
       "model_id": "6cb376ed8a7a40bfae0c9711ac958c36",
       "version_major": 2,
       "version_minor": 0
      },
      "text/plain": [
       "Iterating time to retrieve telegram messages of BabyShibaInu tag:   0%|          | 0/150 [00:00<?, ?it/s]"
      ]
     },
     "metadata": {},
     "output_type": "display_data"
    },
    {
     "data": {
      "application/vnd.jupyter.widget-view+json": {
       "model_id": "7c5a4b8b44b944e5842d294be9c46398",
       "version_major": 2,
       "version_minor": 0
      },
      "text/plain": [
       "Iterating time to retrieve twitter messages of BabyShibaInu tag:   0%|          | 0/150 [00:00<?, ?it/s]"
      ]
     },
     "metadata": {},
     "output_type": "display_data"
    },
    {
     "data": {
      "application/vnd.jupyter.widget-view+json": {
       "model_id": "21967451a2ff4def818795ee580973f1",
       "version_major": 2,
       "version_minor": 0
      },
      "text/plain": [
       "Iterating requests to meet the limit:   0%|          | 0/6 [00:00<?, ?it/s]"
      ]
     },
     "metadata": {},
     "output_type": "display_data"
    },
    {
     "data": {
      "application/vnd.jupyter.widget-view+json": {
       "model_id": "93d1b6ceb5184cafbef21bac084d577b",
       "version_major": 2,
       "version_minor": 0
      },
      "text/plain": [
       "Iterating time to retrieve discord messages of BSW tag:   0%|          | 0/150 [00:00<?, ?it/s]"
      ]
     },
     "metadata": {},
     "output_type": "display_data"
    },
    {
     "data": {
      "application/vnd.jupyter.widget-view+json": {
       "model_id": "5632b43bdc0341e5807717281c9b3d0f",
       "version_major": 2,
       "version_minor": 0
      },
      "text/plain": [
       "Iterating time to retrieve publications messages of BSW tag:   0%|          | 0/150 [00:00<?, ?it/s]"
      ]
     },
     "metadata": {},
     "output_type": "display_data"
    },
    {
     "data": {
      "application/vnd.jupyter.widget-view+json": {
       "model_id": "4feb1ddeb14248f19c15c318196f2174",
       "version_major": 2,
       "version_minor": 0
      },
      "text/plain": [
       "Iterating time to retrieve reddit messages of BSW tag:   0%|          | 0/150 [00:00<?, ?it/s]"
      ]
     },
     "metadata": {},
     "output_type": "display_data"
    },
    {
     "data": {
      "application/vnd.jupyter.widget-view+json": {
       "model_id": "88e09136e6ef49e38c1ca50626619c00",
       "version_major": 2,
       "version_minor": 0
      },
      "text/plain": [
       "Iterating time to retrieve telegram messages of BSW tag:   0%|          | 0/150 [00:00<?, ?it/s]"
      ]
     },
     "metadata": {},
     "output_type": "display_data"
    },
    {
     "data": {
      "application/vnd.jupyter.widget-view+json": {
       "model_id": "a09f7e87aca443e7ae21ed0470a5b019",
       "version_major": 2,
       "version_minor": 0
      },
      "text/plain": [
       "Iterating time to retrieve twitter messages of BSW tag:   0%|          | 0/150 [00:00<?, ?it/s]"
      ]
     },
     "metadata": {},
     "output_type": "display_data"
    },
    {
     "data": {
      "application/vnd.jupyter.widget-view+json": {
       "model_id": "70869b9cee1c4b398417f57a2abe16e1",
       "version_major": 2,
       "version_minor": 0
      },
      "text/plain": [
       "Iterating requests to meet the limit:   0%|          | 0/6 [00:00<?, ?it/s]"
      ]
     },
     "metadata": {},
     "output_type": "display_data"
    },
    {
     "data": {
      "application/vnd.jupyter.widget-view+json": {
       "model_id": "62594b9160b148d6a6a202f64d16bd8b",
       "version_major": 2,
       "version_minor": 0
      },
      "text/plain": [
       "Iterating time to retrieve discord messages of NMX tag:   0%|          | 0/149 [00:00<?, ?it/s]"
      ]
     },
     "metadata": {},
     "output_type": "display_data"
    },
    {
     "data": {
      "application/vnd.jupyter.widget-view+json": {
       "model_id": "d71333eaace9498b8e5b713eed9113a4",
       "version_major": 2,
       "version_minor": 0
      },
      "text/plain": [
       "Iterating time to retrieve publications messages of NMX tag:   0%|          | 0/149 [00:00<?, ?it/s]"
      ]
     },
     "metadata": {},
     "output_type": "display_data"
    },
    {
     "data": {
      "application/vnd.jupyter.widget-view+json": {
       "model_id": "522f65d410c149329ca08bccc117d8c7",
       "version_major": 2,
       "version_minor": 0
      },
      "text/plain": [
       "Iterating time to retrieve reddit messages of NMX tag:   0%|          | 0/149 [00:00<?, ?it/s]"
      ]
     },
     "metadata": {},
     "output_type": "display_data"
    },
    {
     "data": {
      "application/vnd.jupyter.widget-view+json": {
       "model_id": "43d9a71e0c0342278a4e85aef8227d15",
       "version_major": 2,
       "version_minor": 0
      },
      "text/plain": [
       "Iterating time to retrieve telegram messages of NMX tag:   0%|          | 0/149 [00:00<?, ?it/s]"
      ]
     },
     "metadata": {},
     "output_type": "display_data"
    },
    {
     "data": {
      "application/vnd.jupyter.widget-view+json": {
       "model_id": "23c5042e44de45cdbd27e1f7009fb510",
       "version_major": 2,
       "version_minor": 0
      },
      "text/plain": [
       "Iterating time to retrieve twitter messages of NMX tag:   0%|          | 0/149 [00:00<?, ?it/s]"
      ]
     },
     "metadata": {},
     "output_type": "display_data"
    },
    {
     "data": {
      "application/vnd.jupyter.widget-view+json": {
       "model_id": "19e3d856caaf4dd4ad2d3aa7fbdb1407",
       "version_major": 2,
       "version_minor": 0
      },
      "text/plain": [
       "Iterating requests to meet the limit:   0%|          | 0/6 [00:00<?, ?it/s]"
      ]
     },
     "metadata": {},
     "output_type": "display_data"
    },
    {
     "data": {
      "application/vnd.jupyter.widget-view+json": {
       "model_id": "ca67eaa50201433b83a5b344a3267ab3",
       "version_major": 2,
       "version_minor": 0
      },
      "text/plain": [
       "Iterating time to retrieve discord messages of BTT tag:   0%|          | 0/142 [00:00<?, ?it/s]"
      ]
     },
     "metadata": {},
     "output_type": "display_data"
    },
    {
     "data": {
      "application/vnd.jupyter.widget-view+json": {
       "model_id": "4964f049cba1429dbd6a69f8feb6e2fd",
       "version_major": 2,
       "version_minor": 0
      },
      "text/plain": [
       "Iterating time to retrieve publications messages of BTT tag:   0%|          | 0/142 [00:00<?, ?it/s]"
      ]
     },
     "metadata": {},
     "output_type": "display_data"
    },
    {
     "data": {
      "application/vnd.jupyter.widget-view+json": {
       "model_id": "b15ecdd0d726424f938a7a2128b4229d",
       "version_major": 2,
       "version_minor": 0
      },
      "text/plain": [
       "Iterating time to retrieve reddit messages of BTT tag:   0%|          | 0/142 [00:00<?, ?it/s]"
      ]
     },
     "metadata": {},
     "output_type": "display_data"
    },
    {
     "data": {
      "application/vnd.jupyter.widget-view+json": {
       "model_id": "a959dc2ba4a64b1f8ef4bda3a49a5362",
       "version_major": 2,
       "version_minor": 0
      },
      "text/plain": [
       "Iterating time to retrieve telegram messages of BTT tag:   0%|          | 0/142 [00:00<?, ?it/s]"
      ]
     },
     "metadata": {},
     "output_type": "display_data"
    },
    {
     "data": {
      "application/vnd.jupyter.widget-view+json": {
       "model_id": "2a297f9a9c2c4d10ba10c904928f1866",
       "version_major": 2,
       "version_minor": 0
      },
      "text/plain": [
       "Iterating time to retrieve twitter messages of BTT tag:   0%|          | 0/142 [00:00<?, ?it/s]"
      ]
     },
     "metadata": {},
     "output_type": "display_data"
    },
    {
     "data": {
      "application/vnd.jupyter.widget-view+json": {
       "model_id": "a832e429386f4107bbcfc88a98fde983",
       "version_major": 2,
       "version_minor": 0
      },
      "text/plain": [
       "Iterating requests to meet the limit:   0%|          | 0/6 [00:00<?, ?it/s]"
      ]
     },
     "metadata": {},
     "output_type": "display_data"
    },
    {
     "data": {
      "application/vnd.jupyter.widget-view+json": {
       "model_id": "9a678d65c2674b5ebb3da6583eb3696d",
       "version_major": 2,
       "version_minor": 0
      },
      "text/plain": [
       "Iterating time to retrieve discord messages of BabyDoge tag:   0%|          | 0/150 [00:00<?, ?it/s]"
      ]
     },
     "metadata": {},
     "output_type": "display_data"
    },
    {
     "data": {
      "application/vnd.jupyter.widget-view+json": {
       "model_id": "2a1a999187d64ce7854e691d26bf027b",
       "version_major": 2,
       "version_minor": 0
      },
      "text/plain": [
       "Iterating time to retrieve publications messages of BabyDoge tag:   0%|          | 0/150 [00:00<?, ?it/s]"
      ]
     },
     "metadata": {},
     "output_type": "display_data"
    },
    {
     "data": {
      "application/vnd.jupyter.widget-view+json": {
       "model_id": "3bd367082faf4d54810268e427c9fff6",
       "version_major": 2,
       "version_minor": 0
      },
      "text/plain": [
       "Iterating time to retrieve reddit messages of BabyDoge tag:   0%|          | 0/150 [00:00<?, ?it/s]"
      ]
     },
     "metadata": {},
     "output_type": "display_data"
    },
    {
     "data": {
      "application/vnd.jupyter.widget-view+json": {
       "model_id": "f8cf7456698542ff997846894e943bed",
       "version_major": 2,
       "version_minor": 0
      },
      "text/plain": [
       "Iterating time to retrieve telegram messages of BabyDoge tag:   0%|          | 0/150 [00:00<?, ?it/s]"
      ]
     },
     "metadata": {},
     "output_type": "display_data"
    },
    {
     "data": {
      "application/vnd.jupyter.widget-view+json": {
       "model_id": "dc537d8483ae42c69fa1822b3959e095",
       "version_major": 2,
       "version_minor": 0
      },
      "text/plain": [
       "Iterating time to retrieve twitter messages of BabyDoge tag:   0%|          | 0/150 [00:00<?, ?it/s]"
      ]
     },
     "metadata": {},
     "output_type": "display_data"
    },
    {
     "data": {
      "application/vnd.jupyter.widget-view+json": {
       "model_id": "2ecc5ee29ee348f18c3d6011dd44c5ef",
       "version_major": 2,
       "version_minor": 0
      },
      "text/plain": [
       "Iterating requests to meet the limit:   0%|          | 0/6 [00:00<?, ?it/s]"
      ]
     },
     "metadata": {},
     "output_type": "display_data"
    },
    {
     "data": {
      "application/vnd.jupyter.widget-view+json": {
       "model_id": "07583ec00cea4208ab1bfcc257cb1871",
       "version_major": 2,
       "version_minor": 0
      },
      "text/plain": [
       "Iterating time to retrieve discord messages of MBOX tag:   0%|          | 0/150 [00:00<?, ?it/s]"
      ]
     },
     "metadata": {},
     "output_type": "display_data"
    },
    {
     "data": {
      "application/vnd.jupyter.widget-view+json": {
       "model_id": "1e84e5bf12b14da9933b9e0e33363ea6",
       "version_major": 2,
       "version_minor": 0
      },
      "text/plain": [
       "Iterating time to retrieve publications messages of MBOX tag:   0%|          | 0/150 [00:00<?, ?it/s]"
      ]
     },
     "metadata": {},
     "output_type": "display_data"
    },
    {
     "data": {
      "application/vnd.jupyter.widget-view+json": {
       "model_id": "d31abb604475449e8e2984f8fb3742f7",
       "version_major": 2,
       "version_minor": 0
      },
      "text/plain": [
       "Iterating time to retrieve reddit messages of MBOX tag:   0%|          | 0/150 [00:00<?, ?it/s]"
      ]
     },
     "metadata": {},
     "output_type": "display_data"
    },
    {
     "data": {
      "application/vnd.jupyter.widget-view+json": {
       "model_id": "1b974f715cf445e384965e7192d715df",
       "version_major": 2,
       "version_minor": 0
      },
      "text/plain": [
       "Iterating time to retrieve telegram messages of MBOX tag:   0%|          | 0/150 [00:00<?, ?it/s]"
      ]
     },
     "metadata": {},
     "output_type": "display_data"
    },
    {
     "data": {
      "application/vnd.jupyter.widget-view+json": {
       "model_id": "3935a5bdaa894d7d8154b359339d0eff",
       "version_major": 2,
       "version_minor": 0
      },
      "text/plain": [
       "Iterating time to retrieve twitter messages of MBOX tag:   0%|          | 0/150 [00:00<?, ?it/s]"
      ]
     },
     "metadata": {},
     "output_type": "display_data"
    },
    {
     "data": {
      "application/vnd.jupyter.widget-view+json": {
       "model_id": "0ff5f8be7ac54810b9b25d9702842e34",
       "version_major": 2,
       "version_minor": 0
      },
      "text/plain": [
       "Iterating requests to meet the limit:   0%|          | 0/6 [00:00<?, ?it/s]"
      ]
     },
     "metadata": {},
     "output_type": "display_data"
    },
    {
     "data": {
      "application/vnd.jupyter.widget-view+json": {
       "model_id": "bcb34b427c074778b25f41100d2b0b5a",
       "version_major": 2,
       "version_minor": 0
      },
      "text/plain": [
       "Iterating time to retrieve discord messages of AFP tag:   0%|          | 0/19 [00:00<?, ?it/s]"
      ]
     },
     "metadata": {},
     "output_type": "display_data"
    },
    {
     "data": {
      "application/vnd.jupyter.widget-view+json": {
       "model_id": "a1185e57ed4f4e78940f9c72528a4108",
       "version_major": 2,
       "version_minor": 0
      },
      "text/plain": [
       "Iterating time to retrieve publications messages of AFP tag:   0%|          | 0/19 [00:00<?, ?it/s]"
      ]
     },
     "metadata": {},
     "output_type": "display_data"
    },
    {
     "data": {
      "application/vnd.jupyter.widget-view+json": {
       "model_id": "b41f4b5c666145459134bffe385f498d",
       "version_major": 2,
       "version_minor": 0
      },
      "text/plain": [
       "Iterating time to retrieve reddit messages of AFP tag:   0%|          | 0/19 [00:00<?, ?it/s]"
      ]
     },
     "metadata": {},
     "output_type": "display_data"
    },
    {
     "data": {
      "application/vnd.jupyter.widget-view+json": {
       "model_id": "3101961d87c1483fb1a5381f3bcfe5c8",
       "version_major": 2,
       "version_minor": 0
      },
      "text/plain": [
       "Iterating time to retrieve telegram messages of AFP tag:   0%|          | 0/19 [00:00<?, ?it/s]"
      ]
     },
     "metadata": {},
     "output_type": "display_data"
    },
    {
     "data": {
      "application/vnd.jupyter.widget-view+json": {
       "model_id": "69db6bec25aa4ad78fed617d6b1d0780",
       "version_major": 2,
       "version_minor": 0
      },
      "text/plain": [
       "Iterating time to retrieve twitter messages of AFP tag:   0%|          | 0/19 [00:00<?, ?it/s]"
      ]
     },
     "metadata": {},
     "output_type": "display_data"
    },
    {
     "data": {
      "text/html": [
       "<style type=\"text/css\">\n",
       "#T_96066_row0_col0, #T_96066_row0_col1, #T_96066_row0_col2, #T_96066_row0_col3, #T_96066_row0_col4, #T_96066_row0_col5, #T_96066_row9_col3, #T_96066_row9_col5 {\n",
       "  background-color: #ff0000;\n",
       "  color: #f1f1f1;\n",
       "}\n",
       "#T_96066_row1_col0, #T_96066_row1_col1, #T_96066_row1_col2, #T_96066_row2_col1, #T_96066_row2_col2, #T_96066_row2_col3, #T_96066_row3_col1, #T_96066_row5_col0, #T_96066_row5_col2, #T_96066_row7_col0, #T_96066_row7_col1, #T_96066_row7_col2, #T_96066_row9_col0, #T_96066_row9_col1, #T_96066_row9_col2, #T_96066_row9_col4, #T_96066_row10_col0, #T_96066_row10_col1, #T_96066_row10_col2, #T_96066_row11_col0, #T_96066_row11_col2, #T_96066_row13_col0, #T_96066_row13_col1, #T_96066_row13_col2, #T_96066_row15_col0, #T_96066_row15_col2, #T_96066_row19_col0, #T_96066_row19_col1, #T_96066_row19_col2, #T_96066_row21_col0, #T_96066_row21_col1, #T_96066_row21_col2 {\n",
       "  background-color: #ff0000;\n",
       "  color: #f1f1f1;\n",
       "  background: black;\n",
       "}\n",
       "#T_96066_row1_col3 {\n",
       "  background-color: #ff2a2a;\n",
       "  color: #f1f1f1;\n",
       "}\n",
       "#T_96066_row1_col4 {\n",
       "  background-color: #ff4646;\n",
       "  color: #f1f1f1;\n",
       "}\n",
       "#T_96066_row1_col5 {\n",
       "  background-color: #ff1818;\n",
       "  color: #f1f1f1;\n",
       "}\n",
       "#T_96066_row2_col0 {\n",
       "  background-color: #ff8080;\n",
       "  color: #f1f1f1;\n",
       "}\n",
       "#T_96066_row2_col4 {\n",
       "  background-color: #ff9a9a;\n",
       "  color: #000000;\n",
       "}\n",
       "#T_96066_row2_col5, #T_96066_row19_col3 {\n",
       "  background-color: #ff6a6a;\n",
       "  color: #f1f1f1;\n",
       "}\n",
       "#T_96066_row3_col0, #T_96066_row11_col5 {\n",
       "  background-color: #ffe2e2;\n",
       "  color: #000000;\n",
       "}\n",
       "#T_96066_row3_col2 {\n",
       "  background-color: #ffb6b6;\n",
       "  color: #000000;\n",
       "}\n",
       "#T_96066_row3_col3, #T_96066_row6_col3, #T_96066_row22_col4 {\n",
       "  background-color: #e0f0e0;\n",
       "  color: #000000;\n",
       "}\n",
       "#T_96066_row3_col4 {\n",
       "  background-color: #bedebe;\n",
       "  color: #000000;\n",
       "}\n",
       "#T_96066_row3_col5 {\n",
       "  background-color: #bcdebc;\n",
       "  color: #000000;\n",
       "}\n",
       "#T_96066_row4_col0, #T_96066_row6_col2 {\n",
       "  background-color: #d4ead4;\n",
       "  color: #000000;\n",
       "}\n",
       "#T_96066_row4_col1, #T_96066_row4_col3 {\n",
       "  background-color: #fffcfc;\n",
       "  color: #000000;\n",
       "}\n",
       "#T_96066_row4_col2, #T_96066_row15_col1 {\n",
       "  background-color: #ffdcdc;\n",
       "  color: #000000;\n",
       "}\n",
       "#T_96066_row4_col4, #T_96066_row25_col2 {\n",
       "  background-color: #ffeaea;\n",
       "  color: #000000;\n",
       "}\n",
       "#T_96066_row4_col5, #T_96066_row20_col5 {\n",
       "  background-color: #f8fcf8;\n",
       "  color: #000000;\n",
       "}\n",
       "#T_96066_row5_col1 {\n",
       "  background-color: #ff2e2e;\n",
       "  color: #f1f1f1;\n",
       "}\n",
       "#T_96066_row5_col3 {\n",
       "  background-color: #ff4e4e;\n",
       "  color: #f1f1f1;\n",
       "}\n",
       "#T_96066_row5_col4, #T_96066_row12_col5 {\n",
       "  background-color: #ff6868;\n",
       "  color: #f1f1f1;\n",
       "}\n",
       "#T_96066_row5_col5 {\n",
       "  background-color: #ff2222;\n",
       "  color: #f1f1f1;\n",
       "}\n",
       "#T_96066_row6_col0, #T_96066_row14_col2, #T_96066_row15_col3, #T_96066_row23_col2 {\n",
       "  background-color: #eaf4ea;\n",
       "  color: #000000;\n",
       "}\n",
       "#T_96066_row6_col1, #T_96066_row6_col5 {\n",
       "  background-color: #e4f2e4;\n",
       "  color: #000000;\n",
       "}\n",
       "#T_96066_row6_col4, #T_96066_row17_col1, #T_96066_row24_col3 {\n",
       "  background-color: #e6f2e6;\n",
       "  color: #000000;\n",
       "}\n",
       "#T_96066_row7_col3, #T_96066_row18_col0 {\n",
       "  background-color: #fff8f8;\n",
       "  color: #000000;\n",
       "}\n",
       "#T_96066_row7_col4 {\n",
       "  background-color: #cce6cc;\n",
       "  color: #000000;\n",
       "}\n",
       "#T_96066_row7_col5, #T_96066_row17_col2 {\n",
       "  background-color: #cee6ce;\n",
       "  color: #000000;\n",
       "}\n",
       "#T_96066_row8_col0 {\n",
       "  background-color: #ff9696;\n",
       "  color: #000000;\n",
       "}\n",
       "#T_96066_row8_col1 {\n",
       "  background-color: #ffecec;\n",
       "  color: #000000;\n",
       "}\n",
       "#T_96066_row8_col2, #T_96066_row18_col3, #T_96066_row21_col4 {\n",
       "  background-color: #fafcfa;\n",
       "  color: #000000;\n",
       "}\n",
       "#T_96066_row8_col3, #T_96066_row8_col4 {\n",
       "  background-color: #ffd8d8;\n",
       "  color: #000000;\n",
       "}\n",
       "#T_96066_row8_col5 {\n",
       "  background-color: #ffa0a0;\n",
       "  color: #000000;\n",
       "}\n",
       "#T_96066_row10_col3, #T_96066_row10_col4, #T_96066_row10_col5 {\n",
       "  background-color: #ffdede;\n",
       "  color: #000000;\n",
       "}\n",
       "#T_96066_row11_col1 {\n",
       "  background-color: #ff7c7c;\n",
       "  color: #f1f1f1;\n",
       "}\n",
       "#T_96066_row11_col3, #T_96066_row20_col0 {\n",
       "  background-color: #ffd0d0;\n",
       "  color: #000000;\n",
       "}\n",
       "#T_96066_row11_col4 {\n",
       "  background-color: #ffe6e6;\n",
       "  color: #000000;\n",
       "}\n",
       "#T_96066_row12_col0 {\n",
       "  background-color: #ff5252;\n",
       "  color: #f1f1f1;\n",
       "}\n",
       "#T_96066_row12_col1 {\n",
       "  background-color: #84c284;\n",
       "  color: #000000;\n",
       "}\n",
       "#T_96066_row12_col2 {\n",
       "  background-color: #ff3a3a;\n",
       "  color: #f1f1f1;\n",
       "}\n",
       "#T_96066_row12_col3 {\n",
       "  background-color: #ffb2b2;\n",
       "  color: #000000;\n",
       "}\n",
       "#T_96066_row12_col4 {\n",
       "  background-color: #ff4040;\n",
       "  color: #f1f1f1;\n",
       "}\n",
       "#T_96066_row13_col3, #T_96066_row13_col4, #T_96066_row13_col5 {\n",
       "  background-color: #008000;\n",
       "  color: #f1f1f1;\n",
       "}\n",
       "#T_96066_row14_col0 {\n",
       "  background-color: #f0f8f0;\n",
       "  color: #000000;\n",
       "}\n",
       "#T_96066_row14_col1 {\n",
       "  background-color: #fff6f6;\n",
       "  color: #000000;\n",
       "}\n",
       "#T_96066_row14_col3, #T_96066_row17_col3, #T_96066_row22_col1 {\n",
       "  background-color: #ffe0e0;\n",
       "  color: #000000;\n",
       "}\n",
       "#T_96066_row14_col4 {\n",
       "  background-color: #ecf6ec;\n",
       "  color: #000000;\n",
       "}\n",
       "#T_96066_row14_col5, #T_96066_row16_col3 {\n",
       "  background-color: #fff2f2;\n",
       "  color: #000000;\n",
       "}\n",
       "#T_96066_row15_col4, #T_96066_row15_col5, #T_96066_row23_col4 {\n",
       "  background-color: #f4faf4;\n",
       "  color: #000000;\n",
       "}\n",
       "#T_96066_row16_col0 {\n",
       "  background-color: #349a34;\n",
       "  color: #f1f1f1;\n",
       "}\n",
       "#T_96066_row16_col1 {\n",
       "  background-color: #188c18;\n",
       "  color: #f1f1f1;\n",
       "}\n",
       "#T_96066_row16_col2, #T_96066_row21_col3, #T_96066_row21_col5 {\n",
       "  background-color: #deeede;\n",
       "  color: #000000;\n",
       "}\n",
       "#T_96066_row16_col4 {\n",
       "  background-color: #ffe8e8;\n",
       "  color: #000000;\n",
       "}\n",
       "#T_96066_row16_col5 {\n",
       "  background-color: #5cae5c;\n",
       "  color: #f1f1f1;\n",
       "}\n",
       "#T_96066_row17_col0 {\n",
       "  background-color: #d0e8d0;\n",
       "  color: #000000;\n",
       "}\n",
       "#T_96066_row17_col4 {\n",
       "  background-color: #ffcece;\n",
       "  color: #000000;\n",
       "}\n",
       "#T_96066_row17_col5 {\n",
       "  background-color: #ffcccc;\n",
       "  color: #000000;\n",
       "}\n",
       "#T_96066_row18_col1 {\n",
       "  background-color: #fff4f4;\n",
       "  color: #000000;\n",
       "}\n",
       "#T_96066_row18_col2 {\n",
       "  background-color: #fff0f0;\n",
       "  color: #000000;\n",
       "}\n",
       "#T_96066_row18_col4, #T_96066_row23_col0 {\n",
       "  background-color: #f2f8f2;\n",
       "  color: #000000;\n",
       "}\n",
       "#T_96066_row18_col5, #T_96066_row19_col5, #T_96066_row23_col1, #T_96066_row24_col4 {\n",
       "  background-color: #f6fbf6;\n",
       "  color: #000000;\n",
       "}\n",
       "#T_96066_row19_col4 {\n",
       "  background-color: #c4e2c4;\n",
       "  color: #000000;\n",
       "}\n",
       "#T_96066_row20_col1, #T_96066_row25_col0 {\n",
       "  background-color: #76bb76;\n",
       "  color: #f1f1f1;\n",
       "}\n",
       "#T_96066_row20_col2 {\n",
       "  background-color: #6eb66e;\n",
       "  color: #f1f1f1;\n",
       "}\n",
       "#T_96066_row20_col3 {\n",
       "  background-color: #fcfefc;\n",
       "  color: #000000;\n",
       "}\n",
       "#T_96066_row20_col4 {\n",
       "  background-color: #ffe4e4;\n",
       "  color: #000000;\n",
       "}\n",
       "#T_96066_row22_col0 {\n",
       "  background-color: #ff7878;\n",
       "  color: #f1f1f1;\n",
       "}\n",
       "#T_96066_row22_col2 {\n",
       "  background-color: #badcba;\n",
       "  color: #000000;\n",
       "}\n",
       "#T_96066_row22_col3, #T_96066_row22_col5 {\n",
       "  background-color: #9cce9c;\n",
       "  color: #000000;\n",
       "}\n",
       "#T_96066_row23_col3 {\n",
       "  background-color: #b4dab4;\n",
       "  color: #000000;\n",
       "}\n",
       "#T_96066_row23_col5 {\n",
       "  background-color: #acd6ac;\n",
       "  color: #000000;\n",
       "}\n",
       "#T_96066_row24_col0 {\n",
       "  background-color: #ff8a8a;\n",
       "  color: #000000;\n",
       "}\n",
       "#T_96066_row24_col1 {\n",
       "  background-color: #ff6464;\n",
       "  color: #f1f1f1;\n",
       "}\n",
       "#T_96066_row24_col2 {\n",
       "  background-color: #ff7272;\n",
       "  color: #f1f1f1;\n",
       "}\n",
       "#T_96066_row24_col5 {\n",
       "  background-color: #e8f4e8;\n",
       "  color: #000000;\n",
       "}\n",
       "#T_96066_row25_col1 {\n",
       "  background-color: #2a942a;\n",
       "  color: #f1f1f1;\n",
       "}\n",
       "#T_96066_row25_col3 {\n",
       "  background-color: #aed6ae;\n",
       "  color: #000000;\n",
       "}\n",
       "#T_96066_row25_col4 {\n",
       "  background-color: #64b264;\n",
       "  color: #f1f1f1;\n",
       "}\n",
       "#T_96066_row25_col5 {\n",
       "  background-color: #52a852;\n",
       "  color: #f1f1f1;\n",
       "}\n",
       "</style>\n",
       "<table id=\"T_96066_\">\n",
       "  <thead>\n",
       "    <tr>\n",
       "      <th class=\"blank level0\" >&nbsp;</th>\n",
       "      <th class=\"col_heading level0 col0\" >discord</th>\n",
       "      <th class=\"col_heading level0 col1\" >publications</th>\n",
       "      <th class=\"col_heading level0 col2\" >reddit</th>\n",
       "      <th class=\"col_heading level0 col3\" >telegram</th>\n",
       "      <th class=\"col_heading level0 col4\" >twitter</th>\n",
       "      <th class=\"col_heading level0 col5\" >total</th>\n",
       "    </tr>\n",
       "  </thead>\n",
       "  <tbody>\n",
       "    <tr>\n",
       "      <th id=\"T_96066_level0_row0\" class=\"row_heading level0 row0\" >BTC</th>\n",
       "      <td id=\"T_96066_row0_col0\" class=\"data row0 col0\" >-1.000000</td>\n",
       "      <td id=\"T_96066_row0_col1\" class=\"data row0 col1\" >-1.000000</td>\n",
       "      <td id=\"T_96066_row0_col2\" class=\"data row0 col2\" >-1.000000</td>\n",
       "      <td id=\"T_96066_row0_col3\" class=\"data row0 col3\" >-1.000000</td>\n",
       "      <td id=\"T_96066_row0_col4\" class=\"data row0 col4\" >-1.000000</td>\n",
       "      <td id=\"T_96066_row0_col5\" class=\"data row0 col5\" >-1.000000</td>\n",
       "    </tr>\n",
       "    <tr>\n",
       "      <th id=\"T_96066_level0_row1\" class=\"row_heading level0 row1\" >SLOKI</th>\n",
       "      <td id=\"T_96066_row1_col0\" class=\"data row1 col0\" >nan</td>\n",
       "      <td id=\"T_96066_row1_col1\" class=\"data row1 col1\" >nan</td>\n",
       "      <td id=\"T_96066_row1_col2\" class=\"data row1 col2\" >nan</td>\n",
       "      <td id=\"T_96066_row1_col3\" class=\"data row1 col3\" >-0.834155</td>\n",
       "      <td id=\"T_96066_row1_col4\" class=\"data row1 col4\" >-0.725535</td>\n",
       "      <td id=\"T_96066_row1_col5\" class=\"data row1 col5\" >-0.903720</td>\n",
       "    </tr>\n",
       "    <tr>\n",
       "      <th id=\"T_96066_level0_row2\" class=\"row_heading level0 row2\" >GOLD NUGGET</th>\n",
       "      <td id=\"T_96066_row2_col0\" class=\"data row2 col0\" >-0.494408</td>\n",
       "      <td id=\"T_96066_row2_col1\" class=\"data row2 col1\" >nan</td>\n",
       "      <td id=\"T_96066_row2_col2\" class=\"data row2 col2\" >nan</td>\n",
       "      <td id=\"T_96066_row2_col3\" class=\"data row2 col3\" >nan</td>\n",
       "      <td id=\"T_96066_row2_col4\" class=\"data row2 col4\" >-0.391816</td>\n",
       "      <td id=\"T_96066_row2_col5\" class=\"data row2 col5\" >-0.580170</td>\n",
       "    </tr>\n",
       "    <tr>\n",
       "      <th id=\"T_96066_level0_row3\" class=\"row_heading level0 row3\" >BTCB</th>\n",
       "      <td id=\"T_96066_row3_col0\" class=\"data row3 col0\" >-0.115337</td>\n",
       "      <td id=\"T_96066_row3_col1\" class=\"data row3 col1\" >nan</td>\n",
       "      <td id=\"T_96066_row3_col2\" class=\"data row3 col2\" >-0.281903</td>\n",
       "      <td id=\"T_96066_row3_col3\" class=\"data row3 col3\" >0.124603</td>\n",
       "      <td id=\"T_96066_row3_col4\" class=\"data row3 col4\" >0.252954</td>\n",
       "      <td id=\"T_96066_row3_col5\" class=\"data row3 col5\" >0.259307</td>\n",
       "    </tr>\n",
       "    <tr>\n",
       "      <th id=\"T_96066_level0_row4\" class=\"row_heading level0 row4\" >USDC</th>\n",
       "      <td id=\"T_96066_row4_col0\" class=\"data row4 col0\" >0.165195</td>\n",
       "      <td id=\"T_96066_row4_col1\" class=\"data row4 col1\" >-0.008660</td>\n",
       "      <td id=\"T_96066_row4_col2\" class=\"data row4 col2\" >-0.133875</td>\n",
       "      <td id=\"T_96066_row4_col3\" class=\"data row4 col3\" >-0.011999</td>\n",
       "      <td id=\"T_96066_row4_col4\" class=\"data row4 col4\" >-0.085128</td>\n",
       "      <td id=\"T_96066_row4_col5\" class=\"data row4 col5\" >0.027236</td>\n",
       "    </tr>\n",
       "    <tr>\n",
       "      <th id=\"T_96066_level0_row5\" class=\"row_heading level0 row5\" >RRB</th>\n",
       "      <td id=\"T_96066_row5_col0\" class=\"data row5 col0\" >nan</td>\n",
       "      <td id=\"T_96066_row5_col1\" class=\"data row5 col1\" >-0.818903</td>\n",
       "      <td id=\"T_96066_row5_col2\" class=\"data row5 col2\" >nan</td>\n",
       "      <td id=\"T_96066_row5_col3\" class=\"data row5 col3\" >-0.692849</td>\n",
       "      <td id=\"T_96066_row5_col4\" class=\"data row5 col4\" >-0.591757</td>\n",
       "      <td id=\"T_96066_row5_col5\" class=\"data row5 col5\" >-0.862761</td>\n",
       "    </tr>\n",
       "    <tr>\n",
       "      <th id=\"T_96066_level0_row6\" class=\"row_heading level0 row6\" >FIST</th>\n",
       "      <td id=\"T_96066_row6_col0\" class=\"data row6 col0\" >0.085598</td>\n",
       "      <td id=\"T_96066_row6_col1\" class=\"data row6 col1\" >0.105567</td>\n",
       "      <td id=\"T_96066_row6_col2\" class=\"data row6 col2\" >0.170228</td>\n",
       "      <td id=\"T_96066_row6_col3\" class=\"data row6 col3\" >0.124320</td>\n",
       "      <td id=\"T_96066_row6_col4\" class=\"data row6 col4\" >0.098489</td>\n",
       "      <td id=\"T_96066_row6_col5\" class=\"data row6 col5\" >0.104555</td>\n",
       "    </tr>\n",
       "    <tr>\n",
       "      <th id=\"T_96066_level0_row7\" class=\"row_heading level0 row7\" >OSK</th>\n",
       "      <td id=\"T_96066_row7_col0\" class=\"data row7 col0\" >nan</td>\n",
       "      <td id=\"T_96066_row7_col1\" class=\"data row7 col1\" >nan</td>\n",
       "      <td id=\"T_96066_row7_col2\" class=\"data row7 col2\" >nan</td>\n",
       "      <td id=\"T_96066_row7_col3\" class=\"data row7 col3\" >-0.026726</td>\n",
       "      <td id=\"T_96066_row7_col4\" class=\"data row7 col4\" >0.199256</td>\n",
       "      <td id=\"T_96066_row7_col5\" class=\"data row7 col5\" >0.188380</td>\n",
       "    </tr>\n",
       "    <tr>\n",
       "      <th id=\"T_96066_level0_row8\" class=\"row_heading level0 row8\" >ETH</th>\n",
       "      <td id=\"T_96066_row8_col0\" class=\"data row8 col0\" >-0.411853</td>\n",
       "      <td id=\"T_96066_row8_col1\" class=\"data row8 col1\" >-0.074121</td>\n",
       "      <td id=\"T_96066_row8_col2\" class=\"data row8 col2\" >0.022706</td>\n",
       "      <td id=\"T_96066_row8_col3\" class=\"data row8 col3\" >-0.155994</td>\n",
       "      <td id=\"T_96066_row8_col4\" class=\"data row8 col4\" >-0.155994</td>\n",
       "      <td id=\"T_96066_row8_col5\" class=\"data row8 col5\" >-0.372862</td>\n",
       "    </tr>\n",
       "    <tr>\n",
       "      <th id=\"T_96066_level0_row9\" class=\"row_heading level0 row9\" >CRUSH</th>\n",
       "      <td id=\"T_96066_row9_col0\" class=\"data row9 col0\" >nan</td>\n",
       "      <td id=\"T_96066_row9_col1\" class=\"data row9 col1\" >nan</td>\n",
       "      <td id=\"T_96066_row9_col2\" class=\"data row9 col2\" >nan</td>\n",
       "      <td id=\"T_96066_row9_col3\" class=\"data row9 col3\" >-1.000000</td>\n",
       "      <td id=\"T_96066_row9_col4\" class=\"data row9 col4\" >nan</td>\n",
       "      <td id=\"T_96066_row9_col5\" class=\"data row9 col5\" >-1.000000</td>\n",
       "    </tr>\n",
       "    <tr>\n",
       "      <th id=\"T_96066_level0_row10\" class=\"row_heading level0 row10\" >FON</th>\n",
       "      <td id=\"T_96066_row10_col0\" class=\"data row10 col0\" >nan</td>\n",
       "      <td id=\"T_96066_row10_col1\" class=\"data row10 col1\" >nan</td>\n",
       "      <td id=\"T_96066_row10_col2\" class=\"data row10 col2\" >nan</td>\n",
       "      <td id=\"T_96066_row10_col3\" class=\"data row10 col3\" >-0.125057</td>\n",
       "      <td id=\"T_96066_row10_col4\" class=\"data row10 col4\" >-0.125057</td>\n",
       "      <td id=\"T_96066_row10_col5\" class=\"data row10 col5\" >-0.125057</td>\n",
       "    </tr>\n",
       "    <tr>\n",
       "      <th id=\"T_96066_level0_row11\" class=\"row_heading level0 row11\" >VALK</th>\n",
       "      <td id=\"T_96066_row11_col0\" class=\"data row11 col0\" >nan</td>\n",
       "      <td id=\"T_96066_row11_col1\" class=\"data row11 col1\" >-0.508069</td>\n",
       "      <td id=\"T_96066_row11_col2\" class=\"data row11 col2\" >nan</td>\n",
       "      <td id=\"T_96066_row11_col3\" class=\"data row11 col3\" >-0.184464</td>\n",
       "      <td id=\"T_96066_row11_col4\" class=\"data row11 col4\" >-0.094839</td>\n",
       "      <td id=\"T_96066_row11_col5\" class=\"data row11 col5\" >-0.109617</td>\n",
       "    </tr>\n",
       "    <tr>\n",
       "      <th id=\"T_96066_level0_row12\" class=\"row_heading level0 row12\" >DOGS</th>\n",
       "      <td id=\"T_96066_row12_col0\" class=\"data row12 col0\" >-0.677674</td>\n",
       "      <td id=\"T_96066_row12_col1\" class=\"data row12 col1\" >0.476734</td>\n",
       "      <td id=\"T_96066_row12_col2\" class=\"data row12 col2\" >-0.770197</td>\n",
       "      <td id=\"T_96066_row12_col3\" class=\"data row12 col3\" >-0.301367</td>\n",
       "      <td id=\"T_96066_row12_col4\" class=\"data row12 col4\" >-0.746488</td>\n",
       "      <td id=\"T_96066_row12_col5\" class=\"data row12 col5\" >-0.592725</td>\n",
       "    </tr>\n",
       "    <tr>\n",
       "      <th id=\"T_96066_level0_row13\" class=\"row_heading level0 row13\" >MGT</th>\n",
       "      <td id=\"T_96066_row13_col0\" class=\"data row13 col0\" >nan</td>\n",
       "      <td id=\"T_96066_row13_col1\" class=\"data row13 col1\" >nan</td>\n",
       "      <td id=\"T_96066_row13_col2\" class=\"data row13 col2\" >nan</td>\n",
       "      <td id=\"T_96066_row13_col3\" class=\"data row13 col3\" >1.000000</td>\n",
       "      <td id=\"T_96066_row13_col4\" class=\"data row13 col4\" >1.000000</td>\n",
       "      <td id=\"T_96066_row13_col5\" class=\"data row13 col5\" >1.000000</td>\n",
       "    </tr>\n",
       "    <tr>\n",
       "      <th id=\"T_96066_level0_row14\" class=\"row_heading level0 row14\" >TUSD</th>\n",
       "      <td id=\"T_96066_row14_col0\" class=\"data row14 col0\" >0.058195</td>\n",
       "      <td id=\"T_96066_row14_col1\" class=\"data row14 col1\" >-0.036363</td>\n",
       "      <td id=\"T_96066_row14_col2\" class=\"data row14 col2\" >0.081384</td>\n",
       "      <td id=\"T_96066_row14_col3\" class=\"data row14 col3\" >-0.122794</td>\n",
       "      <td id=\"T_96066_row14_col4\" class=\"data row14 col4\" >0.075646</td>\n",
       "      <td id=\"T_96066_row14_col5\" class=\"data row14 col5\" >-0.053895</td>\n",
       "    </tr>\n",
       "    <tr>\n",
       "      <th id=\"T_96066_level0_row15\" class=\"row_heading level0 row15\" >FGD</th>\n",
       "      <td id=\"T_96066_row15_col0\" class=\"data row15 col0\" >nan</td>\n",
       "      <td id=\"T_96066_row15_col1\" class=\"data row15 col1\" >-0.139806</td>\n",
       "      <td id=\"T_96066_row15_col2\" class=\"data row15 col2\" >nan</td>\n",
       "      <td id=\"T_96066_row15_col3\" class=\"data row15 col3\" >0.078741</td>\n",
       "      <td id=\"T_96066_row15_col4\" class=\"data row15 col4\" >0.040178</td>\n",
       "      <td id=\"T_96066_row15_col5\" class=\"data row15 col5\" >0.044471</td>\n",
       "    </tr>\n",
       "    <tr>\n",
       "      <th id=\"T_96066_level0_row16\" class=\"row_heading level0 row16\" >BNX</th>\n",
       "      <td id=\"T_96066_row16_col0\" class=\"data row16 col0\" >0.793846</td>\n",
       "      <td id=\"T_96066_row16_col1\" class=\"data row16 col1\" >0.901402</td>\n",
       "      <td id=\"T_96066_row16_col2\" class=\"data row16 col2\" >0.130616</td>\n",
       "      <td id=\"T_96066_row16_col3\" class=\"data row16 col3\" >-0.047410</td>\n",
       "      <td id=\"T_96066_row16_col4\" class=\"data row16 col4\" >-0.091180</td>\n",
       "      <td id=\"T_96066_row16_col5\" class=\"data row16 col5\" >0.635394</td>\n",
       "    </tr>\n",
       "    <tr>\n",
       "      <th id=\"T_96066_level0_row17\" class=\"row_heading level0 row17\" >ELEPHANT</th>\n",
       "      <td id=\"T_96066_row17_col0\" class=\"data row17 col0\" >0.183369</td>\n",
       "      <td id=\"T_96066_row17_col1\" class=\"data row17 col1\" >0.100107</td>\n",
       "      <td id=\"T_96066_row17_col2\" class=\"data row17 col2\" >0.190571</td>\n",
       "      <td id=\"T_96066_row17_col3\" class=\"data row17 col3\" >-0.119025</td>\n",
       "      <td id=\"T_96066_row17_col4\" class=\"data row17 col4\" >-0.187933</td>\n",
       "      <td id=\"T_96066_row17_col5\" class=\"data row17 col5\" >-0.195842</td>\n",
       "    </tr>\n",
       "    <tr>\n",
       "      <th id=\"T_96066_level0_row18\" class=\"row_heading level0 row18\" >DAI</th>\n",
       "      <td id=\"T_96066_row18_col0\" class=\"data row18 col0\" >-0.025906</td>\n",
       "      <td id=\"T_96066_row18_col1\" class=\"data row18 col1\" >-0.041797</td>\n",
       "      <td id=\"T_96066_row18_col2\" class=\"data row18 col2\" >-0.055860</td>\n",
       "      <td id=\"T_96066_row18_col3\" class=\"data row18 col3\" >0.018606</td>\n",
       "      <td id=\"T_96066_row18_col4\" class=\"data row18 col4\" >0.054211</td>\n",
       "      <td id=\"T_96066_row18_col5\" class=\"data row18 col5\" >0.037373</td>\n",
       "    </tr>\n",
       "    <tr>\n",
       "      <th id=\"T_96066_level0_row19\" class=\"row_heading level0 row19\" >BabyShibaInu</th>\n",
       "      <td id=\"T_96066_row19_col0\" class=\"data row19 col0\" >nan</td>\n",
       "      <td id=\"T_96066_row19_col1\" class=\"data row19 col1\" >nan</td>\n",
       "      <td id=\"T_96066_row19_col2\" class=\"data row19 col2\" >nan</td>\n",
       "      <td id=\"T_96066_row19_col3\" class=\"data row19 col3\" >-0.585059</td>\n",
       "      <td id=\"T_96066_row19_col4\" class=\"data row19 col4\" >0.230050</td>\n",
       "      <td id=\"T_96066_row19_col5\" class=\"data row19 col5\" >0.037669</td>\n",
       "    </tr>\n",
       "    <tr>\n",
       "      <th id=\"T_96066_level0_row20\" class=\"row_heading level0 row20\" >BSW</th>\n",
       "      <td id=\"T_96066_row20_col0\" class=\"data row20 col0\" >-0.181623</td>\n",
       "      <td id=\"T_96066_row20_col1\" class=\"data row20 col1\" >0.538830</td>\n",
       "      <td id=\"T_96066_row20_col2\" class=\"data row20 col2\" >0.569457</td>\n",
       "      <td id=\"T_96066_row20_col3\" class=\"data row20 col3\" >0.010158</td>\n",
       "      <td id=\"T_96066_row20_col4\" class=\"data row20 col4\" >-0.106917</td>\n",
       "      <td id=\"T_96066_row20_col5\" class=\"data row20 col5\" >0.029335</td>\n",
       "    </tr>\n",
       "    <tr>\n",
       "      <th id=\"T_96066_level0_row21\" class=\"row_heading level0 row21\" >NMX</th>\n",
       "      <td id=\"T_96066_row21_col0\" class=\"data row21 col0\" >nan</td>\n",
       "      <td id=\"T_96066_row21_col1\" class=\"data row21 col1\" >nan</td>\n",
       "      <td id=\"T_96066_row21_col2\" class=\"data row21 col2\" >nan</td>\n",
       "      <td id=\"T_96066_row21_col3\" class=\"data row21 col3\" >0.131880</td>\n",
       "      <td id=\"T_96066_row21_col4\" class=\"data row21 col4\" >0.019496</td>\n",
       "      <td id=\"T_96066_row21_col5\" class=\"data row21 col5\" >0.132303</td>\n",
       "    </tr>\n",
       "    <tr>\n",
       "      <th id=\"T_96066_level0_row22\" class=\"row_heading level0 row22\" >BTT</th>\n",
       "      <td id=\"T_96066_row22_col0\" class=\"data row22 col0\" >-0.524168</td>\n",
       "      <td id=\"T_96066_row22_col1\" class=\"data row22 col1\" >-0.123504</td>\n",
       "      <td id=\"T_96066_row22_col2\" class=\"data row22 col2\" >0.266417</td>\n",
       "      <td id=\"T_96066_row22_col3\" class=\"data row22 col3\" >0.384738</td>\n",
       "      <td id=\"T_96066_row22_col4\" class=\"data row22 col4\" >0.124226</td>\n",
       "      <td id=\"T_96066_row22_col5\" class=\"data row22 col5\" >0.387221</td>\n",
       "    </tr>\n",
       "    <tr>\n",
       "      <th id=\"T_96066_level0_row23\" class=\"row_heading level0 row23\" >BabyDoge</th>\n",
       "      <td id=\"T_96066_row23_col0\" class=\"data row23 col0\" >0.053798</td>\n",
       "      <td id=\"T_96066_row23_col1\" class=\"data row23 col1\" >0.035071</td>\n",
       "      <td id=\"T_96066_row23_col2\" class=\"data row23 col2\" >0.080286</td>\n",
       "      <td id=\"T_96066_row23_col3\" class=\"data row23 col3\" >0.290218</td>\n",
       "      <td id=\"T_96066_row23_col4\" class=\"data row23 col4\" >0.046386</td>\n",
       "      <td id=\"T_96066_row23_col5\" class=\"data row23 col5\" >0.323877</td>\n",
       "    </tr>\n",
       "    <tr>\n",
       "      <th id=\"T_96066_level0_row24\" class=\"row_heading level0 row24\" >MBOX</th>\n",
       "      <td id=\"T_96066_row24_col0\" class=\"data row24 col0\" >-0.456135</td>\n",
       "      <td id=\"T_96066_row24_col1\" class=\"data row24 col1\" >-0.602171</td>\n",
       "      <td id=\"T_96066_row24_col2\" class=\"data row24 col2\" >-0.549363</td>\n",
       "      <td id=\"T_96066_row24_col3\" class=\"data row24 col3\" >0.100419</td>\n",
       "      <td id=\"T_96066_row24_col4\" class=\"data row24 col4\" >0.033138</td>\n",
       "      <td id=\"T_96066_row24_col5\" class=\"data row24 col5\" >0.091102</td>\n",
       "    </tr>\n",
       "    <tr>\n",
       "      <th id=\"T_96066_level0_row25\" class=\"row_heading level0 row25\" >AFP</th>\n",
       "      <td id=\"T_96066_row25_col0\" class=\"data row25 col0\" >0.534987</td>\n",
       "      <td id=\"T_96066_row25_col1\" class=\"data row25 col1\" >0.833610</td>\n",
       "      <td id=\"T_96066_row25_col2\" class=\"data row25 col2\" >-0.081770</td>\n",
       "      <td id=\"T_96066_row25_col3\" class=\"data row25 col3\" >0.316835</td>\n",
       "      <td id=\"T_96066_row25_col4\" class=\"data row25 col4\" >0.607736</td>\n",
       "      <td id=\"T_96066_row25_col5\" class=\"data row25 col5\" >0.676160</td>\n",
       "    </tr>\n",
       "  </tbody>\n",
       "</table>\n"
      ],
      "text/plain": [
       "<pandas.io.formats.style.Styler at 0x7f2ee9202990>"
      ]
     },
     "execution_count": 82,
     "metadata": {},
     "output_type": "execute_result"
    }
   ],
   "source": [
    "from_ = \"2022-01-01\"\n",
    "to = \"2022-06-01\"\n",
    "resolution = \"D1\"\n",
    "\n",
    "correlations = pd.DataFrame()\n",
    "for _, row in tqdm(tokens.iterrows(), total=tokens.shape[0], desc=\"Iteration of tokens\"):\n",
    "    c = calculate_price_messages_correlation(\n",
    "        client=client,\n",
    "        contract = row[\"contract\"],\n",
    "        symbol = row[\"symbol\"],\n",
    "        chain = row[\"chain\"],\n",
    "        from_ = from_,\n",
    "        to = to,\n",
    "        resolution = resolution,\n",
    "    )\n",
    "    if c is None or all(c.isna()):\n",
    "        continue\n",
    "    correlations[row[\"symbol\"]] = c\n",
    "\n",
    "correlations = correlations.T\n",
    "rwg_cmap=LinearSegmentedColormap.from_list('rg',[\"r\", \"w\", \"g\"], N=256)\n",
    "correlations.style.background_gradient(\n",
    "    cmap=rwg_cmap, \n",
    "    axis=None,\n",
    "    vmin=-1,\n",
    "    vmax=1,\n",
    ").applymap(lambda x: 'background: black' if pd.isnull(x) else '')"
   ]
  },
  {
   "cell_type": "code",
   "execution_count": 98,
   "metadata": {},
   "outputs": [
    {
     "data": {
      "text/html": [
       "<style type=\"text/css\">\n",
       "#T_5f5ad_row0_col0, #T_5f5ad_row0_col1, #T_5f5ad_row0_col2, #T_5f5ad_row1_col1, #T_5f5ad_row1_col2, #T_5f5ad_row1_col3, #T_5f5ad_row2_col1, #T_5f5ad_row4_col0, #T_5f5ad_row4_col2, #T_5f5ad_row6_col0, #T_5f5ad_row6_col1, #T_5f5ad_row6_col2, #T_5f5ad_row8_col0, #T_5f5ad_row8_col1, #T_5f5ad_row8_col2, #T_5f5ad_row9_col0, #T_5f5ad_row9_col2, #T_5f5ad_row12_col0, #T_5f5ad_row12_col2, #T_5f5ad_row16_col0, #T_5f5ad_row16_col1, #T_5f5ad_row16_col2, #T_5f5ad_row18_col0, #T_5f5ad_row18_col1, #T_5f5ad_row18_col2 {\n",
       "  background-color: #ff0000;\n",
       "  color: #f1f1f1;\n",
       "  background: black;\n",
       "}\n",
       "#T_5f5ad_row0_col3 {\n",
       "  background-color: #ff2a2a;\n",
       "  color: #f1f1f1;\n",
       "}\n",
       "#T_5f5ad_row0_col4 {\n",
       "  background-color: #ff4646;\n",
       "  color: #f1f1f1;\n",
       "}\n",
       "#T_5f5ad_row0_col5 {\n",
       "  background-color: #ff1818;\n",
       "  color: #f1f1f1;\n",
       "}\n",
       "#T_5f5ad_row1_col0 {\n",
       "  background-color: #ff8080;\n",
       "  color: #f1f1f1;\n",
       "}\n",
       "#T_5f5ad_row1_col4 {\n",
       "  background-color: #ff9a9a;\n",
       "  color: #000000;\n",
       "}\n",
       "#T_5f5ad_row1_col5, #T_5f5ad_row16_col3 {\n",
       "  background-color: #ff6a6a;\n",
       "  color: #f1f1f1;\n",
       "}\n",
       "#T_5f5ad_row2_col0, #T_5f5ad_row9_col5 {\n",
       "  background-color: #ffe2e2;\n",
       "  color: #000000;\n",
       "}\n",
       "#T_5f5ad_row2_col2 {\n",
       "  background-color: #ffb6b6;\n",
       "  color: #000000;\n",
       "}\n",
       "#T_5f5ad_row2_col3, #T_5f5ad_row5_col3, #T_5f5ad_row19_col4 {\n",
       "  background-color: #e0f0e0;\n",
       "  color: #000000;\n",
       "}\n",
       "#T_5f5ad_row2_col4 {\n",
       "  background-color: #bedebe;\n",
       "  color: #000000;\n",
       "}\n",
       "#T_5f5ad_row2_col5 {\n",
       "  background-color: #bcdebc;\n",
       "  color: #000000;\n",
       "}\n",
       "#T_5f5ad_row3_col0, #T_5f5ad_row5_col2 {\n",
       "  background-color: #d4ead4;\n",
       "  color: #000000;\n",
       "}\n",
       "#T_5f5ad_row3_col1, #T_5f5ad_row3_col3 {\n",
       "  background-color: #fffcfc;\n",
       "  color: #000000;\n",
       "}\n",
       "#T_5f5ad_row3_col2, #T_5f5ad_row12_col1 {\n",
       "  background-color: #ffdcdc;\n",
       "  color: #000000;\n",
       "}\n",
       "#T_5f5ad_row3_col4, #T_5f5ad_row22_col2 {\n",
       "  background-color: #ffeaea;\n",
       "  color: #000000;\n",
       "}\n",
       "#T_5f5ad_row3_col5, #T_5f5ad_row17_col5 {\n",
       "  background-color: #f8fcf8;\n",
       "  color: #000000;\n",
       "}\n",
       "#T_5f5ad_row4_col1 {\n",
       "  background-color: #ff2e2e;\n",
       "  color: #f1f1f1;\n",
       "}\n",
       "#T_5f5ad_row4_col3 {\n",
       "  background-color: #ff4e4e;\n",
       "  color: #f1f1f1;\n",
       "}\n",
       "#T_5f5ad_row4_col4, #T_5f5ad_row10_col5 {\n",
       "  background-color: #ff6868;\n",
       "  color: #f1f1f1;\n",
       "}\n",
       "#T_5f5ad_row4_col5 {\n",
       "  background-color: #ff2222;\n",
       "  color: #f1f1f1;\n",
       "}\n",
       "#T_5f5ad_row5_col0, #T_5f5ad_row11_col2, #T_5f5ad_row12_col3, #T_5f5ad_row20_col2 {\n",
       "  background-color: #eaf4ea;\n",
       "  color: #000000;\n",
       "}\n",
       "#T_5f5ad_row5_col1, #T_5f5ad_row5_col5 {\n",
       "  background-color: #e4f2e4;\n",
       "  color: #000000;\n",
       "}\n",
       "#T_5f5ad_row5_col4, #T_5f5ad_row14_col1, #T_5f5ad_row21_col3 {\n",
       "  background-color: #e6f2e6;\n",
       "  color: #000000;\n",
       "}\n",
       "#T_5f5ad_row6_col3, #T_5f5ad_row15_col0 {\n",
       "  background-color: #fff8f8;\n",
       "  color: #000000;\n",
       "}\n",
       "#T_5f5ad_row6_col4 {\n",
       "  background-color: #cce6cc;\n",
       "  color: #000000;\n",
       "}\n",
       "#T_5f5ad_row6_col5, #T_5f5ad_row14_col2 {\n",
       "  background-color: #cee6ce;\n",
       "  color: #000000;\n",
       "}\n",
       "#T_5f5ad_row7_col0 {\n",
       "  background-color: #ff9696;\n",
       "  color: #000000;\n",
       "}\n",
       "#T_5f5ad_row7_col1 {\n",
       "  background-color: #ffecec;\n",
       "  color: #000000;\n",
       "}\n",
       "#T_5f5ad_row7_col2, #T_5f5ad_row15_col3, #T_5f5ad_row18_col4 {\n",
       "  background-color: #fafcfa;\n",
       "  color: #000000;\n",
       "}\n",
       "#T_5f5ad_row7_col3, #T_5f5ad_row7_col4 {\n",
       "  background-color: #ffd8d8;\n",
       "  color: #000000;\n",
       "}\n",
       "#T_5f5ad_row7_col5 {\n",
       "  background-color: #ffa0a0;\n",
       "  color: #000000;\n",
       "}\n",
       "#T_5f5ad_row8_col3, #T_5f5ad_row8_col4, #T_5f5ad_row8_col5 {\n",
       "  background-color: #ffdede;\n",
       "  color: #000000;\n",
       "}\n",
       "#T_5f5ad_row9_col1 {\n",
       "  background-color: #ff7c7c;\n",
       "  color: #f1f1f1;\n",
       "}\n",
       "#T_5f5ad_row9_col3, #T_5f5ad_row17_col0 {\n",
       "  background-color: #ffd0d0;\n",
       "  color: #000000;\n",
       "}\n",
       "#T_5f5ad_row9_col4 {\n",
       "  background-color: #ffe6e6;\n",
       "  color: #000000;\n",
       "}\n",
       "#T_5f5ad_row10_col0 {\n",
       "  background-color: #ff5252;\n",
       "  color: #f1f1f1;\n",
       "}\n",
       "#T_5f5ad_row10_col1 {\n",
       "  background-color: #84c284;\n",
       "  color: #000000;\n",
       "}\n",
       "#T_5f5ad_row10_col2 {\n",
       "  background-color: #ff3a3a;\n",
       "  color: #f1f1f1;\n",
       "}\n",
       "#T_5f5ad_row10_col3 {\n",
       "  background-color: #ffb2b2;\n",
       "  color: #000000;\n",
       "}\n",
       "#T_5f5ad_row10_col4 {\n",
       "  background-color: #ff4040;\n",
       "  color: #f1f1f1;\n",
       "}\n",
       "#T_5f5ad_row11_col0 {\n",
       "  background-color: #f0f8f0;\n",
       "  color: #000000;\n",
       "}\n",
       "#T_5f5ad_row11_col1 {\n",
       "  background-color: #fff6f6;\n",
       "  color: #000000;\n",
       "}\n",
       "#T_5f5ad_row11_col3, #T_5f5ad_row14_col3, #T_5f5ad_row19_col1 {\n",
       "  background-color: #ffe0e0;\n",
       "  color: #000000;\n",
       "}\n",
       "#T_5f5ad_row11_col4 {\n",
       "  background-color: #ecf6ec;\n",
       "  color: #000000;\n",
       "}\n",
       "#T_5f5ad_row11_col5, #T_5f5ad_row13_col3 {\n",
       "  background-color: #fff2f2;\n",
       "  color: #000000;\n",
       "}\n",
       "#T_5f5ad_row12_col4, #T_5f5ad_row12_col5, #T_5f5ad_row20_col4 {\n",
       "  background-color: #f4faf4;\n",
       "  color: #000000;\n",
       "}\n",
       "#T_5f5ad_row13_col0 {\n",
       "  background-color: #349a34;\n",
       "  color: #f1f1f1;\n",
       "}\n",
       "#T_5f5ad_row13_col1 {\n",
       "  background-color: #188c18;\n",
       "  color: #f1f1f1;\n",
       "}\n",
       "#T_5f5ad_row13_col2, #T_5f5ad_row18_col3, #T_5f5ad_row18_col5 {\n",
       "  background-color: #deeede;\n",
       "  color: #000000;\n",
       "}\n",
       "#T_5f5ad_row13_col4 {\n",
       "  background-color: #ffe8e8;\n",
       "  color: #000000;\n",
       "}\n",
       "#T_5f5ad_row13_col5 {\n",
       "  background-color: #5cae5c;\n",
       "  color: #f1f1f1;\n",
       "}\n",
       "#T_5f5ad_row14_col0 {\n",
       "  background-color: #d0e8d0;\n",
       "  color: #000000;\n",
       "}\n",
       "#T_5f5ad_row14_col4 {\n",
       "  background-color: #ffcece;\n",
       "  color: #000000;\n",
       "}\n",
       "#T_5f5ad_row14_col5 {\n",
       "  background-color: #ffcccc;\n",
       "  color: #000000;\n",
       "}\n",
       "#T_5f5ad_row15_col1 {\n",
       "  background-color: #fff4f4;\n",
       "  color: #000000;\n",
       "}\n",
       "#T_5f5ad_row15_col2 {\n",
       "  background-color: #fff0f0;\n",
       "  color: #000000;\n",
       "}\n",
       "#T_5f5ad_row15_col4, #T_5f5ad_row20_col0 {\n",
       "  background-color: #f2f8f2;\n",
       "  color: #000000;\n",
       "}\n",
       "#T_5f5ad_row15_col5, #T_5f5ad_row16_col5, #T_5f5ad_row20_col1, #T_5f5ad_row21_col4 {\n",
       "  background-color: #f6fbf6;\n",
       "  color: #000000;\n",
       "}\n",
       "#T_5f5ad_row16_col4 {\n",
       "  background-color: #c4e2c4;\n",
       "  color: #000000;\n",
       "}\n",
       "#T_5f5ad_row17_col1, #T_5f5ad_row22_col0 {\n",
       "  background-color: #76bb76;\n",
       "  color: #f1f1f1;\n",
       "}\n",
       "#T_5f5ad_row17_col2 {\n",
       "  background-color: #6eb66e;\n",
       "  color: #f1f1f1;\n",
       "}\n",
       "#T_5f5ad_row17_col3 {\n",
       "  background-color: #fcfefc;\n",
       "  color: #000000;\n",
       "}\n",
       "#T_5f5ad_row17_col4 {\n",
       "  background-color: #ffe4e4;\n",
       "  color: #000000;\n",
       "}\n",
       "#T_5f5ad_row19_col0 {\n",
       "  background-color: #ff7878;\n",
       "  color: #f1f1f1;\n",
       "}\n",
       "#T_5f5ad_row19_col2 {\n",
       "  background-color: #badcba;\n",
       "  color: #000000;\n",
       "}\n",
       "#T_5f5ad_row19_col3, #T_5f5ad_row19_col5 {\n",
       "  background-color: #9cce9c;\n",
       "  color: #000000;\n",
       "}\n",
       "#T_5f5ad_row20_col3 {\n",
       "  background-color: #b4dab4;\n",
       "  color: #000000;\n",
       "}\n",
       "#T_5f5ad_row20_col5 {\n",
       "  background-color: #acd6ac;\n",
       "  color: #000000;\n",
       "}\n",
       "#T_5f5ad_row21_col0 {\n",
       "  background-color: #ff8a8a;\n",
       "  color: #000000;\n",
       "}\n",
       "#T_5f5ad_row21_col1 {\n",
       "  background-color: #ff6464;\n",
       "  color: #f1f1f1;\n",
       "}\n",
       "#T_5f5ad_row21_col2 {\n",
       "  background-color: #ff7272;\n",
       "  color: #f1f1f1;\n",
       "}\n",
       "#T_5f5ad_row21_col5 {\n",
       "  background-color: #e8f4e8;\n",
       "  color: #000000;\n",
       "}\n",
       "#T_5f5ad_row22_col1 {\n",
       "  background-color: #2a942a;\n",
       "  color: #f1f1f1;\n",
       "}\n",
       "#T_5f5ad_row22_col3 {\n",
       "  background-color: #aed6ae;\n",
       "  color: #000000;\n",
       "}\n",
       "#T_5f5ad_row22_col4 {\n",
       "  background-color: #64b264;\n",
       "  color: #f1f1f1;\n",
       "}\n",
       "#T_5f5ad_row22_col5 {\n",
       "  background-color: #52a852;\n",
       "  color: #f1f1f1;\n",
       "}\n",
       "</style>\n",
       "<table id=\"T_5f5ad_\">\n",
       "  <thead>\n",
       "    <tr>\n",
       "      <th class=\"blank level0\" >&nbsp;</th>\n",
       "      <th class=\"col_heading level0 col0\" >discord</th>\n",
       "      <th class=\"col_heading level0 col1\" >publications</th>\n",
       "      <th class=\"col_heading level0 col2\" >reddit</th>\n",
       "      <th class=\"col_heading level0 col3\" >telegram</th>\n",
       "      <th class=\"col_heading level0 col4\" >twitter</th>\n",
       "      <th class=\"col_heading level0 col5\" >total</th>\n",
       "    </tr>\n",
       "  </thead>\n",
       "  <tbody>\n",
       "    <tr>\n",
       "      <th id=\"T_5f5ad_level0_row0\" class=\"row_heading level0 row0\" >SLOKI</th>\n",
       "      <td id=\"T_5f5ad_row0_col0\" class=\"data row0 col0\" >nan</td>\n",
       "      <td id=\"T_5f5ad_row0_col1\" class=\"data row0 col1\" >nan</td>\n",
       "      <td id=\"T_5f5ad_row0_col2\" class=\"data row0 col2\" >nan</td>\n",
       "      <td id=\"T_5f5ad_row0_col3\" class=\"data row0 col3\" >-0.834200</td>\n",
       "      <td id=\"T_5f5ad_row0_col4\" class=\"data row0 col4\" >-0.725500</td>\n",
       "      <td id=\"T_5f5ad_row0_col5\" class=\"data row0 col5\" >-0.903700</td>\n",
       "    </tr>\n",
       "    <tr>\n",
       "      <th id=\"T_5f5ad_level0_row1\" class=\"row_heading level0 row1\" >GOLD NUGGET</th>\n",
       "      <td id=\"T_5f5ad_row1_col0\" class=\"data row1 col0\" >-0.494400</td>\n",
       "      <td id=\"T_5f5ad_row1_col1\" class=\"data row1 col1\" >nan</td>\n",
       "      <td id=\"T_5f5ad_row1_col2\" class=\"data row1 col2\" >nan</td>\n",
       "      <td id=\"T_5f5ad_row1_col3\" class=\"data row1 col3\" >nan</td>\n",
       "      <td id=\"T_5f5ad_row1_col4\" class=\"data row1 col4\" >-0.391800</td>\n",
       "      <td id=\"T_5f5ad_row1_col5\" class=\"data row1 col5\" >-0.580200</td>\n",
       "    </tr>\n",
       "    <tr>\n",
       "      <th id=\"T_5f5ad_level0_row2\" class=\"row_heading level0 row2\" >BTCB</th>\n",
       "      <td id=\"T_5f5ad_row2_col0\" class=\"data row2 col0\" >-0.115300</td>\n",
       "      <td id=\"T_5f5ad_row2_col1\" class=\"data row2 col1\" >nan</td>\n",
       "      <td id=\"T_5f5ad_row2_col2\" class=\"data row2 col2\" >-0.281900</td>\n",
       "      <td id=\"T_5f5ad_row2_col3\" class=\"data row2 col3\" >0.124600</td>\n",
       "      <td id=\"T_5f5ad_row2_col4\" class=\"data row2 col4\" >0.253000</td>\n",
       "      <td id=\"T_5f5ad_row2_col5\" class=\"data row2 col5\" >0.259300</td>\n",
       "    </tr>\n",
       "    <tr>\n",
       "      <th id=\"T_5f5ad_level0_row3\" class=\"row_heading level0 row3\" >USDC</th>\n",
       "      <td id=\"T_5f5ad_row3_col0\" class=\"data row3 col0\" >0.165200</td>\n",
       "      <td id=\"T_5f5ad_row3_col1\" class=\"data row3 col1\" >-0.008700</td>\n",
       "      <td id=\"T_5f5ad_row3_col2\" class=\"data row3 col2\" >-0.133900</td>\n",
       "      <td id=\"T_5f5ad_row3_col3\" class=\"data row3 col3\" >-0.012000</td>\n",
       "      <td id=\"T_5f5ad_row3_col4\" class=\"data row3 col4\" >-0.085100</td>\n",
       "      <td id=\"T_5f5ad_row3_col5\" class=\"data row3 col5\" >0.027200</td>\n",
       "    </tr>\n",
       "    <tr>\n",
       "      <th id=\"T_5f5ad_level0_row4\" class=\"row_heading level0 row4\" >RRB</th>\n",
       "      <td id=\"T_5f5ad_row4_col0\" class=\"data row4 col0\" >nan</td>\n",
       "      <td id=\"T_5f5ad_row4_col1\" class=\"data row4 col1\" >-0.818900</td>\n",
       "      <td id=\"T_5f5ad_row4_col2\" class=\"data row4 col2\" >nan</td>\n",
       "      <td id=\"T_5f5ad_row4_col3\" class=\"data row4 col3\" >-0.692800</td>\n",
       "      <td id=\"T_5f5ad_row4_col4\" class=\"data row4 col4\" >-0.591800</td>\n",
       "      <td id=\"T_5f5ad_row4_col5\" class=\"data row4 col5\" >-0.862800</td>\n",
       "    </tr>\n",
       "    <tr>\n",
       "      <th id=\"T_5f5ad_level0_row5\" class=\"row_heading level0 row5\" >FIST</th>\n",
       "      <td id=\"T_5f5ad_row5_col0\" class=\"data row5 col0\" >0.085600</td>\n",
       "      <td id=\"T_5f5ad_row5_col1\" class=\"data row5 col1\" >0.105600</td>\n",
       "      <td id=\"T_5f5ad_row5_col2\" class=\"data row5 col2\" >0.170200</td>\n",
       "      <td id=\"T_5f5ad_row5_col3\" class=\"data row5 col3\" >0.124300</td>\n",
       "      <td id=\"T_5f5ad_row5_col4\" class=\"data row5 col4\" >0.098500</td>\n",
       "      <td id=\"T_5f5ad_row5_col5\" class=\"data row5 col5\" >0.104600</td>\n",
       "    </tr>\n",
       "    <tr>\n",
       "      <th id=\"T_5f5ad_level0_row6\" class=\"row_heading level0 row6\" >OSK</th>\n",
       "      <td id=\"T_5f5ad_row6_col0\" class=\"data row6 col0\" >nan</td>\n",
       "      <td id=\"T_5f5ad_row6_col1\" class=\"data row6 col1\" >nan</td>\n",
       "      <td id=\"T_5f5ad_row6_col2\" class=\"data row6 col2\" >nan</td>\n",
       "      <td id=\"T_5f5ad_row6_col3\" class=\"data row6 col3\" >-0.026700</td>\n",
       "      <td id=\"T_5f5ad_row6_col4\" class=\"data row6 col4\" >0.199300</td>\n",
       "      <td id=\"T_5f5ad_row6_col5\" class=\"data row6 col5\" >0.188400</td>\n",
       "    </tr>\n",
       "    <tr>\n",
       "      <th id=\"T_5f5ad_level0_row7\" class=\"row_heading level0 row7\" >ETH</th>\n",
       "      <td id=\"T_5f5ad_row7_col0\" class=\"data row7 col0\" >-0.411900</td>\n",
       "      <td id=\"T_5f5ad_row7_col1\" class=\"data row7 col1\" >-0.074100</td>\n",
       "      <td id=\"T_5f5ad_row7_col2\" class=\"data row7 col2\" >0.022700</td>\n",
       "      <td id=\"T_5f5ad_row7_col3\" class=\"data row7 col3\" >-0.156000</td>\n",
       "      <td id=\"T_5f5ad_row7_col4\" class=\"data row7 col4\" >-0.156000</td>\n",
       "      <td id=\"T_5f5ad_row7_col5\" class=\"data row7 col5\" >-0.372900</td>\n",
       "    </tr>\n",
       "    <tr>\n",
       "      <th id=\"T_5f5ad_level0_row8\" class=\"row_heading level0 row8\" >FON</th>\n",
       "      <td id=\"T_5f5ad_row8_col0\" class=\"data row8 col0\" >nan</td>\n",
       "      <td id=\"T_5f5ad_row8_col1\" class=\"data row8 col1\" >nan</td>\n",
       "      <td id=\"T_5f5ad_row8_col2\" class=\"data row8 col2\" >nan</td>\n",
       "      <td id=\"T_5f5ad_row8_col3\" class=\"data row8 col3\" >-0.125100</td>\n",
       "      <td id=\"T_5f5ad_row8_col4\" class=\"data row8 col4\" >-0.125100</td>\n",
       "      <td id=\"T_5f5ad_row8_col5\" class=\"data row8 col5\" >-0.125100</td>\n",
       "    </tr>\n",
       "    <tr>\n",
       "      <th id=\"T_5f5ad_level0_row9\" class=\"row_heading level0 row9\" >VALK</th>\n",
       "      <td id=\"T_5f5ad_row9_col0\" class=\"data row9 col0\" >nan</td>\n",
       "      <td id=\"T_5f5ad_row9_col1\" class=\"data row9 col1\" >-0.508100</td>\n",
       "      <td id=\"T_5f5ad_row9_col2\" class=\"data row9 col2\" >nan</td>\n",
       "      <td id=\"T_5f5ad_row9_col3\" class=\"data row9 col3\" >-0.184500</td>\n",
       "      <td id=\"T_5f5ad_row9_col4\" class=\"data row9 col4\" >-0.094800</td>\n",
       "      <td id=\"T_5f5ad_row9_col5\" class=\"data row9 col5\" >-0.109600</td>\n",
       "    </tr>\n",
       "    <tr>\n",
       "      <th id=\"T_5f5ad_level0_row10\" class=\"row_heading level0 row10\" >DOGS</th>\n",
       "      <td id=\"T_5f5ad_row10_col0\" class=\"data row10 col0\" >-0.677700</td>\n",
       "      <td id=\"T_5f5ad_row10_col1\" class=\"data row10 col1\" >0.476700</td>\n",
       "      <td id=\"T_5f5ad_row10_col2\" class=\"data row10 col2\" >-0.770200</td>\n",
       "      <td id=\"T_5f5ad_row10_col3\" class=\"data row10 col3\" >-0.301400</td>\n",
       "      <td id=\"T_5f5ad_row10_col4\" class=\"data row10 col4\" >-0.746500</td>\n",
       "      <td id=\"T_5f5ad_row10_col5\" class=\"data row10 col5\" >-0.592700</td>\n",
       "    </tr>\n",
       "    <tr>\n",
       "      <th id=\"T_5f5ad_level0_row11\" class=\"row_heading level0 row11\" >TUSD</th>\n",
       "      <td id=\"T_5f5ad_row11_col0\" class=\"data row11 col0\" >0.058200</td>\n",
       "      <td id=\"T_5f5ad_row11_col1\" class=\"data row11 col1\" >-0.036400</td>\n",
       "      <td id=\"T_5f5ad_row11_col2\" class=\"data row11 col2\" >0.081400</td>\n",
       "      <td id=\"T_5f5ad_row11_col3\" class=\"data row11 col3\" >-0.122800</td>\n",
       "      <td id=\"T_5f5ad_row11_col4\" class=\"data row11 col4\" >0.075600</td>\n",
       "      <td id=\"T_5f5ad_row11_col5\" class=\"data row11 col5\" >-0.053900</td>\n",
       "    </tr>\n",
       "    <tr>\n",
       "      <th id=\"T_5f5ad_level0_row12\" class=\"row_heading level0 row12\" >FGD</th>\n",
       "      <td id=\"T_5f5ad_row12_col0\" class=\"data row12 col0\" >nan</td>\n",
       "      <td id=\"T_5f5ad_row12_col1\" class=\"data row12 col1\" >-0.139800</td>\n",
       "      <td id=\"T_5f5ad_row12_col2\" class=\"data row12 col2\" >nan</td>\n",
       "      <td id=\"T_5f5ad_row12_col3\" class=\"data row12 col3\" >0.078700</td>\n",
       "      <td id=\"T_5f5ad_row12_col4\" class=\"data row12 col4\" >0.040200</td>\n",
       "      <td id=\"T_5f5ad_row12_col5\" class=\"data row12 col5\" >0.044500</td>\n",
       "    </tr>\n",
       "    <tr>\n",
       "      <th id=\"T_5f5ad_level0_row13\" class=\"row_heading level0 row13\" >BNX</th>\n",
       "      <td id=\"T_5f5ad_row13_col0\" class=\"data row13 col0\" >0.793800</td>\n",
       "      <td id=\"T_5f5ad_row13_col1\" class=\"data row13 col1\" >0.901400</td>\n",
       "      <td id=\"T_5f5ad_row13_col2\" class=\"data row13 col2\" >0.130600</td>\n",
       "      <td id=\"T_5f5ad_row13_col3\" class=\"data row13 col3\" >-0.047400</td>\n",
       "      <td id=\"T_5f5ad_row13_col4\" class=\"data row13 col4\" >-0.091200</td>\n",
       "      <td id=\"T_5f5ad_row13_col5\" class=\"data row13 col5\" >0.635400</td>\n",
       "    </tr>\n",
       "    <tr>\n",
       "      <th id=\"T_5f5ad_level0_row14\" class=\"row_heading level0 row14\" >ELEPHANT</th>\n",
       "      <td id=\"T_5f5ad_row14_col0\" class=\"data row14 col0\" >0.183400</td>\n",
       "      <td id=\"T_5f5ad_row14_col1\" class=\"data row14 col1\" >0.100100</td>\n",
       "      <td id=\"T_5f5ad_row14_col2\" class=\"data row14 col2\" >0.190600</td>\n",
       "      <td id=\"T_5f5ad_row14_col3\" class=\"data row14 col3\" >-0.119000</td>\n",
       "      <td id=\"T_5f5ad_row14_col4\" class=\"data row14 col4\" >-0.187900</td>\n",
       "      <td id=\"T_5f5ad_row14_col5\" class=\"data row14 col5\" >-0.195800</td>\n",
       "    </tr>\n",
       "    <tr>\n",
       "      <th id=\"T_5f5ad_level0_row15\" class=\"row_heading level0 row15\" >DAI</th>\n",
       "      <td id=\"T_5f5ad_row15_col0\" class=\"data row15 col0\" >-0.025900</td>\n",
       "      <td id=\"T_5f5ad_row15_col1\" class=\"data row15 col1\" >-0.041800</td>\n",
       "      <td id=\"T_5f5ad_row15_col2\" class=\"data row15 col2\" >-0.055900</td>\n",
       "      <td id=\"T_5f5ad_row15_col3\" class=\"data row15 col3\" >0.018600</td>\n",
       "      <td id=\"T_5f5ad_row15_col4\" class=\"data row15 col4\" >0.054200</td>\n",
       "      <td id=\"T_5f5ad_row15_col5\" class=\"data row15 col5\" >0.037400</td>\n",
       "    </tr>\n",
       "    <tr>\n",
       "      <th id=\"T_5f5ad_level0_row16\" class=\"row_heading level0 row16\" >BabyShibaInu</th>\n",
       "      <td id=\"T_5f5ad_row16_col0\" class=\"data row16 col0\" >nan</td>\n",
       "      <td id=\"T_5f5ad_row16_col1\" class=\"data row16 col1\" >nan</td>\n",
       "      <td id=\"T_5f5ad_row16_col2\" class=\"data row16 col2\" >nan</td>\n",
       "      <td id=\"T_5f5ad_row16_col3\" class=\"data row16 col3\" >-0.585100</td>\n",
       "      <td id=\"T_5f5ad_row16_col4\" class=\"data row16 col4\" >0.230000</td>\n",
       "      <td id=\"T_5f5ad_row16_col5\" class=\"data row16 col5\" >0.037700</td>\n",
       "    </tr>\n",
       "    <tr>\n",
       "      <th id=\"T_5f5ad_level0_row17\" class=\"row_heading level0 row17\" >BSW</th>\n",
       "      <td id=\"T_5f5ad_row17_col0\" class=\"data row17 col0\" >-0.181600</td>\n",
       "      <td id=\"T_5f5ad_row17_col1\" class=\"data row17 col1\" >0.538800</td>\n",
       "      <td id=\"T_5f5ad_row17_col2\" class=\"data row17 col2\" >0.569500</td>\n",
       "      <td id=\"T_5f5ad_row17_col3\" class=\"data row17 col3\" >0.010200</td>\n",
       "      <td id=\"T_5f5ad_row17_col4\" class=\"data row17 col4\" >-0.106900</td>\n",
       "      <td id=\"T_5f5ad_row17_col5\" class=\"data row17 col5\" >0.029300</td>\n",
       "    </tr>\n",
       "    <tr>\n",
       "      <th id=\"T_5f5ad_level0_row18\" class=\"row_heading level0 row18\" >NMX</th>\n",
       "      <td id=\"T_5f5ad_row18_col0\" class=\"data row18 col0\" >nan</td>\n",
       "      <td id=\"T_5f5ad_row18_col1\" class=\"data row18 col1\" >nan</td>\n",
       "      <td id=\"T_5f5ad_row18_col2\" class=\"data row18 col2\" >nan</td>\n",
       "      <td id=\"T_5f5ad_row18_col3\" class=\"data row18 col3\" >0.131900</td>\n",
       "      <td id=\"T_5f5ad_row18_col4\" class=\"data row18 col4\" >0.019500</td>\n",
       "      <td id=\"T_5f5ad_row18_col5\" class=\"data row18 col5\" >0.132300</td>\n",
       "    </tr>\n",
       "    <tr>\n",
       "      <th id=\"T_5f5ad_level0_row19\" class=\"row_heading level0 row19\" >BTT</th>\n",
       "      <td id=\"T_5f5ad_row19_col0\" class=\"data row19 col0\" >-0.524200</td>\n",
       "      <td id=\"T_5f5ad_row19_col1\" class=\"data row19 col1\" >-0.123500</td>\n",
       "      <td id=\"T_5f5ad_row19_col2\" class=\"data row19 col2\" >0.266400</td>\n",
       "      <td id=\"T_5f5ad_row19_col3\" class=\"data row19 col3\" >0.384700</td>\n",
       "      <td id=\"T_5f5ad_row19_col4\" class=\"data row19 col4\" >0.124200</td>\n",
       "      <td id=\"T_5f5ad_row19_col5\" class=\"data row19 col5\" >0.387200</td>\n",
       "    </tr>\n",
       "    <tr>\n",
       "      <th id=\"T_5f5ad_level0_row20\" class=\"row_heading level0 row20\" >BabyDoge</th>\n",
       "      <td id=\"T_5f5ad_row20_col0\" class=\"data row20 col0\" >0.053800</td>\n",
       "      <td id=\"T_5f5ad_row20_col1\" class=\"data row20 col1\" >0.035100</td>\n",
       "      <td id=\"T_5f5ad_row20_col2\" class=\"data row20 col2\" >0.080300</td>\n",
       "      <td id=\"T_5f5ad_row20_col3\" class=\"data row20 col3\" >0.290200</td>\n",
       "      <td id=\"T_5f5ad_row20_col4\" class=\"data row20 col4\" >0.046400</td>\n",
       "      <td id=\"T_5f5ad_row20_col5\" class=\"data row20 col5\" >0.323900</td>\n",
       "    </tr>\n",
       "    <tr>\n",
       "      <th id=\"T_5f5ad_level0_row21\" class=\"row_heading level0 row21\" >MBOX</th>\n",
       "      <td id=\"T_5f5ad_row21_col0\" class=\"data row21 col0\" >-0.456100</td>\n",
       "      <td id=\"T_5f5ad_row21_col1\" class=\"data row21 col1\" >-0.602200</td>\n",
       "      <td id=\"T_5f5ad_row21_col2\" class=\"data row21 col2\" >-0.549400</td>\n",
       "      <td id=\"T_5f5ad_row21_col3\" class=\"data row21 col3\" >0.100400</td>\n",
       "      <td id=\"T_5f5ad_row21_col4\" class=\"data row21 col4\" >0.033100</td>\n",
       "      <td id=\"T_5f5ad_row21_col5\" class=\"data row21 col5\" >0.091100</td>\n",
       "    </tr>\n",
       "    <tr>\n",
       "      <th id=\"T_5f5ad_level0_row22\" class=\"row_heading level0 row22\" >AFP</th>\n",
       "      <td id=\"T_5f5ad_row22_col0\" class=\"data row22 col0\" >0.535000</td>\n",
       "      <td id=\"T_5f5ad_row22_col1\" class=\"data row22 col1\" >0.833600</td>\n",
       "      <td id=\"T_5f5ad_row22_col2\" class=\"data row22 col2\" >-0.081800</td>\n",
       "      <td id=\"T_5f5ad_row22_col3\" class=\"data row22 col3\" >0.316800</td>\n",
       "      <td id=\"T_5f5ad_row22_col4\" class=\"data row22 col4\" >0.607700</td>\n",
       "      <td id=\"T_5f5ad_row22_col5\" class=\"data row22 col5\" >0.676200</td>\n",
       "    </tr>\n",
       "  </tbody>\n",
       "</table>\n"
      ],
      "text/plain": [
       "<pandas.io.formats.style.Styler at 0x7f2ee8dbe6d0>"
      ]
     },
     "execution_count": 98,
     "metadata": {},
     "output_type": "execute_result"
    }
   ],
   "source": [
    "from  matplotlib.colors import LinearSegmentedColormap\n",
    "rwg_cmap=LinearSegmentedColormap.from_list('rg',[\"r\", \"w\", \"g\"], N=256)\n",
    "\n",
    "correlations.round(4).replace(-1.0, np.nan).replace(1.0, np.nan).dropna(how=\"all\").style.background_gradient(\n",
    "    cmap=rwg_cmap, \n",
    "    axis=None,\n",
    "    vmin=-1,\n",
    "    vmax=1,\n",
    ").applymap(lambda x: 'background: black' if pd.isnull(x) else '')"
   ]
  }
 ],
 "metadata": {
  "interpreter": {
   "hash": "c5e1fbb35f6f73757ee3f1685a0230ad9f20736172730fe2387c421ac6aeedba"
  },
  "kernelspec": {
   "display_name": "Python 3 (ipykernel)",
   "language": "python",
   "name": "python3"
  },
  "language_info": {
   "codemirror_mode": {
    "name": "ipython",
    "version": 3
   },
   "file_extension": ".py",
   "mimetype": "text/x-python",
   "name": "python",
   "nbconvert_exporter": "python",
   "pygments_lexer": "ipython3",
   "version": "3.9.9"
  }
 },
 "nbformat": 4,
 "nbformat_minor": 2
}
