{
 "cells": [
  {
   "cell_type": "markdown",
   "metadata": {},
   "source": [
    "# Wallets Farm Portfolio Example"
   ]
  },
  {
   "cell_type": "markdown",
   "metadata": {},
   "source": [
    "## Intro"
   ]
  },
  {
   "cell_type": "markdown",
   "metadata": {},
   "source": [
    "### Imports"
   ]
  },
  {
   "cell_type": "code",
   "execution_count": 1,
   "metadata": {},
   "outputs": [],
   "source": [
    "%reload_ext autoreload\n",
    "%autoreload 2"
   ]
  },
  {
   "cell_type": "code",
   "execution_count": 2,
   "metadata": {},
   "outputs": [],
   "source": [
    "import os\n",
    "import sys\n",
    "from dotenv import load_dotenv\n"
   ]
  },
  {
   "cell_type": "code",
   "execution_count": 3,
   "metadata": {},
   "outputs": [],
   "source": [
    "import matplotlib.pyplot as plt\n",
    "import pandas as pd\n",
    "from tqdm.notebook import tqdm, trange\n",
    "\n",
    "from helixirapi.helixir_api import HelixirApi"
   ]
  },
  {
   "cell_type": "code",
   "execution_count": 4,
   "metadata": {},
   "outputs": [],
   "source": [
    "import matplotlib.pyplot as plt\n",
    "plt.style.use('ggplot')\n",
    "\n",
    "import plotly.io as pio\n",
    "pio.renderers.default = \"notebook_connected\""
   ]
  },
  {
   "cell_type": "markdown",
   "metadata": {},
   "source": [
    "### Create client instance"
   ]
  },
  {
   "cell_type": "code",
   "execution_count": 5,
   "metadata": {},
   "outputs": [
    {
     "data": {
      "text/plain": [
       "<helixirapi.helixir_api.HelixirApi at 0x7f709caf2b90>"
      ]
     },
     "execution_count": 5,
     "metadata": {},
     "output_type": "execute_result"
    }
   ],
   "source": [
    "load_dotenv()\n",
    "AUTH_TOKEN = os.getenv(\"AUTH_TOKEN\")\n",
    "client = HelixirApi(auth_token=AUTH_TOKEN)\n",
    "client"
   ]
  },
  {
   "cell_type": "markdown",
   "metadata": {},
   "source": [
    "## Getting Data\n",
    "\n",
    "Method `get_wallets_farm_portfolio` returns balances from all supported farms for given address.\n",
    "\n",
    "***Parameters:***\n",
    "\n",
    "`chain`\n",
    "- It is an optional parameter with the default value `\"bsc\"` (_Binance Smart Chain_). The chain can be specified as a string (case insensitive) or an integer (chain id).\n",
    "\n",
    "`address`\n",
    "- Required parameter of wallet address (in string format).\n",
    "\n",
    "`validate_params`\n",
    "- An optional parameter with a default value equal to _True_."
   ]
  },
  {
   "cell_type": "code",
   "execution_count": 8,
   "metadata": {},
   "outputs": [
    {
     "data": {
      "text/plain": [
       "FarmsPortfolioResponse(\n",
       "\tsingle_asset_pools = [{'farm_name': 'Venus', 'farm_true_name': 'Venus', 'pools_balance': [{'token': 'vXRP', 'token_address': '0xB248a295732e0225acd3337607cc01068e3b9c10', 'reward_token': 'XVS', 'balance': '0.00916091', 'price': '0', 'pending_reward': '0', 'pending_reward_price': '7.404556079787264'}, {'token': 'vDAI', 'token_address': '0x334b3eCB4DCa3593BCCC3c7EBD1A1C1d1780FBF1', 'reward_token': 'XVS', 'balance': '0.25406915', 'price': '0.02036832410346632', 'pending_reward': '0', 'pending_reward_price': '7.404556079787264'}, {'token': 'vUSDT', 'token_address': '0xfD5840Cd36d94D7229439859C0112a4185BC0255', 'reward_token': 'XVS', 'balance': '0.26153116', 'price': '0.02167434517978843', 'pending_reward': '0', 'pending_reward_price': '7.404556079787264'}, {'token': 'vUSDC', 'token_address': '0xecA88125a5ADbe82614ffC12D0DB554E2e2867C8', 'reward_token': 'XVS', 'balance': '0.49339627', 'price': '0.009558039724823485', 'pending_reward': '0', 'pending_reward_price': '7.404556079787264'}, {'token': 'vXVS', 'token_address': '0x151B1e2635A717bcDc836ECd6FbB62B674FE3E1D', 'reward_token': 'XVS', 'balance': '0.15714831', 'price': '0.01888601383936685', 'pending_reward': '0', 'pending_reward_price': '7.404556079787264'}, {'token': 'vBNB', 'token_address': '0xA07c5b74C9B40447a954e1466938b865b6BBea36', 'reward_token': 'XVS', 'balance': '0.36384008', 'price': '17.917638183355376', 'pending_reward': '0', 'pending_reward_price': '7.404556079787264'}]}],\n",
       ")"
      ]
     },
     "execution_count": 8,
     "metadata": {},
     "output_type": "execute_result"
    }
   ],
   "source": [
    "portfolio = client.get_wallets_farm_portfolio(\n",
    "    address = \"0xac871e683dfbbe869f1184911b726a5c984e2607\",\n",
    ")\n",
    "portfolio"
   ]
  },
  {
   "cell_type": "code",
   "execution_count": 15,
   "metadata": {},
   "outputs": [
    {
     "data": {
      "text/html": [
       "<div>\n",
       "<style scoped>\n",
       "    .dataframe tbody tr th:only-of-type {\n",
       "        vertical-align: middle;\n",
       "    }\n",
       "\n",
       "    .dataframe tbody tr th {\n",
       "        vertical-align: top;\n",
       "    }\n",
       "\n",
       "    .dataframe thead th {\n",
       "        text-align: right;\n",
       "    }\n",
       "</style>\n",
       "<table border=\"1\" class=\"dataframe\">\n",
       "  <thead>\n",
       "    <tr style=\"text-align: right;\">\n",
       "      <th></th>\n",
       "      <th>token</th>\n",
       "      <th>token_address</th>\n",
       "      <th>reward_token</th>\n",
       "      <th>balance</th>\n",
       "      <th>price</th>\n",
       "      <th>pending_reward</th>\n",
       "      <th>pending_reward_price</th>\n",
       "    </tr>\n",
       "  </thead>\n",
       "  <tbody>\n",
       "    <tr>\n",
       "      <th>0</th>\n",
       "      <td>vXRP</td>\n",
       "      <td>0xB248a295732e0225acd3337607cc01068e3b9c10</td>\n",
       "      <td>XVS</td>\n",
       "      <td>0.00916091</td>\n",
       "      <td>0</td>\n",
       "      <td>0</td>\n",
       "      <td>7.404556079787264</td>\n",
       "    </tr>\n",
       "    <tr>\n",
       "      <th>1</th>\n",
       "      <td>vDAI</td>\n",
       "      <td>0x334b3eCB4DCa3593BCCC3c7EBD1A1C1d1780FBF1</td>\n",
       "      <td>XVS</td>\n",
       "      <td>0.25406915</td>\n",
       "      <td>0.02036832410346632</td>\n",
       "      <td>0</td>\n",
       "      <td>7.404556079787264</td>\n",
       "    </tr>\n",
       "    <tr>\n",
       "      <th>2</th>\n",
       "      <td>vUSDT</td>\n",
       "      <td>0xfD5840Cd36d94D7229439859C0112a4185BC0255</td>\n",
       "      <td>XVS</td>\n",
       "      <td>0.26153116</td>\n",
       "      <td>0.02167434517978843</td>\n",
       "      <td>0</td>\n",
       "      <td>7.404556079787264</td>\n",
       "    </tr>\n",
       "    <tr>\n",
       "      <th>3</th>\n",
       "      <td>vUSDC</td>\n",
       "      <td>0xecA88125a5ADbe82614ffC12D0DB554E2e2867C8</td>\n",
       "      <td>XVS</td>\n",
       "      <td>0.49339627</td>\n",
       "      <td>0.009558039724823485</td>\n",
       "      <td>0</td>\n",
       "      <td>7.404556079787264</td>\n",
       "    </tr>\n",
       "    <tr>\n",
       "      <th>4</th>\n",
       "      <td>vXVS</td>\n",
       "      <td>0x151B1e2635A717bcDc836ECd6FbB62B674FE3E1D</td>\n",
       "      <td>XVS</td>\n",
       "      <td>0.15714831</td>\n",
       "      <td>0.01888601383936685</td>\n",
       "      <td>0</td>\n",
       "      <td>7.404556079787264</td>\n",
       "    </tr>\n",
       "    <tr>\n",
       "      <th>5</th>\n",
       "      <td>vBNB</td>\n",
       "      <td>0xA07c5b74C9B40447a954e1466938b865b6BBea36</td>\n",
       "      <td>XVS</td>\n",
       "      <td>0.36384008</td>\n",
       "      <td>17.917638183355376</td>\n",
       "      <td>0</td>\n",
       "      <td>7.404556079787264</td>\n",
       "    </tr>\n",
       "  </tbody>\n",
       "</table>\n",
       "</div>"
      ],
      "text/plain": [
       "   token                               token_address reward_token     balance  \\\n",
       "0   vXRP  0xB248a295732e0225acd3337607cc01068e3b9c10          XVS  0.00916091   \n",
       "1   vDAI  0x334b3eCB4DCa3593BCCC3c7EBD1A1C1d1780FBF1          XVS  0.25406915   \n",
       "2  vUSDT  0xfD5840Cd36d94D7229439859C0112a4185BC0255          XVS  0.26153116   \n",
       "3  vUSDC  0xecA88125a5ADbe82614ffC12D0DB554E2e2867C8          XVS  0.49339627   \n",
       "4   vXVS  0x151B1e2635A717bcDc836ECd6FbB62B674FE3E1D          XVS  0.15714831   \n",
       "5   vBNB  0xA07c5b74C9B40447a954e1466938b865b6BBea36          XVS  0.36384008   \n",
       "\n",
       "                  price pending_reward pending_reward_price  \n",
       "0                     0              0    7.404556079787264  \n",
       "1   0.02036832410346632              0    7.404556079787264  \n",
       "2   0.02167434517978843              0    7.404556079787264  \n",
       "3  0.009558039724823485              0    7.404556079787264  \n",
       "4   0.01888601383936685              0    7.404556079787264  \n",
       "5    17.917638183355376              0    7.404556079787264  "
      ]
     },
     "execution_count": 15,
     "metadata": {},
     "output_type": "execute_result"
    }
   ],
   "source": [
    "pd.DataFrame([m for m in portfolio.single_asset_pools[0][\"pools_balance\"]])"
   ]
  }
 ],
 "metadata": {
  "interpreter": {
   "hash": "c5e1fbb35f6f73757ee3f1685a0230ad9f20736172730fe2387c421ac6aeedba"
  },
  "kernelspec": {
   "display_name": "Python 3.7.9 ('base')",
   "language": "python",
   "name": "python3"
  },
  "language_info": {
   "codemirror_mode": {
    "name": "ipython",
    "version": 3
   },
   "file_extension": ".py",
   "mimetype": "text/x-python",
   "name": "python",
   "nbconvert_exporter": "python",
   "pygments_lexer": "ipython3",
   "version": "3.7.9"
  },
  "orig_nbformat": 4
 },
 "nbformat": 4,
 "nbformat_minor": 2
}
