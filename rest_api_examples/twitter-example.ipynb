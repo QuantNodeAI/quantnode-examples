{
 "cells": [
  {
   "cell_type": "markdown",
   "metadata": {},
   "source": [
    "# Twitter Example"
   ]
  },
  {
   "cell_type": "markdown",
   "metadata": {},
   "source": [
    "## Intro"
   ]
  },
  {
   "cell_type": "markdown",
   "metadata": {},
   "source": [
    "### Imports"
   ]
  },
  {
   "cell_type": "code",
   "execution_count": 2,
   "metadata": {},
   "outputs": [],
   "source": [
    "%reload_ext autoreload\n",
    "%autoreload 2"
   ]
  },
  {
   "cell_type": "code",
   "execution_count": 3,
   "metadata": {},
   "outputs": [],
   "source": [
    "import os\n",
    "import sys\n",
    "from dotenv import load_dotenv\n"
   ]
  },
  {
   "cell_type": "code",
   "execution_count": 4,
   "metadata": {},
   "outputs": [],
   "source": [
    "import matplotlib.pyplot as plt\n",
    "import pandas as pd\n",
    "from tqdm.notebook import tqdm, trange\n",
    "\n",
    "from helixirapi.helixir_api import HelixirApi"
   ]
  },
  {
   "cell_type": "markdown",
   "metadata": {},
   "source": [
    "### Create client instance"
   ]
  },
  {
   "cell_type": "code",
   "execution_count": 5,
   "metadata": {},
   "outputs": [
    {
     "data": {
      "text/plain": [
       "<helixirapi.helixir_api.HelixirApi at 0x7fba8c19fdf0>"
      ]
     },
     "execution_count": 5,
     "metadata": {},
     "output_type": "execute_result"
    }
   ],
   "source": [
    "load_dotenv()\n",
    "AUTH_TOKEN = os.getenv(\"AUTH_TOKEN\")\n",
    "client = HelixirApi(auth_token=AUTH_TOKEN)\n",
    "client"
   ]
  },
  {
   "cell_type": "markdown",
   "metadata": {},
   "source": [
    "## Getting Messages\n",
    "\n",
    "Returns list of twitter messages according to filtration specified in the request.\n",
    "\n",
    "***Parameters:***\n",
    "\n",
    "`from_`\n",
    "- `from_` is the required parameter; however, the start of data history is used if omitted. The date could be entered as a timestamp (integer number) or by a human-readable string (e.g., `2022-05-01`).\n",
    "\n",
    "`limit`\n",
    "- The parameter `limit` has to be a positive number. It is compulsory parameter.\n",
    "\n",
    "`tag`\n",
    "- An optional parameter for filtering messages.\n",
    "\n",
    "`validate_params`\n",
    "- An optional parameter with a default value equal to _True_.\n"
   ]
  },
  {
   "cell_type": "code",
   "execution_count": 6,
   "metadata": {},
   "outputs": [
    {
     "data": {
      "text/plain": [
       "[TweetPublic(\n",
       " \ttweet_id = 1509681928395395093,\n",
       " \tcontent = OK, cooking/baking folks-,\n",
       " \tcreated_at = 2022-04-01 00:00:00.155096+00:00,\n",
       " ),\n",
       " TweetPublic(\n",
       " \ttweet_id = 1509681927766249516,\n",
       " \tcontent = Whenever I finish a bottle of Jaegermeister, I tend to wash it out with water and place it in a collection of empty bottles.\n",
       " \tSo far, here’s the bottles I’ve conquered: https://t.co/XSco7uGTqZ,\n",
       " \tcreated_at = 2022-04-01 00:00:00.155868+00:00,\n",
       " ),\n",
       " TweetPublic(\n",
       " \ttweet_id = 1509681928831602696,\n",
       " \tcontent = this. right here, is my… Swag,\n",
       " \tcreated_at = 2022-04-01 00:00:00.174684+00:00,\n",
       " ),\n",
       " TweetPublic(\n",
       " \ttweet_id = 1509681928374521865,\n",
       " \tcontent = i love these anime but i never see anyone talk about them https://t.co/C9LlOBukHR,\n",
       " \tcreated_at = 2022-04-01 00:00:00.255588+00:00,\n",
       " ),\n",
       " TweetPublic(\n",
       " \ttweet_id = 1509681929125187585,\n",
       " \tcontent = they looked so broken,\n",
       " \tcreated_at = 2022-04-01 00:00:00.260112+00:00,\n",
       " ),\n",
       " TweetPublic(\n",
       " \ttweet_id = 1509681928915591169,\n",
       " \tcontent = Wait— is he doing an April fool on us !!! https://t.co/gTTazG7Ku5,\n",
       " \tcreated_at = 2022-04-01 00:00:00.262333+00:00,\n",
       " ),\n",
       " TweetPublic(\n",
       " \ttweet_id = 1509681929238450178,\n",
       " \tcontent = Before it's too late  and time https://t.co/kq5uaaBmjM,\n",
       " \tcreated_at = 2022-04-01 00:00:00.348751+00:00,\n",
       " ),\n",
       " TweetPublic(\n",
       " \ttweet_id = 1509681929276510208,\n",
       " \tcontent = IM SHITTING TEARS,\n",
       " \tcreated_at = 2022-04-01 00:00:00.350094+00:00,\n",
       " ),\n",
       " TweetPublic(\n",
       " \ttweet_id = 1509681930874281987,\n",
       " \tcontent = Only on twitter https://t.co/etV2zWolCk,\n",
       " \tcreated_at = 2022-04-01 00:00:00.784167+00:00,\n",
       " ),\n",
       " TweetPublic(\n",
       " \ttweet_id = 1509681930916470784,\n",
       " \tcontent = Agre regression has hit me so badly lately that I'm curled up on the couch with a snoodie, pikachu plushie with a hot tomato soup and watching barbie movies....\n",
       " \tMy heart is broken and my soul wants to die.. https://t.co/JdkuoFSKtP,\n",
       " \tcreated_at = 2022-04-01 00:00:00.786364+00:00,\n",
       " )]"
      ]
     },
     "execution_count": 6,
     "metadata": {},
     "output_type": "execute_result"
    }
   ],
   "source": [
    "messages = client.get_twitter(\n",
    "    \"2022-04-01T00:00Z\",\n",
    "    10\n",
    ")\n",
    "messages"
   ]
  },
  {
   "cell_type": "code",
   "execution_count": 8,
   "metadata": {},
   "outputs": [
    {
     "data": {
      "text/html": [
       "<div>\n",
       "<style scoped>\n",
       "    .dataframe tbody tr th:only-of-type {\n",
       "        vertical-align: middle;\n",
       "    }\n",
       "\n",
       "    .dataframe tbody tr th {\n",
       "        vertical-align: top;\n",
       "    }\n",
       "\n",
       "    .dataframe thead th {\n",
       "        text-align: right;\n",
       "    }\n",
       "</style>\n",
       "<table border=\"1\" class=\"dataframe\">\n",
       "  <thead>\n",
       "    <tr style=\"text-align: right;\">\n",
       "      <th></th>\n",
       "      <th>tweet_id</th>\n",
       "      <th>content</th>\n",
       "    </tr>\n",
       "    <tr>\n",
       "      <th>created_at</th>\n",
       "      <th></th>\n",
       "      <th></th>\n",
       "    </tr>\n",
       "  </thead>\n",
       "  <tbody>\n",
       "    <tr>\n",
       "      <th>2022-04-01 00:00:00.155096+00:00</th>\n",
       "      <td>1509681928395395093</td>\n",
       "      <td>OK, cooking/baking folks-</td>\n",
       "    </tr>\n",
       "    <tr>\n",
       "      <th>2022-04-01 00:00:00.155868+00:00</th>\n",
       "      <td>1509681927766249516</td>\n",
       "      <td>Whenever I finish a bottle of Jaegermeister, I...</td>\n",
       "    </tr>\n",
       "    <tr>\n",
       "      <th>2022-04-01 00:00:00.174684+00:00</th>\n",
       "      <td>1509681928831602696</td>\n",
       "      <td>this. right here, is my… Swag</td>\n",
       "    </tr>\n",
       "    <tr>\n",
       "      <th>2022-04-01 00:00:00.255588+00:00</th>\n",
       "      <td>1509681928374521865</td>\n",
       "      <td>i love these anime but i never see anyone talk...</td>\n",
       "    </tr>\n",
       "    <tr>\n",
       "      <th>2022-04-01 00:00:00.260112+00:00</th>\n",
       "      <td>1509681929125187585</td>\n",
       "      <td>they looked so broken</td>\n",
       "    </tr>\n",
       "    <tr>\n",
       "      <th>2022-04-01 00:00:00.262333+00:00</th>\n",
       "      <td>1509681928915591169</td>\n",
       "      <td>Wait— is he doing an April fool on us !!! http...</td>\n",
       "    </tr>\n",
       "    <tr>\n",
       "      <th>2022-04-01 00:00:00.348751+00:00</th>\n",
       "      <td>1509681929238450178</td>\n",
       "      <td>Before it's too late  and time https://t.co/kq...</td>\n",
       "    </tr>\n",
       "    <tr>\n",
       "      <th>2022-04-01 00:00:00.350094+00:00</th>\n",
       "      <td>1509681929276510208</td>\n",
       "      <td>IM SHITTING TEARS</td>\n",
       "    </tr>\n",
       "    <tr>\n",
       "      <th>2022-04-01 00:00:00.784167+00:00</th>\n",
       "      <td>1509681930874281987</td>\n",
       "      <td>Only on twitter https://t.co/etV2zWolCk</td>\n",
       "    </tr>\n",
       "    <tr>\n",
       "      <th>2022-04-01 00:00:00.786364+00:00</th>\n",
       "      <td>1509681930916470784</td>\n",
       "      <td>Agre regression has hit me so badly lately tha...</td>\n",
       "    </tr>\n",
       "  </tbody>\n",
       "</table>\n",
       "</div>"
      ],
      "text/plain": [
       "                                             tweet_id  \\\n",
       "created_at                                              \n",
       "2022-04-01 00:00:00.155096+00:00  1509681928395395093   \n",
       "2022-04-01 00:00:00.155868+00:00  1509681927766249516   \n",
       "2022-04-01 00:00:00.174684+00:00  1509681928831602696   \n",
       "2022-04-01 00:00:00.255588+00:00  1509681928374521865   \n",
       "2022-04-01 00:00:00.260112+00:00  1509681929125187585   \n",
       "2022-04-01 00:00:00.262333+00:00  1509681928915591169   \n",
       "2022-04-01 00:00:00.348751+00:00  1509681929238450178   \n",
       "2022-04-01 00:00:00.350094+00:00  1509681929276510208   \n",
       "2022-04-01 00:00:00.784167+00:00  1509681930874281987   \n",
       "2022-04-01 00:00:00.786364+00:00  1509681930916470784   \n",
       "\n",
       "                                                                            content  \n",
       "created_at                                                                           \n",
       "2022-04-01 00:00:00.155096+00:00                          OK, cooking/baking folks-  \n",
       "2022-04-01 00:00:00.155868+00:00  Whenever I finish a bottle of Jaegermeister, I...  \n",
       "2022-04-01 00:00:00.174684+00:00                      this. right here, is my… Swag  \n",
       "2022-04-01 00:00:00.255588+00:00  i love these anime but i never see anyone talk...  \n",
       "2022-04-01 00:00:00.260112+00:00                              they looked so broken  \n",
       "2022-04-01 00:00:00.262333+00:00  Wait— is he doing an April fool on us !!! http...  \n",
       "2022-04-01 00:00:00.348751+00:00  Before it's too late  and time https://t.co/kq...  \n",
       "2022-04-01 00:00:00.350094+00:00                                  IM SHITTING TEARS  \n",
       "2022-04-01 00:00:00.784167+00:00            Only on twitter https://t.co/etV2zWolCk  \n",
       "2022-04-01 00:00:00.786364+00:00  Agre regression has hit me so badly lately tha...  "
      ]
     },
     "execution_count": 8,
     "metadata": {},
     "output_type": "execute_result"
    }
   ],
   "source": [
    "pd.DataFrame([m.__dict__ for m in messages]).set_index(\"created_at\")"
   ]
  },
  {
   "cell_type": "code",
   "execution_count": 9,
   "metadata": {},
   "outputs": [
    {
     "data": {
      "text/plain": [
       "[TweetPublic(\n",
       " \ttweet_id = 1509651772117327873,\n",
       " \tcontent = Tele PAD is multi chain initial #DEX offering launch PAD, users who stake $TELE coin can participate in TELE PAD project launch offering.\n",
       " \thttps://t.co/z1I3C0wBBN\n",
       " \t#DeFi #TeleFy #cryptocurrency #Ethereum #BinanceSmartChain #Bitcoin #Airdrop #polkadot #MATIC #Polygon  #Cardano #ETH,\n",
       " \tcreated_at = 2022-03-31 22:00:10.279991+00:00,\n",
       " ),\n",
       " TweetPublic(\n",
       " \ttweet_id = 1509651775049056257,\n",
       " \tcontent = Why the rise of a Bitcoin standard could deter war-making \n",
       " \t#instaairdrop #cryptocurrencymarket #digialcurrency #investor #softcap #stellar #cardano #kucoin\n",
       " \thttps://t.co/MzQyafLqfi,\n",
       " \tcreated_at = 2022-03-31 22:00:10.996952+00:00,\n",
       " ),\n",
       " TweetPublic(\n",
       " \ttweet_id = 1509651830107738113,\n",
       " \tcontent = Tele NFT is multi chain NFT marketplace. Tele NFT protocol fees will be distributed to the users who staked TELE.\n",
       " \thttps://t.co/z1I3C0wBBN\n",
       " \t#DeFi #TeleFy #DEX #cryptocurrency #Ethereum #BinanceSmartChain #Bitcoin #Airdrop #polkadot #MATIC #Polygon $TELE #Cardano #ETH,\n",
       " \tcreated_at = 2022-03-31 22:00:24.108853+00:00,\n",
       " ),\n",
       " TweetPublic(\n",
       " \ttweet_id = 1509651843101691908,\n",
       " \tcontent = Your hourly #Cardano update📬\n",
       " \t\n",
       " \t- Hourly closing of #ADA: $1.159 $ADAUSD\n",
       " \t- Hourly price change: 0.17 %📈\n",
       " \t- 12 hr Vol. trends downwards\n",
       " \t- Trading below 200 hr MA($1.1593)\n",
       " \t- RSI 14 at 39.19\n",
       " \t\n",
       " \t#trade #crypto #ADA,\n",
       " \tcreated_at = 2022-03-31 22:00:27.201625+00:00,\n",
       " ),\n",
       " TweetPublic(\n",
       " \ttweet_id = 1509651896176414727,\n",
       " \tcontent = https://t.co/z1I3C0wBBN\n",
       " \t#DeFi #TeleFy #DEX #cryptocurrency #Ethereum #BinanceSmartChain #Bitcoin #Airdrop #polkadot #MATIC #Polygon $TELE #Cardano #ETH\n",
       " \tTele Score is a multi-chain programmable protocol to calculate the credit worthiness based on the transactional data.,\n",
       " \tcreated_at = 2022-03-31 22:00:39.881715+00:00,\n",
       " ),\n",
       " TweetPublic(\n",
       " \ttweet_id = 1509651908151152650,\n",
       " \tcontent = @RobinhoodApp When are you going to list $ADA #Cardano? You're falling behind other exchanges such as Coinbase and Kraken. \n",
       " \t\n",
       " \tYou really need to expand your crypto offerings with quality cryptos such as Cardano. \n",
       " \t\n",
       " \tYou're losing so many customers it's unbelievable.,\n",
       " \tcreated_at = 2022-03-31 22:00:42.699253+00:00,\n",
       " ),\n",
       " TweetPublic(\n",
       " \ttweet_id = 1509651920272691200,\n",
       " \tcontent = $ADA Suisse Stake Pool is growing.\n",
       " \t\n",
       " \t[ SUI ] Stake increased \n",
       " \tADA Suisse \n",
       " \t\n",
       " \t+₳1.58k\n",
       " \tLivestake: ₳772.84k\n",
       " \tSaturation: 1.13%\n",
       " \t\n",
       " \tMore info at:\n",
       " \tPooltool\n",
       " \t#SUI\n",
       " \t\n",
       " \tThank you dear delegator.\n",
       " \tEnjoy your rewards!\n",
       " \t\n",
       " \thttps://t.co/EgJfdBVpPb\n",
       " \t\n",
       " \t#ADA #Cardano #blockchain #crypto #stakepool #passiv…,\n",
       " \tcreated_at = 2022-03-31 22:00:45.626981+00:00,\n",
       " ),\n",
       " TweetPublic(\n",
       " \ttweet_id = 1509651934608650260,\n",
       " \tcontent = Seemed appropriate 😁💫🥳⚒ @champmedici \n",
       " \t\n",
       " \t#cryptocurrency #Cardano #CNFTs #NFTartist #WomenInNFTs https://t.co/YazFCe3FPv,\n",
       " \tcreated_at = 2022-03-31 22:00:49.095574+00:00,\n",
       " ),\n",
       " TweetPublic(\n",
       " \ttweet_id = 1509651957698514950,\n",
       " \tcontent = Condolences to our European monkeys... So sad and tragic... RIP crypto in the EU.\n",
       " \t#cardano #ada $ada #chimpy $chimpy #memecoin #memecoins #baboonillionaires #crypto https://t.co/YzEFJuVCCI,\n",
       " \tcreated_at = 2022-03-31 22:00:54.675588+00:00,\n",
       " ),\n",
       " TweetPublic(\n",
       " \ttweet_id = 1509652074245627909,\n",
       " \tcontent = #GTO hit 0.093🚀🚀🚀🚀🚀🚀again approx. near 100% gainz Rocking and Rocking profits🚀🚀🚀🚀🚀\n",
       " \tTelegram Channel = GaurdianZ Crypto\n",
       " \t#BNB  #BNB #Solana  #SOL #Cardano  #ADA #ShibaInu  #SHIB #BasicAttentionToken  #BAT https://t.co/n0WuVFgms5,\n",
       " \tcreated_at = 2022-03-31 22:01:22.370015+00:00,\n",
       " )]"
      ]
     },
     "execution_count": 9,
     "metadata": {},
     "output_type": "execute_result"
    }
   ],
   "source": [
    "messages = client.get_twitter(\n",
    "    from_ = \"2022-04-01\",\n",
    "    limit = 10,\n",
    "    tag = \"cardano\"\n",
    ")\n",
    "messages"
   ]
  }
 ],
 "metadata": {
  "interpreter": {
   "hash": "c5e1fbb35f6f73757ee3f1685a0230ad9f20736172730fe2387c421ac6aeedba"
  },
  "kernelspec": {
   "display_name": "Python 3 (ipykernel)",
   "language": "python",
   "name": "python3"
  },
  "language_info": {
   "codemirror_mode": {
    "name": "ipython",
    "version": 3
   },
   "file_extension": ".py",
   "mimetype": "text/x-python",
   "name": "python",
   "nbconvert_exporter": "python",
   "pygments_lexer": "ipython3",
   "version": "3.9.9"
  }
 },
 "nbformat": 4,
 "nbformat_minor": 2
}
