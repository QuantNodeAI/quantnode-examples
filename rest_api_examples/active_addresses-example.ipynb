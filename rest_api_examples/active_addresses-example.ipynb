{
 "cells": [
  {
   "cell_type": "markdown",
   "metadata": {
    "pycharm": {
     "name": "#%% md\n"
    }
   },
   "source": [
    "# Active Addresses Example"
   ]
  },
  {
   "cell_type": "markdown",
   "metadata": {
    "pycharm": {
     "name": "#%% md\n"
    }
   },
   "source": [
    "## Intro"
   ]
  },
  {
   "cell_type": "markdown",
   "metadata": {
    "pycharm": {
     "name": "#%% md\n"
    }
   },
   "source": [
    "### Imports"
   ]
  },
  {
   "cell_type": "code",
   "execution_count": 1,
   "metadata": {
    "pycharm": {
     "name": "#%%\n"
    }
   },
   "outputs": [],
   "source": [
    "%reload_ext autoreload\n",
    "%autoreload 2"
   ]
  },
  {
   "cell_type": "code",
   "execution_count": null,
   "outputs": [],
   "source": [],
   "metadata": {
    "collapsed": false,
    "pycharm": {
     "name": "#%%\n"
    }
   }
  },
  {
   "cell_type": "code",
   "execution_count": null,
   "outputs": [],
   "source": [
    "import os\n",
    "import sys\n",
    "from dotenv import load_dotenv"
   ],
   "metadata": {
    "collapsed": false,
    "pycharm": {
     "name": "#%%\n"
    }
   }
  },
  {
   "cell_type": "code",
   "execution_count": null,
   "outputs": [],
   "source": [
    "import matplotlib.pyplot as plt\n",
    "import pandas as pd\n",
    "from tqdm.notebook import tqdm, trange\n",
    "\n",
    "from helixirapi.helixir_api import HelixirApi"
   ],
   "metadata": {
    "collapsed": false,
    "pycharm": {
     "name": "#%%\n"
    }
   }
  },
  {
   "cell_type": "code",
   "execution_count": 6,
   "metadata": {
    "pycharm": {
     "name": "#%%\n"
    }
   },
   "outputs": [],
   "source": [
    "import matplotlib.pyplot as plt\n",
    "plt.style.use('ggplot')\n",
    "\n",
    "import plotly.io as pio\n",
    "pio.renderers.default = \"notebook_connected\""
   ]
  },
  {
   "cell_type": "markdown",
   "metadata": {
    "pycharm": {
     "name": "#%% md\n"
    }
   },
   "source": [
    "### Create client instance"
   ]
  },
  {
   "cell_type": "code",
   "execution_count": 7,
   "metadata": {
    "pycharm": {
     "name": "#%%\n"
    }
   },
   "outputs": [
    {
     "data": {
      "text/plain": [
       "<helixirapi.helixir_api.HelixirApi at 0x7fea48c0a130>"
      ]
     },
     "execution_count": 7,
     "metadata": {},
     "output_type": "execute_result"
    }
   ],
   "source": [
    "load_dotenv()\n",
    "AUTH_TOKEN = os.getenv(\"AUTH_TOKEN\")\n",
    "client = HelixirApi(auth_token=AUTH_TOKEN)\n",
    "client"
   ]
  },
  {
   "cell_type": "markdown",
   "metadata": {
    "pycharm": {
     "name": "#%% md\n"
    }
   },
   "source": [
    "## Getting Data\n",
    "\n",
    "Method `get_candles` returns calculated total traded volume for specific token in given time range.\n",
    "\n",
    "***Parameters:***\n",
    "\n",
    "`chain`\n",
    "- It is an optional parameter with the default value `\"bsc\"` (_Binance Smart Chain_). The chain can be specified as a string (case insensitive) or an integer (chain id).\n",
    "\n",
    "`symbol`\n",
    "- The symbol is an optional parameter. It could be used instead of the `contract` parameter; however, the symbol must be unique (at least within the chain), so it could be used only for some tokens.\n",
    "\n",
    "`contract`\n",
    "- The contract parameter is required. However, as mentioned above, it could be omitted if the `symbol` is specified.\n",
    "\n",
    "`from_`\n",
    "- `from_` is the required parameter; however, the start of data history is used if omitted. The date could be entered as a timestamp (integer number) or by a human-readable string (e.g., `2022-05-01`).\n",
    "\n",
    "`to`\n",
    "- The default value is _now_. The format is the same as for parameter `from_`, so a timestamp or a string could be entered.\n",
    "\n",
    "`resolution`\n",
    "- By default, the resolution is _H1_ (one hour). The parameter is case insensitive.\n",
    "\n",
    "`validate_params`\n",
    "- An optional parameter with a default value equal to _True_."
   ]
  },
  {
   "cell_type": "code",
   "execution_count": 8,
   "metadata": {
    "pycharm": {
     "name": "#%%\n"
    }
   },
   "outputs": [
    {
     "data": {
      "application/vnd.jupyter.widget-view+json": {
       "model_id": "",
       "version_major": 2,
       "version_minor": 0
      },
      "text/plain": [
       "Iterating requests to meet the limit:   0%|          | 0/1 [00:00<?, ?it/s]"
      ]
     },
     "metadata": {},
     "output_type": "display_data"
    },
    {
     "data": {
      "text/plain": [
       "[ActiveAddressesResponse(\n",
       " \ttime = 2022-01-19 23:00:00+00:00,\n",
       " \tcount = 11,\n",
       " ),\n",
       " ActiveAddressesResponse(\n",
       " \ttime = 2022-01-20 00:00:00+00:00,\n",
       " \tcount = 4,\n",
       " ),\n",
       " ActiveAddressesResponse(\n",
       " \ttime = 2022-01-20 01:00:00+00:00,\n",
       " \tcount = 6,\n",
       " ),\n",
       " ActiveAddressesResponse(\n",
       " \ttime = 2022-01-20 02:00:00+00:00,\n",
       " \tcount = 10,\n",
       " ),\n",
       " ActiveAddressesResponse(\n",
       " \ttime = 2022-01-20 03:00:00+00:00,\n",
       " \tcount = 9,\n",
       " ),\n",
       " ActiveAddressesResponse(\n",
       " \ttime = 2022-01-20 04:00:00+00:00,\n",
       " \tcount = 7,\n",
       " ),\n",
       " ActiveAddressesResponse(\n",
       " \ttime = 2022-01-20 05:00:00+00:00,\n",
       " \tcount = 5,\n",
       " ),\n",
       " ActiveAddressesResponse(\n",
       " \ttime = 2022-01-20 06:00:00+00:00,\n",
       " \tcount = 4,\n",
       " ),\n",
       " ActiveAddressesResponse(\n",
       " \ttime = 2022-01-20 07:00:00+00:00,\n",
       " \tcount = 9,\n",
       " ),\n",
       " ActiveAddressesResponse(\n",
       " \ttime = 2022-01-20 08:00:00+00:00,\n",
       " \tcount = 11,\n",
       " ),\n",
       " ActiveAddressesResponse(\n",
       " \ttime = 2022-01-20 09:00:00+00:00,\n",
       " \tcount = 7,\n",
       " ),\n",
       " ActiveAddressesResponse(\n",
       " \ttime = 2022-01-20 10:00:00+00:00,\n",
       " \tcount = 6,\n",
       " ),\n",
       " ActiveAddressesResponse(\n",
       " \ttime = 2022-01-20 11:00:00+00:00,\n",
       " \tcount = 17,\n",
       " ),\n",
       " ActiveAddressesResponse(\n",
       " \ttime = 2022-01-20 12:00:00+00:00,\n",
       " \tcount = 15,\n",
       " ),\n",
       " ActiveAddressesResponse(\n",
       " \ttime = 2022-01-20 13:00:00+00:00,\n",
       " \tcount = 18,\n",
       " ),\n",
       " ActiveAddressesResponse(\n",
       " \ttime = 2022-01-20 14:00:00+00:00,\n",
       " \tcount = 18,\n",
       " ),\n",
       " ActiveAddressesResponse(\n",
       " \ttime = 2022-01-20 15:00:00+00:00,\n",
       " \tcount = 14,\n",
       " ),\n",
       " ActiveAddressesResponse(\n",
       " \ttime = 2022-01-20 16:00:00+00:00,\n",
       " \tcount = 9,\n",
       " ),\n",
       " ActiveAddressesResponse(\n",
       " \ttime = 2022-01-20 17:00:00+00:00,\n",
       " \tcount = 10,\n",
       " ),\n",
       " ActiveAddressesResponse(\n",
       " \ttime = 2022-01-20 18:00:00+00:00,\n",
       " \tcount = 15,\n",
       " ),\n",
       " ActiveAddressesResponse(\n",
       " \ttime = 2022-01-20 19:00:00+00:00,\n",
       " \tcount = 12,\n",
       " ),\n",
       " ActiveAddressesResponse(\n",
       " \ttime = 2022-01-20 20:00:00+00:00,\n",
       " \tcount = 3,\n",
       " ),\n",
       " ActiveAddressesResponse(\n",
       " \ttime = 2022-01-20 21:00:00+00:00,\n",
       " \tcount = 12,\n",
       " ),\n",
       " ActiveAddressesResponse(\n",
       " \ttime = 2022-01-20 22:00:00+00:00,\n",
       " \tcount = 7,\n",
       " ),\n",
       " ActiveAddressesResponse(\n",
       " \ttime = 2022-01-20 23:00:00+00:00,\n",
       " \tcount = 19,\n",
       " ),\n",
       " ActiveAddressesResponse(\n",
       " \ttime = 2022-01-21 00:00:00+00:00,\n",
       " \tcount = 9,\n",
       " ),\n",
       " ActiveAddressesResponse(\n",
       " \ttime = 2022-01-21 01:00:00+00:00,\n",
       " \tcount = 17,\n",
       " ),\n",
       " ActiveAddressesResponse(\n",
       " \ttime = 2022-01-21 02:00:00+00:00,\n",
       " \tcount = 15,\n",
       " ),\n",
       " ActiveAddressesResponse(\n",
       " \ttime = 2022-01-21 03:00:00+00:00,\n",
       " \tcount = 15,\n",
       " ),\n",
       " ActiveAddressesResponse(\n",
       " \ttime = 2022-01-21 04:00:00+00:00,\n",
       " \tcount = 19,\n",
       " ),\n",
       " ActiveAddressesResponse(\n",
       " \ttime = 2022-01-21 05:00:00+00:00,\n",
       " \tcount = 17,\n",
       " ),\n",
       " ActiveAddressesResponse(\n",
       " \ttime = 2022-01-21 06:00:00+00:00,\n",
       " \tcount = 15,\n",
       " ),\n",
       " ActiveAddressesResponse(\n",
       " \ttime = 2022-01-21 07:00:00+00:00,\n",
       " \tcount = 20,\n",
       " ),\n",
       " ActiveAddressesResponse(\n",
       " \ttime = 2022-01-21 08:00:00+00:00,\n",
       " \tcount = 27,\n",
       " ),\n",
       " ActiveAddressesResponse(\n",
       " \ttime = 2022-01-21 09:00:00+00:00,\n",
       " \tcount = 15,\n",
       " ),\n",
       " ActiveAddressesResponse(\n",
       " \ttime = 2022-01-21 10:00:00+00:00,\n",
       " \tcount = 18,\n",
       " ),\n",
       " ActiveAddressesResponse(\n",
       " \ttime = 2022-01-21 11:00:00+00:00,\n",
       " \tcount = 11,\n",
       " ),\n",
       " ActiveAddressesResponse(\n",
       " \ttime = 2022-01-21 12:00:00+00:00,\n",
       " \tcount = 22,\n",
       " ),\n",
       " ActiveAddressesResponse(\n",
       " \ttime = 2022-01-21 13:00:00+00:00,\n",
       " \tcount = 33,\n",
       " ),\n",
       " ActiveAddressesResponse(\n",
       " \ttime = 2022-01-21 14:00:00+00:00,\n",
       " \tcount = 25,\n",
       " ),\n",
       " ActiveAddressesResponse(\n",
       " \ttime = 2022-01-21 15:00:00+00:00,\n",
       " \tcount = 23,\n",
       " ),\n",
       " ActiveAddressesResponse(\n",
       " \ttime = 2022-01-21 16:00:00+00:00,\n",
       " \tcount = 15,\n",
       " ),\n",
       " ActiveAddressesResponse(\n",
       " \ttime = 2022-01-21 17:00:00+00:00,\n",
       " \tcount = 14,\n",
       " ),\n",
       " ActiveAddressesResponse(\n",
       " \ttime = 2022-01-21 18:00:00+00:00,\n",
       " \tcount = 5,\n",
       " ),\n",
       " ActiveAddressesResponse(\n",
       " \ttime = 2022-01-21 19:00:00+00:00,\n",
       " \tcount = 16,\n",
       " ),\n",
       " ActiveAddressesResponse(\n",
       " \ttime = 2022-01-21 20:00:00+00:00,\n",
       " \tcount = 9,\n",
       " ),\n",
       " ActiveAddressesResponse(\n",
       " \ttime = 2022-01-21 21:00:00+00:00,\n",
       " \tcount = 21,\n",
       " ),\n",
       " ActiveAddressesResponse(\n",
       " \ttime = 2022-01-21 22:00:00+00:00,\n",
       " \tcount = 20,\n",
       " )]"
      ]
     },
     "execution_count": 8,
     "metadata": {},
     "output_type": "execute_result"
    }
   ],
   "source": [
    "addresses = client.get_active_addresses(\n",
    "    contract=\"0xd7730681b1dc8f6f969166b29d8a5ea8568616a3\",\n",
    "    from_=\"2022-01-20\",\n",
    "    to=\"2022-01-22\",\n",
    "    resolution=\"H1\",\n",
    "    )\n",
    "addresses"
   ]
  },
  {
   "cell_type": "code",
   "execution_count": 9,
   "metadata": {
    "pycharm": {
     "name": "#%%\n"
    }
   },
   "outputs": [
    {
     "data": {
      "text/html": [
       "<div>\n",
       "<style scoped>\n",
       "    .dataframe tbody tr th:only-of-type {\n",
       "        vertical-align: middle;\n",
       "    }\n",
       "\n",
       "    .dataframe tbody tr th {\n",
       "        vertical-align: top;\n",
       "    }\n",
       "\n",
       "    .dataframe thead th {\n",
       "        text-align: right;\n",
       "    }\n",
       "</style>\n",
       "<table border=\"1\" class=\"dataframe\">\n",
       "  <thead>\n",
       "    <tr style=\"text-align: right;\">\n",
       "      <th></th>\n",
       "      <th>count</th>\n",
       "    </tr>\n",
       "    <tr>\n",
       "      <th>time</th>\n",
       "      <th></th>\n",
       "    </tr>\n",
       "  </thead>\n",
       "  <tbody>\n",
       "    <tr>\n",
       "      <th>2022-01-19 23:00:00+00:00</th>\n",
       "      <td>11</td>\n",
       "    </tr>\n",
       "    <tr>\n",
       "      <th>2022-01-20 00:00:00+00:00</th>\n",
       "      <td>4</td>\n",
       "    </tr>\n",
       "    <tr>\n",
       "      <th>2022-01-20 01:00:00+00:00</th>\n",
       "      <td>6</td>\n",
       "    </tr>\n",
       "    <tr>\n",
       "      <th>2022-01-20 02:00:00+00:00</th>\n",
       "      <td>10</td>\n",
       "    </tr>\n",
       "    <tr>\n",
       "      <th>2022-01-20 03:00:00+00:00</th>\n",
       "      <td>9</td>\n",
       "    </tr>\n",
       "    <tr>\n",
       "      <th>2022-01-20 04:00:00+00:00</th>\n",
       "      <td>7</td>\n",
       "    </tr>\n",
       "    <tr>\n",
       "      <th>2022-01-20 05:00:00+00:00</th>\n",
       "      <td>5</td>\n",
       "    </tr>\n",
       "    <tr>\n",
       "      <th>2022-01-20 06:00:00+00:00</th>\n",
       "      <td>4</td>\n",
       "    </tr>\n",
       "    <tr>\n",
       "      <th>2022-01-20 07:00:00+00:00</th>\n",
       "      <td>9</td>\n",
       "    </tr>\n",
       "    <tr>\n",
       "      <th>2022-01-20 08:00:00+00:00</th>\n",
       "      <td>11</td>\n",
       "    </tr>\n",
       "    <tr>\n",
       "      <th>2022-01-20 09:00:00+00:00</th>\n",
       "      <td>7</td>\n",
       "    </tr>\n",
       "    <tr>\n",
       "      <th>2022-01-20 10:00:00+00:00</th>\n",
       "      <td>6</td>\n",
       "    </tr>\n",
       "    <tr>\n",
       "      <th>2022-01-20 11:00:00+00:00</th>\n",
       "      <td>17</td>\n",
       "    </tr>\n",
       "    <tr>\n",
       "      <th>2022-01-20 12:00:00+00:00</th>\n",
       "      <td>15</td>\n",
       "    </tr>\n",
       "    <tr>\n",
       "      <th>2022-01-20 13:00:00+00:00</th>\n",
       "      <td>18</td>\n",
       "    </tr>\n",
       "    <tr>\n",
       "      <th>2022-01-20 14:00:00+00:00</th>\n",
       "      <td>18</td>\n",
       "    </tr>\n",
       "    <tr>\n",
       "      <th>2022-01-20 15:00:00+00:00</th>\n",
       "      <td>14</td>\n",
       "    </tr>\n",
       "    <tr>\n",
       "      <th>2022-01-20 16:00:00+00:00</th>\n",
       "      <td>9</td>\n",
       "    </tr>\n",
       "    <tr>\n",
       "      <th>2022-01-20 17:00:00+00:00</th>\n",
       "      <td>10</td>\n",
       "    </tr>\n",
       "    <tr>\n",
       "      <th>2022-01-20 18:00:00+00:00</th>\n",
       "      <td>15</td>\n",
       "    </tr>\n",
       "    <tr>\n",
       "      <th>2022-01-20 19:00:00+00:00</th>\n",
       "      <td>12</td>\n",
       "    </tr>\n",
       "    <tr>\n",
       "      <th>2022-01-20 20:00:00+00:00</th>\n",
       "      <td>3</td>\n",
       "    </tr>\n",
       "    <tr>\n",
       "      <th>2022-01-20 21:00:00+00:00</th>\n",
       "      <td>12</td>\n",
       "    </tr>\n",
       "    <tr>\n",
       "      <th>2022-01-20 22:00:00+00:00</th>\n",
       "      <td>7</td>\n",
       "    </tr>\n",
       "    <tr>\n",
       "      <th>2022-01-20 23:00:00+00:00</th>\n",
       "      <td>19</td>\n",
       "    </tr>\n",
       "    <tr>\n",
       "      <th>2022-01-21 00:00:00+00:00</th>\n",
       "      <td>9</td>\n",
       "    </tr>\n",
       "    <tr>\n",
       "      <th>2022-01-21 01:00:00+00:00</th>\n",
       "      <td>17</td>\n",
       "    </tr>\n",
       "    <tr>\n",
       "      <th>2022-01-21 02:00:00+00:00</th>\n",
       "      <td>15</td>\n",
       "    </tr>\n",
       "    <tr>\n",
       "      <th>2022-01-21 03:00:00+00:00</th>\n",
       "      <td>15</td>\n",
       "    </tr>\n",
       "    <tr>\n",
       "      <th>2022-01-21 04:00:00+00:00</th>\n",
       "      <td>19</td>\n",
       "    </tr>\n",
       "    <tr>\n",
       "      <th>2022-01-21 05:00:00+00:00</th>\n",
       "      <td>17</td>\n",
       "    </tr>\n",
       "    <tr>\n",
       "      <th>2022-01-21 06:00:00+00:00</th>\n",
       "      <td>15</td>\n",
       "    </tr>\n",
       "    <tr>\n",
       "      <th>2022-01-21 07:00:00+00:00</th>\n",
       "      <td>20</td>\n",
       "    </tr>\n",
       "    <tr>\n",
       "      <th>2022-01-21 08:00:00+00:00</th>\n",
       "      <td>27</td>\n",
       "    </tr>\n",
       "    <tr>\n",
       "      <th>2022-01-21 09:00:00+00:00</th>\n",
       "      <td>15</td>\n",
       "    </tr>\n",
       "    <tr>\n",
       "      <th>2022-01-21 10:00:00+00:00</th>\n",
       "      <td>18</td>\n",
       "    </tr>\n",
       "    <tr>\n",
       "      <th>2022-01-21 11:00:00+00:00</th>\n",
       "      <td>11</td>\n",
       "    </tr>\n",
       "    <tr>\n",
       "      <th>2022-01-21 12:00:00+00:00</th>\n",
       "      <td>22</td>\n",
       "    </tr>\n",
       "    <tr>\n",
       "      <th>2022-01-21 13:00:00+00:00</th>\n",
       "      <td>33</td>\n",
       "    </tr>\n",
       "    <tr>\n",
       "      <th>2022-01-21 14:00:00+00:00</th>\n",
       "      <td>25</td>\n",
       "    </tr>\n",
       "    <tr>\n",
       "      <th>2022-01-21 15:00:00+00:00</th>\n",
       "      <td>23</td>\n",
       "    </tr>\n",
       "    <tr>\n",
       "      <th>2022-01-21 16:00:00+00:00</th>\n",
       "      <td>15</td>\n",
       "    </tr>\n",
       "    <tr>\n",
       "      <th>2022-01-21 17:00:00+00:00</th>\n",
       "      <td>14</td>\n",
       "    </tr>\n",
       "    <tr>\n",
       "      <th>2022-01-21 18:00:00+00:00</th>\n",
       "      <td>5</td>\n",
       "    </tr>\n",
       "    <tr>\n",
       "      <th>2022-01-21 19:00:00+00:00</th>\n",
       "      <td>16</td>\n",
       "    </tr>\n",
       "    <tr>\n",
       "      <th>2022-01-21 20:00:00+00:00</th>\n",
       "      <td>9</td>\n",
       "    </tr>\n",
       "    <tr>\n",
       "      <th>2022-01-21 21:00:00+00:00</th>\n",
       "      <td>21</td>\n",
       "    </tr>\n",
       "    <tr>\n",
       "      <th>2022-01-21 22:00:00+00:00</th>\n",
       "      <td>20</td>\n",
       "    </tr>\n",
       "  </tbody>\n",
       "</table>\n",
       "</div>"
      ],
      "text/plain": [
       "                           count\n",
       "time                            \n",
       "2022-01-19 23:00:00+00:00     11\n",
       "2022-01-20 00:00:00+00:00      4\n",
       "2022-01-20 01:00:00+00:00      6\n",
       "2022-01-20 02:00:00+00:00     10\n",
       "2022-01-20 03:00:00+00:00      9\n",
       "2022-01-20 04:00:00+00:00      7\n",
       "2022-01-20 05:00:00+00:00      5\n",
       "2022-01-20 06:00:00+00:00      4\n",
       "2022-01-20 07:00:00+00:00      9\n",
       "2022-01-20 08:00:00+00:00     11\n",
       "2022-01-20 09:00:00+00:00      7\n",
       "2022-01-20 10:00:00+00:00      6\n",
       "2022-01-20 11:00:00+00:00     17\n",
       "2022-01-20 12:00:00+00:00     15\n",
       "2022-01-20 13:00:00+00:00     18\n",
       "2022-01-20 14:00:00+00:00     18\n",
       "2022-01-20 15:00:00+00:00     14\n",
       "2022-01-20 16:00:00+00:00      9\n",
       "2022-01-20 17:00:00+00:00     10\n",
       "2022-01-20 18:00:00+00:00     15\n",
       "2022-01-20 19:00:00+00:00     12\n",
       "2022-01-20 20:00:00+00:00      3\n",
       "2022-01-20 21:00:00+00:00     12\n",
       "2022-01-20 22:00:00+00:00      7\n",
       "2022-01-20 23:00:00+00:00     19\n",
       "2022-01-21 00:00:00+00:00      9\n",
       "2022-01-21 01:00:00+00:00     17\n",
       "2022-01-21 02:00:00+00:00     15\n",
       "2022-01-21 03:00:00+00:00     15\n",
       "2022-01-21 04:00:00+00:00     19\n",
       "2022-01-21 05:00:00+00:00     17\n",
       "2022-01-21 06:00:00+00:00     15\n",
       "2022-01-21 07:00:00+00:00     20\n",
       "2022-01-21 08:00:00+00:00     27\n",
       "2022-01-21 09:00:00+00:00     15\n",
       "2022-01-21 10:00:00+00:00     18\n",
       "2022-01-21 11:00:00+00:00     11\n",
       "2022-01-21 12:00:00+00:00     22\n",
       "2022-01-21 13:00:00+00:00     33\n",
       "2022-01-21 14:00:00+00:00     25\n",
       "2022-01-21 15:00:00+00:00     23\n",
       "2022-01-21 16:00:00+00:00     15\n",
       "2022-01-21 17:00:00+00:00     14\n",
       "2022-01-21 18:00:00+00:00      5\n",
       "2022-01-21 19:00:00+00:00     16\n",
       "2022-01-21 20:00:00+00:00      9\n",
       "2022-01-21 21:00:00+00:00     21\n",
       "2022-01-21 22:00:00+00:00     20"
      ]
     },
     "execution_count": 9,
     "metadata": {},
     "output_type": "execute_result"
    }
   ],
   "source": [
    "pd.DataFrame([a.__dict__ for a in addresses]).set_index(\"time\")"
   ]
  },
  {
   "cell_type": "markdown",
   "metadata": {
    "pycharm": {
     "name": "#%% md\n"
    }
   },
   "source": [
    "## Plotting\n",
    "Method for plotting the active addresses number of the selected symbol for the required interval.\n",
    "\n",
    "In addition to all parameters from the `get_active_addresses` method, the following parameters are available here.\n",
    "\n",
    "***Parameters:***\n",
    "\n",
    "`kind`\n",
    "- The _line_ chart is produced by default. See do docstring for other available values.\n",
    "\n",
    "`backend`\n",
    "- The default backend is _matplotlib_. The other backends from `pd.options.plotting.backend` can be used.\n",
    "\n",
    "`**kwargs`\n",
    "- Other parameters specific to the selected backend could be specified (for example `figsize` in the Matplotlib example below)."
   ]
  },
  {
   "cell_type": "markdown",
   "metadata": {
    "pycharm": {
     "name": "#%% md\n"
    }
   },
   "source": [
    "### Matplotlib"
   ]
  },
  {
   "cell_type": "code",
   "execution_count": 11,
   "metadata": {
    "pycharm": {
     "name": "#%%\n"
    }
   },
   "outputs": [
    {
     "name": "stderr",
     "output_type": "stream",
     "text": [
      "                                                                                   \r"
     ]
    },
    {
     "data": {
      "image/png": "[encoded data removed]",
      "text/plain": [
       "<Figure size 432x288 with 1 Axes>"
      ]
     },
     "metadata": {},
     "output_type": "display_data"
    }
   ],
   "source": [
    "client.plot_active_addresses(\n",
    "    contract=\"0xd7730681b1dc8f6f969166b29d8a5ea8568616a3\",\n",
    "    from_=\"2022-01-20\",\n",
    "    to=\"2022-01-22\",\n",
    "    resolution=\"H1\",\n",
    "    )\n",
    "plt.show()"
   ]
  },
  {
   "cell_type": "markdown",
   "metadata": {
    "pycharm": {
     "name": "#%% md\n"
    }
   },
   "source": [
    "### Plotly"
   ]
  },
  {
   "cell_type": "code",
   "execution_count": 12,
   "metadata": {
    "pycharm": {
     "name": "#%%\n"
    }
   },
   "outputs": [
    {
     "name": "stderr",
     "output_type": "stream",
     "text": [
      "                                                                           \r"
     ]
    },
    {
     "data": {
      "text/html": [
       "        <script type=\"text/javascript\">\n",
       "        window.PlotlyConfig = {MathJaxConfig: 'local'};\n",
       "        if (window.MathJax) {MathJax.Hub.Config({SVG: {font: \"STIX-Web\"}});}\n",
       "        if (typeof require !== 'undefined') {\n",
       "        require.undef(\"plotly\");\n",
       "        requirejs.config({\n",
       "            paths: {\n",
       "                'plotly': ['https://cdn.plot.ly/plotly-2.9.0.min']\n",
       "            }\n",
       "        });\n",
       "        require(['plotly'], function(Plotly) {\n",
       "            window._Plotly = Plotly;\n",
       "        });\n",
       "        }\n",
       "        </script>\n",
       "        "
      ]
     },
     "metadata": {},
     "output_type": "display_data"
    },
    {
     "data": {
      "text/html": [
       "<div>                            <div id=\"04b31ce4-18fc-46e1-90af-487801a92c19\" class=\"plotly-graph-div\" style=\"height:525px; width:100%;\"></div>            <script type=\"text/javascript\">                require([\"plotly\"], function(Plotly) {                    window.PLOTLYENV=window.PLOTLYENV || {};                                    if (document.getElementById(\"04b31ce4-18fc-46e1-90af-487801a92c19\")) {                    Plotly.newPlot(                        \"04b31ce4-18fc-46e1-90af-487801a92c19\",                        [{\"hovertemplate\":\"variable=count<br>time=%{x}<br>value=%{y}<extra></extra>\",\"legendgroup\":\"count\",\"line\":{\"color\":\"#636efa\",\"dash\":\"solid\"},\"marker\":{\"symbol\":\"circle\"},\"mode\":\"lines\",\"name\":\"count\",\"orientation\":\"v\",\"showlegend\":true,\"x\":[\"2022-01-19T23:00:00+00:00\",\"2022-01-20T00:00:00+00:00\",\"2022-01-20T01:00:00+00:00\",\"2022-01-20T02:00:00+00:00\",\"2022-01-20T03:00:00+00:00\",\"2022-01-20T04:00:00+00:00\",\"2022-01-20T05:00:00+00:00\",\"2022-01-20T06:00:00+00:00\",\"2022-01-20T07:00:00+00:00\",\"2022-01-20T08:00:00+00:00\",\"2022-01-20T09:00:00+00:00\",\"2022-01-20T10:00:00+00:00\",\"2022-01-20T11:00:00+00:00\",\"2022-01-20T12:00:00+00:00\",\"2022-01-20T13:00:00+00:00\",\"2022-01-20T14:00:00+00:00\",\"2022-01-20T15:00:00+00:00\",\"2022-01-20T16:00:00+00:00\",\"2022-01-20T17:00:00+00:00\",\"2022-01-20T18:00:00+00:00\",\"2022-01-20T19:00:00+00:00\",\"2022-01-20T20:00:00+00:00\",\"2022-01-20T21:00:00+00:00\",\"2022-01-20T22:00:00+00:00\",\"2022-01-20T23:00:00+00:00\",\"2022-01-21T00:00:00+00:00\",\"2022-01-21T01:00:00+00:00\",\"2022-01-21T02:00:00+00:00\",\"2022-01-21T03:00:00+00:00\",\"2022-01-21T04:00:00+00:00\",\"2022-01-21T05:00:00+00:00\",\"2022-01-21T06:00:00+00:00\",\"2022-01-21T07:00:00+00:00\",\"2022-01-21T08:00:00+00:00\",\"2022-01-21T09:00:00+00:00\",\"2022-01-21T10:00:00+00:00\",\"2022-01-21T11:00:00+00:00\",\"2022-01-21T12:00:00+00:00\",\"2022-01-21T13:00:00+00:00\",\"2022-01-21T14:00:00+00:00\",\"2022-01-21T15:00:00+00:00\",\"2022-01-21T16:00:00+00:00\",\"2022-01-21T17:00:00+00:00\",\"2022-01-21T18:00:00+00:00\",\"2022-01-21T19:00:00+00:00\",\"2022-01-21T20:00:00+00:00\",\"2022-01-21T21:00:00+00:00\",\"2022-01-21T22:00:00+00:00\"],\"xaxis\":\"x\",\"y\":[11,4,6,10,9,7,5,4,9,11,7,6,17,15,18,18,14,9,10,15,12,3,12,7,19,9,17,15,15,19,17,15,20,27,15,18,11,22,33,25,23,15,14,5,16,9,21,20],\"yaxis\":\"y\",\"type\":\"scatter\"}],                        {\"template\":{\"data\":{\"bar\":[{\"error_x\":{\"color\":\"#2a3f5f\"},\"error_y\":{\"color\":\"#2a3f5f\"},\"marker\":{\"line\":{\"color\":\"#E5ECF6\",\"width\":0.5},\"pattern\":{\"fillmode\":\"overlay\",\"size\":10,\"solidity\":0.2}},\"type\":\"bar\"}],\"barpolar\":[{\"marker\":{\"line\":{\"color\":\"#E5ECF6\",\"width\":0.5},\"pattern\":{\"fillmode\":\"overlay\",\"size\":10,\"solidity\":0.2}},\"type\":\"barpolar\"}],\"carpet\":[{\"aaxis\":{\"endlinecolor\":\"#2a3f5f\",\"gridcolor\":\"white\",\"linecolor\":\"white\",\"minorgridcolor\":\"white\",\"startlinecolor\":\"#2a3f5f\"},\"baxis\":{\"endlinecolor\":\"#2a3f5f\",\"gridcolor\":\"white\",\"linecolor\":\"white\",\"minorgridcolor\":\"white\",\"startlinecolor\":\"#2a3f5f\"},\"type\":\"carpet\"}],\"choropleth\":[{\"colorbar\":{\"outlinewidth\":0,\"ticks\":\"\"},\"type\":\"choropleth\"}],\"contour\":[{\"colorbar\":{\"outlinewidth\":0,\"ticks\":\"\"},\"colorscale\":[[0.0,\"#0d0887\"],[0.1111111111111111,\"#46039f\"],[0.2222222222222222,\"#7201a8\"],[0.3333333333333333,\"#9c179e\"],[0.4444444444444444,\"#bd3786\"],[0.5555555555555556,\"#d8576b\"],[0.6666666666666666,\"#ed7953\"],[0.7777777777777778,\"#fb9f3a\"],[0.8888888888888888,\"#fdca26\"],[1.0,\"#f0f921\"]],\"type\":\"contour\"}],\"contourcarpet\":[{\"colorbar\":{\"outlinewidth\":0,\"ticks\":\"\"},\"type\":\"contourcarpet\"}],\"heatmap\":[{\"colorbar\":{\"outlinewidth\":0,\"ticks\":\"\"},\"colorscale\":[[0.0,\"#0d0887\"],[0.1111111111111111,\"#46039f\"],[0.2222222222222222,\"#7201a8\"],[0.3333333333333333,\"#9c179e\"],[0.4444444444444444,\"#bd3786\"],[0.5555555555555556,\"#d8576b\"],[0.6666666666666666,\"#ed7953\"],[0.7777777777777778,\"#fb9f3a\"],[0.8888888888888888,\"#fdca26\"],[1.0,\"#f0f921\"]],\"type\":\"heatmap\"}],\"heatmapgl\":[{\"colorbar\":{\"outlinewidth\":0,\"ticks\":\"\"},\"colorscale\":[[0.0,\"#0d0887\"],[0.1111111111111111,\"#46039f\"],[0.2222222222222222,\"#7201a8\"],[0.3333333333333333,\"#9c179e\"],[0.4444444444444444,\"#bd3786\"],[0.5555555555555556,\"#d8576b\"],[0.6666666666666666,\"#ed7953\"],[0.7777777777777778,\"#fb9f3a\"],[0.8888888888888888,\"#fdca26\"],[1.0,\"#f0f921\"]],\"type\":\"heatmapgl\"}],\"histogram\":[{\"marker\":{\"pattern\":{\"fillmode\":\"overlay\",\"size\":10,\"solidity\":0.2}},\"type\":\"histogram\"}],\"histogram2d\":[{\"colorbar\":{\"outlinewidth\":0,\"ticks\":\"\"},\"colorscale\":[[0.0,\"#0d0887\"],[0.1111111111111111,\"#46039f\"],[0.2222222222222222,\"#7201a8\"],[0.3333333333333333,\"#9c179e\"],[0.4444444444444444,\"#bd3786\"],[0.5555555555555556,\"#d8576b\"],[0.6666666666666666,\"#ed7953\"],[0.7777777777777778,\"#fb9f3a\"],[0.8888888888888888,\"#fdca26\"],[1.0,\"#f0f921\"]],\"type\":\"histogram2d\"}],\"histogram2dcontour\":[{\"colorbar\":{\"outlinewidth\":0,\"ticks\":\"\"},\"colorscale\":[[0.0,\"#0d0887\"],[0.1111111111111111,\"#46039f\"],[0.2222222222222222,\"#7201a8\"],[0.3333333333333333,\"#9c179e\"],[0.4444444444444444,\"#bd3786\"],[0.5555555555555556,\"#d8576b\"],[0.6666666666666666,\"#ed7953\"],[0.7777777777777778,\"#fb9f3a\"],[0.8888888888888888,\"#fdca26\"],[1.0,\"#f0f921\"]],\"type\":\"histogram2dcontour\"}],\"mesh3d\":[{\"colorbar\":{\"outlinewidth\":0,\"ticks\":\"\"},\"type\":\"mesh3d\"}],\"parcoords\":[{\"line\":{\"colorbar\":{\"outlinewidth\":0,\"ticks\":\"\"}},\"type\":\"parcoords\"}],\"pie\":[{\"automargin\":true,\"type\":\"pie\"}],\"scatter\":[{\"marker\":{\"colorbar\":{\"outlinewidth\":0,\"ticks\":\"\"}},\"type\":\"scatter\"}],\"scatter3d\":[{\"line\":{\"colorbar\":{\"outlinewidth\":0,\"ticks\":\"\"}},\"marker\":{\"colorbar\":{\"outlinewidth\":0,\"ticks\":\"\"}},\"type\":\"scatter3d\"}],\"scattercarpet\":[{\"marker\":{\"colorbar\":{\"outlinewidth\":0,\"ticks\":\"\"}},\"type\":\"scattercarpet\"}],\"scattergeo\":[{\"marker\":{\"colorbar\":{\"outlinewidth\":0,\"ticks\":\"\"}},\"type\":\"scattergeo\"}],\"scattergl\":[{\"marker\":{\"colorbar\":{\"outlinewidth\":0,\"ticks\":\"\"}},\"type\":\"scattergl\"}],\"scattermapbox\":[{\"marker\":{\"colorbar\":{\"outlinewidth\":0,\"ticks\":\"\"}},\"type\":\"scattermapbox\"}],\"scatterpolar\":[{\"marker\":{\"colorbar\":{\"outlinewidth\":0,\"ticks\":\"\"}},\"type\":\"scatterpolar\"}],\"scatterpolargl\":[{\"marker\":{\"colorbar\":{\"outlinewidth\":0,\"ticks\":\"\"}},\"type\":\"scatterpolargl\"}],\"scatterternary\":[{\"marker\":{\"colorbar\":{\"outlinewidth\":0,\"ticks\":\"\"}},\"type\":\"scatterternary\"}],\"surface\":[{\"colorbar\":{\"outlinewidth\":0,\"ticks\":\"\"},\"colorscale\":[[0.0,\"#0d0887\"],[0.1111111111111111,\"#46039f\"],[0.2222222222222222,\"#7201a8\"],[0.3333333333333333,\"#9c179e\"],[0.4444444444444444,\"#bd3786\"],[0.5555555555555556,\"#d8576b\"],[0.6666666666666666,\"#ed7953\"],[0.7777777777777778,\"#fb9f3a\"],[0.8888888888888888,\"#fdca26\"],[1.0,\"#f0f921\"]],\"type\":\"surface\"}],\"table\":[{\"cells\":{\"fill\":{\"color\":\"#EBF0F8\"},\"line\":{\"color\":\"white\"}},\"header\":{\"fill\":{\"color\":\"#C8D4E3\"},\"line\":{\"color\":\"white\"}},\"type\":\"table\"}]},\"layout\":{\"annotationdefaults\":{\"arrowcolor\":\"#2a3f5f\",\"arrowhead\":0,\"arrowwidth\":1},\"autotypenumbers\":\"strict\",\"coloraxis\":{\"colorbar\":{\"outlinewidth\":0,\"ticks\":\"\"}},\"colorscale\":{\"diverging\":[[0,\"#8e0152\"],[0.1,\"#c51b7d\"],[0.2,\"#de77ae\"],[0.3,\"#f1b6da\"],[0.4,\"#fde0ef\"],[0.5,\"#f7f7f7\"],[0.6,\"#e6f5d0\"],[0.7,\"#b8e186\"],[0.8,\"#7fbc41\"],[0.9,\"#4d9221\"],[1,\"#276419\"]],\"sequential\":[[0.0,\"#0d0887\"],[0.1111111111111111,\"#46039f\"],[0.2222222222222222,\"#7201a8\"],[0.3333333333333333,\"#9c179e\"],[0.4444444444444444,\"#bd3786\"],[0.5555555555555556,\"#d8576b\"],[0.6666666666666666,\"#ed7953\"],[0.7777777777777778,\"#fb9f3a\"],[0.8888888888888888,\"#fdca26\"],[1.0,\"#f0f921\"]],\"sequentialminus\":[[0.0,\"#0d0887\"],[0.1111111111111111,\"#46039f\"],[0.2222222222222222,\"#7201a8\"],[0.3333333333333333,\"#9c179e\"],[0.4444444444444444,\"#bd3786\"],[0.5555555555555556,\"#d8576b\"],[0.6666666666666666,\"#ed7953\"],[0.7777777777777778,\"#fb9f3a\"],[0.8888888888888888,\"#fdca26\"],[1.0,\"#f0f921\"]]},\"colorway\":[\"#636efa\",\"#EF553B\",\"#00cc96\",\"#ab63fa\",\"#FFA15A\",\"#19d3f3\",\"#FF6692\",\"#B6E880\",\"#FF97FF\",\"#FECB52\"],\"font\":{\"color\":\"#2a3f5f\"},\"geo\":{\"bgcolor\":\"white\",\"lakecolor\":\"white\",\"landcolor\":\"#E5ECF6\",\"showlakes\":true,\"showland\":true,\"subunitcolor\":\"white\"},\"hoverlabel\":{\"align\":\"left\"},\"hovermode\":\"closest\",\"mapbox\":{\"style\":\"light\"},\"paper_bgcolor\":\"white\",\"plot_bgcolor\":\"#E5ECF6\",\"polar\":{\"angularaxis\":{\"gridcolor\":\"white\",\"linecolor\":\"white\",\"ticks\":\"\"},\"bgcolor\":\"#E5ECF6\",\"radialaxis\":{\"gridcolor\":\"white\",\"linecolor\":\"white\",\"ticks\":\"\"}},\"scene\":{\"xaxis\":{\"backgroundcolor\":\"#E5ECF6\",\"gridcolor\":\"white\",\"gridwidth\":2,\"linecolor\":\"white\",\"showbackground\":true,\"ticks\":\"\",\"zerolinecolor\":\"white\"},\"yaxis\":{\"backgroundcolor\":\"#E5ECF6\",\"gridcolor\":\"white\",\"gridwidth\":2,\"linecolor\":\"white\",\"showbackground\":true,\"ticks\":\"\",\"zerolinecolor\":\"white\"},\"zaxis\":{\"backgroundcolor\":\"#E5ECF6\",\"gridcolor\":\"white\",\"gridwidth\":2,\"linecolor\":\"white\",\"showbackground\":true,\"ticks\":\"\",\"zerolinecolor\":\"white\"}},\"shapedefaults\":{\"line\":{\"color\":\"#2a3f5f\"}},\"ternary\":{\"aaxis\":{\"gridcolor\":\"white\",\"linecolor\":\"white\",\"ticks\":\"\"},\"baxis\":{\"gridcolor\":\"white\",\"linecolor\":\"white\",\"ticks\":\"\"},\"bgcolor\":\"#E5ECF6\",\"caxis\":{\"gridcolor\":\"white\",\"linecolor\":\"white\",\"ticks\":\"\"}},\"title\":{\"x\":0.05},\"xaxis\":{\"automargin\":true,\"gridcolor\":\"white\",\"linecolor\":\"white\",\"ticks\":\"\",\"title\":{\"standoff\":15},\"zerolinecolor\":\"white\",\"zerolinewidth\":2},\"yaxis\":{\"automargin\":true,\"gridcolor\":\"white\",\"linecolor\":\"white\",\"ticks\":\"\",\"title\":{\"standoff\":15},\"zerolinecolor\":\"white\",\"zerolinewidth\":2}}},\"xaxis\":{\"anchor\":\"y\",\"domain\":[0.0,1.0],\"title\":{\"text\":\"time\"}},\"yaxis\":{\"anchor\":\"x\",\"domain\":[0.0,1.0],\"title\":{\"text\":\"value\"}},\"legend\":{\"title\":{\"text\":\"variable\"},\"tracegroupgap\":0},\"title\":{\"text\":\"Number of active addresses of 0xd7730681b1dc8f6f969166b29d8a5ea8568616a3 Token\"}},                        {\"responsive\": true}                    ).then(function(){\n",
       "                            \n",
       "var gd = document.getElementById('04b31ce4-18fc-46e1-90af-487801a92c19');\n",
       "var x = new MutationObserver(function (mutations, observer) {{\n",
       "        var display = window.getComputedStyle(gd).display;\n",
       "        if (!display || display === 'none') {{\n",
       "            console.log([gd, 'removed!']);\n",
       "            Plotly.purge(gd);\n",
       "            observer.disconnect();\n",
       "        }}\n",
       "}});\n",
       "\n",
       "// Listen for the removal of the full notebook cells\n",
       "var notebookContainer = gd.closest('#notebook-container');\n",
       "if (notebookContainer) {{\n",
       "    x.observe(notebookContainer, {childList: true});\n",
       "}}\n",
       "\n",
       "// Listen for the clearing of the current output cell\n",
       "var outputEl = gd.closest('.output');\n",
       "if (outputEl) {{\n",
       "    x.observe(outputEl, {childList: true});\n",
       "}}\n",
       "\n",
       "                        })                };                });            </script>        </div>"
      ]
     },
     "metadata": {},
     "output_type": "display_data"
    }
   ],
   "source": [
    "client.plot_active_addresses(\n",
    "    contract=\"0xd7730681b1dc8f6f969166b29d8a5ea8568616a3\",\n",
    "    from_=\"2022-01-20\",\n",
    "    to=\"2022-01-22\",\n",
    "    resolution=\"H1\",\n",
    "    backend=\"plotly\"\n",
    "    )"
   ]
  },
  {
   "cell_type": "markdown",
   "metadata": {
    "pycharm": {
     "name": "#%% md\n"
    }
   },
   "source": [
    "### HvPlot"
   ]
  },
  {
   "cell_type": "code",
   "execution_count": 14,
   "metadata": {
    "pycharm": {
     "name": "#%%\n"
    }
   },
   "outputs": [
    {
     "name": "stderr",
     "output_type": "stream",
     "text": [
      "                                                                           \r"
     ]
    },
    {
     "data": {
      "application/vnd.holoviews_exec.v0+json": "",
      "text/html": [
       "<div id='1418'>\n",
       "\n",
       "\n",
       "\n",
       "\n",
       "\n",
       "  <div class=\"bk-root\" id=\"beea406e-85c2-4317-a4c7-7d883311a051\" data-root-id=\"1418\"></div>\n",
       "</div>\n",
       "<script type=\"application/javascript\">(function(root) {\n",
       "  function embed_document(root) {\n",
       "    var docs_json = {\"ce6c2217-e4c2-4c5d-a2f5-49312f8699c0\":{\"defs\":[{\"extends\":null,\"module\":null,\"name\":\"ReactiveHTML1\",\"overrides\":[],\"properties\":[]},{\"extends\":null,\"module\":null,\"name\":\"FlexBox1\",\"overrides\":[],\"properties\":[{\"default\":\"flex-start\",\"kind\":null,\"name\":\"align_content\"},{\"default\":\"flex-start\",\"kind\":null,\"name\":\"align_items\"},{\"default\":\"row\",\"kind\":null,\"name\":\"flex_direction\"},{\"default\":\"wrap\",\"kind\":null,\"name\":\"flex_wrap\"},{\"default\":\"flex-start\",\"kind\":null,\"name\":\"justify_content\"}]},{\"extends\":null,\"module\":null,\"name\":\"TemplateActions1\",\"overrides\":[],\"properties\":[{\"default\":0,\"kind\":null,\"name\":\"open_modal\"},{\"default\":0,\"kind\":null,\"name\":\"close_modal\"}]},{\"extends\":null,\"module\":null,\"name\":\"MaterialTemplateActions1\",\"overrides\":[],\"properties\":[{\"default\":0,\"kind\":null,\"name\":\"open_modal\"},{\"default\":0,\"kind\":null,\"name\":\"close_modal\"}]}],\"roots\":{\"references\":[{\"attributes\":{\"line_color\":\"#30a2da\",\"line_width\":2,\"x\":{\"field\":\"time\"},\"y\":{\"field\":\"count\"}},\"id\":\"1456\",\"type\":\"Line\"},{\"attributes\":{\"below\":[{\"id\":\"1432\"}],\"center\":[{\"id\":\"1435\"},{\"id\":\"1439\"}],\"height\":300,\"left\":[{\"id\":\"1436\"}],\"margin\":[5,5,5,5],\"min_border_bottom\":10,\"min_border_left\":10,\"min_border_right\":10,\"min_border_top\":10,\"renderers\":[{\"id\":\"1459\"}],\"sizing_mode\":\"fixed\",\"title\":{\"id\":\"1424\"},\"toolbar\":{\"id\":\"1446\"},\"width\":700,\"x_range\":{\"id\":\"1420\"},\"x_scale\":{\"id\":\"1428\"},\"y_range\":{\"id\":\"1421\"},\"y_scale\":{\"id\":\"1430\"}},\"id\":\"1423\",\"subtype\":\"Figure\",\"type\":\"Plot\"},{\"attributes\":{},\"id\":\"1466\",\"type\":\"BasicTickFormatter\"},{\"attributes\":{\"base\":60,\"mantissas\":[1,2,5,10,15,20,30],\"max_interval\":1800000.0,\"min_interval\":1000.0,\"num_minor_ticks\":0},\"id\":\"1481\",\"type\":\"AdaptiveTicker\"},{\"attributes\":{\"months\":[0,4,8]},\"id\":\"1489\",\"type\":\"MonthsTicker\"},{\"attributes\":{},\"id\":\"1440\",\"type\":\"SaveTool\"},{\"attributes\":{\"months\":[0,6]},\"id\":\"1490\",\"type\":\"MonthsTicker\"},{\"attributes\":{},\"id\":\"1441\",\"type\":\"PanTool\"},{\"attributes\":{\"mantissas\":[1,2,5],\"max_interval\":500.0,\"num_minor_ticks\":0},\"id\":\"1480\",\"type\":\"AdaptiveTicker\"},{\"attributes\":{},\"id\":\"1491\",\"type\":\"YearsTicker\"},{\"attributes\":{},\"id\":\"1442\",\"type\":\"WheelZoomTool\"},{\"attributes\":{},\"id\":\"1463\",\"type\":\"DatetimeTickFormatter\"},{\"attributes\":{\"end\":36.0,\"reset_end\":36.0,\"reset_start\":0.0,\"tags\":[[[\"count\",\"count\",null]]]},\"id\":\"1421\",\"type\":\"Range1d\"},{\"attributes\":{},\"id\":\"1430\",\"type\":\"LinearScale\"},{\"attributes\":{\"overlay\":{\"id\":\"1445\"}},\"id\":\"1443\",\"type\":\"BoxZoomTool\"},{\"attributes\":{\"coordinates\":null,\"group\":null,\"text\":\"Number of active addresses of 0xd7730681b1dc8f6f969166b29d8a5ea8568616a3 Token\",\"text_color\":\"black\",\"text_font_size\":\"12pt\"},\"id\":\"1424\",\"type\":\"Title\"},{\"attributes\":{\"margin\":[5,5,5,5],\"name\":\"HSpacer01984\",\"sizing_mode\":\"stretch_width\"},\"id\":\"1419\",\"type\":\"Spacer\"},{\"attributes\":{\"source\":{\"id\":\"1453\"}},\"id\":\"1460\",\"type\":\"CDSView\"},{\"attributes\":{},\"id\":\"1467\",\"type\":\"AllLabels\"},{\"attributes\":{\"line_alpha\":0.1,\"line_color\":\"#30a2da\",\"line_width\":2,\"x\":{\"field\":\"time\"},\"y\":{\"field\":\"count\"}},\"id\":\"1457\",\"type\":\"Line\"},{\"attributes\":{},\"id\":\"1444\",\"type\":\"ResetTool\"},{\"attributes\":{},\"id\":\"1464\",\"type\":\"AllLabels\"},{\"attributes\":{\"margin\":[5,5,5,5],\"name\":\"HSpacer01985\",\"sizing_mode\":\"stretch_width\"},\"id\":\"1514\",\"type\":\"Spacer\"},{\"attributes\":{\"tools\":[{\"id\":\"1422\"},{\"id\":\"1440\"},{\"id\":\"1441\"},{\"id\":\"1442\"},{\"id\":\"1443\"},{\"id\":\"1444\"}]},\"id\":\"1446\",\"type\":\"Toolbar\"},{\"attributes\":{},\"id\":\"1437\",\"type\":\"BasicTicker\"},{\"attributes\":{},\"id\":\"1454\",\"type\":\"Selection\"},{\"attributes\":{\"axis_label\":\"time\",\"coordinates\":null,\"formatter\":{\"id\":\"1463\"},\"group\":null,\"major_label_policy\":{\"id\":\"1464\"},\"ticker\":{\"id\":\"1433\"}},\"id\":\"1432\",\"type\":\"DatetimeAxis\"},{\"attributes\":{},\"id\":\"1428\",\"type\":\"LinearScale\"},{\"attributes\":{\"callback\":null,\"formatters\":{\"@{time}\":\"datetime\"},\"renderers\":[{\"id\":\"1459\"}],\"tags\":[\"hv_created\"],\"tooltips\":[[\"time\",\"@{time}{%F %T}\"],[\"count\",\"@{count}\"]]},\"id\":\"1422\",\"type\":\"HoverTool\"},{\"attributes\":{\"bottom_units\":\"screen\",\"coordinates\":null,\"fill_alpha\":0.5,\"fill_color\":\"lightgrey\",\"group\":null,\"left_units\":\"screen\",\"level\":\"overlay\",\"line_alpha\":1.0,\"line_color\":\"black\",\"line_dash\":[4,4],\"line_width\":2,\"right_units\":\"screen\",\"syncable\":false,\"top_units\":\"screen\"},\"id\":\"1445\",\"type\":\"BoxAnnotation\"},{\"attributes\":{\"days\":[1,8,15,22]},\"id\":\"1485\",\"type\":\"DaysTicker\"},{\"attributes\":{\"num_minor_ticks\":5,\"tickers\":[{\"id\":\"1480\"},{\"id\":\"1481\"},{\"id\":\"1482\"},{\"id\":\"1483\"},{\"id\":\"1484\"},{\"id\":\"1485\"},{\"id\":\"1486\"},{\"id\":\"1487\"},{\"id\":\"1488\"},{\"id\":\"1489\"},{\"id\":\"1490\"},{\"id\":\"1491\"}]},\"id\":\"1433\",\"type\":\"DatetimeTicker\"},{\"attributes\":{\"axis\":{\"id\":\"1432\"},\"coordinates\":null,\"group\":null,\"ticker\":{\"id\":\"1433\"}},\"id\":\"1435\",\"type\":\"Grid\"},{\"attributes\":{\"days\":[1,2,3,4,5,6,7,8,9,10,11,12,13,14,15,16,17,18,19,20,21,22,23,24,25,26,27,28,29,30,31]},\"id\":\"1483\",\"type\":\"DaysTicker\"},{\"attributes\":{\"end\":1642802400000.0,\"reset_end\":1642802400000.0,\"reset_start\":1642633200000.0,\"start\":1642633200000.0,\"tags\":[[[\"time\",\"time\",null]]]},\"id\":\"1420\",\"type\":\"Range1d\"},{\"attributes\":{\"days\":[1,4,7,10,13,16,19,22,25,28]},\"id\":\"1484\",\"type\":\"DaysTicker\"},{\"attributes\":{\"axis\":{\"id\":\"1436\"},\"coordinates\":null,\"dimension\":1,\"group\":null,\"ticker\":{\"id\":\"1437\"}},\"id\":\"1439\",\"type\":\"Grid\"},{\"attributes\":{\"data\":{\"count\":[11,4,6,10,9,7,5,4,9,11,7,6,17,15,18,18,14,9,10,15,12,3,12,7,19,9,17,15,15,19,17,15,20,27,15,18,11,22,33,25,23,15,14,5,16,9,21,20],\"time\":{\"__ndarray__\":\"AAAYGEnnd0IAAACHTOd3QgAA6PVP53dCAADQZFPnd0IAALjTVud3QgAAoEJa53dCAACIsV3nd0IAAHAgYed3QgAAWI9k53dCAABA/mfnd0IAAChta+d3QgAAENxu53dCAAD4SnLnd0IAAOC5ded3QgAAyCh553dCAACwl3znd0IAAJgGgOd3QgAAgHWD53dCAABo5Ibnd0IAAFBTiud3QgAAOMKN53dCAAAgMZHnd0IAAAiglOd3QgAA8A6Y53dCAADYfZvnd0IAAMDsnud3QgAAqFui53dCAACQyqXnd0IAAHg5qed3QgAAYKis53dCAABIF7Dnd0IAADCGs+d3QgAAGPW253dCAAAAZLrnd0IAAOjSved3QgAA0EHB53dCAAC4sMTnd0IAAKAfyOd3QgAAiI7L53dCAABw/c7nd0IAAFhs0ud3QgAAQNvV53dCAAAoStnnd0IAABC53Od3QgAA+Cfg53dCAADgluPnd0IAAMgF5+d3QgAAsHTq53dC\",\"dtype\":\"float64\",\"order\":\"little\",\"shape\":[48]}},\"selected\":{\"id\":\"1454\"},\"selection_policy\":{\"id\":\"1477\"}},\"id\":\"1453\",\"type\":\"ColumnDataSource\"},{\"attributes\":{\"base\":24,\"mantissas\":[1,2,4,6,8,12],\"max_interval\":43200000.0,\"min_interval\":3600000.0,\"num_minor_ticks\":0},\"id\":\"1482\",\"type\":\"AdaptiveTicker\"},{\"attributes\":{\"axis_label\":\"count\",\"coordinates\":null,\"formatter\":{\"id\":\"1466\"},\"group\":null,\"major_label_policy\":{\"id\":\"1467\"},\"ticker\":{\"id\":\"1437\"}},\"id\":\"1436\",\"type\":\"LinearAxis\"},{\"attributes\":{},\"id\":\"1477\",\"type\":\"UnionRenderers\"},{\"attributes\":{\"months\":[0,2,4,6,8,10]},\"id\":\"1488\",\"type\":\"MonthsTicker\"},{\"attributes\":{\"months\":[0,1,2,3,4,5,6,7,8,9,10,11]},\"id\":\"1487\",\"type\":\"MonthsTicker\"},{\"attributes\":{\"children\":[{\"id\":\"1419\"},{\"id\":\"1423\"},{\"id\":\"1514\"}],\"margin\":[0,0,0,0],\"name\":\"Row01980\",\"tags\":[\"embedded\"]},\"id\":\"1418\",\"type\":\"Row\"},{\"attributes\":{\"days\":[1,15]},\"id\":\"1486\",\"type\":\"DaysTicker\"},{\"attributes\":{\"coordinates\":null,\"data_source\":{\"id\":\"1453\"},\"glyph\":{\"id\":\"1456\"},\"group\":null,\"hover_glyph\":null,\"muted_glyph\":{\"id\":\"1458\"},\"nonselection_glyph\":{\"id\":\"1457\"},\"selection_glyph\":{\"id\":\"1461\"},\"view\":{\"id\":\"1460\"}},\"id\":\"1459\",\"type\":\"GlyphRenderer\"},{\"attributes\":{\"line_color\":\"#30a2da\",\"line_width\":2,\"x\":{\"field\":\"time\"},\"y\":{\"field\":\"count\"}},\"id\":\"1461\",\"type\":\"Line\"},{\"attributes\":{\"line_alpha\":0.2,\"line_color\":\"#30a2da\",\"line_width\":2,\"x\":{\"field\":\"time\"},\"y\":{\"field\":\"count\"}},\"id\":\"1458\",\"type\":\"Line\"}],\"root_ids\":[\"1418\"]},\"title\":\"Bokeh Application\",\"version\":\"2.4.2\"}};\n",
       "    var render_items = [{\"docid\":\"ce6c2217-e4c2-4c5d-a2f5-49312f8699c0\",\"root_ids\":[\"1418\"],\"roots\":{\"1418\":\"beea406e-85c2-4317-a4c7-7d883311a051\"}}];\n",
       "    root.Bokeh.embed.embed_items_notebook(docs_json, render_items);\n",
       "  }\n",
       "  if (root.Bokeh !== undefined && root.Bokeh.Panel !== undefined) {\n",
       "    embed_document(root);\n",
       "  } else {\n",
       "    var attempts = 0;\n",
       "    var timer = setInterval(function(root) {\n",
       "      if (root.Bokeh !== undefined && root.Bokeh.Panel !== undefined) {\n",
       "        clearInterval(timer);\n",
       "        embed_document(root);\n",
       "      } else if (document.readyState == \"complete\") {\n",
       "        attempts++;\n",
       "        if (attempts > 200) {\n",
       "          clearInterval(timer);\n",
       "          console.log(\"Bokeh: ERROR: Unable to run BokehJS code because BokehJS library is missing\");\n",
       "        }\n",
       "      }\n",
       "    }, 25, root)\n",
       "  }\n",
       "})(window);</script>"
      ],
      "text/plain": [
       ":Curve   [time]   (count)"
      ]
     },
     "execution_count": 14,
     "metadata": {
      "application/vnd.holoviews_exec.v0+json": {
       "id": "1418"
      }
     },
     "output_type": "execute_result"
    }
   ],
   "source": [
    "client.plot_active_addresses(\n",
    "    contract=\"0xd7730681b1dc8f6f969166b29d8a5ea8568616a3\",\n",
    "    from_=\"2022-01-20\",\n",
    "    to=\"2022-01-22\",\n",
    "    resolution=\"H1\",\n",
    "    backend=\"hvplot\",\n",
    "    grid=True,\n",
    "    )"
   ]
  }
 ],
 "metadata": {
  "interpreter": {
   "hash": "c5e1fbb35f6f73757ee3f1685a0230ad9f20736172730fe2387c421ac6aeedba"
  },
  "kernelspec": {
   "display_name": "Python 3 (ipykernel)",
   "language": "python",
   "name": "python3"
  },
  "language_info": {
   "codemirror_mode": {
    "name": "ipython",
    "version": 3
   },
   "file_extension": ".py",
   "mimetype": "text/x-python",
   "name": "python",
   "nbconvert_exporter": "python",
   "pygments_lexer": "ipython3",
   "version": "3.9.9"
  }
 },
 "nbformat": 4,
 "nbformat_minor": 2
}
