{
 "cells": [
  {
   "cell_type": "markdown",
   "metadata": {},
   "source": [
    "# Active Addresses Example"
   ]
  },
  {
   "cell_type": "markdown",
   "metadata": {},
   "source": [
    "## Intro"
   ]
  },
  {
   "cell_type": "markdown",
   "metadata": {},
   "source": [
    "### Imports"
   ]
  },
  {
   "cell_type": "code",
   "execution_count": 1,
   "metadata": {},
   "outputs": [],
   "source": [
    "%reload_ext autoreload\n",
    "%autoreload 2"
   ]
  },
  {
   "cell_type": "code",
   "execution_count": 1,
   "outputs": [],
   "source": [],
   "metadata": {
    "collapsed": false
   }
  },
  {
   "cell_type": "code",
   "execution_count": 2,
   "outputs": [],
   "source": [
    "import os\n",
    "import sys\n",
    "from dotenv import load_dotenv"
   ],
   "metadata": {
    "collapsed": false
   }
  },
  {
   "cell_type": "code",
   "execution_count": 3,
   "outputs": [],
   "source": [
    "import matplotlib.pyplot as plt\n",
    "import pandas as pd\n",
    "from tqdm.notebook import tqdm, trange\n",
    "\n",
    "from quantnote_api.quantnote_api import QuantNoteApi"
   ],
   "metadata": {
    "collapsed": false
   }
  },
  {
   "cell_type": "code",
   "execution_count": 4,
   "metadata": {},
   "outputs": [],
   "source": [
    "import matplotlib.pyplot as plt\n",
    "plt.style.use('ggplot')\n",
    "\n",
    "import plotly.io as pio\n",
    "pio.renderers.default = \"notebook_connected\""
   ]
  },
  {
   "cell_type": "markdown",
   "metadata": {},
   "source": [
    "### Create client instance"
   ]
  },
  {
   "cell_type": "code",
   "execution_count": 5,
   "metadata": {},
   "outputs": [
    {
     "data": {
      "text/plain": "<quantnote_api.quantnote_api.QuantNoteApi at 0x7f459e15ffd0>"
     },
     "execution_count": 5,
     "metadata": {},
     "output_type": "execute_result"
    }
   ],
   "source": [
    "load_dotenv()\n",
    "AUTH_TOKEN = os.getenv(\"AUTH_TOKEN\")\n",
    "client = QuantNoteApi(auth_token=AUTH_TOKEN)\n",
    "client"
   ]
  },
  {
   "cell_type": "markdown",
   "metadata": {},
   "source": [
    "## Getting Data\n",
    "\n",
    "Method `get_candles` returns calculated total traded volume for specific token in given time range.\n",
    "\n",
    "***Parameters:***\n",
    "\n",
    "`chain`\n",
    "- It is an optional parameter with the default value `\"bsc\"` (_Binance Smart Chain_). The chain can be specified as a string (case insensitive) or an integer (chain id).\n",
    "\n",
    "`symbol`\n",
    "- The symbol is an optional parameter. It could be used instead of the `contract` parameter; however, the symbol must be unique (at least within the chain), so it could be used only for some tokens.\n",
    "\n",
    "`contract`\n",
    "- The contract parameter is required. However, as mentioned above, it could be omitted if the `symbol` is specified.\n",
    "\n",
    "`from_`\n",
    "- `from_` is the required parameter; however, the start of data history is used if omitted. The date could be entered as a timestamp (integer number) or by a human-readable string (e.g., `2022-05-01`).\n",
    "\n",
    "`to`\n",
    "- The default value is _now_. The format is the same as for parameter `from_`, so a timestamp or a string could be entered.\n",
    "\n",
    "`resolution`\n",
    "- By default, the resolution is _H1_ (one hour). The parameter is case insensitive.\n",
    "\n",
    "`validate_params`\n",
    "- An optional parameter with a default value equal to _True_."
   ]
  },
  {
   "cell_type": "code",
   "execution_count": 6,
   "metadata": {},
   "outputs": [
    {
     "data": {
      "text/plain": "Iterating requests to meet the limit:   0%|          | 0/1 [00:00<?, ?it/s]",
      "application/vnd.jupyter.widget-view+json": {
       "version_major": 2,
       "version_minor": 0,
       "model_id": "86ddd321e2ca4b6a917c01068ad51b3b"
      },
      "application/json": {
       "n": 0,
       "total": 1,
       "elapsed": 0.005689382553100586,
       "ncols": null,
       "nrows": null,
       "prefix": "Iterating requests to meet the limit",
       "ascii": false,
       "unit": "it",
       "unit_scale": false,
       "rate": null,
       "bar_format": null,
       "postfix": null,
       "unit_divisor": 1000,
       "initial": 0,
       "colour": null
      }
     },
     "metadata": {},
     "output_type": "display_data"
    },
    {
     "data": {
      "text/plain": "[ActiveAddressesResponse(\n \ttime = 2022-01-19 23:00:00+00:00,\n \tcount = 11,\n ),\n ActiveAddressesResponse(\n \ttime = 2022-01-20 00:00:00+00:00,\n \tcount = 4,\n ),\n ActiveAddressesResponse(\n \ttime = 2022-01-20 01:00:00+00:00,\n \tcount = 6,\n ),\n ActiveAddressesResponse(\n \ttime = 2022-01-20 02:00:00+00:00,\n \tcount = 10,\n ),\n ActiveAddressesResponse(\n \ttime = 2022-01-20 03:00:00+00:00,\n \tcount = 9,\n ),\n ActiveAddressesResponse(\n \ttime = 2022-01-20 04:00:00+00:00,\n \tcount = 7,\n ),\n ActiveAddressesResponse(\n \ttime = 2022-01-20 05:00:00+00:00,\n \tcount = 5,\n ),\n ActiveAddressesResponse(\n \ttime = 2022-01-20 06:00:00+00:00,\n \tcount = 4,\n ),\n ActiveAddressesResponse(\n \ttime = 2022-01-20 07:00:00+00:00,\n \tcount = 9,\n ),\n ActiveAddressesResponse(\n \ttime = 2022-01-20 08:00:00+00:00,\n \tcount = 11,\n ),\n ActiveAddressesResponse(\n \ttime = 2022-01-20 09:00:00+00:00,\n \tcount = 7,\n ),\n ActiveAddressesResponse(\n \ttime = 2022-01-20 10:00:00+00:00,\n \tcount = 6,\n ),\n ActiveAddressesResponse(\n \ttime = 2022-01-20 11:00:00+00:00,\n \tcount = 17,\n ),\n ActiveAddressesResponse(\n \ttime = 2022-01-20 12:00:00+00:00,\n \tcount = 15,\n ),\n ActiveAddressesResponse(\n \ttime = 2022-01-20 13:00:00+00:00,\n \tcount = 18,\n ),\n ActiveAddressesResponse(\n \ttime = 2022-01-20 14:00:00+00:00,\n \tcount = 18,\n ),\n ActiveAddressesResponse(\n \ttime = 2022-01-20 15:00:00+00:00,\n \tcount = 14,\n ),\n ActiveAddressesResponse(\n \ttime = 2022-01-20 16:00:00+00:00,\n \tcount = 9,\n ),\n ActiveAddressesResponse(\n \ttime = 2022-01-20 17:00:00+00:00,\n \tcount = 10,\n ),\n ActiveAddressesResponse(\n \ttime = 2022-01-20 18:00:00+00:00,\n \tcount = 15,\n ),\n ActiveAddressesResponse(\n \ttime = 2022-01-20 19:00:00+00:00,\n \tcount = 12,\n ),\n ActiveAddressesResponse(\n \ttime = 2022-01-20 20:00:00+00:00,\n \tcount = 3,\n ),\n ActiveAddressesResponse(\n \ttime = 2022-01-20 21:00:00+00:00,\n \tcount = 12,\n ),\n ActiveAddressesResponse(\n \ttime = 2022-01-20 22:00:00+00:00,\n \tcount = 7,\n ),\n ActiveAddressesResponse(\n \ttime = 2022-01-20 23:00:00+00:00,\n \tcount = 19,\n ),\n ActiveAddressesResponse(\n \ttime = 2022-01-21 00:00:00+00:00,\n \tcount = 9,\n ),\n ActiveAddressesResponse(\n \ttime = 2022-01-21 01:00:00+00:00,\n \tcount = 17,\n ),\n ActiveAddressesResponse(\n \ttime = 2022-01-21 02:00:00+00:00,\n \tcount = 15,\n ),\n ActiveAddressesResponse(\n \ttime = 2022-01-21 03:00:00+00:00,\n \tcount = 15,\n ),\n ActiveAddressesResponse(\n \ttime = 2022-01-21 04:00:00+00:00,\n \tcount = 19,\n ),\n ActiveAddressesResponse(\n \ttime = 2022-01-21 05:00:00+00:00,\n \tcount = 17,\n ),\n ActiveAddressesResponse(\n \ttime = 2022-01-21 06:00:00+00:00,\n \tcount = 15,\n ),\n ActiveAddressesResponse(\n \ttime = 2022-01-21 07:00:00+00:00,\n \tcount = 20,\n ),\n ActiveAddressesResponse(\n \ttime = 2022-01-21 08:00:00+00:00,\n \tcount = 27,\n ),\n ActiveAddressesResponse(\n \ttime = 2022-01-21 09:00:00+00:00,\n \tcount = 15,\n ),\n ActiveAddressesResponse(\n \ttime = 2022-01-21 10:00:00+00:00,\n \tcount = 18,\n ),\n ActiveAddressesResponse(\n \ttime = 2022-01-21 11:00:00+00:00,\n \tcount = 11,\n ),\n ActiveAddressesResponse(\n \ttime = 2022-01-21 12:00:00+00:00,\n \tcount = 22,\n ),\n ActiveAddressesResponse(\n \ttime = 2022-01-21 13:00:00+00:00,\n \tcount = 33,\n ),\n ActiveAddressesResponse(\n \ttime = 2022-01-21 14:00:00+00:00,\n \tcount = 25,\n ),\n ActiveAddressesResponse(\n \ttime = 2022-01-21 15:00:00+00:00,\n \tcount = 23,\n ),\n ActiveAddressesResponse(\n \ttime = 2022-01-21 16:00:00+00:00,\n \tcount = 15,\n ),\n ActiveAddressesResponse(\n \ttime = 2022-01-21 17:00:00+00:00,\n \tcount = 14,\n ),\n ActiveAddressesResponse(\n \ttime = 2022-01-21 18:00:00+00:00,\n \tcount = 5,\n ),\n ActiveAddressesResponse(\n \ttime = 2022-01-21 19:00:00+00:00,\n \tcount = 16,\n ),\n ActiveAddressesResponse(\n \ttime = 2022-01-21 20:00:00+00:00,\n \tcount = 9,\n ),\n ActiveAddressesResponse(\n \ttime = 2022-01-21 21:00:00+00:00,\n \tcount = 21,\n ),\n ActiveAddressesResponse(\n \ttime = 2022-01-21 22:00:00+00:00,\n \tcount = 20,\n )]"
     },
     "execution_count": 6,
     "metadata": {},
     "output_type": "execute_result"
    }
   ],
   "source": [
    "addresses = client.get_active_addresses(\n",
    "    contract=\"0xd7730681b1dc8f6f969166b29d8a5ea8568616a3\",\n",
    "    from_=\"2022-01-20\",\n",
    "    to=\"2022-01-22\",\n",
    "    resolution=\"H1\",\n",
    "    )\n",
    "addresses"
   ]
  },
  {
   "cell_type": "code",
   "execution_count": 7,
   "metadata": {},
   "outputs": [
    {
     "data": {
      "text/plain": "                           count\ntime                            \n2022-01-19 23:00:00+00:00     11\n2022-01-20 00:00:00+00:00      4\n2022-01-20 01:00:00+00:00      6\n2022-01-20 02:00:00+00:00     10\n2022-01-20 03:00:00+00:00      9\n2022-01-20 04:00:00+00:00      7\n2022-01-20 05:00:00+00:00      5\n2022-01-20 06:00:00+00:00      4\n2022-01-20 07:00:00+00:00      9\n2022-01-20 08:00:00+00:00     11\n2022-01-20 09:00:00+00:00      7\n2022-01-20 10:00:00+00:00      6\n2022-01-20 11:00:00+00:00     17\n2022-01-20 12:00:00+00:00     15\n2022-01-20 13:00:00+00:00     18\n2022-01-20 14:00:00+00:00     18\n2022-01-20 15:00:00+00:00     14\n2022-01-20 16:00:00+00:00      9\n2022-01-20 17:00:00+00:00     10\n2022-01-20 18:00:00+00:00     15\n2022-01-20 19:00:00+00:00     12\n2022-01-20 20:00:00+00:00      3\n2022-01-20 21:00:00+00:00     12\n2022-01-20 22:00:00+00:00      7\n2022-01-20 23:00:00+00:00     19\n2022-01-21 00:00:00+00:00      9\n2022-01-21 01:00:00+00:00     17\n2022-01-21 02:00:00+00:00     15\n2022-01-21 03:00:00+00:00     15\n2022-01-21 04:00:00+00:00     19\n2022-01-21 05:00:00+00:00     17\n2022-01-21 06:00:00+00:00     15\n2022-01-21 07:00:00+00:00     20\n2022-01-21 08:00:00+00:00     27\n2022-01-21 09:00:00+00:00     15\n2022-01-21 10:00:00+00:00     18\n2022-01-21 11:00:00+00:00     11\n2022-01-21 12:00:00+00:00     22\n2022-01-21 13:00:00+00:00     33\n2022-01-21 14:00:00+00:00     25\n2022-01-21 15:00:00+00:00     23\n2022-01-21 16:00:00+00:00     15\n2022-01-21 17:00:00+00:00     14\n2022-01-21 18:00:00+00:00      5\n2022-01-21 19:00:00+00:00     16\n2022-01-21 20:00:00+00:00      9\n2022-01-21 21:00:00+00:00     21\n2022-01-21 22:00:00+00:00     20",
      "text/html": "<div>\n<style scoped>\n    .dataframe tbody tr th:only-of-type {\n        vertical-align: middle;\n    }\n\n    .dataframe tbody tr th {\n        vertical-align: top;\n    }\n\n    .dataframe thead th {\n        text-align: right;\n    }\n</style>\n<table border=\"1\" class=\"dataframe\">\n  <thead>\n    <tr style=\"text-align: right;\">\n      <th></th>\n      <th>count</th>\n    </tr>\n    <tr>\n      <th>time</th>\n      <th></th>\n    </tr>\n  </thead>\n  <tbody>\n    <tr>\n      <th>2022-01-19 23:00:00+00:00</th>\n      <td>11</td>\n    </tr>\n    <tr>\n      <th>2022-01-20 00:00:00+00:00</th>\n      <td>4</td>\n    </tr>\n    <tr>\n      <th>2022-01-20 01:00:00+00:00</th>\n      <td>6</td>\n    </tr>\n    <tr>\n      <th>2022-01-20 02:00:00+00:00</th>\n      <td>10</td>\n    </tr>\n    <tr>\n      <th>2022-01-20 03:00:00+00:00</th>\n      <td>9</td>\n    </tr>\n    <tr>\n      <th>2022-01-20 04:00:00+00:00</th>\n      <td>7</td>\n    </tr>\n    <tr>\n      <th>2022-01-20 05:00:00+00:00</th>\n      <td>5</td>\n    </tr>\n    <tr>\n      <th>2022-01-20 06:00:00+00:00</th>\n      <td>4</td>\n    </tr>\n    <tr>\n      <th>2022-01-20 07:00:00+00:00</th>\n      <td>9</td>\n    </tr>\n    <tr>\n      <th>2022-01-20 08:00:00+00:00</th>\n      <td>11</td>\n    </tr>\n    <tr>\n      <th>2022-01-20 09:00:00+00:00</th>\n      <td>7</td>\n    </tr>\n    <tr>\n      <th>2022-01-20 10:00:00+00:00</th>\n      <td>6</td>\n    </tr>\n    <tr>\n      <th>2022-01-20 11:00:00+00:00</th>\n      <td>17</td>\n    </tr>\n    <tr>\n      <th>2022-01-20 12:00:00+00:00</th>\n      <td>15</td>\n    </tr>\n    <tr>\n      <th>2022-01-20 13:00:00+00:00</th>\n      <td>18</td>\n    </tr>\n    <tr>\n      <th>2022-01-20 14:00:00+00:00</th>\n      <td>18</td>\n    </tr>\n    <tr>\n      <th>2022-01-20 15:00:00+00:00</th>\n      <td>14</td>\n    </tr>\n    <tr>\n      <th>2022-01-20 16:00:00+00:00</th>\n      <td>9</td>\n    </tr>\n    <tr>\n      <th>2022-01-20 17:00:00+00:00</th>\n      <td>10</td>\n    </tr>\n    <tr>\n      <th>2022-01-20 18:00:00+00:00</th>\n      <td>15</td>\n    </tr>\n    <tr>\n      <th>2022-01-20 19:00:00+00:00</th>\n      <td>12</td>\n    </tr>\n    <tr>\n      <th>2022-01-20 20:00:00+00:00</th>\n      <td>3</td>\n    </tr>\n    <tr>\n      <th>2022-01-20 21:00:00+00:00</th>\n      <td>12</td>\n    </tr>\n    <tr>\n      <th>2022-01-20 22:00:00+00:00</th>\n      <td>7</td>\n    </tr>\n    <tr>\n      <th>2022-01-20 23:00:00+00:00</th>\n      <td>19</td>\n    </tr>\n    <tr>\n      <th>2022-01-21 00:00:00+00:00</th>\n      <td>9</td>\n    </tr>\n    <tr>\n      <th>2022-01-21 01:00:00+00:00</th>\n      <td>17</td>\n    </tr>\n    <tr>\n      <th>2022-01-21 02:00:00+00:00</th>\n      <td>15</td>\n    </tr>\n    <tr>\n      <th>2022-01-21 03:00:00+00:00</th>\n      <td>15</td>\n    </tr>\n    <tr>\n      <th>2022-01-21 04:00:00+00:00</th>\n      <td>19</td>\n    </tr>\n    <tr>\n      <th>2022-01-21 05:00:00+00:00</th>\n      <td>17</td>\n    </tr>\n    <tr>\n      <th>2022-01-21 06:00:00+00:00</th>\n      <td>15</td>\n    </tr>\n    <tr>\n      <th>2022-01-21 07:00:00+00:00</th>\n      <td>20</td>\n    </tr>\n    <tr>\n      <th>2022-01-21 08:00:00+00:00</th>\n      <td>27</td>\n    </tr>\n    <tr>\n      <th>2022-01-21 09:00:00+00:00</th>\n      <td>15</td>\n    </tr>\n    <tr>\n      <th>2022-01-21 10:00:00+00:00</th>\n      <td>18</td>\n    </tr>\n    <tr>\n      <th>2022-01-21 11:00:00+00:00</th>\n      <td>11</td>\n    </tr>\n    <tr>\n      <th>2022-01-21 12:00:00+00:00</th>\n      <td>22</td>\n    </tr>\n    <tr>\n      <th>2022-01-21 13:00:00+00:00</th>\n      <td>33</td>\n    </tr>\n    <tr>\n      <th>2022-01-21 14:00:00+00:00</th>\n      <td>25</td>\n    </tr>\n    <tr>\n      <th>2022-01-21 15:00:00+00:00</th>\n      <td>23</td>\n    </tr>\n    <tr>\n      <th>2022-01-21 16:00:00+00:00</th>\n      <td>15</td>\n    </tr>\n    <tr>\n      <th>2022-01-21 17:00:00+00:00</th>\n      <td>14</td>\n    </tr>\n    <tr>\n      <th>2022-01-21 18:00:00+00:00</th>\n      <td>5</td>\n    </tr>\n    <tr>\n      <th>2022-01-21 19:00:00+00:00</th>\n      <td>16</td>\n    </tr>\n    <tr>\n      <th>2022-01-21 20:00:00+00:00</th>\n      <td>9</td>\n    </tr>\n    <tr>\n      <th>2022-01-21 21:00:00+00:00</th>\n      <td>21</td>\n    </tr>\n    <tr>\n      <th>2022-01-21 22:00:00+00:00</th>\n      <td>20</td>\n    </tr>\n  </tbody>\n</table>\n</div>"
     },
     "execution_count": 7,
     "metadata": {},
     "output_type": "execute_result"
    }
   ],
   "source": [
    "pd.DataFrame([a.__dict__ for a in addresses]).set_index(\"time\")"
   ]
  },
  {
   "cell_type": "markdown",
   "metadata": {},
   "source": [
    "## Plotting\n",
    "Method for plotting the active addresses number of the selected symbol for the required interval.\n",
    "\n",
    "In addition to all parameters from the `get_active_addresses` method, the following parameters are available here.\n",
    "\n",
    "***Parameters:***\n",
    "\n",
    "`kind`\n",
    "- The _line_ chart is produced by default. See do docstring for other available values.\n",
    "\n",
    "`backend`\n",
    "- The default backend is _matplotlib_. The other backends from `pd.options.plotting.backend` can be used.\n",
    "\n",
    "`**kwargs`\n",
    "- Other parameters specific to the selected backend could be specified (for example `figsize` in the Matplotlib example below)."
   ]
  },
  {
   "cell_type": "markdown",
   "metadata": {},
   "source": [
    "### Matplotlib"
   ]
  },
  {
   "cell_type": "code",
   "execution_count": 8,
   "metadata": {},
   "outputs": [
    {
     "data": {
      "text/plain": "Iterating requests to meet the limit:   0%|          | 0/1 [00:00<?, ?it/s]",
      "application/vnd.jupyter.widget-view+json": {
       "version_major": 2,
       "version_minor": 0,
       "model_id": "eb6b52a8f4fc4394a175e9afa860569c"
      },
      "application/json": {
       "n": 0,
       "total": 1,
       "elapsed": 0.008648157119750977,
       "ncols": null,
       "nrows": null,
       "prefix": "Iterating requests to meet the limit",
       "ascii": false,
       "unit": "it",
       "unit_scale": false,
       "rate": null,
       "bar_format": null,
       "postfix": null,
       "unit_divisor": 1000,
       "initial": 0,
       "colour": null
      }
     },
     "metadata": {},
     "output_type": "display_data"
    },
    {
     "data": {
      "text/plain": "<Figure size 432x288 with 1 Axes>",
      "image/png": "[encoded data removed]"
     },
     "metadata": {},
     "output_type": "display_data"
    }
   ],
   "source": [
    "client.plot_active_addresses(\n",
    "    contract=\"0xd7730681b1dc8f6f969166b29d8a5ea8568616a3\",\n",
    "    from_=\"2022-01-20\",\n",
    "    to=\"2022-01-22\",\n",
    "    resolution=\"H1\",\n",
    "    )\n",
    "plt.show()"
   ]
  },
  {
   "cell_type": "markdown",
   "metadata": {},
   "source": [
    "### Plotly"
   ]
  },
  {
   "cell_type": "code",
   "execution_count": 9,
   "metadata": {},
   "outputs": [
    {
     "data": {
      "text/plain": "Iterating requests to meet the limit:   0%|          | 0/1 [00:00<?, ?it/s]",
      "application/vnd.jupyter.widget-view+json": {
       "version_major": 2,
       "version_minor": 0,
       "model_id": "f3bbe3592bfd48baafc6794dd5a12003"
      },
      "application/json": {
       "n": 0,
       "total": 1,
       "elapsed": 0.005326032638549805,
       "ncols": null,
       "nrows": null,
       "prefix": "Iterating requests to meet the limit",
       "ascii": false,
       "unit": "it",
       "unit_scale": false,
       "rate": null,
       "bar_format": null,
       "postfix": null,
       "unit_divisor": 1000,
       "initial": 0,
       "colour": null
      }
     },
     "metadata": {},
     "output_type": "display_data"
    },
    {
     "data": {
      "text/html": "        <script type=\"text/javascript\">\n        window.PlotlyConfig = {MathJaxConfig: 'local'};\n        if (window.MathJax) {MathJax.Hub.Config({SVG: {font: \"STIX-Web\"}});}\n        if (typeof require !== 'undefined') {\n        require.undef(\"plotly\");\n        requirejs.config({\n            paths: {\n                'plotly': ['https://cdn.plot.ly/plotly-2.8.3.min']\n            }\n        });\n        require(['plotly'], function(Plotly) {\n            window._Plotly = Plotly;\n        });\n        }\n        </script>\n        "
     },
     "metadata": {},
     "output_type": "display_data"
    },
    {
     "data": {
      "text/html": "<div>                            <div id=\"b1cc8bc4-9c86-4f51-8bfe-1e87e1d8e39d\" class=\"plotly-graph-div\" style=\"height:525px; width:100%;\"></div>            <script type=\"text/javascript\">                require([\"plotly\"], function(Plotly) {                    window.PLOTLYENV=window.PLOTLYENV || {};                                    if (document.getElementById(\"b1cc8bc4-9c86-4f51-8bfe-1e87e1d8e39d\")) {                    Plotly.newPlot(                        \"b1cc8bc4-9c86-4f51-8bfe-1e87e1d8e39d\",                        [{\"hovertemplate\":\"variable=count<br>time=%{x}<br>value=%{y}<extra></extra>\",\"legendgroup\":\"count\",\"line\":{\"color\":\"#636efa\",\"dash\":\"solid\"},\"marker\":{\"symbol\":\"circle\"},\"mode\":\"lines\",\"name\":\"count\",\"orientation\":\"v\",\"showlegend\":true,\"x\":[\"2022-01-19T23:00:00+00:00\",\"2022-01-20T00:00:00+00:00\",\"2022-01-20T01:00:00+00:00\",\"2022-01-20T02:00:00+00:00\",\"2022-01-20T03:00:00+00:00\",\"2022-01-20T04:00:00+00:00\",\"2022-01-20T05:00:00+00:00\",\"2022-01-20T06:00:00+00:00\",\"2022-01-20T07:00:00+00:00\",\"2022-01-20T08:00:00+00:00\",\"2022-01-20T09:00:00+00:00\",\"2022-01-20T10:00:00+00:00\",\"2022-01-20T11:00:00+00:00\",\"2022-01-20T12:00:00+00:00\",\"2022-01-20T13:00:00+00:00\",\"2022-01-20T14:00:00+00:00\",\"2022-01-20T15:00:00+00:00\",\"2022-01-20T16:00:00+00:00\",\"2022-01-20T17:00:00+00:00\",\"2022-01-20T18:00:00+00:00\",\"2022-01-20T19:00:00+00:00\",\"2022-01-20T20:00:00+00:00\",\"2022-01-20T21:00:00+00:00\",\"2022-01-20T22:00:00+00:00\",\"2022-01-20T23:00:00+00:00\",\"2022-01-21T00:00:00+00:00\",\"2022-01-21T01:00:00+00:00\",\"2022-01-21T02:00:00+00:00\",\"2022-01-21T03:00:00+00:00\",\"2022-01-21T04:00:00+00:00\",\"2022-01-21T05:00:00+00:00\",\"2022-01-21T06:00:00+00:00\",\"2022-01-21T07:00:00+00:00\",\"2022-01-21T08:00:00+00:00\",\"2022-01-21T09:00:00+00:00\",\"2022-01-21T10:00:00+00:00\",\"2022-01-21T11:00:00+00:00\",\"2022-01-21T12:00:00+00:00\",\"2022-01-21T13:00:00+00:00\",\"2022-01-21T14:00:00+00:00\",\"2022-01-21T15:00:00+00:00\",\"2022-01-21T16:00:00+00:00\",\"2022-01-21T17:00:00+00:00\",\"2022-01-21T18:00:00+00:00\",\"2022-01-21T19:00:00+00:00\",\"2022-01-21T20:00:00+00:00\",\"2022-01-21T21:00:00+00:00\",\"2022-01-21T22:00:00+00:00\"],\"xaxis\":\"x\",\"y\":[11,4,6,10,9,7,5,4,9,11,7,6,17,15,18,18,14,9,10,15,12,3,12,7,19,9,17,15,15,19,17,15,20,27,15,18,11,22,33,25,23,15,14,5,16,9,21,20],\"yaxis\":\"y\",\"type\":\"scatter\"}],                        {\"template\":{\"data\":{\"bar\":[{\"error_x\":{\"color\":\"#f2f5fa\"},\"error_y\":{\"color\":\"#f2f5fa\"},\"marker\":{\"line\":{\"color\":\"rgb(17,17,17)\",\"width\":0.5},\"pattern\":{\"fillmode\":\"overlay\",\"size\":10,\"solidity\":0.2}},\"type\":\"bar\"}],\"barpolar\":[{\"marker\":{\"line\":{\"color\":\"rgb(17,17,17)\",\"width\":0.5},\"pattern\":{\"fillmode\":\"overlay\",\"size\":10,\"solidity\":0.2}},\"type\":\"barpolar\"}],\"carpet\":[{\"aaxis\":{\"endlinecolor\":\"#A2B1C6\",\"gridcolor\":\"#506784\",\"linecolor\":\"#506784\",\"minorgridcolor\":\"#506784\",\"startlinecolor\":\"#A2B1C6\"},\"baxis\":{\"endlinecolor\":\"#A2B1C6\",\"gridcolor\":\"#506784\",\"linecolor\":\"#506784\",\"minorgridcolor\":\"#506784\",\"startlinecolor\":\"#A2B1C6\"},\"type\":\"carpet\"}],\"choropleth\":[{\"colorbar\":{\"outlinewidth\":0,\"ticks\":\"\"},\"type\":\"choropleth\"}],\"contour\":[{\"colorbar\":{\"outlinewidth\":0,\"ticks\":\"\"},\"colorscale\":[[0.0,\"#0d0887\"],[0.1111111111111111,\"#46039f\"],[0.2222222222222222,\"#7201a8\"],[0.3333333333333333,\"#9c179e\"],[0.4444444444444444,\"#bd3786\"],[0.5555555555555556,\"#d8576b\"],[0.6666666666666666,\"#ed7953\"],[0.7777777777777778,\"#fb9f3a\"],[0.8888888888888888,\"#fdca26\"],[1.0,\"#f0f921\"]],\"type\":\"contour\"}],\"contourcarpet\":[{\"colorbar\":{\"outlinewidth\":0,\"ticks\":\"\"},\"type\":\"contourcarpet\"}],\"heatmap\":[{\"colorbar\":{\"outlinewidth\":0,\"ticks\":\"\"},\"colorscale\":[[0.0,\"#0d0887\"],[0.1111111111111111,\"#46039f\"],[0.2222222222222222,\"#7201a8\"],[0.3333333333333333,\"#9c179e\"],[0.4444444444444444,\"#bd3786\"],[0.5555555555555556,\"#d8576b\"],[0.6666666666666666,\"#ed7953\"],[0.7777777777777778,\"#fb9f3a\"],[0.8888888888888888,\"#fdca26\"],[1.0,\"#f0f921\"]],\"type\":\"heatmap\"}],\"heatmapgl\":[{\"colorbar\":{\"outlinewidth\":0,\"ticks\":\"\"},\"colorscale\":[[0.0,\"#0d0887\"],[0.1111111111111111,\"#46039f\"],[0.2222222222222222,\"#7201a8\"],[0.3333333333333333,\"#9c179e\"],[0.4444444444444444,\"#bd3786\"],[0.5555555555555556,\"#d8576b\"],[0.6666666666666666,\"#ed7953\"],[0.7777777777777778,\"#fb9f3a\"],[0.8888888888888888,\"#fdca26\"],[1.0,\"#f0f921\"]],\"type\":\"heatmapgl\"}],\"histogram\":[{\"marker\":{\"pattern\":{\"fillmode\":\"overlay\",\"size\":10,\"solidity\":0.2}},\"type\":\"histogram\"}],\"histogram2d\":[{\"colorbar\":{\"outlinewidth\":0,\"ticks\":\"\"},\"colorscale\":[[0.0,\"#0d0887\"],[0.1111111111111111,\"#46039f\"],[0.2222222222222222,\"#7201a8\"],[0.3333333333333333,\"#9c179e\"],[0.4444444444444444,\"#bd3786\"],[0.5555555555555556,\"#d8576b\"],[0.6666666666666666,\"#ed7953\"],[0.7777777777777778,\"#fb9f3a\"],[0.8888888888888888,\"#fdca26\"],[1.0,\"#f0f921\"]],\"type\":\"histogram2d\"}],\"histogram2dcontour\":[{\"colorbar\":{\"outlinewidth\":0,\"ticks\":\"\"},\"colorscale\":[[0.0,\"#0d0887\"],[0.1111111111111111,\"#46039f\"],[0.2222222222222222,\"#7201a8\"],[0.3333333333333333,\"#9c179e\"],[0.4444444444444444,\"#bd3786\"],[0.5555555555555556,\"#d8576b\"],[0.6666666666666666,\"#ed7953\"],[0.7777777777777778,\"#fb9f3a\"],[0.8888888888888888,\"#fdca26\"],[1.0,\"#f0f921\"]],\"type\":\"histogram2dcontour\"}],\"mesh3d\":[{\"colorbar\":{\"outlinewidth\":0,\"ticks\":\"\"},\"type\":\"mesh3d\"}],\"parcoords\":[{\"line\":{\"colorbar\":{\"outlinewidth\":0,\"ticks\":\"\"}},\"type\":\"parcoords\"}],\"pie\":[{\"automargin\":true,\"type\":\"pie\"}],\"scatter\":[{\"marker\":{\"line\":{\"color\":\"#283442\"}},\"type\":\"scatter\"}],\"scatter3d\":[{\"line\":{\"colorbar\":{\"outlinewidth\":0,\"ticks\":\"\"}},\"marker\":{\"colorbar\":{\"outlinewidth\":0,\"ticks\":\"\"}},\"type\":\"scatter3d\"}],\"scattercarpet\":[{\"marker\":{\"colorbar\":{\"outlinewidth\":0,\"ticks\":\"\"}},\"type\":\"scattercarpet\"}],\"scattergeo\":[{\"marker\":{\"colorbar\":{\"outlinewidth\":0,\"ticks\":\"\"}},\"type\":\"scattergeo\"}],\"scattergl\":[{\"marker\":{\"line\":{\"color\":\"#283442\"}},\"type\":\"scattergl\"}],\"scattermapbox\":[{\"marker\":{\"colorbar\":{\"outlinewidth\":0,\"ticks\":\"\"}},\"type\":\"scattermapbox\"}],\"scatterpolar\":[{\"marker\":{\"colorbar\":{\"outlinewidth\":0,\"ticks\":\"\"}},\"type\":\"scatterpolar\"}],\"scatterpolargl\":[{\"marker\":{\"colorbar\":{\"outlinewidth\":0,\"ticks\":\"\"}},\"type\":\"scatterpolargl\"}],\"scatterternary\":[{\"marker\":{\"colorbar\":{\"outlinewidth\":0,\"ticks\":\"\"}},\"type\":\"scatterternary\"}],\"surface\":[{\"colorbar\":{\"outlinewidth\":0,\"ticks\":\"\"},\"colorscale\":[[0.0,\"#0d0887\"],[0.1111111111111111,\"#46039f\"],[0.2222222222222222,\"#7201a8\"],[0.3333333333333333,\"#9c179e\"],[0.4444444444444444,\"#bd3786\"],[0.5555555555555556,\"#d8576b\"],[0.6666666666666666,\"#ed7953\"],[0.7777777777777778,\"#fb9f3a\"],[0.8888888888888888,\"#fdca26\"],[1.0,\"#f0f921\"]],\"type\":\"surface\"}],\"table\":[{\"cells\":{\"fill\":{\"color\":\"#506784\"},\"line\":{\"color\":\"rgb(17,17,17)\"}},\"header\":{\"fill\":{\"color\":\"#2a3f5f\"},\"line\":{\"color\":\"rgb(17,17,17)\"}},\"type\":\"table\"}]},\"layout\":{\"annotationdefaults\":{\"arrowcolor\":\"#f2f5fa\",\"arrowhead\":0,\"arrowwidth\":1},\"autotypenumbers\":\"strict\",\"coloraxis\":{\"colorbar\":{\"outlinewidth\":0,\"ticks\":\"\"}},\"colorscale\":{\"diverging\":[[0,\"#8e0152\"],[0.1,\"#c51b7d\"],[0.2,\"#de77ae\"],[0.3,\"#f1b6da\"],[0.4,\"#fde0ef\"],[0.5,\"#f7f7f7\"],[0.6,\"#e6f5d0\"],[0.7,\"#b8e186\"],[0.8,\"#7fbc41\"],[0.9,\"#4d9221\"],[1,\"#276419\"]],\"sequential\":[[0.0,\"#0d0887\"],[0.1111111111111111,\"#46039f\"],[0.2222222222222222,\"#7201a8\"],[0.3333333333333333,\"#9c179e\"],[0.4444444444444444,\"#bd3786\"],[0.5555555555555556,\"#d8576b\"],[0.6666666666666666,\"#ed7953\"],[0.7777777777777778,\"#fb9f3a\"],[0.8888888888888888,\"#fdca26\"],[1.0,\"#f0f921\"]],\"sequentialminus\":[[0.0,\"#0d0887\"],[0.1111111111111111,\"#46039f\"],[0.2222222222222222,\"#7201a8\"],[0.3333333333333333,\"#9c179e\"],[0.4444444444444444,\"#bd3786\"],[0.5555555555555556,\"#d8576b\"],[0.6666666666666666,\"#ed7953\"],[0.7777777777777778,\"#fb9f3a\"],[0.8888888888888888,\"#fdca26\"],[1.0,\"#f0f921\"]]},\"colorway\":[\"#636efa\",\"#EF553B\",\"#00cc96\",\"#ab63fa\",\"#FFA15A\",\"#19d3f3\",\"#FF6692\",\"#B6E880\",\"#FF97FF\",\"#FECB52\"],\"font\":{\"color\":\"#f2f5fa\"},\"geo\":{\"bgcolor\":\"rgb(17,17,17)\",\"lakecolor\":\"rgb(17,17,17)\",\"landcolor\":\"rgb(17,17,17)\",\"showlakes\":true,\"showland\":true,\"subunitcolor\":\"#506784\"},\"hoverlabel\":{\"align\":\"left\"},\"hovermode\":\"closest\",\"mapbox\":{\"style\":\"dark\"},\"paper_bgcolor\":\"rgb(17,17,17)\",\"plot_bgcolor\":\"rgb(17,17,17)\",\"polar\":{\"angularaxis\":{\"gridcolor\":\"#506784\",\"linecolor\":\"#506784\",\"ticks\":\"\"},\"bgcolor\":\"rgb(17,17,17)\",\"radialaxis\":{\"gridcolor\":\"#506784\",\"linecolor\":\"#506784\",\"ticks\":\"\"}},\"scene\":{\"xaxis\":{\"backgroundcolor\":\"rgb(17,17,17)\",\"gridcolor\":\"#506784\",\"gridwidth\":2,\"linecolor\":\"#506784\",\"showbackground\":true,\"ticks\":\"\",\"zerolinecolor\":\"#C8D4E3\"},\"yaxis\":{\"backgroundcolor\":\"rgb(17,17,17)\",\"gridcolor\":\"#506784\",\"gridwidth\":2,\"linecolor\":\"#506784\",\"showbackground\":true,\"ticks\":\"\",\"zerolinecolor\":\"#C8D4E3\"},\"zaxis\":{\"backgroundcolor\":\"rgb(17,17,17)\",\"gridcolor\":\"#506784\",\"gridwidth\":2,\"linecolor\":\"#506784\",\"showbackground\":true,\"ticks\":\"\",\"zerolinecolor\":\"#C8D4E3\"}},\"shapedefaults\":{\"line\":{\"color\":\"#f2f5fa\"}},\"sliderdefaults\":{\"bgcolor\":\"#C8D4E3\",\"bordercolor\":\"rgb(17,17,17)\",\"borderwidth\":1,\"tickwidth\":0},\"ternary\":{\"aaxis\":{\"gridcolor\":\"#506784\",\"linecolor\":\"#506784\",\"ticks\":\"\"},\"baxis\":{\"gridcolor\":\"#506784\",\"linecolor\":\"#506784\",\"ticks\":\"\"},\"bgcolor\":\"rgb(17,17,17)\",\"caxis\":{\"gridcolor\":\"#506784\",\"linecolor\":\"#506784\",\"ticks\":\"\"}},\"title\":{\"x\":0.05},\"updatemenudefaults\":{\"bgcolor\":\"#506784\",\"borderwidth\":0},\"xaxis\":{\"automargin\":true,\"gridcolor\":\"#283442\",\"linecolor\":\"#506784\",\"ticks\":\"\",\"title\":{\"standoff\":15},\"zerolinecolor\":\"#283442\",\"zerolinewidth\":2},\"yaxis\":{\"automargin\":true,\"gridcolor\":\"#283442\",\"linecolor\":\"#506784\",\"ticks\":\"\",\"title\":{\"standoff\":15},\"zerolinecolor\":\"#283442\",\"zerolinewidth\":2}}},\"xaxis\":{\"anchor\":\"y\",\"domain\":[0.0,1.0],\"title\":{\"text\":\"time\"}},\"yaxis\":{\"anchor\":\"x\",\"domain\":[0.0,1.0],\"title\":{\"text\":\"value\"}},\"legend\":{\"title\":{\"text\":\"variable\"},\"tracegroupgap\":0},\"title\":{\"text\":\"Number of active addresses of 0xd7730681b1dc8f6f969166b29d8a5ea8568616a3 Token\"}},                        {\"responsive\": true}                    ).then(function(){\n                            \nvar gd = document.getElementById('b1cc8bc4-9c86-4f51-8bfe-1e87e1d8e39d');\nvar x = new MutationObserver(function (mutations, observer) {{\n        var display = window.getComputedStyle(gd).display;\n        if (!display || display === 'none') {{\n            console.log([gd, 'removed!']);\n            Plotly.purge(gd);\n            observer.disconnect();\n        }}\n}});\n\n// Listen for the removal of the full notebook cells\nvar notebookContainer = gd.closest('#notebook-container');\nif (notebookContainer) {{\n    x.observe(notebookContainer, {childList: true});\n}}\n\n// Listen for the clearing of the current output cell\nvar outputEl = gd.closest('.output');\nif (outputEl) {{\n    x.observe(outputEl, {childList: true});\n}}\n\n                        })                };                });            </script>        </div>"
     },
     "metadata": {},
     "output_type": "display_data"
    }
   ],
   "source": [
    "client.plot_active_addresses(\n",
    "    contract=\"0xd7730681b1dc8f6f969166b29d8a5ea8568616a3\",\n",
    "    from_=\"2022-01-20\",\n",
    "    to=\"2022-01-22\",\n",
    "    resolution=\"H1\",\n",
    "    backend=\"plotly\"\n",
    "    )"
   ]
  },
  {
   "cell_type": "markdown",
   "metadata": {},
   "source": [
    "### HvPlot"
   ]
  },
  {
   "cell_type": "code",
   "execution_count": 10,
   "metadata": {},
   "outputs": [
    {
     "data": {
      "text/plain": "Iterating requests to meet the limit:   0%|          | 0/1 [00:00<?, ?it/s]",
      "application/vnd.jupyter.widget-view+json": {
       "version_major": 2,
       "version_minor": 0,
       "model_id": "3ca29fac629a49e8ad79bdebd42650d8"
      },
      "application/json": {
       "n": 0,
       "total": 1,
       "elapsed": 0.0055065155029296875,
       "ncols": null,
       "nrows": null,
       "prefix": "Iterating requests to meet the limit",
       "ascii": false,
       "unit": "it",
       "unit_scale": false,
       "rate": null,
       "bar_format": null,
       "postfix": null,
       "unit_divisor": 1000,
       "initial": 0,
       "colour": null
      }
     },
     "metadata": {},
     "output_type": "display_data"
    },
    {
     "ename": "ValueError",
     "evalue": "Could not find plotting backend 'hvplot'. Ensure that you've installed the package providing the 'hvplot' entrypoint, or that the package has a top-level `.plot` method.",
     "output_type": "error",
     "traceback": [
      "\u001B[0;31m---------------------------------------------------------------------------\u001B[0m",
      "\u001B[0;31mValueError\u001B[0m                                Traceback (most recent call last)",
      "Cell \u001B[0;32mIn[10], line 1\u001B[0m\n\u001B[0;32m----> 1\u001B[0m \u001B[43mclient\u001B[49m\u001B[38;5;241;43m.\u001B[39;49m\u001B[43mplot_active_addresses\u001B[49m\u001B[43m(\u001B[49m\n\u001B[1;32m      2\u001B[0m \u001B[43m    \u001B[49m\u001B[43mcontract\u001B[49m\u001B[38;5;241;43m=\u001B[39;49m\u001B[38;5;124;43m\"\u001B[39;49m\u001B[38;5;124;43m0xd7730681b1dc8f6f969166b29d8a5ea8568616a3\u001B[39;49m\u001B[38;5;124;43m\"\u001B[39;49m\u001B[43m,\u001B[49m\n\u001B[1;32m      3\u001B[0m \u001B[43m    \u001B[49m\u001B[43mfrom_\u001B[49m\u001B[38;5;241;43m=\u001B[39;49m\u001B[38;5;124;43m\"\u001B[39;49m\u001B[38;5;124;43m2022-01-20\u001B[39;49m\u001B[38;5;124;43m\"\u001B[39;49m\u001B[43m,\u001B[49m\n\u001B[1;32m      4\u001B[0m \u001B[43m    \u001B[49m\u001B[43mto\u001B[49m\u001B[38;5;241;43m=\u001B[39;49m\u001B[38;5;124;43m\"\u001B[39;49m\u001B[38;5;124;43m2022-01-22\u001B[39;49m\u001B[38;5;124;43m\"\u001B[39;49m\u001B[43m,\u001B[49m\n\u001B[1;32m      5\u001B[0m \u001B[43m    \u001B[49m\u001B[43mresolution\u001B[49m\u001B[38;5;241;43m=\u001B[39;49m\u001B[38;5;124;43m\"\u001B[39;49m\u001B[38;5;124;43mH1\u001B[39;49m\u001B[38;5;124;43m\"\u001B[39;49m\u001B[43m,\u001B[49m\n\u001B[1;32m      6\u001B[0m \u001B[43m    \u001B[49m\u001B[43mbackend\u001B[49m\u001B[38;5;241;43m=\u001B[39;49m\u001B[38;5;124;43m\"\u001B[39;49m\u001B[38;5;124;43mhvplot\u001B[39;49m\u001B[38;5;124;43m\"\u001B[39;49m\u001B[43m,\u001B[49m\n\u001B[1;32m      7\u001B[0m \u001B[43m    \u001B[49m\u001B[43mgrid\u001B[49m\u001B[38;5;241;43m=\u001B[39;49m\u001B[38;5;28;43;01mTrue\u001B[39;49;00m\u001B[43m,\u001B[49m\n\u001B[1;32m      8\u001B[0m \u001B[43m    \u001B[49m\u001B[43m)\u001B[49m\n",
      "File \u001B[0;32m~/Documents/turing/repos/quantnote-examples/venv/lib/python3.10/site-packages/quantnote_api/quantnote_api.py:1959\u001B[0m, in \u001B[0;36mQuantNoteApi.plot_active_addresses\u001B[0;34m(self, contract, symbol, from_, to, chain, resolution, validate_params, kind, backend, **kwargs)\u001B[0m\n\u001B[1;32m   1954\u001B[0m     \u001B[38;5;28;01mraise\u001B[39;00m \u001B[38;5;167;01mValueError\u001B[39;00m(\u001B[38;5;124m\"\u001B[39m\u001B[38;5;124mAddresses data are empty. It does not make sence to continue.\u001B[39m\u001B[38;5;124m\"\u001B[39m)\n\u001B[1;32m   1955\u001B[0m addresses \u001B[38;5;241m=\u001B[39m pd\u001B[38;5;241m.\u001B[39mDataFrame(\n\u001B[1;32m   1956\u001B[0m     [p\u001B[38;5;241m.\u001B[39mto_dict() \u001B[38;5;28;01mfor\u001B[39;00m p \u001B[38;5;129;01min\u001B[39;00m addresses],\n\u001B[1;32m   1957\u001B[0m )\u001B[38;5;241m.\u001B[39mset_index(\u001B[38;5;124m\"\u001B[39m\u001B[38;5;124mtime\u001B[39m\u001B[38;5;124m\"\u001B[39m)\n\u001B[0;32m-> 1959\u001B[0m \u001B[38;5;28;01mreturn\u001B[39;00m \u001B[38;5;28;43mself\u001B[39;49m\u001B[38;5;241;43m.\u001B[39;49m\u001B[43m_plot_1d_data\u001B[49m\u001B[43m(\u001B[49m\n\u001B[1;32m   1960\u001B[0m \u001B[43m    \u001B[49m\u001B[43mdata\u001B[49m\u001B[38;5;241;43m=\u001B[39;49m\u001B[43maddresses\u001B[49m\u001B[43m,\u001B[49m\n\u001B[1;32m   1961\u001B[0m \u001B[43m    \u001B[49m\u001B[43mtitle\u001B[49m\u001B[38;5;241;43m=\u001B[39;49m\u001B[38;5;124;43mf\u001B[39;49m\u001B[38;5;124;43m\"\u001B[39;49m\u001B[38;5;124;43mNumber of active addresses of \u001B[39;49m\u001B[38;5;132;43;01m{\u001B[39;49;00m\u001B[43msymbol\u001B[49m\u001B[38;5;241;43m.\u001B[39;49m\u001B[43mupper\u001B[49m\u001B[43m(\u001B[49m\u001B[43m)\u001B[49m\u001B[38;5;250;43m \u001B[39;49m\u001B[38;5;28;43;01mif\u001B[39;49;00m\u001B[38;5;250;43m \u001B[39;49m\u001B[43msymbol\u001B[49m\u001B[38;5;250;43m \u001B[39;49m\u001B[38;5;28;43;01melse\u001B[39;49;00m\u001B[38;5;250;43m \u001B[39;49m\u001B[43mcontract\u001B[49m\u001B[38;5;132;43;01m}\u001B[39;49;00m\u001B[38;5;124;43m Token\u001B[39;49m\u001B[38;5;124;43m\"\u001B[39;49m\u001B[43m,\u001B[49m\n\u001B[1;32m   1962\u001B[0m \u001B[43m    \u001B[49m\u001B[43mkind\u001B[49m\u001B[38;5;241;43m=\u001B[39;49m\u001B[43mkind\u001B[49m\u001B[43m,\u001B[49m\n\u001B[1;32m   1963\u001B[0m \u001B[43m    \u001B[49m\u001B[43mbackend\u001B[49m\u001B[38;5;241;43m=\u001B[39;49m\u001B[43mbackend\u001B[49m\u001B[43m,\u001B[49m\n\u001B[1;32m   1964\u001B[0m \u001B[43m    \u001B[49m\u001B[38;5;241;43m*\u001B[39;49m\u001B[38;5;241;43m*\u001B[39;49m\u001B[43mkwargs\u001B[49m\n\u001B[1;32m   1965\u001B[0m \u001B[43m\u001B[49m\u001B[43m)\u001B[49m\n",
      "File \u001B[0;32m~/Documents/turing/repos/quantnote-examples/venv/lib/python3.10/site-packages/quantnote_api/quantnote_api.py:1751\u001B[0m, in \u001B[0;36mQuantNoteApi._plot_1d_data\u001B[0;34m(self, data, title, kind, backend, **kwargs)\u001B[0m\n\u001B[1;32m   1717\u001B[0m \u001B[38;5;28;01mdef\u001B[39;00m \u001B[38;5;21m_plot_1d_data\u001B[39m(\u001B[38;5;28mself\u001B[39m, data: pd\u001B[38;5;241m.\u001B[39mDataFrame, title: \u001B[38;5;28mstr\u001B[39m, kind: \u001B[38;5;28mstr\u001B[39m \u001B[38;5;241m=\u001B[39m \u001B[38;5;124m\"\u001B[39m\u001B[38;5;124mline\u001B[39m\u001B[38;5;124m\"\u001B[39m, backend: \u001B[38;5;28mstr\u001B[39m \u001B[38;5;241m=\u001B[39m \u001B[38;5;124m\"\u001B[39m\u001B[38;5;124mmatplotlib\u001B[39m\u001B[38;5;124m\"\u001B[39m, \u001B[38;5;241m*\u001B[39m\u001B[38;5;241m*\u001B[39mkwargs):\n\u001B[1;32m   1718\u001B[0m \u001B[38;5;250m    \u001B[39m\u001B[38;5;124;03m\"\"\"\u001B[39;00m\n\u001B[1;32m   1719\u001B[0m \u001B[38;5;124;03m    Helper method for plotting 1-dimensional data.\u001B[39;00m\n\u001B[1;32m   1720\u001B[0m \n\u001B[0;32m   (...)\u001B[0m\n\u001B[1;32m   1749\u001B[0m \u001B[38;5;124;03m        will be the object returned by the backend.\u001B[39;00m\n\u001B[1;32m   1750\u001B[0m \u001B[38;5;124;03m    \"\"\"\u001B[39;00m\n\u001B[0;32m-> 1751\u001B[0m     \u001B[38;5;28;01mreturn\u001B[39;00m \u001B[43mdata\u001B[49m\u001B[38;5;241;43m.\u001B[39;49m\u001B[43mplot\u001B[49m\u001B[43m(\u001B[49m\n\u001B[1;32m   1752\u001B[0m \u001B[43m        \u001B[49m\u001B[43mtitle\u001B[49m\u001B[38;5;241;43m=\u001B[39;49m\u001B[43mtitle\u001B[49m\u001B[43m,\u001B[49m\n\u001B[1;32m   1753\u001B[0m \u001B[43m        \u001B[49m\u001B[43mkind\u001B[49m\u001B[38;5;241;43m=\u001B[39;49m\u001B[43mkind\u001B[49m\u001B[43m,\u001B[49m\n\u001B[1;32m   1754\u001B[0m \u001B[43m        \u001B[49m\u001B[43mbackend\u001B[49m\u001B[38;5;241;43m=\u001B[39;49m\u001B[43mbackend\u001B[49m\u001B[43m,\u001B[49m\n\u001B[1;32m   1755\u001B[0m \u001B[43m        \u001B[49m\u001B[38;5;241;43m*\u001B[39;49m\u001B[38;5;241;43m*\u001B[39;49m\u001B[43mkwargs\u001B[49m\n\u001B[1;32m   1756\u001B[0m \u001B[43m    \u001B[49m\u001B[43m)\u001B[49m\n",
      "File \u001B[0;32m~/Documents/turing/repos/quantnote-examples/venv/lib/python3.10/site-packages/pandas/plotting/_core.py:892\u001B[0m, in \u001B[0;36mPlotAccessor.__call__\u001B[0;34m(self, *args, **kwargs)\u001B[0m\n\u001B[1;32m    891\u001B[0m \u001B[38;5;28;01mdef\u001B[39;00m \u001B[38;5;21m__call__\u001B[39m(\u001B[38;5;28mself\u001B[39m, \u001B[38;5;241m*\u001B[39margs, \u001B[38;5;241m*\u001B[39m\u001B[38;5;241m*\u001B[39mkwargs):\n\u001B[0;32m--> 892\u001B[0m     plot_backend \u001B[38;5;241m=\u001B[39m \u001B[43m_get_plot_backend\u001B[49m\u001B[43m(\u001B[49m\u001B[43mkwargs\u001B[49m\u001B[38;5;241;43m.\u001B[39;49m\u001B[43mpop\u001B[49m\u001B[43m(\u001B[49m\u001B[38;5;124;43m\"\u001B[39;49m\u001B[38;5;124;43mbackend\u001B[39;49m\u001B[38;5;124;43m\"\u001B[39;49m\u001B[43m,\u001B[49m\u001B[43m \u001B[49m\u001B[38;5;28;43;01mNone\u001B[39;49;00m\u001B[43m)\u001B[49m\u001B[43m)\u001B[49m\n\u001B[1;32m    894\u001B[0m     x, y, kind, kwargs \u001B[38;5;241m=\u001B[39m \u001B[38;5;28mself\u001B[39m\u001B[38;5;241m.\u001B[39m_get_call_args(\n\u001B[1;32m    895\u001B[0m         plot_backend\u001B[38;5;241m.\u001B[39m\u001B[38;5;18m__name__\u001B[39m, \u001B[38;5;28mself\u001B[39m\u001B[38;5;241m.\u001B[39m_parent, args, kwargs\n\u001B[1;32m    896\u001B[0m     )\n\u001B[1;32m    898\u001B[0m     kind \u001B[38;5;241m=\u001B[39m \u001B[38;5;28mself\u001B[39m\u001B[38;5;241m.\u001B[39m_kind_aliases\u001B[38;5;241m.\u001B[39mget(kind, kind)\n",
      "File \u001B[0;32m~/Documents/turing/repos/quantnote-examples/venv/lib/python3.10/site-packages/pandas/plotting/_core.py:1849\u001B[0m, in \u001B[0;36m_get_plot_backend\u001B[0;34m(backend)\u001B[0m\n\u001B[1;32m   1846\u001B[0m \u001B[38;5;28;01mif\u001B[39;00m backend \u001B[38;5;129;01min\u001B[39;00m _backends:\n\u001B[1;32m   1847\u001B[0m     \u001B[38;5;28;01mreturn\u001B[39;00m _backends[backend]\n\u001B[0;32m-> 1849\u001B[0m module \u001B[38;5;241m=\u001B[39m \u001B[43m_load_backend\u001B[49m\u001B[43m(\u001B[49m\u001B[43mbackend\u001B[49m\u001B[43m)\u001B[49m\n\u001B[1;32m   1850\u001B[0m _backends[backend] \u001B[38;5;241m=\u001B[39m module\n\u001B[1;32m   1851\u001B[0m \u001B[38;5;28;01mreturn\u001B[39;00m module\n",
      "File \u001B[0;32m~/Documents/turing/repos/quantnote-examples/venv/lib/python3.10/site-packages/pandas/plotting/_core.py:1818\u001B[0m, in \u001B[0;36m_load_backend\u001B[0;34m(backend)\u001B[0m\n\u001B[1;32m   1813\u001B[0m     \u001B[38;5;28;01mif\u001B[39;00m \u001B[38;5;28mhasattr\u001B[39m(module, \u001B[38;5;124m\"\u001B[39m\u001B[38;5;124mplot\u001B[39m\u001B[38;5;124m\"\u001B[39m):\n\u001B[1;32m   1814\u001B[0m         \u001B[38;5;66;03m# Validate that the interface is implemented when the option is set,\u001B[39;00m\n\u001B[1;32m   1815\u001B[0m         \u001B[38;5;66;03m# rather than at plot time.\u001B[39;00m\n\u001B[1;32m   1816\u001B[0m         \u001B[38;5;28;01mreturn\u001B[39;00m module\n\u001B[0;32m-> 1818\u001B[0m \u001B[38;5;28;01mraise\u001B[39;00m \u001B[38;5;167;01mValueError\u001B[39;00m(\n\u001B[1;32m   1819\u001B[0m     \u001B[38;5;124mf\u001B[39m\u001B[38;5;124m\"\u001B[39m\u001B[38;5;124mCould not find plotting backend \u001B[39m\u001B[38;5;124m'\u001B[39m\u001B[38;5;132;01m{\u001B[39;00mbackend\u001B[38;5;132;01m}\u001B[39;00m\u001B[38;5;124m'\u001B[39m\u001B[38;5;124m. Ensure that you\u001B[39m\u001B[38;5;124m'\u001B[39m\u001B[38;5;124mve \u001B[39m\u001B[38;5;124m\"\u001B[39m\n\u001B[1;32m   1820\u001B[0m     \u001B[38;5;124mf\u001B[39m\u001B[38;5;124m\"\u001B[39m\u001B[38;5;124minstalled the package providing the \u001B[39m\u001B[38;5;124m'\u001B[39m\u001B[38;5;132;01m{\u001B[39;00mbackend\u001B[38;5;132;01m}\u001B[39;00m\u001B[38;5;124m'\u001B[39m\u001B[38;5;124m entrypoint, or that \u001B[39m\u001B[38;5;124m\"\u001B[39m\n\u001B[1;32m   1821\u001B[0m     \u001B[38;5;124m\"\u001B[39m\u001B[38;5;124mthe package has a top-level `.plot` method.\u001B[39m\u001B[38;5;124m\"\u001B[39m\n\u001B[1;32m   1822\u001B[0m )\n",
      "\u001B[0;31mValueError\u001B[0m: Could not find plotting backend 'hvplot'. Ensure that you've installed the package providing the 'hvplot' entrypoint, or that the package has a top-level `.plot` method."
     ]
    }
   ],
   "source": [
    "client.plot_active_addresses(\n",
    "    contract=\"0xd7730681b1dc8f6f969166b29d8a5ea8568616a3\",\n",
    "    from_=\"2022-01-20\",\n",
    "    to=\"2022-01-22\",\n",
    "    resolution=\"H1\",\n",
    "    backend=\"hvplot\",\n",
    "    grid=True,\n",
    "    )"
   ]
  }
 ],
 "metadata": {
  "interpreter": {
   "hash": "c5e1fbb35f6f73757ee3f1685a0230ad9f20736172730fe2387c421ac6aeedba"
  },
  "kernelspec": {
   "display_name": "Python 3 (ipykernel)",
   "language": "python",
   "name": "python3"
  },
  "language_info": {
   "codemirror_mode": {
    "name": "ipython",
    "version": 3
   },
   "file_extension": ".py",
   "mimetype": "text/x-python",
   "name": "python",
   "nbconvert_exporter": "python",
   "pygments_lexer": "ipython3",
   "version": "3.9.9"
  }
 },
 "nbformat": 4,
 "nbformat_minor": 2
}
