{
 "cells": [
  {
   "cell_type": "markdown",
   "metadata": {},
   "source": [
    "# OHLCV Example"
   ]
  },
  {
   "cell_type": "markdown",
   "metadata": {},
   "source": [
    "## Intro"
   ]
  },
  {
   "cell_type": "markdown",
   "metadata": {},
   "source": [
    "### Imports"
   ]
  },
  {
   "cell_type": "code",
   "execution_count": 1,
   "metadata": {},
   "outputs": [],
   "source": [
    "%reload_ext autoreload\n",
    "%autoreload 2"
   ]
  },
  {
   "cell_type": "code",
   "execution_count": 2,
   "metadata": {},
   "outputs": [],
   "source": [
    "import os\n",
    "import sys\n",
    "from dotenv import load_dotenv\n"
   ]
  },
  {
   "cell_type": "code",
   "execution_count": 3,
   "metadata": {},
   "outputs": [],
   "source": [
    "import matplotlib.pyplot as plt\n",
    "import pandas as pd\n",
    "from tqdm.notebook import tqdm, trange\n",
    "\n",
    "from helixirapi.helixir_api import HelixirApi"
   ]
  },
  {
   "cell_type": "code",
   "execution_count": 4,
   "metadata": {},
   "outputs": [],
   "source": [
    "import matplotlib.pyplot as plt\n",
    "plt.style.use('ggplot')\n",
    "\n",
    "import plotly.io as pio\n",
    "pio.renderers.default = \"notebook_connected\""
   ]
  },
  {
   "cell_type": "markdown",
   "metadata": {},
   "source": [
    "### Create client instance"
   ]
  },
  {
   "cell_type": "code",
   "execution_count": 5,
   "metadata": {},
   "outputs": [
    {
     "data": {
      "text/plain": [
       "<helixirapi.helixir_api.HelixirApi at 0x7fdff81567c0>"
      ]
     },
     "execution_count": 5,
     "metadata": {},
     "output_type": "execute_result"
    }
   ],
   "source": [
    "load_dotenv()\n",
    "AUTH_TOKEN = os.getenv(\"AUTH_TOKEN\")\n",
    "client = HelixirApi(auth_token=AUTH_TOKEN)\n",
    "client"
   ]
  },
  {
   "cell_type": "markdown",
   "metadata": {},
   "source": [
    "## Getting Data\n",
    "\n",
    "Method `get_OHLCV` returns price data (in OHLC format) with volume.\n",
    "\n",
    "***Parameters:***\n",
    "\n",
    "`chain`\n",
    "- It is an optional parameter with the default value `\"bsc\"` (_Binance Smart Chain_). The chain can be specified as a string (case insensitive) or an integer (chain id).\n",
    "\n",
    "`symbol`\n",
    "- The symbol is an optional parameter. It could be used instead of the `contract` parameter; however, the symbol must be unique (at least within the chain), so it could be used only for some tokens.\n",
    "\n",
    "`contract`\n",
    "- The contract parameter is required. However, as mentioned above, it could be omitted if the `symbol` is specified.\n",
    "\n",
    "`against`\n",
    "- By default, the price is stated in _USD_.\n",
    "\n",
    "`from_`\n",
    "- `from_` is the required parameter; however, the start of data history is used if omitted. The date could be entered as a timestamp (integer number) or by a human-readable string (e.g., `2022-05-01`).\n",
    "\n",
    "`to`\n",
    "- The default value is _now_. The format is the same as for parameter `from_`, so a timestamp or a string could be entered.\n",
    "\n",
    "`resolution`\n",
    "- By default, the resolution is _H1_ (one hour). The parameter is case insensitive.\n",
    "\n",
    "`platform`\n",
    "- The optional parameter with default value of the biggest platform on chain.\n",
    "\n",
    "`validate_params`\n",
    "- An optional parameter with a default value equal to _True_."
   ]
  },
  {
   "cell_type": "code",
   "execution_count": 6,
   "metadata": {},
   "outputs": [
    {
     "data": {
      "application/vnd.jupyter.widget-view+json": {
       "model_id": "",
       "version_major": 2,
       "version_minor": 0
      },
      "text/plain": [
       "Iterating requests to meet the limit:   0%|          | 0/4 [00:00<?, ?it/s]"
      ]
     },
     "metadata": {},
     "output_type": "display_data"
    },
    {
     "data": {
      "application/vnd.jupyter.widget-view+json": {
       "model_id": "",
       "version_major": 2,
       "version_minor": 0
      },
      "text/plain": [
       "Iterating requests to meet the limit:   0%|          | 0/4 [00:00<?, ?it/s]"
      ]
     },
     "metadata": {},
     "output_type": "display_data"
    },
    {
     "data": {
      "text/html": [
       "<div>\n",
       "<style scoped>\n",
       "    .dataframe tbody tr th:only-of-type {\n",
       "        vertical-align: middle;\n",
       "    }\n",
       "\n",
       "    .dataframe tbody tr th {\n",
       "        vertical-align: top;\n",
       "    }\n",
       "\n",
       "    .dataframe thead th {\n",
       "        text-align: right;\n",
       "    }\n",
       "</style>\n",
       "<table border=\"1\" class=\"dataframe\">\n",
       "  <thead>\n",
       "    <tr style=\"text-align: right;\">\n",
       "      <th></th>\n",
       "      <th>open</th>\n",
       "      <th>high</th>\n",
       "      <th>low</th>\n",
       "      <th>close</th>\n",
       "      <th>volume</th>\n",
       "    </tr>\n",
       "    <tr>\n",
       "      <th>time</th>\n",
       "      <th></th>\n",
       "      <th></th>\n",
       "      <th></th>\n",
       "      <th></th>\n",
       "      <th></th>\n",
       "    </tr>\n",
       "  </thead>\n",
       "  <tbody>\n",
       "    <tr>\n",
       "      <th>2021-12-31 00:00:00+00:00</th>\n",
       "      <td>517.275655</td>\n",
       "      <td>527.403035</td>\n",
       "      <td>507.622230</td>\n",
       "      <td>512.072826</td>\n",
       "      <td>1.335884e+06</td>\n",
       "    </tr>\n",
       "    <tr>\n",
       "      <th>2022-01-01 00:00:00+00:00</th>\n",
       "      <td>512.073030</td>\n",
       "      <td>526.355884</td>\n",
       "      <td>511.922083</td>\n",
       "      <td>526.268325</td>\n",
       "      <td>1.075947e+06</td>\n",
       "    </tr>\n",
       "    <tr>\n",
       "      <th>2022-01-02 00:00:00+00:00</th>\n",
       "      <td>526.261491</td>\n",
       "      <td>532.674468</td>\n",
       "      <td>519.298791</td>\n",
       "      <td>531.468461</td>\n",
       "      <td>1.084584e+06</td>\n",
       "    </tr>\n",
       "    <tr>\n",
       "      <th>2022-01-03 00:00:00+00:00</th>\n",
       "      <td>531.470383</td>\n",
       "      <td>531.598789</td>\n",
       "      <td>509.882842</td>\n",
       "      <td>512.352879</td>\n",
       "      <td>1.326274e+06</td>\n",
       "    </tr>\n",
       "    <tr>\n",
       "      <th>2022-01-04 00:00:00+00:00</th>\n",
       "      <td>512.352807</td>\n",
       "      <td>518.697110</td>\n",
       "      <td>502.853607</td>\n",
       "      <td>506.488620</td>\n",
       "      <td>1.443014e+06</td>\n",
       "    </tr>\n",
       "    <tr>\n",
       "      <th>...</th>\n",
       "      <td>...</td>\n",
       "      <td>...</td>\n",
       "      <td>...</td>\n",
       "      <td>...</td>\n",
       "      <td>...</td>\n",
       "    </tr>\n",
       "    <tr>\n",
       "      <th>2022-04-25 00:00:00+00:00</th>\n",
       "      <td>399.325811</td>\n",
       "      <td>404.484984</td>\n",
       "      <td>383.125502</td>\n",
       "      <td>404.459423</td>\n",
       "      <td>1.377097e+06</td>\n",
       "    </tr>\n",
       "    <tr>\n",
       "      <th>2022-04-26 00:00:00+00:00</th>\n",
       "      <td>404.460224</td>\n",
       "      <td>407.544468</td>\n",
       "      <td>382.004970</td>\n",
       "      <td>385.103323</td>\n",
       "      <td>1.399976e+06</td>\n",
       "    </tr>\n",
       "    <tr>\n",
       "      <th>2022-04-27 00:00:00+00:00</th>\n",
       "      <td>385.099576</td>\n",
       "      <td>393.934083</td>\n",
       "      <td>384.159602</td>\n",
       "      <td>390.785265</td>\n",
       "      <td>1.139868e+06</td>\n",
       "    </tr>\n",
       "    <tr>\n",
       "      <th>2022-04-28 00:00:00+00:00</th>\n",
       "      <td>390.782971</td>\n",
       "      <td>407.445015</td>\n",
       "      <td>389.371295</td>\n",
       "      <td>406.280757</td>\n",
       "      <td>1.473621e+06</td>\n",
       "    </tr>\n",
       "    <tr>\n",
       "      <th>2022-04-29 00:00:00+00:00</th>\n",
       "      <td>406.296030</td>\n",
       "      <td>409.496259</td>\n",
       "      <td>390.731842</td>\n",
       "      <td>393.181504</td>\n",
       "      <td>1.422307e+06</td>\n",
       "    </tr>\n",
       "  </tbody>\n",
       "</table>\n",
       "<p>120 rows × 5 columns</p>\n",
       "</div>"
      ],
      "text/plain": [
       "                                 open        high         low       close  \\\n",
       "time                                                                        \n",
       "2021-12-31 00:00:00+00:00  517.275655  527.403035  507.622230  512.072826   \n",
       "2022-01-01 00:00:00+00:00  512.073030  526.355884  511.922083  526.268325   \n",
       "2022-01-02 00:00:00+00:00  526.261491  532.674468  519.298791  531.468461   \n",
       "2022-01-03 00:00:00+00:00  531.470383  531.598789  509.882842  512.352879   \n",
       "2022-01-04 00:00:00+00:00  512.352807  518.697110  502.853607  506.488620   \n",
       "...                               ...         ...         ...         ...   \n",
       "2022-04-25 00:00:00+00:00  399.325811  404.484984  383.125502  404.459423   \n",
       "2022-04-26 00:00:00+00:00  404.460224  407.544468  382.004970  385.103323   \n",
       "2022-04-27 00:00:00+00:00  385.099576  393.934083  384.159602  390.785265   \n",
       "2022-04-28 00:00:00+00:00  390.782971  407.445015  389.371295  406.280757   \n",
       "2022-04-29 00:00:00+00:00  406.296030  409.496259  390.731842  393.181504   \n",
       "\n",
       "                                 volume  \n",
       "time                                     \n",
       "2021-12-31 00:00:00+00:00  1.335884e+06  \n",
       "2022-01-01 00:00:00+00:00  1.075947e+06  \n",
       "2022-01-02 00:00:00+00:00  1.084584e+06  \n",
       "2022-01-03 00:00:00+00:00  1.326274e+06  \n",
       "2022-01-04 00:00:00+00:00  1.443014e+06  \n",
       "...                                 ...  \n",
       "2022-04-25 00:00:00+00:00  1.377097e+06  \n",
       "2022-04-26 00:00:00+00:00  1.399976e+06  \n",
       "2022-04-27 00:00:00+00:00  1.139868e+06  \n",
       "2022-04-28 00:00:00+00:00  1.473621e+06  \n",
       "2022-04-29 00:00:00+00:00  1.422307e+06  \n",
       "\n",
       "[120 rows x 5 columns]"
      ]
     },
     "execution_count": 6,
     "metadata": {},
     "output_type": "execute_result"
    }
   ],
   "source": [
    "client.get_OHLCV(\n",
    "    symbol=\"wbnb\",\n",
    "    contract=\"0xbb4CdB9CBd36B01bD1cBaEBF2De08d9173bc095c\",\n",
    "    chain=\"BSC\",\n",
    "    resolution=\"D1\",\n",
    "    from_=\"2022-01-01\",\n",
    "    to=\"2022-05-01\",\n",
    ")"
   ]
  },
  {
   "cell_type": "markdown",
   "metadata": {},
   "source": [
    "As we can see, the output is in `pandas.DataFrame` format."
   ]
  }
 ],
 "metadata": {
  "interpreter": {
   "hash": "c5e1fbb35f6f73757ee3f1685a0230ad9f20736172730fe2387c421ac6aeedba"
  },
  "kernelspec": {
   "display_name": "Python 3 (ipykernel)",
   "language": "python",
   "name": "python3"
  },
  "language_info": {
   "codemirror_mode": {
    "name": "ipython",
    "version": 3
   },
   "file_extension": ".py",
   "mimetype": "text/x-python",
   "name": "python",
   "nbconvert_exporter": "python",
   "pygments_lexer": "ipython3",
   "version": "3.9.9"
  }
 },
 "nbformat": 4,
 "nbformat_minor": 2
}
