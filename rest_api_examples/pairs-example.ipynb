{
 "cells": [
  {
   "cell_type": "markdown",
   "metadata": {},
   "source": [
    "# Pairs Example"
   ]
  },
  {
   "cell_type": "markdown",
   "metadata": {},
   "source": [
    "## Intro"
   ]
  },
  {
   "cell_type": "markdown",
   "metadata": {},
   "source": [
    "### Imports"
   ]
  },
  {
   "cell_type": "code",
   "execution_count": 1,
   "metadata": {},
   "outputs": [],
   "source": [
    "%reload_ext autoreload\n",
    "%autoreload 2"
   ]
  },
  {
   "cell_type": "code",
   "execution_count": 2,
   "metadata": {},
   "outputs": [],
   "source": [
    "import os\n",
    "import sys\n",
    "from dotenv import load_dotenv\n"
   ]
  },
  {
   "cell_type": "code",
   "execution_count": 3,
   "metadata": {},
   "outputs": [],
   "source": [
    "import matplotlib.pyplot as plt\n",
    "import pandas as pd\n",
    "from tqdm.notebook import tqdm, trange\n",
    "\n",
    "from helixirapi.helixir_api import HelixirApi"
   ]
  },
  {
   "cell_type": "markdown",
   "metadata": {},
   "source": [
    "### Create client instance"
   ]
  },
  {
   "cell_type": "code",
   "execution_count": 4,
   "metadata": {},
   "outputs": [
    {
     "data": {
      "text/plain": [
       "<helixirapi.helixir_api.HelixirApi at 0x7f361409cfa0>"
      ]
     },
     "execution_count": 4,
     "metadata": {},
     "output_type": "execute_result"
    }
   ],
   "source": [
    "load_dotenv()\n",
    "AUTH_TOKEN = os.getenv(\"AUTH_TOKEN\")\n",
    "client = HelixirApi(auth_token=AUTH_TOKEN)\n",
    "client"
   ]
  },
  {
   "cell_type": "markdown",
   "metadata": {},
   "source": [
    "## Getting Token Info\n",
    "\n",
    "Returns Pancake token pairs (with Peg(e.g. BNB) and USD) for given token by its contract.\n",
    "\n",
    "***Parameters:***\n",
    "\n",
    "`chain`\n",
    "- It is an optional parameter with the default value `\"bsc\"` (_Binance Smart Chain_). The chain can be specified as a string (case insensitive) or an integer (chain id).\n",
    "\n",
    "`symbol`\n",
    "- The symbol is an optional parameter. It could be used instead of the `contract` parameter; however, the symbol must be unique (at least within the chain), so it could be used only for some tokens.\n",
    "\n",
    "`contract`\n",
    "- The contract parameter is required. However, as mentioned above, it could be omitted if the `symbol` is specified.\n",
    "\n",
    "`validate_params`\n",
    "- An optional parameter with a default value equal to _True_."
   ]
  },
  {
   "cell_type": "code",
   "execution_count": 5,
   "metadata": {},
   "outputs": [
    {
     "data": {
      "text/plain": [
       "{'PegPair': LPTokenResponse(\n",
       " \tname = Pancake LPs,\n",
       " \tsymbol = ADA/WBNB,\n",
       " \tchain = BSC,\n",
       " \tdecimals = 18.0,\n",
       " \ttotal_supply = 275374.4533277917,\n",
       " \tcontract = 0x28415ff2C35b65B9E5c7de82126b4015ab9d031F,\n",
       " \ttoken_0 = TokenResponse(\n",
       " \t\tid = 0,\n",
       " \t\tname = Cardano Token,\n",
       " \t\tsymbol = ADA,\n",
       " \t\tchain = BSC,\n",
       " \t\tactive = False,\n",
       " \t\tdecimals = 18.0,\n",
       " \t\ttotal_supply = 280000000.0,\n",
       " \t\tcirculating_supply = 279993956.3332701,\n",
       " \t\tcontract = 0x3EE2200Efb3400fAbB9AacF31297cBdD1d435D47,\n",
       " \t),\n",
       " \ttoken_1 = TokenResponse(\n",
       " \t\tid = 0,\n",
       " \t\tname = Wrapped BNB,\n",
       " \t\tsymbol = WBNB,\n",
       " \t\tchain = BSC,\n",
       " \t\tactive = False,\n",
       " \t\tdecimals = 18.0,\n",
       " \t\ttotal_supply = 4703633.758100775,\n",
       " \t\tcirculating_supply = 4703626.864123026,\n",
       " \t\tcontract = 0xbb4CdB9CBd36B01bD1cBaEBF2De08d9173bc095c,\n",
       " \t),\n",
       " ),\n",
       " 'UsdPair': LPTokenResponse(\n",
       " \tname = Pancake LPs,\n",
       " \tsymbol = ADA/BUSD,\n",
       " \tchain = BSC,\n",
       " \tdecimals = 18.0,\n",
       " \ttotal_supply = 11777.583983188995,\n",
       " \tcontract = 0x1E249DF2F58cBef7EAc2b0EE35964ED8311D5623,\n",
       " \ttoken_0 = TokenResponse(\n",
       " \t\tid = 0,\n",
       " \t\tname = Cardano Token,\n",
       " \t\tsymbol = ADA,\n",
       " \t\tchain = BSC,\n",
       " \t\tactive = False,\n",
       " \t\tdecimals = 18.0,\n",
       " \t\ttotal_supply = 280000000.0,\n",
       " \t\tcirculating_supply = 279993956.3332701,\n",
       " \t\tcontract = 0x3EE2200Efb3400fAbB9AacF31297cBdD1d435D47,\n",
       " \t),\n",
       " \ttoken_1 = TokenResponse(\n",
       " \t\tid = 0,\n",
       " \t\tname = BUSD Token,\n",
       " \t\tsymbol = BUSD,\n",
       " \t\tchain = BSC,\n",
       " \t\tactive = False,\n",
       " \t\tdecimals = 18.0,\n",
       " \t\ttotal_supply = 4850999328.62941,\n",
       " \t\tcirculating_supply = 4850774022.9716625,\n",
       " \t\tcontract = 0xe9e7CEA3DedcA5984780Bafc599bD69ADd087D56,\n",
       " \t),\n",
       " )}"
      ]
     },
     "execution_count": 5,
     "metadata": {},
     "output_type": "execute_result"
    }
   ],
   "source": [
    "client.get_pairs(\"ada\")"
   ]
  },
  {
   "cell_type": "code",
   "execution_count": 6,
   "metadata": {},
   "outputs": [
    {
     "data": {
      "text/plain": [
       "{'PegPair': LPTokenResponse(\n",
       " \tname = Pancake LPs,\n",
       " \tsymbol = ADA/WBNB,\n",
       " \tchain = BSC,\n",
       " \tdecimals = 18.0,\n",
       " \ttotal_supply = 275374.4533277917,\n",
       " \tcontract = 0x28415ff2C35b65B9E5c7de82126b4015ab9d031F,\n",
       " \ttoken_0 = TokenResponse(\n",
       " \t\tid = 0,\n",
       " \t\tname = Cardano Token,\n",
       " \t\tsymbol = ADA,\n",
       " \t\tchain = BSC,\n",
       " \t\tactive = False,\n",
       " \t\tdecimals = 18.0,\n",
       " \t\ttotal_supply = 280000000.0,\n",
       " \t\tcirculating_supply = 279993956.3332701,\n",
       " \t\tcontract = 0x3EE2200Efb3400fAbB9AacF31297cBdD1d435D47,\n",
       " \t),\n",
       " \ttoken_1 = TokenResponse(\n",
       " \t\tid = 0,\n",
       " \t\tname = Wrapped BNB,\n",
       " \t\tsymbol = WBNB,\n",
       " \t\tchain = BSC,\n",
       " \t\tactive = False,\n",
       " \t\tdecimals = 18.0,\n",
       " \t\ttotal_supply = 4703633.758100775,\n",
       " \t\tcirculating_supply = 4703626.864123026,\n",
       " \t\tcontract = 0xbb4CdB9CBd36B01bD1cBaEBF2De08d9173bc095c,\n",
       " \t),\n",
       " ),\n",
       " 'UsdPair': LPTokenResponse(\n",
       " \tname = Pancake LPs,\n",
       " \tsymbol = ADA/BUSD,\n",
       " \tchain = BSC,\n",
       " \tdecimals = 18.0,\n",
       " \ttotal_supply = 11777.583983188995,\n",
       " \tcontract = 0x1E249DF2F58cBef7EAc2b0EE35964ED8311D5623,\n",
       " \ttoken_0 = TokenResponse(\n",
       " \t\tid = 0,\n",
       " \t\tname = Cardano Token,\n",
       " \t\tsymbol = ADA,\n",
       " \t\tchain = BSC,\n",
       " \t\tactive = False,\n",
       " \t\tdecimals = 18.0,\n",
       " \t\ttotal_supply = 280000000.0,\n",
       " \t\tcirculating_supply = 279993956.3332701,\n",
       " \t\tcontract = 0x3EE2200Efb3400fAbB9AacF31297cBdD1d435D47,\n",
       " \t),\n",
       " \ttoken_1 = TokenResponse(\n",
       " \t\tid = 0,\n",
       " \t\tname = BUSD Token,\n",
       " \t\tsymbol = BUSD,\n",
       " \t\tchain = BSC,\n",
       " \t\tactive = False,\n",
       " \t\tdecimals = 18.0,\n",
       " \t\ttotal_supply = 4850999328.62941,\n",
       " \t\tcirculating_supply = 4850774022.9716625,\n",
       " \t\tcontract = 0xe9e7CEA3DedcA5984780Bafc599bD69ADd087D56,\n",
       " \t),\n",
       " )}"
      ]
     },
     "execution_count": 6,
     "metadata": {},
     "output_type": "execute_result"
    }
   ],
   "source": [
    "client.get_pairs(\n",
    "    contract = \"0x3EE2200Efb3400fAbB9AacF31297cBdD1d435D47\",\n",
    ")"
   ]
  },
  {
   "cell_type": "code",
   "execution_count": 7,
   "metadata": {},
   "outputs": [
    {
     "data": {
      "text/plain": [
       "LPTokenResponse(\n",
       "\tname = Pancake LPs,\n",
       "\tsymbol = ADA/BUSD,\n",
       "\tchain = BSC,\n",
       "\tdecimals = 18.0,\n",
       "\ttotal_supply = 11777.583983188995,\n",
       "\tcontract = 0x1E249DF2F58cBef7EAc2b0EE35964ED8311D5623,\n",
       "\ttoken_0 = TokenResponse(\n",
       "\t\tid = 0,\n",
       "\t\tname = Cardano Token,\n",
       "\t\tsymbol = ADA,\n",
       "\t\tchain = BSC,\n",
       "\t\tactive = False,\n",
       "\t\tdecimals = 18.0,\n",
       "\t\ttotal_supply = 280000000.0,\n",
       "\t\tcirculating_supply = 279993956.3332701,\n",
       "\t\tcontract = 0x3EE2200Efb3400fAbB9AacF31297cBdD1d435D47,\n",
       "\t),\n",
       "\ttoken_1 = TokenResponse(\n",
       "\t\tid = 0,\n",
       "\t\tname = BUSD Token,\n",
       "\t\tsymbol = BUSD,\n",
       "\t\tchain = BSC,\n",
       "\t\tactive = False,\n",
       "\t\tdecimals = 18.0,\n",
       "\t\ttotal_supply = 4850999328.62941,\n",
       "\t\tcirculating_supply = 4850774022.9716625,\n",
       "\t\tcontract = 0xe9e7CEA3DedcA5984780Bafc599bD69ADd087D56,\n",
       "\t),\n",
       ")"
      ]
     },
     "execution_count": 7,
     "metadata": {},
     "output_type": "execute_result"
    }
   ],
   "source": [
    "client.get_pairs(\"ada\")[\"UsdPair\"]"
   ]
  }
 ],
 "metadata": {
  "interpreter": {
   "hash": "c5e1fbb35f6f73757ee3f1685a0230ad9f20736172730fe2387c421ac6aeedba"
  },
  "kernelspec": {
   "display_name": "Python 3 (ipykernel)",
   "language": "python",
   "name": "python3"
  },
  "language_info": {
   "codemirror_mode": {
    "name": "ipython",
    "version": 3
   },
   "file_extension": ".py",
   "mimetype": "text/x-python",
   "name": "python",
   "nbconvert_exporter": "python",
   "pygments_lexer": "ipython3",
   "version": "3.9.9"
  }
 },
 "nbformat": 4,
 "nbformat_minor": 2
}
