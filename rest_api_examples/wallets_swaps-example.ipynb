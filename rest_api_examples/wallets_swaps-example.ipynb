{
 "cells": [
  {
   "cell_type": "markdown",
   "metadata": {},
   "source": [
    "# Wallets Swaps Example"
   ]
  },
  {
   "cell_type": "markdown",
   "metadata": {},
   "source": [
    "## Intro"
   ]
  },
  {
   "cell_type": "markdown",
   "metadata": {},
   "source": [
    "### Imports"
   ]
  },
  {
   "cell_type": "code",
   "execution_count": 1,
   "metadata": {},
   "outputs": [],
   "source": [
    "%reload_ext autoreload\n",
    "%autoreload 2"
   ]
  },
  {
   "cell_type": "code",
   "execution_count": 2,
   "metadata": {},
   "outputs": [],
   "source": [
    "import os\n",
    "import sys\n",
    "from dotenv import load_dotenv\n"
   ]
  },
  {
   "cell_type": "code",
   "execution_count": 3,
   "metadata": {},
   "outputs": [],
   "source": [
    "import matplotlib.pyplot as plt\n",
    "import pandas as pd\n",
    "from tqdm.notebook import tqdm, trange\n",
    "\n",
    "from helixirapi.helixir_api import HelixirApi"
   ]
  },
  {
   "cell_type": "code",
   "execution_count": 4,
   "metadata": {},
   "outputs": [],
   "source": [
    "import matplotlib.pyplot as plt\n",
    "plt.style.use('ggplot')\n",
    "\n",
    "import plotly.io as pio\n",
    "pio.renderers.default = \"notebook_connected\""
   ]
  },
  {
   "cell_type": "markdown",
   "metadata": {},
   "source": [
    "### Create client instance"
   ]
  },
  {
   "cell_type": "code",
   "execution_count": 5,
   "metadata": {},
   "outputs": [
    {
     "data": {
      "text/plain": [
       "<helixirapi.helixir_api.HelixirApi at 0x7fe8f42e2710>"
      ]
     },
     "execution_count": 5,
     "metadata": {},
     "output_type": "execute_result"
    }
   ],
   "source": [
    "load_dotenv()\n",
    "AUTH_TOKEN = os.getenv(\"AUTH_TOKEN\")\n",
    "client = HelixirApi(auth_token=AUTH_TOKEN)\n",
    "client"
   ]
  },
  {
   "cell_type": "markdown",
   "metadata": {},
   "source": [
    "## Getting Data\n",
    "\n",
    "Method `get_wallets_swaps` returns most recent swaps for given wallet and token, with pagination.\n",
    "\n",
    "***Parameters:***\n",
    "\n",
    "`chain`\n",
    "- It is an optional parameter with the default value `\"bsc\"` (_Binance Smart Chain_). The chain can be specified as a string (case insensitive) or an integer (chain id).\n",
    "\n",
    "`address`\n",
    "- Required parameter of wallet address (in string format).\n",
    "\n",
    "`token_contract`\n",
    "- Optional parameter with filter functionality.\n",
    "\n",
    "`lp_token`\n",
    "- Optional parameter with filter functionality.\n",
    "\n",
    "`from_`\n",
    "- `from_` is the required parameter; however, the start of data history is used if omitted. The date could be entered as a timestamp (integer number) or by a human-readable string (e.g., `2022-05-01`).\n",
    "\n",
    "`to`\n",
    "- The default value is _now_. The format is the same as for parameter `from_`, so a timestamp or a string could be entered. Maximal allowed range between `from_` and `to` is one month.\n",
    "\n",
    "`limit`\n",
    "- By default, number of items is 10. Maximal allowed value is 100.\n",
    "\n",
    "`page`\n",
    "- Optional parameter, by default equal to 1.\n",
    "\n",
    "`sort`\n",
    "- Optional parameter for sorting the items. Items are sorted descending according to time by default.\n",
    "\n",
    "`validate_params`\n",
    "- An optional parameter with a default value equal to _True_."
   ]
  },
  {
   "cell_type": "code",
   "execution_count": 24,
   "metadata": {},
   "outputs": [
    {
     "data": {
      "text/plain": [
       "[LPMoveResponse(\n",
       " \ttime = 2022-04-20 16:59:39+00:00,\n",
       " \ttoken_symbol = See/WBNB,\n",
       " \tamount_0 = -72536352.74644268,\n",
       " \tamount_1 = 1.2852054285911114,\n",
       " \ttoken_contract = 0x06f6286dd4a24A32E8F4696C8f2f6F01a8F8bAA6,\n",
       " ), LPMoveResponse(\n",
       " \ttime = 2022-04-20 03:13:37+00:00,\n",
       " \ttoken_symbol = NFTT/WBNB,\n",
       " \tamount_0 = -202699829.2828586,\n",
       " \tamount_1 = 2.7938152021677576,\n",
       " \ttoken_contract = 0x32A21D7cD04F9Cc7f8859ba4CEAAfbC7C1697A49,\n",
       " ), LPMoveResponse(\n",
       " \ttime = 2022-04-15 17:15:48+00:00,\n",
       " \ttoken_symbol = METAH/WBNB,\n",
       " \tamount_0 = -5000.0,\n",
       " \tamount_1 = 0.0005210300402447,\n",
       " \ttoken_contract = 0xfF5559C9C74bF5d275cdDAAD66c6796b87cC4fE6,\n",
       " ), LPMoveResponse(\n",
       " \ttime = 2022-04-12 07:35:28+00:00,\n",
       " \ttoken_symbol = Home/WBNB,\n",
       " \tamount_0 = -84270644.25642939,\n",
       " \tamount_1 = 1.2,\n",
       " \ttoken_contract = 0xfaf9466Ebf394fFd363EE5214ccEE5e18EDB3754,\n",
       " ), LPMoveResponse(\n",
       " \ttime = 2022-04-09 08:09:57+00:00,\n",
       " \ttoken_symbol = WBNB/FGDX,\n",
       " \tamount_0 = 1.9889639286,\n",
       " \tamount_1 = -160091136.62949213,\n",
       " \ttoken_contract = 0xE1f6da847D2679E3F83825F6c4cf65489682Fe3d,\n",
       " ), LPMoveResponse(\n",
       " \ttime = 2022-04-07 12:41:42+00:00,\n",
       " \ttoken_symbol = SHIBATM/WBNB,\n",
       " \tamount_0 = -38780853260640.664,\n",
       " \tamount_1 = 0.08973,\n",
       " \ttoken_contract = 0xecadaC65B4b09E94db15a3d3c7B4Ed379Bb7dBCd,\n",
       " ), LPMoveResponse(\n",
       " \ttime = 2022-04-05 10:41:03+00:00,\n",
       " \ttoken_symbol = GOALS/WBNB,\n",
       " \tamount_0 = -7267834245.707514,\n",
       " \tamount_1 = 0.2489109299,\n",
       " \ttoken_contract = 0x52130eA64dda1dC249F4EfBB700673bc4e5dB847,\n",
       " ), LPMoveResponse(\n",
       " \ttime = 2022-04-04 13:51:08+00:00,\n",
       " \ttoken_symbol = UPFI/WBNB,\n",
       " \tamount_0 = -62638987633.35923,\n",
       " \tamount_1 = 1.7250402221290717,\n",
       " \ttoken_contract = 0xAa6f8293D2D2aAfA855D2Cf279a8033E6b89d264,\n",
       " ), LPMoveResponse(\n",
       " \ttime = 2022-04-04 07:43:13+00:00,\n",
       " \ttoken_symbol = WBNB/ATMSHIB,\n",
       " \tamount_0 = 0.06979,\n",
       " \tamount_1 = -36159994117814.2,\n",
       " \ttoken_contract = 0x2774Ec7Ff8616761B8cE27b9770baF59fbF135bd,\n",
       " ), LPMoveResponse(\n",
       " \ttime = 2022-04-03 14:31:19+00:00,\n",
       " \ttoken_symbol = WBNB/Definance,\n",
       " \tamount_0 = 1.678091599,\n",
       " \tamount_1 = -570906513.7748871,\n",
       " \ttoken_contract = 0xd5E0E4D3459d95ccB07584f741CC0285dF5aB1F1,\n",
       " ), LPMoveResponse(\n",
       " \ttime = 2022-04-02 16:21:31+00:00,\n",
       " \ttoken_symbol = ,\n",
       " \tamount_0 = -69373551.66055839,\n",
       " \tamount_1 = 0.4564823022129842,\n",
       " \ttoken_contract = ,\n",
       " )]"
      ]
     },
     "execution_count": 24,
     "metadata": {},
     "output_type": "execute_result"
    }
   ],
   "source": [
    "swaps = client.get_wallets_swaps(\n",
    "    address = \"0x8894E0a0c962CB723c1976a4421c95949bE2D4E3\",\n",
    "    from_ = \"2022-04-01\",\n",
    "    to = \"2022-05-01\",\n",
    "    limit = 100,\n",
    "    # sort = \"time.desc\"\n",
    ")\n",
    "swaps"
   ]
  },
  {
   "cell_type": "code",
   "execution_count": 15,
   "metadata": {},
   "outputs": [
    {
     "data": {
      "text/html": [
       "<div>\n",
       "<style scoped>\n",
       "    .dataframe tbody tr th:only-of-type {\n",
       "        vertical-align: middle;\n",
       "    }\n",
       "\n",
       "    .dataframe tbody tr th {\n",
       "        vertical-align: top;\n",
       "    }\n",
       "\n",
       "    .dataframe thead th {\n",
       "        text-align: right;\n",
       "    }\n",
       "</style>\n",
       "<table border=\"1\" class=\"dataframe\">\n",
       "  <thead>\n",
       "    <tr style=\"text-align: right;\">\n",
       "      <th></th>\n",
       "      <th>time</th>\n",
       "      <th>token_symbol</th>\n",
       "      <th>amount_0</th>\n",
       "      <th>amount_1</th>\n",
       "      <th>token_contract</th>\n",
       "    </tr>\n",
       "  </thead>\n",
       "  <tbody>\n",
       "    <tr>\n",
       "      <th>0</th>\n",
       "      <td>2022-04-20 16:59:39+00:00</td>\n",
       "      <td>See/WBNB</td>\n",
       "      <td>-7.253635e+07</td>\n",
       "      <td>1.285205e+00</td>\n",
       "      <td>0x06f6286dd4a24A32E8F4696C8f2f6F01a8F8bAA6</td>\n",
       "    </tr>\n",
       "    <tr>\n",
       "      <th>1</th>\n",
       "      <td>2022-04-20 03:13:37+00:00</td>\n",
       "      <td>NFTT/WBNB</td>\n",
       "      <td>-2.026998e+08</td>\n",
       "      <td>2.793815e+00</td>\n",
       "      <td>0x32A21D7cD04F9Cc7f8859ba4CEAAfbC7C1697A49</td>\n",
       "    </tr>\n",
       "    <tr>\n",
       "      <th>2</th>\n",
       "      <td>2022-04-15 17:15:48+00:00</td>\n",
       "      <td>METAH/WBNB</td>\n",
       "      <td>-5.000000e+03</td>\n",
       "      <td>5.210300e-04</td>\n",
       "      <td>0xfF5559C9C74bF5d275cdDAAD66c6796b87cC4fE6</td>\n",
       "    </tr>\n",
       "    <tr>\n",
       "      <th>3</th>\n",
       "      <td>2022-04-12 07:35:28+00:00</td>\n",
       "      <td>Home/WBNB</td>\n",
       "      <td>-8.427064e+07</td>\n",
       "      <td>1.200000e+00</td>\n",
       "      <td>0xfaf9466Ebf394fFd363EE5214ccEE5e18EDB3754</td>\n",
       "    </tr>\n",
       "    <tr>\n",
       "      <th>4</th>\n",
       "      <td>2022-04-09 08:09:57+00:00</td>\n",
       "      <td>WBNB/FGDX</td>\n",
       "      <td>1.988964e+00</td>\n",
       "      <td>-1.600911e+08</td>\n",
       "      <td>0xE1f6da847D2679E3F83825F6c4cf65489682Fe3d</td>\n",
       "    </tr>\n",
       "    <tr>\n",
       "      <th>5</th>\n",
       "      <td>2022-04-07 12:41:42+00:00</td>\n",
       "      <td>SHIBATM/WBNB</td>\n",
       "      <td>-3.878085e+13</td>\n",
       "      <td>8.973000e-02</td>\n",
       "      <td>0xecadaC65B4b09E94db15a3d3c7B4Ed379Bb7dBCd</td>\n",
       "    </tr>\n",
       "    <tr>\n",
       "      <th>6</th>\n",
       "      <td>2022-04-05 10:41:03+00:00</td>\n",
       "      <td>GOALS/WBNB</td>\n",
       "      <td>-7.267834e+09</td>\n",
       "      <td>2.489109e-01</td>\n",
       "      <td>0x52130eA64dda1dC249F4EfBB700673bc4e5dB847</td>\n",
       "    </tr>\n",
       "    <tr>\n",
       "      <th>7</th>\n",
       "      <td>2022-04-04 13:51:08+00:00</td>\n",
       "      <td>UPFI/WBNB</td>\n",
       "      <td>-6.263899e+10</td>\n",
       "      <td>1.725040e+00</td>\n",
       "      <td>0xAa6f8293D2D2aAfA855D2Cf279a8033E6b89d264</td>\n",
       "    </tr>\n",
       "    <tr>\n",
       "      <th>8</th>\n",
       "      <td>2022-04-04 07:43:13+00:00</td>\n",
       "      <td>WBNB/ATMSHIB</td>\n",
       "      <td>6.979000e-02</td>\n",
       "      <td>-3.615999e+13</td>\n",
       "      <td>0x2774Ec7Ff8616761B8cE27b9770baF59fbF135bd</td>\n",
       "    </tr>\n",
       "    <tr>\n",
       "      <th>9</th>\n",
       "      <td>2022-04-03 14:31:19+00:00</td>\n",
       "      <td>WBNB/Definance</td>\n",
       "      <td>1.678092e+00</td>\n",
       "      <td>-5.709065e+08</td>\n",
       "      <td>0xd5E0E4D3459d95ccB07584f741CC0285dF5aB1F1</td>\n",
       "    </tr>\n",
       "    <tr>\n",
       "      <th>10</th>\n",
       "      <td>2022-04-02 16:21:31+00:00</td>\n",
       "      <td></td>\n",
       "      <td>-6.937355e+07</td>\n",
       "      <td>4.564823e-01</td>\n",
       "      <td></td>\n",
       "    </tr>\n",
       "  </tbody>\n",
       "</table>\n",
       "</div>"
      ],
      "text/plain": [
       "                        time    token_symbol      amount_0      amount_1  \\\n",
       "0  2022-04-20 16:59:39+00:00        See/WBNB -7.253635e+07  1.285205e+00   \n",
       "1  2022-04-20 03:13:37+00:00       NFTT/WBNB -2.026998e+08  2.793815e+00   \n",
       "2  2022-04-15 17:15:48+00:00      METAH/WBNB -5.000000e+03  5.210300e-04   \n",
       "3  2022-04-12 07:35:28+00:00       Home/WBNB -8.427064e+07  1.200000e+00   \n",
       "4  2022-04-09 08:09:57+00:00       WBNB/FGDX  1.988964e+00 -1.600911e+08   \n",
       "5  2022-04-07 12:41:42+00:00    SHIBATM/WBNB -3.878085e+13  8.973000e-02   \n",
       "6  2022-04-05 10:41:03+00:00      GOALS/WBNB -7.267834e+09  2.489109e-01   \n",
       "7  2022-04-04 13:51:08+00:00       UPFI/WBNB -6.263899e+10  1.725040e+00   \n",
       "8  2022-04-04 07:43:13+00:00    WBNB/ATMSHIB  6.979000e-02 -3.615999e+13   \n",
       "9  2022-04-03 14:31:19+00:00  WBNB/Definance  1.678092e+00 -5.709065e+08   \n",
       "10 2022-04-02 16:21:31+00:00                 -6.937355e+07  4.564823e-01   \n",
       "\n",
       "                                token_contract  \n",
       "0   0x06f6286dd4a24A32E8F4696C8f2f6F01a8F8bAA6  \n",
       "1   0x32A21D7cD04F9Cc7f8859ba4CEAAfbC7C1697A49  \n",
       "2   0xfF5559C9C74bF5d275cdDAAD66c6796b87cC4fE6  \n",
       "3   0xfaf9466Ebf394fFd363EE5214ccEE5e18EDB3754  \n",
       "4   0xE1f6da847D2679E3F83825F6c4cf65489682Fe3d  \n",
       "5   0xecadaC65B4b09E94db15a3d3c7B4Ed379Bb7dBCd  \n",
       "6   0x52130eA64dda1dC249F4EfBB700673bc4e5dB847  \n",
       "7   0xAa6f8293D2D2aAfA855D2Cf279a8033E6b89d264  \n",
       "8   0x2774Ec7Ff8616761B8cE27b9770baF59fbF135bd  \n",
       "9   0xd5E0E4D3459d95ccB07584f741CC0285dF5aB1F1  \n",
       "10                                              "
      ]
     },
     "execution_count": 15,
     "metadata": {},
     "output_type": "execute_result"
    }
   ],
   "source": [
    "pd.DataFrame([s.__dict__ for s in swaps])"
   ]
  }
 ],
 "metadata": {
  "interpreter": {
   "hash": "c5e1fbb35f6f73757ee3f1685a0230ad9f20736172730fe2387c421ac6aeedba"
  },
  "kernelspec": {
   "display_name": "Python 3.7.9 ('base')",
   "language": "python",
   "name": "python3"
  },
  "language_info": {
   "codemirror_mode": {
    "name": "ipython",
    "version": 3
   },
   "file_extension": ".py",
   "mimetype": "text/x-python",
   "name": "python",
   "nbconvert_exporter": "python",
   "pygments_lexer": "ipython3",
   "version": "3.7.9"
  },
  "orig_nbformat": 4
 },
 "nbformat": 4,
 "nbformat_minor": 2
}
