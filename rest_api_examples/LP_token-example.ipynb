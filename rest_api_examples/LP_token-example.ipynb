{
 "cells": [
  {
   "cell_type": "markdown",
   "metadata": {},
   "source": [
    "# LP Token Example"
   ]
  },
  {
   "cell_type": "markdown",
   "metadata": {},
   "source": [
    "## Intro"
   ]
  },
  {
   "cell_type": "markdown",
   "metadata": {},
   "source": [
    "### Imports"
   ]
  },
  {
   "cell_type": "code",
   "execution_count": 1,
   "metadata": {},
   "outputs": [],
   "source": [
    "%reload_ext autoreload\n",
    "%autoreload 2"
   ]
  },
  {
   "cell_type": "code",
   "execution_count": 2,
   "metadata": {},
   "outputs": [],
   "source": [
    "import os\n",
    "import sys\n",
    "from dotenv import load_dotenv\n"
   ]
  },
  {
   "cell_type": "code",
   "execution_count": 3,
   "metadata": {},
   "outputs": [],
   "source": [
    "import matplotlib.pyplot as plt\n",
    "import pandas as pd\n",
    "from tqdm.notebook import tqdm, trange\n",
    "\n",
    "from helixirapi.helixir_api import HelixirApi"
   ]
  },
  {
   "cell_type": "markdown",
   "metadata": {},
   "source": [
    "### Create client instance"
   ]
  },
  {
   "cell_type": "code",
   "execution_count": 4,
   "metadata": {},
   "outputs": [
    {
     "data": {
      "text/plain": [
       "<helixirapi.helixir_api.HelixirApi at 0x7fcd281ec400>"
      ]
     },
     "execution_count": 4,
     "metadata": {},
     "output_type": "execute_result"
    }
   ],
   "source": [
    "load_dotenv()\n",
    "AUTH_TOKEN = os.getenv(\"AUTH_TOKEN\")\n",
    "client = HelixirApi(auth_token=AUTH_TOKEN)\n",
    "client"
   ]
  },
  {
   "cell_type": "markdown",
   "metadata": {},
   "source": [
    "## Getting LP Token Info\n",
    "\n",
    "Returns basic lp token information by its contract.\n",
    "\n",
    "***Parameters:***\n",
    "\n",
    "`chain`\n",
    "- It is an optional parameter with the default value `\"bsc\"` (_Binance Smart Chain_). The chain can be specified as a string (case insensitive) or an integer (chain id).\n",
    "\n",
    "`symbol`\n",
    "- The symbol is an optional parameter. It could be used instead of the `contract` parameter; however, the symbol must be unique (at least within the chain), so it could be used only for some tokens.\n",
    "\n",
    "`contract`\n",
    "- The contract parameter is required. However, as mentioned above, it could be omitted if the `symbol` is specified. The contract has to belong to the LP token.\n",
    "\n",
    "`validate_params`\n",
    "- An optional parameter with a default value equal to _True_."
   ]
  },
  {
   "cell_type": "code",
   "execution_count": 5,
   "metadata": {},
   "outputs": [
    {
     "data": {
      "text/plain": [
       "LPTokenResponse(\n",
       "\tid = 1,\n",
       "\tname = Pancake LPs,\n",
       "\tsymbol = TMT/BUSD,\n",
       "\tchain = BSC,\n",
       "\tdecimals = 18.0,\n",
       "\ttotal_supply = 1095200.5536463638,\n",
       "\tcontract = 0x2c7a7ef1de5d007f16401BBe80b127d9B94b0D9d,\n",
       "\ttoken_0 = TokenResponse(\n",
       "\t\tid = 1,\n",
       "\t\tname = TopManager Token,\n",
       "\t\tsymbol = TMT,\n",
       "\t\tchain = BSC,\n",
       "\t\tactive = False,\n",
       "\t\tdecimals = 18.0,\n",
       "\t\ttotal_supply = 100000000.0,\n",
       "\t\tcirculating_supply = 100000000.0,\n",
       "\t\tcontract = 0x4803Ac6b79F9582F69c4fa23c72cb76dD1E46d8d,\n",
       "\t),\n",
       "\ttoken_1 = TokenResponse(\n",
       "\t\tid = 2,\n",
       "\t\tname = BUSD Token,\n",
       "\t\tsymbol = BUSD,\n",
       "\t\tchain = BSC,\n",
       "\t\tactive = False,\n",
       "\t\tdecimals = 18.0,\n",
       "\t\ttotal_supply = 4850999328.62941,\n",
       "\t\tcirculating_supply = 4850773822.9716625,\n",
       "\t\tcontract = 0xe9e7CEA3DedcA5984780Bafc599bD69ADd087D56,\n",
       "\t),\n",
       ")"
      ]
     },
     "execution_count": 5,
     "metadata": {},
     "output_type": "execute_result"
    }
   ],
   "source": [
    "client.get_lp_token(contract=\"0x2c7a7ef1de5d007f16401BBe80b127d9B94b0D9d\")"
   ]
  },
  {
   "cell_type": "code",
   "execution_count": 6,
   "metadata": {},
   "outputs": [
    {
     "data": {
      "text/plain": [
       "LPTokenResponse(\n",
       "\tid = 9991,\n",
       "\tname = Bakery LPs,\n",
       "\tsymbol = ETH/BUSD,\n",
       "\tchain = BSC,\n",
       "\tdecimals = 18.0,\n",
       "\ttotal_supply = 9.288646910203182,\n",
       "\tcontract = 0xE2b7b3e9171e5f9693f4d9304177fa4b129D0bCA,\n",
       "\ttoken_0 = TokenResponse(\n",
       "\t\tid = 8,\n",
       "\t\tname = Ethereum Token,\n",
       "\t\tsymbol = ETH,\n",
       "\t\tchain = BSC,\n",
       "\t\tactive = False,\n",
       "\t\tdecimals = 18.0,\n",
       "\t\ttotal_supply = 1404999.9999908486,\n",
       "\t\tcirculating_supply = 1404988.249821321,\n",
       "\t\tcontract = 0x2170Ed0880ac9A755fd29B2688956BD959F933F8,\n",
       "\t),\n",
       "\ttoken_1 = TokenResponse(\n",
       "\t\tid = 2,\n",
       "\t\tname = BUSD Token,\n",
       "\t\tsymbol = BUSD,\n",
       "\t\tchain = BSC,\n",
       "\t\tactive = False,\n",
       "\t\tdecimals = 18.0,\n",
       "\t\ttotal_supply = 4850999328.62941,\n",
       "\t\tcirculating_supply = 4850773822.9716625,\n",
       "\t\tcontract = 0xe9e7CEA3DedcA5984780Bafc599bD69ADd087D56,\n",
       "\t),\n",
       ")"
      ]
     },
     "execution_count": 6,
     "metadata": {},
     "output_type": "execute_result"
    }
   ],
   "source": [
    "client.get_lp_token(\n",
    "    contract = \"0xE2b7b3e9171e5f9693f4d9304177fa4b129D0bCA\",\n",
    ")"
   ]
  },
  {
   "cell_type": "code",
   "execution_count": 7,
   "metadata": {},
   "outputs": [
    {
     "data": {
      "text/plain": [
       "LPTokenResponse(\n",
       "\tid = 10022,\n",
       "\tname = Uniswap V2,\n",
       "\tsymbol = ARTT/WETH,\n",
       "\tchain = ETH,\n",
       "\tdecimals = 18.0,\n",
       "\ttotal_supply = 74.21564555764706,\n",
       "\tcontract = 0x64538cd9DEf30F3e807E863662a474ac36E3D4df,\n",
       "\ttoken_0 = TokenResponse(\n",
       "\t\tid = 32079,\n",
       "\t\tname = Artem,\n",
       "\t\tsymbol = ARTT,\n",
       "\t\tchain = ETH,\n",
       "\t\tactive = False,\n",
       "\t\tdecimals = 18.0,\n",
       "\t\ttotal_supply = 4204800.0,\n",
       "\t\tcirculating_supply = 4204799.322333468,\n",
       "\t\tcontract = 0x77dF79539083DCd4a8898dbA296d899aFef20067,\n",
       "\t),\n",
       "\ttoken_1 = TokenResponse(\n",
       "\t\tid = 2,\n",
       "\t\tname = Wrapped Ether,\n",
       "\t\tsymbol = WETH,\n",
       "\t\tchain = ETH,\n",
       "\t\tactive = False,\n",
       "\t\tdecimals = 18.0,\n",
       "\t\ttotal_supply = 4597924.813579685,\n",
       "\t\tcirculating_supply = 4597924.810984251,\n",
       "\t\tcontract = 0xC02aaA39b223FE8D0A0e5C4F27eAD9083C756Cc2,\n",
       "\t),\n",
       ")"
      ]
     },
     "execution_count": 7,
     "metadata": {},
     "output_type": "execute_result"
    }
   ],
   "source": [
    "client.get_lp_token(\n",
    "    chain = 1,\n",
    "    contract = \"0x64538cd9DEf30F3e807E863662a474ac36E3D4df\",\n",
    ")"
   ]
  }
 ],
 "metadata": {
  "interpreter": {
   "hash": "c5e1fbb35f6f73757ee3f1685a0230ad9f20736172730fe2387c421ac6aeedba"
  },
  "kernelspec": {
   "display_name": "Python 3 (ipykernel)",
   "language": "python",
   "name": "python3"
  },
  "language_info": {
   "codemirror_mode": {
    "name": "ipython",
    "version": 3
   },
   "file_extension": ".py",
   "mimetype": "text/x-python",
   "name": "python",
   "nbconvert_exporter": "python",
   "pygments_lexer": "ipython3",
   "version": "3.9.9"
  }
 },
 "nbformat": 4,
 "nbformat_minor": 2
}
