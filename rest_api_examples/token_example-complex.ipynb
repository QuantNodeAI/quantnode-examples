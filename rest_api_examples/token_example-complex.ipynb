{
 "cells": [
  {
   "cell_type": "markdown",
   "metadata": {
    "pycharm": {
     "name": "#%% md\n"
    }
   },
   "source": [
    "# Token Example"
   ]
  },
  {
   "cell_type": "code",
   "execution_count": 1,
   "metadata": {
    "pycharm": {
     "name": "#%%\n"
    }
   },
   "outputs": [],
   "source": [
    "%reload_ext autoreload\n",
    "%autoreload 2"
   ]
  },
  {
   "cell_type": "code",
   "execution_count": 2,
   "metadata": {
    "pycharm": {
     "name": "#%%\n"
    }
   },
   "outputs": [],
   "source": [
    "import os\n",
    "import sys\n",
    "from dotenv import load_dotenv\n",
    "from dotenv import load_dotenv\n"
   ]
  },
  {
   "cell_type": "code",
   "execution_count": 3,
   "metadata": {
    "pycharm": {
     "name": "#%%\n"
    }
   },
   "outputs": [],
   "source": [
    "import pandas as pd\n",
    "\n",
    "from helixirapi.helixir_api import HelixirApi"
   ]
  },
  {
   "cell_type": "markdown",
   "metadata": {
    "pycharm": {
     "name": "#%% md\n"
    }
   },
   "source": [
    "## Create client instance"
   ]
  },
  {
   "cell_type": "code",
   "execution_count": 4,
   "metadata": {
    "pycharm": {
     "name": "#%%\n"
    }
   },
   "outputs": [
    {
     "data": {
      "text/plain": [
       "<helixirapi.helixir_api.HelixirApi at 0x7f40b0e3db20>"
      ]
     },
     "execution_count": 4,
     "metadata": {},
     "output_type": "execute_result"
    }
   ],
   "source": [
    "load_dotenv()\n",
    "AUTH_TOKEN = os.getenv(\"AUTH_TOKEN\")\n",
    "client = HelixirApi(auth_token=AUTH_TOKEN)\n",
    "client"
   ]
  },
  {
   "cell_type": "markdown",
   "metadata": {
    "pycharm": {
     "name": "#%% md\n"
    }
   },
   "source": [
    "## Select desired token (i.e. define contract)"
   ]
  },
  {
   "cell_type": "code",
   "execution_count": 5,
   "metadata": {
    "pycharm": {
     "name": "#%%\n"
    }
   },
   "outputs": [],
   "source": [
    "CONTRACT = \"0xbb4CdB9CBd36B01bD1cBaEBF2De08d9173bc095c\"\n",
    "# CONTRACT = \"0x2170Ed0880ac9A755fd29B2688956BD959F933F8\"\n",
    "CONTRACT = \"0xd7730681b1dc8f6f969166b29d8a5ea8568616a3\"\n",
    "CONTRACT = \"0x3EE2200Efb3400fAbB9AacF31297cBdD1d435D47\"\n",
    "# CONTRACT = \"0xCaC9881a8EeCc6e98Ff3E681Ab497F263Fa88437\"\n",
    "# CONTRACT = \"0x7083609fCE4d1d8Dc0C979AAb8c869Ea2C873402\"\n",
    "# CONTRACT = \"0xbA2aE424d960c26247Dd6c32edC70B295c744C43\""
   ]
  },
  {
   "cell_type": "markdown",
   "metadata": {
    "pycharm": {
     "name": "#%% md\n"
    }
   },
   "source": [
    "## Token"
   ]
  },
  {
   "cell_type": "code",
   "execution_count": 6,
   "metadata": {
    "pycharm": {
     "name": "#%%\n"
    }
   },
   "outputs": [
    {
     "data": {
      "text/plain": [
       "TokenResponse(\n",
       "\tid = 879,\n",
       "\tname = Cardano Token,\n",
       "\tsymbol = ADA,\n",
       "\tchain = BSC,\n",
       "\tactive = True,\n",
       "\tdecimals = 18.0,\n",
       "\ttotal_supply = 280000000.0,\n",
       "\tcirculating_supply = 279993956.3332701,\n",
       "\tcontract = 0x3EE2200Efb3400fAbB9AacF31297cBdD1d435D47,\n",
       ")"
      ]
     },
     "execution_count": 6,
     "metadata": {},
     "output_type": "execute_result"
    }
   ],
   "source": [
    "token = client.get_token(contract=CONTRACT)\n",
    "token"
   ]
  },
  {
   "cell_type": "code",
   "execution_count": 7,
   "metadata": {
    "pycharm": {
     "name": "#%%\n"
    }
   },
   "outputs": [
    {
     "name": "stdout",
     "output_type": "stream",
     "text": [
      "You selected the token with the contract:\n",
      "\t0x3EE2200Efb3400fAbB9AacF31297cBdD1d435D47.\n",
      "The token symbol is:\n",
      "\tADA.\n",
      "It's name is:\n",
      "\tCardano Token.\n",
      "It is placed in\n",
      "\tBSC chain.\n",
      "It's total_supply is:\n",
      "\t280000000.0.\n",
      "\n"
     ]
    }
   ],
   "source": [
    "print(f\"\"\"You selected the token with the contract:\\n\\t{token.contract}.\n",
    "The token symbol is:\\n\\t{token.symbol}.\n",
    "It's name is:\\n\\t{token.name}.\n",
    "It is placed in\\n\\t{token.chain} chain.\n",
    "It's total_supply is:\\n\\t{token.total_supply}.\n",
    "\"\"\")"
   ]
  },
  {
   "cell_type": "markdown",
   "metadata": {
    "pycharm": {
     "name": "#%% md\n"
    }
   },
   "source": [
    "## Token Extended"
   ]
  },
  {
   "cell_type": "code",
   "execution_count": 8,
   "metadata": {
    "pycharm": {
     "name": "#%%\n"
    }
   },
   "outputs": [
    {
     "data": {
      "text/plain": [
       "TokenResponse(\n",
       "\tid = 879,\n",
       "\tname = Cardano Token,\n",
       "\tsymbol = ADA,\n",
       "\tchain = BSC,\n",
       "\tactive = True,\n",
       "\tdecimals = 18.0,\n",
       "\ttotal_supply = 280000000.0,\n",
       "\tcirculating_supply = 279993956.3332701,\n",
       "\tmarket_cap = 121816452.31468403,\n",
       "\tliquidity_usd = 5893764.874168315332472760040174231518006,\n",
       "\tprice_usd = 0.43506814900564792168948361190099,\n",
       "\tprice_peg = 0.0018488738832987,\n",
       "\tprice_change_24_h = 0,\n",
       "\tprice_change_7_d = 0,\n",
       "\tvolume_24_h = 0,\n",
       "\tcontract = 0x3EE2200Efb3400fAbB9AacF31297cBdD1d435D47,\n",
       ")"
      ]
     },
     "execution_count": 8,
     "metadata": {},
     "output_type": "execute_result"
    }
   ],
   "source": [
    "client.get_token(contract=CONTRACT, extended=True)"
   ]
  },
  {
   "cell_type": "markdown",
   "metadata": {
    "pycharm": {
     "name": "#%% md\n"
    }
   },
   "source": [
    "## Number of holders"
   ]
  },
  {
   "cell_type": "code",
   "execution_count": 9,
   "metadata": {
    "pycharm": {
     "name": "#%%\n"
    }
   },
   "outputs": [
    {
     "data": {
      "text/plain": [
       "432586"
      ]
     },
     "execution_count": 9,
     "metadata": {},
     "output_type": "execute_result"
    }
   ],
   "source": [
    "client.get_holders(contract=CONTRACT)"
   ]
  },
  {
   "cell_type": "markdown",
   "metadata": {
    "pycharm": {
     "name": "#%% md\n"
    }
   },
   "source": [
    "## Market Capitalization"
   ]
  },
  {
   "cell_type": "code",
   "execution_count": 10,
   "metadata": {
    "pycharm": {
     "name": "#%%\n"
    }
   },
   "outputs": [
    {
     "data": {
      "text/plain": [
       "121735389.0835885"
      ]
     },
     "execution_count": 10,
     "metadata": {},
     "output_type": "execute_result"
    }
   ],
   "source": [
    "client.get_market_cap(contract=CONTRACT)"
   ]
  },
  {
   "cell_type": "markdown",
   "metadata": {
    "pycharm": {
     "name": "#%% md\n"
    }
   },
   "source": [
    "## Price Change During the Interval"
   ]
  },
  {
   "cell_type": "code",
   "execution_count": 11,
   "metadata": {
    "pycharm": {
     "name": "#%%\n"
    }
   },
   "outputs": [
    {
     "data": {
      "text/plain": [
       "-0.919"
      ]
     },
     "execution_count": 11,
     "metadata": {},
     "output_type": "execute_result"
    }
   ],
   "source": [
    "client.get_price_change(contract=CONTRACT, interval=\"D1\")"
   ]
  },
  {
   "cell_type": "markdown",
   "metadata": {
    "pycharm": {
     "name": "#%% md\n"
    }
   },
   "source": [
    "## Recent Price"
   ]
  },
  {
   "cell_type": "code",
   "execution_count": 12,
   "metadata": {
    "pycharm": {
     "name": "#%%\n"
    }
   },
   "outputs": [
    {
     "data": {
      "text/plain": [
       "0.43477863121691734"
      ]
     },
     "execution_count": 12,
     "metadata": {},
     "output_type": "execute_result"
    }
   ],
   "source": [
    "client.get_price(contract=CONTRACT)"
   ]
  },
  {
   "cell_type": "markdown",
   "metadata": {
    "pycharm": {
     "name": "#%% md\n"
    }
   },
   "source": [
    "## Token Pairs"
   ]
  },
  {
   "cell_type": "code",
   "execution_count": 13,
   "metadata": {
    "pycharm": {
     "name": "#%%\n"
    }
   },
   "outputs": [
    {
     "data": {
      "text/plain": [
       "{'PegPair': LPTokenResponse(\n",
       " \tname = Pancake LPs,\n",
       " \tsymbol = ADA/WBNB,\n",
       " \tchain = BSC,\n",
       " \tdecimals = 18.0,\n",
       " \ttotal_supply = 275374.4533277917,\n",
       " \tcontract = 0x28415ff2C35b65B9E5c7de82126b4015ab9d031F,\n",
       " \ttoken_0 = TokenResponse(\n",
       " \t\tid = 0,\n",
       " \t\tname = Cardano Token,\n",
       " \t\tsymbol = ADA,\n",
       " \t\tchain = BSC,\n",
       " \t\tactive = False,\n",
       " \t\tdecimals = 18.0,\n",
       " \t\ttotal_supply = 280000000.0,\n",
       " \t\tcirculating_supply = 279993956.3332701,\n",
       " \t\tcontract = 0x3EE2200Efb3400fAbB9AacF31297cBdD1d435D47,\n",
       " \t),\n",
       " \ttoken_1 = TokenResponse(\n",
       " \t\tid = 0,\n",
       " \t\tname = Wrapped BNB,\n",
       " \t\tsymbol = WBNB,\n",
       " \t\tchain = BSC,\n",
       " \t\tactive = False,\n",
       " \t\tdecimals = 18.0,\n",
       " \t\ttotal_supply = 4703633.758100775,\n",
       " \t\tcirculating_supply = 4703626.864123026,\n",
       " \t\tcontract = 0xbb4CdB9CBd36B01bD1cBaEBF2De08d9173bc095c,\n",
       " \t),\n",
       " ),\n",
       " 'UsdPair': LPTokenResponse(\n",
       " \tname = Pancake LPs,\n",
       " \tsymbol = ADA/BUSD,\n",
       " \tchain = BSC,\n",
       " \tdecimals = 18.0,\n",
       " \ttotal_supply = 11777.583983188995,\n",
       " \tcontract = 0x1E249DF2F58cBef7EAc2b0EE35964ED8311D5623,\n",
       " \ttoken_0 = TokenResponse(\n",
       " \t\tid = 0,\n",
       " \t\tname = Cardano Token,\n",
       " \t\tsymbol = ADA,\n",
       " \t\tchain = BSC,\n",
       " \t\tactive = False,\n",
       " \t\tdecimals = 18.0,\n",
       " \t\ttotal_supply = 280000000.0,\n",
       " \t\tcirculating_supply = 279993956.3332701,\n",
       " \t\tcontract = 0x3EE2200Efb3400fAbB9AacF31297cBdD1d435D47,\n",
       " \t),\n",
       " \ttoken_1 = TokenResponse(\n",
       " \t\tid = 0,\n",
       " \t\tname = BUSD Token,\n",
       " \t\tsymbol = BUSD,\n",
       " \t\tchain = BSC,\n",
       " \t\tactive = False,\n",
       " \t\tdecimals = 18.0,\n",
       " \t\ttotal_supply = 4850999328.62941,\n",
       " \t\tcirculating_supply = 4850774022.9716625,\n",
       " \t\tcontract = 0xe9e7CEA3DedcA5984780Bafc599bD69ADd087D56,\n",
       " \t),\n",
       " )}"
      ]
     },
     "execution_count": 13,
     "metadata": {},
     "output_type": "execute_result"
    }
   ],
   "source": [
    "client.get_pairs(contract=CONTRACT)\n",
    "# client.get_token_pairs(contract=CONTRACT)[\"PegPair\"]"
   ]
  },
  {
   "cell_type": "code",
   "execution_count": 14,
   "metadata": {
    "pycharm": {
     "name": "#%%\n"
    }
   },
   "outputs": [
    {
     "data": {
      "text/plain": [
       "TokenResponse(\n",
       "\tid = 0,\n",
       "\tname = Cardano Token,\n",
       "\tsymbol = ADA,\n",
       "\tchain = BSC,\n",
       "\tactive = False,\n",
       "\tdecimals = 18.0,\n",
       "\ttotal_supply = 280000000.0,\n",
       "\tcirculating_supply = 279993956.3332701,\n",
       "\tcontract = 0x3EE2200Efb3400fAbB9AacF31297cBdD1d435D47,\n",
       ")"
      ]
     },
     "execution_count": 14,
     "metadata": {},
     "output_type": "execute_result"
    }
   ],
   "source": [
    "client.get_pairs(contract=CONTRACT)[\"PegPair\"].token_0"
   ]
  },
  {
   "cell_type": "markdown",
   "metadata": {
    "pycharm": {
     "name": "#%% md\n"
    }
   },
   "source": [
    "## Volume During 24 Hours"
   ]
  },
  {
   "cell_type": "code",
   "execution_count": 15,
   "metadata": {
    "pycharm": {
     "name": "#%%\n"
    }
   },
   "outputs": [
    {
     "data": {
      "text/plain": [
       "640211.5592196956"
      ]
     },
     "execution_count": 15,
     "metadata": {},
     "output_type": "execute_result"
    }
   ],
   "source": [
    "client.get_volumes_latest(contract=CONTRACT)"
   ]
  },
  {
   "cell_type": "markdown",
   "metadata": {
    "pycharm": {
     "name": "#%% md\n"
    }
   },
   "source": [
    "## Volume Change During the Interval"
   ]
  },
  {
   "cell_type": "code",
   "execution_count": 16,
   "metadata": {
    "pycharm": {
     "name": "#%%\n"
    }
   },
   "outputs": [
    {
     "data": {
      "text/plain": [
       "-18.643"
      ]
     },
     "execution_count": 16,
     "metadata": {},
     "output_type": "execute_result"
    }
   ],
   "source": [
    "client.get_volumes_change(contract=CONTRACT, interval=\"D1\")"
   ]
  },
  {
   "cell_type": "markdown",
   "metadata": {
    "pycharm": {
     "name": "#%% md\n"
    }
   },
   "source": [
    "## Prices"
   ]
  },
  {
   "cell_type": "code",
   "execution_count": 9,
   "metadata": {
    "pycharm": {
     "name": "#%%\n"
    }
   },
   "outputs": [
    {
     "name": "stderr",
     "output_type": "stream",
     "text": [
      "                                                                           \r"
     ]
    },
    {
     "data": {
      "text/plain": [
       "[TokenPriceResponse(\n",
       " \ttime = 2021-12-31 00:00:00+00:00,\n",
       " \topen = 1.3519262223018684,\n",
       " \thigh = 1.3812944903325324,\n",
       " \tlow = 1.2825855912353177,\n",
       " \tclose = 1.3117495628222282,\n",
       " ), TokenPriceResponse(\n",
       " \ttime = 2022-01-01 00:00:00+00:00,\n",
       " \topen = 1.31175497388127,\n",
       " \thigh = 1.3722737725220566,\n",
       " \tlow = 1.311355140603232,\n",
       " \tclose = 1.371954964715582,\n",
       " ), TokenPriceResponse(\n",
       " \ttime = 2022-01-02 00:00:00+00:00,\n",
       " \topen = 1.3718519000123486,\n",
       " \thigh = 1.3879185193567507,\n",
       " \tlow = 1.3469761448201745,\n",
       " \tclose = 1.3770684350522369,\n",
       " ), TokenPriceResponse(\n",
       " \ttime = 2022-01-03 00:00:00+00:00,\n",
       " \topen = 1.3771325533135665,\n",
       " \thigh = 1.377167311599185,\n",
       " \tlow = 1.311636015481185,\n",
       " \tclose = 1.3171815488561158,\n",
       " )]"
      ]
     },
     "execution_count": 9,
     "metadata": {},
     "output_type": "execute_result"
    }
   ],
   "source": [
    "prices = client.get_candles(\n",
    "    # contract=CONTRACT,\n",
    "    symbol=\"ada\",\n",
    "    from_=\"2022-01-01\",\n",
    "    to=\"2022-01-05\", # if we omit parameter to, actual time is used\n",
    "    resolution=\"D1\",\n",
    ")\n",
    "prices[0]\n",
    "prices"
   ]
  },
  {
   "cell_type": "code",
   "execution_count": null,
   "metadata": {
    "pycharm": {
     "name": "#%%\n"
    }
   },
   "outputs": [
    {
     "data": {
      "text/plain": [
       "datetime.datetime"
      ]
     },
     "execution_count": 32,
     "metadata": {},
     "output_type": "execute_result"
    }
   ],
   "source": [
    "type(prices[0].time)"
   ]
  },
  {
   "cell_type": "markdown",
   "metadata": {
    "pycharm": {
     "name": "#%% md\n"
    }
   },
   "source": [
    "### Table of Prices"
   ]
  },
  {
   "cell_type": "code",
   "execution_count": null,
   "metadata": {
    "pycharm": {
     "name": "#%%\n"
    }
   },
   "outputs": [
    {
     "data": {
      "text/html": [
       "<div>\n",
       "<style scoped>\n",
       "    .dataframe tbody tr th:only-of-type {\n",
       "        vertical-align: middle;\n",
       "    }\n",
       "\n",
       "    .dataframe tbody tr th {\n",
       "        vertical-align: top;\n",
       "    }\n",
       "\n",
       "    .dataframe thead th {\n",
       "        text-align: right;\n",
       "    }\n",
       "</style>\n",
       "<table border=\"1\" class=\"dataframe\">\n",
       "  <thead>\n",
       "    <tr style=\"text-align: right;\">\n",
       "      <th></th>\n",
       "      <th>time</th>\n",
       "      <th>open</th>\n",
       "      <th>high</th>\n",
       "      <th>low</th>\n",
       "      <th>close</th>\n",
       "    </tr>\n",
       "  </thead>\n",
       "  <tbody>\n",
       "    <tr>\n",
       "      <th>0</th>\n",
       "      <td>2021-12-31 01:00:00+01:00</td>\n",
       "      <td>1.351926</td>\n",
       "      <td>1.381294</td>\n",
       "      <td>1.282586</td>\n",
       "      <td>1.311750</td>\n",
       "    </tr>\n",
       "    <tr>\n",
       "      <th>1</th>\n",
       "      <td>2022-01-01 01:00:00+01:00</td>\n",
       "      <td>1.311755</td>\n",
       "      <td>1.372274</td>\n",
       "      <td>1.311355</td>\n",
       "      <td>1.371955</td>\n",
       "    </tr>\n",
       "    <tr>\n",
       "      <th>2</th>\n",
       "      <td>2022-01-02 01:00:00+01:00</td>\n",
       "      <td>1.371852</td>\n",
       "      <td>1.387919</td>\n",
       "      <td>1.346976</td>\n",
       "      <td>1.377068</td>\n",
       "    </tr>\n",
       "    <tr>\n",
       "      <th>3</th>\n",
       "      <td>2022-01-03 01:00:00+01:00</td>\n",
       "      <td>1.377133</td>\n",
       "      <td>1.377167</td>\n",
       "      <td>1.311636</td>\n",
       "      <td>1.317182</td>\n",
       "    </tr>\n",
       "    <tr>\n",
       "      <th>4</th>\n",
       "      <td>2022-01-04 01:00:00+01:00</td>\n",
       "      <td>1.317213</td>\n",
       "      <td>1.346395</td>\n",
       "      <td>1.293565</td>\n",
       "      <td>1.310470</td>\n",
       "    </tr>\n",
       "    <tr>\n",
       "      <th>...</th>\n",
       "      <td>...</td>\n",
       "      <td>...</td>\n",
       "      <td>...</td>\n",
       "      <td>...</td>\n",
       "      <td>...</td>\n",
       "    </tr>\n",
       "    <tr>\n",
       "      <th>56</th>\n",
       "      <td>2022-02-25 01:00:00+01:00</td>\n",
       "      <td>0.851750</td>\n",
       "      <td>0.905082</td>\n",
       "      <td>0.828003</td>\n",
       "      <td>0.898285</td>\n",
       "    </tr>\n",
       "    <tr>\n",
       "      <th>57</th>\n",
       "      <td>2022-02-26 01:00:00+01:00</td>\n",
       "      <td>0.898315</td>\n",
       "      <td>0.925409</td>\n",
       "      <td>0.884627</td>\n",
       "      <td>0.887218</td>\n",
       "    </tr>\n",
       "    <tr>\n",
       "      <th>58</th>\n",
       "      <td>2022-02-27 01:00:00+01:00</td>\n",
       "      <td>0.886210</td>\n",
       "      <td>0.911384</td>\n",
       "      <td>0.835801</td>\n",
       "      <td>0.858235</td>\n",
       "    </tr>\n",
       "    <tr>\n",
       "      <th>59</th>\n",
       "      <td>2022-02-28 01:00:00+01:00</td>\n",
       "      <td>0.858236</td>\n",
       "      <td>0.967402</td>\n",
       "      <td>0.845323</td>\n",
       "      <td>0.959423</td>\n",
       "    </tr>\n",
       "    <tr>\n",
       "      <th>60</th>\n",
       "      <td>2022-03-01 01:00:00+01:00</td>\n",
       "      <td>0.959153</td>\n",
       "      <td>0.982349</td>\n",
       "      <td>0.945458</td>\n",
       "      <td>0.952298</td>\n",
       "    </tr>\n",
       "  </tbody>\n",
       "</table>\n",
       "<p>61 rows × 5 columns</p>\n",
       "</div>"
      ],
      "text/plain": [
       "                        time      open      high       low     close\n",
       "0  2021-12-31 01:00:00+01:00  1.351926  1.381294  1.282586  1.311750\n",
       "1  2022-01-01 01:00:00+01:00  1.311755  1.372274  1.311355  1.371955\n",
       "2  2022-01-02 01:00:00+01:00  1.371852  1.387919  1.346976  1.377068\n",
       "3  2022-01-03 01:00:00+01:00  1.377133  1.377167  1.311636  1.317182\n",
       "4  2022-01-04 01:00:00+01:00  1.317213  1.346395  1.293565  1.310470\n",
       "..                       ...       ...       ...       ...       ...\n",
       "56 2022-02-25 01:00:00+01:00  0.851750  0.905082  0.828003  0.898285\n",
       "57 2022-02-26 01:00:00+01:00  0.898315  0.925409  0.884627  0.887218\n",
       "58 2022-02-27 01:00:00+01:00  0.886210  0.911384  0.835801  0.858235\n",
       "59 2022-02-28 01:00:00+01:00  0.858236  0.967402  0.845323  0.959423\n",
       "60 2022-03-01 01:00:00+01:00  0.959153  0.982349  0.945458  0.952298\n",
       "\n",
       "[61 rows x 5 columns]"
      ]
     },
     "execution_count": 44,
     "metadata": {},
     "output_type": "execute_result"
    }
   ],
   "source": [
    "df = pd.DataFrame(\n",
    "    [p.to_dict() for p in prices],\n",
    "    # [p.__dict__ for p in prices],\n",
    ") #.set_index(\"time\")\n",
    "# df.index = pd.to_datetime(df.index)\n",
    "df"
   ]
  },
  {
   "cell_type": "code",
   "execution_count": null,
   "metadata": {
    "pycharm": {
     "name": "#%%\n"
    }
   },
   "outputs": [
    {
     "data": {
      "text/plain": [
       "time     datetime64[ns, UTC+01:00]\n",
       "open                       float64\n",
       "high                       float64\n",
       "low                        float64\n",
       "close                      float64\n",
       "dtype: object"
      ]
     },
     "execution_count": 45,
     "metadata": {},
     "output_type": "execute_result"
    }
   ],
   "source": [
    "df.dtypes"
   ]
  },
  {
   "cell_type": "markdown",
   "metadata": {
    "pycharm": {
     "name": "#%% md\n"
    }
   },
   "source": [
    "### Price Chart"
   ]
  },
  {
   "cell_type": "code",
   "execution_count": null,
   "metadata": {
    "pycharm": {
     "name": "#%%\n"
    }
   },
   "outputs": [],
   "source": [
    "import plotly.io as pio\n",
    "# pio.renderers.default = \"vscode\"\n",
    "pio.renderers.default = \"notebook_connected\"\n",
    "\n",
    "\n",
    "import plotly.express as px\n",
    "import plotly.graph_objects as go\n",
    "from plotly.subplots import make_subplots"
   ]
  },
  {
   "cell_type": "code",
   "execution_count": null,
   "metadata": {
    "pycharm": {
     "name": "#%%\n"
    }
   },
   "outputs": [
    {
     "data": {
      "text/html": [
       "        <script type=\"text/javascript\">\n",
       "        window.PlotlyConfig = {MathJaxConfig: 'local'};\n",
       "        if (window.MathJax) {MathJax.Hub.Config({SVG: {font: \"STIX-Web\"}});}\n",
       "        if (typeof require !== 'undefined') {\n",
       "        require.undef(\"plotly\");\n",
       "        requirejs.config({\n",
       "            paths: {\n",
       "                'plotly': ['https://cdn.plot.ly/plotly-2.9.0.min']\n",
       "            }\n",
       "        });\n",
       "        require(['plotly'], function(Plotly) {\n",
       "            window._Plotly = Plotly;\n",
       "        });\n",
       "        }\n",
       "        </script>\n",
       "        "
      ]
     },
     "metadata": {},
     "output_type": "display_data"
    },
    {
     "data": {
      "text/html": [
       "<div>                            <div id=\"0d340954-e99a-44fa-ad1c-566cd297241e\" class=\"plotly-graph-div\" style=\"height:525px; width:100%;\"></div>            <script type=\"text/javascript\">                require([\"plotly\"], function(Plotly) {                    window.PLOTLYENV=window.PLOTLYENV || {};                                    if (document.getElementById(\"0d340954-e99a-44fa-ad1c-566cd297241e\")) {                    Plotly.newPlot(                        \"0d340954-e99a-44fa-ad1c-566cd297241e\",                        [{\"close\":[1.3117495628222282,1.371954964715582,1.3770684350522369,1.3171815488561158,1.310469890067225,1.2335222054670876,1.2752932177707728,1.2062967125837405,1.1849409707358871,1.1675812642953076,1.1254223298913046,1.186392116859219,1.3039748707180667,1.2340648673897776,1.2852540119847742,1.2982427369521055,1.4090169941484727,1.6041866483142024,1.4595892036933473,1.3393210521125685,1.2564739752453353,1.1218705224759289,1.0670784520235586,1.1203799376880859,1.0674819512951974,1.0455809506903269,1.0764950172133378,1.0417554020380388,1.049267781227773,1.0591145700893496,1.040775680505753,1.0511903073745743,1.0953435515987378,1.0274482667830744,1.0564501214769288,1.1339749311150247,1.1304419463026025,1.144242491062533,1.19439032973871,1.1772972789350036,1.196875853148543,1.1496785052489287,1.081063917101023,1.057791366797769,1.0441990931758975,1.0473995651782244,1.1099220843409507,1.0843996715675455,1.0233455466437757,0.9962826026266232,0.9947814398650255,0.9335362236506953,0.8538774804560496,0.8897531186006616,0.8691049633498826,0.8516570045086875,0.8982848889006756,0.8872178336278367,0.8582347480609459,0.9594234086756008,0.9522977458936316],\"high\":[1.3812944903325324,1.3722737725220566,1.3879185193567507,1.377167311599185,1.346395262780875,1.3513545903781576,1.2910345429448884,1.2773573190142657,1.2503970182374144,1.2030059910715236,1.1759485685229134,1.1931047232693075,1.3047108971811523,1.3467878500801775,1.3037861756289606,1.311245620474888,1.4308837474314877,1.6043041355595677,1.6353609262696596,1.5290805019958704,1.4249250664463615,1.278471603498219,1.1494611449615362,1.1666629399465567,1.1203217012074334,1.0710869532106346,1.1572891677082835,1.0791470480824075,1.056061504818887,1.07949913333997,1.073650591717674,1.0553292502555045,1.0959675073332722,1.100464368394983,1.0579083813640742,1.1339749311150247,1.173648310866406,1.1469845203206477,1.2110415103443062,1.258250891010089,1.2133148001287466,1.223295618330697,1.1611659102635008,1.0893084494782315,1.0957090736337218,1.0529031394939998,1.1117749209444698,1.109899307263717,1.0956104305518146,1.043913256514331,1.0169791296227075,0.9966884693779877,0.9876916166811764,0.8948779575196775,0.9563348155988627,0.8896447622915981,0.9050816760788911,0.9254087961262368,0.9113842731288895,0.9674020789716699,0.98234860380705],\"low\":[1.2825855912353177,1.311355140603232,1.3469761448201745,1.311636015481185,1.293565042317357,1.189813457301202,1.1882699308796119,1.1877537358096077,1.123887844945373,1.1521164032178437,1.071818530016423,1.1228372993713371,1.1572906437402268,1.222022500323521,1.225195007039148,1.2552737280195876,1.2917473522555771,1.3902039124852323,1.4094014231831076,1.3135383996750556,1.256395834294289,1.0466483822679211,0.9223523467119785,1.0514195143126774,0.9548607385726715,0.9934785881116789,1.024377444165748,1.0072692091886983,1.0119741339294477,1.0419568696140906,1.0233256090762999,1.0097355774252545,1.0367534369752203,1.0254856531239465,1.0160788198626731,1.0422347783492156,1.103767601430357,1.1001470410294045,1.1281258248075028,1.129405664529569,1.1520241958176343,1.147945951066477,1.0724788819165691,1.0327822871183294,1.023245541844705,1.0213629704071434,1.047474058446646,1.0671951797117545,1.012497647169703,0.9876365030760361,0.9756683622571876,0.9186776335860942,0.8515836593427117,0.8158292331973431,0.8687395083779409,0.7471255735149512,0.8280026364207919,0.8846270507044657,0.8358010040712343,0.8453234966751693,0.9454582446575394],\"name\":\"price\",\"open\":[1.3519262223018684,1.31175497388127,1.3718519000123486,1.3771325533135665,1.3172127033236904,1.310257120313128,1.231881524334,1.2765252493378443,1.20531099782995,1.1861547451956804,1.1674421380983644,1.1245089493116802,1.1863928260370717,1.3058467757363168,1.2341458390947717,1.286297546242881,1.2978161309060365,1.409959124440872,1.6040868445175258,1.4598672167543985,1.3387668617129005,1.2572777847243752,1.1206935312143502,1.06706940351211,1.1203217012074334,1.0675475043336022,1.0446538339915443,1.0767135156917322,1.043993174387964,1.0492364392508184,1.0589841907426623,1.0405002426957113,1.050913818377555,1.0954577423454979,1.0274126690758194,1.0573077605111554,1.1340423722070199,1.129402384933807,1.1426338291512268,1.1952745546070362,1.1774099963397422,1.1991991536390771,1.1496182215315132,1.0795041547987743,1.0577218030962832,1.0442280202000322,1.0474984623924728,1.108438097625127,1.083483561233894,1.0233461604559517,0.9975329718898102,0.9948619527851065,0.9335273097292882,0.8536623640743735,0.8902903763359077,0.8679432467250743,0.8517495217160357,0.8983152020075194,0.886209830162574,0.8582357706171395,0.9591530356017216],\"x\":[\"2021-12-31T01:00:00+01:00\",\"2022-01-01T01:00:00+01:00\",\"2022-01-02T01:00:00+01:00\",\"2022-01-03T01:00:00+01:00\",\"2022-01-04T01:00:00+01:00\",\"2022-01-05T01:00:00+01:00\",\"2022-01-06T01:00:00+01:00\",\"2022-01-07T01:00:00+01:00\",\"2022-01-08T01:00:00+01:00\",\"2022-01-09T01:00:00+01:00\",\"2022-01-10T01:00:00+01:00\",\"2022-01-11T01:00:00+01:00\",\"2022-01-12T01:00:00+01:00\",\"2022-01-13T01:00:00+01:00\",\"2022-01-14T01:00:00+01:00\",\"2022-01-15T01:00:00+01:00\",\"2022-01-16T01:00:00+01:00\",\"2022-01-17T01:00:00+01:00\",\"2022-01-18T01:00:00+01:00\",\"2022-01-19T01:00:00+01:00\",\"2022-01-20T01:00:00+01:00\",\"2022-01-21T01:00:00+01:00\",\"2022-01-22T01:00:00+01:00\",\"2022-01-23T01:00:00+01:00\",\"2022-01-24T01:00:00+01:00\",\"2022-01-25T01:00:00+01:00\",\"2022-01-26T01:00:00+01:00\",\"2022-01-27T01:00:00+01:00\",\"2022-01-28T01:00:00+01:00\",\"2022-01-29T01:00:00+01:00\",\"2022-01-30T01:00:00+01:00\",\"2022-01-31T01:00:00+01:00\",\"2022-02-01T01:00:00+01:00\",\"2022-02-02T01:00:00+01:00\",\"2022-02-03T01:00:00+01:00\",\"2022-02-04T01:00:00+01:00\",\"2022-02-05T01:00:00+01:00\",\"2022-02-06T01:00:00+01:00\",\"2022-02-07T01:00:00+01:00\",\"2022-02-08T01:00:00+01:00\",\"2022-02-09T01:00:00+01:00\",\"2022-02-10T01:00:00+01:00\",\"2022-02-11T01:00:00+01:00\",\"2022-02-12T01:00:00+01:00\",\"2022-02-13T01:00:00+01:00\",\"2022-02-14T01:00:00+01:00\",\"2022-02-15T01:00:00+01:00\",\"2022-02-16T01:00:00+01:00\",\"2022-02-17T01:00:00+01:00\",\"2022-02-18T01:00:00+01:00\",\"2022-02-19T01:00:00+01:00\",\"2022-02-20T01:00:00+01:00\",\"2022-02-21T01:00:00+01:00\",\"2022-02-22T01:00:00+01:00\",\"2022-02-23T01:00:00+01:00\",\"2022-02-24T01:00:00+01:00\",\"2022-02-25T01:00:00+01:00\",\"2022-02-26T01:00:00+01:00\",\"2022-02-27T01:00:00+01:00\",\"2022-02-28T01:00:00+01:00\",\"2022-03-01T01:00:00+01:00\"],\"type\":\"candlestick\"}],                        {\"template\":{\"data\":{\"bar\":[{\"error_x\":{\"color\":\"#2a3f5f\"},\"error_y\":{\"color\":\"#2a3f5f\"},\"marker\":{\"line\":{\"color\":\"#E5ECF6\",\"width\":0.5},\"pattern\":{\"fillmode\":\"overlay\",\"size\":10,\"solidity\":0.2}},\"type\":\"bar\"}],\"barpolar\":[{\"marker\":{\"line\":{\"color\":\"#E5ECF6\",\"width\":0.5},\"pattern\":{\"fillmode\":\"overlay\",\"size\":10,\"solidity\":0.2}},\"type\":\"barpolar\"}],\"carpet\":[{\"aaxis\":{\"endlinecolor\":\"#2a3f5f\",\"gridcolor\":\"white\",\"linecolor\":\"white\",\"minorgridcolor\":\"white\",\"startlinecolor\":\"#2a3f5f\"},\"baxis\":{\"endlinecolor\":\"#2a3f5f\",\"gridcolor\":\"white\",\"linecolor\":\"white\",\"minorgridcolor\":\"white\",\"startlinecolor\":\"#2a3f5f\"},\"type\":\"carpet\"}],\"choropleth\":[{\"colorbar\":{\"outlinewidth\":0,\"ticks\":\"\"},\"type\":\"choropleth\"}],\"contour\":[{\"colorbar\":{\"outlinewidth\":0,\"ticks\":\"\"},\"colorscale\":[[0.0,\"#0d0887\"],[0.1111111111111111,\"#46039f\"],[0.2222222222222222,\"#7201a8\"],[0.3333333333333333,\"#9c179e\"],[0.4444444444444444,\"#bd3786\"],[0.5555555555555556,\"#d8576b\"],[0.6666666666666666,\"#ed7953\"],[0.7777777777777778,\"#fb9f3a\"],[0.8888888888888888,\"#fdca26\"],[1.0,\"#f0f921\"]],\"type\":\"contour\"}],\"contourcarpet\":[{\"colorbar\":{\"outlinewidth\":0,\"ticks\":\"\"},\"type\":\"contourcarpet\"}],\"heatmap\":[{\"colorbar\":{\"outlinewidth\":0,\"ticks\":\"\"},\"colorscale\":[[0.0,\"#0d0887\"],[0.1111111111111111,\"#46039f\"],[0.2222222222222222,\"#7201a8\"],[0.3333333333333333,\"#9c179e\"],[0.4444444444444444,\"#bd3786\"],[0.5555555555555556,\"#d8576b\"],[0.6666666666666666,\"#ed7953\"],[0.7777777777777778,\"#fb9f3a\"],[0.8888888888888888,\"#fdca26\"],[1.0,\"#f0f921\"]],\"type\":\"heatmap\"}],\"heatmapgl\":[{\"colorbar\":{\"outlinewidth\":0,\"ticks\":\"\"},\"colorscale\":[[0.0,\"#0d0887\"],[0.1111111111111111,\"#46039f\"],[0.2222222222222222,\"#7201a8\"],[0.3333333333333333,\"#9c179e\"],[0.4444444444444444,\"#bd3786\"],[0.5555555555555556,\"#d8576b\"],[0.6666666666666666,\"#ed7953\"],[0.7777777777777778,\"#fb9f3a\"],[0.8888888888888888,\"#fdca26\"],[1.0,\"#f0f921\"]],\"type\":\"heatmapgl\"}],\"histogram\":[{\"marker\":{\"pattern\":{\"fillmode\":\"overlay\",\"size\":10,\"solidity\":0.2}},\"type\":\"histogram\"}],\"histogram2d\":[{\"colorbar\":{\"outlinewidth\":0,\"ticks\":\"\"},\"colorscale\":[[0.0,\"#0d0887\"],[0.1111111111111111,\"#46039f\"],[0.2222222222222222,\"#7201a8\"],[0.3333333333333333,\"#9c179e\"],[0.4444444444444444,\"#bd3786\"],[0.5555555555555556,\"#d8576b\"],[0.6666666666666666,\"#ed7953\"],[0.7777777777777778,\"#fb9f3a\"],[0.8888888888888888,\"#fdca26\"],[1.0,\"#f0f921\"]],\"type\":\"histogram2d\"}],\"histogram2dcontour\":[{\"colorbar\":{\"outlinewidth\":0,\"ticks\":\"\"},\"colorscale\":[[0.0,\"#0d0887\"],[0.1111111111111111,\"#46039f\"],[0.2222222222222222,\"#7201a8\"],[0.3333333333333333,\"#9c179e\"],[0.4444444444444444,\"#bd3786\"],[0.5555555555555556,\"#d8576b\"],[0.6666666666666666,\"#ed7953\"],[0.7777777777777778,\"#fb9f3a\"],[0.8888888888888888,\"#fdca26\"],[1.0,\"#f0f921\"]],\"type\":\"histogram2dcontour\"}],\"mesh3d\":[{\"colorbar\":{\"outlinewidth\":0,\"ticks\":\"\"},\"type\":\"mesh3d\"}],\"parcoords\":[{\"line\":{\"colorbar\":{\"outlinewidth\":0,\"ticks\":\"\"}},\"type\":\"parcoords\"}],\"pie\":[{\"automargin\":true,\"type\":\"pie\"}],\"scatter\":[{\"marker\":{\"colorbar\":{\"outlinewidth\":0,\"ticks\":\"\"}},\"type\":\"scatter\"}],\"scatter3d\":[{\"line\":{\"colorbar\":{\"outlinewidth\":0,\"ticks\":\"\"}},\"marker\":{\"colorbar\":{\"outlinewidth\":0,\"ticks\":\"\"}},\"type\":\"scatter3d\"}],\"scattercarpet\":[{\"marker\":{\"colorbar\":{\"outlinewidth\":0,\"ticks\":\"\"}},\"type\":\"scattercarpet\"}],\"scattergeo\":[{\"marker\":{\"colorbar\":{\"outlinewidth\":0,\"ticks\":\"\"}},\"type\":\"scattergeo\"}],\"scattergl\":[{\"marker\":{\"colorbar\":{\"outlinewidth\":0,\"ticks\":\"\"}},\"type\":\"scattergl\"}],\"scattermapbox\":[{\"marker\":{\"colorbar\":{\"outlinewidth\":0,\"ticks\":\"\"}},\"type\":\"scattermapbox\"}],\"scatterpolar\":[{\"marker\":{\"colorbar\":{\"outlinewidth\":0,\"ticks\":\"\"}},\"type\":\"scatterpolar\"}],\"scatterpolargl\":[{\"marker\":{\"colorbar\":{\"outlinewidth\":0,\"ticks\":\"\"}},\"type\":\"scatterpolargl\"}],\"scatterternary\":[{\"marker\":{\"colorbar\":{\"outlinewidth\":0,\"ticks\":\"\"}},\"type\":\"scatterternary\"}],\"surface\":[{\"colorbar\":{\"outlinewidth\":0,\"ticks\":\"\"},\"colorscale\":[[0.0,\"#0d0887\"],[0.1111111111111111,\"#46039f\"],[0.2222222222222222,\"#7201a8\"],[0.3333333333333333,\"#9c179e\"],[0.4444444444444444,\"#bd3786\"],[0.5555555555555556,\"#d8576b\"],[0.6666666666666666,\"#ed7953\"],[0.7777777777777778,\"#fb9f3a\"],[0.8888888888888888,\"#fdca26\"],[1.0,\"#f0f921\"]],\"type\":\"surface\"}],\"table\":[{\"cells\":{\"fill\":{\"color\":\"#EBF0F8\"},\"line\":{\"color\":\"white\"}},\"header\":{\"fill\":{\"color\":\"#C8D4E3\"},\"line\":{\"color\":\"white\"}},\"type\":\"table\"}]},\"layout\":{\"annotationdefaults\":{\"arrowcolor\":\"#2a3f5f\",\"arrowhead\":0,\"arrowwidth\":1},\"autotypenumbers\":\"strict\",\"coloraxis\":{\"colorbar\":{\"outlinewidth\":0,\"ticks\":\"\"}},\"colorscale\":{\"diverging\":[[0,\"#8e0152\"],[0.1,\"#c51b7d\"],[0.2,\"#de77ae\"],[0.3,\"#f1b6da\"],[0.4,\"#fde0ef\"],[0.5,\"#f7f7f7\"],[0.6,\"#e6f5d0\"],[0.7,\"#b8e186\"],[0.8,\"#7fbc41\"],[0.9,\"#4d9221\"],[1,\"#276419\"]],\"sequential\":[[0.0,\"#0d0887\"],[0.1111111111111111,\"#46039f\"],[0.2222222222222222,\"#7201a8\"],[0.3333333333333333,\"#9c179e\"],[0.4444444444444444,\"#bd3786\"],[0.5555555555555556,\"#d8576b\"],[0.6666666666666666,\"#ed7953\"],[0.7777777777777778,\"#fb9f3a\"],[0.8888888888888888,\"#fdca26\"],[1.0,\"#f0f921\"]],\"sequentialminus\":[[0.0,\"#0d0887\"],[0.1111111111111111,\"#46039f\"],[0.2222222222222222,\"#7201a8\"],[0.3333333333333333,\"#9c179e\"],[0.4444444444444444,\"#bd3786\"],[0.5555555555555556,\"#d8576b\"],[0.6666666666666666,\"#ed7953\"],[0.7777777777777778,\"#fb9f3a\"],[0.8888888888888888,\"#fdca26\"],[1.0,\"#f0f921\"]]},\"colorway\":[\"#636efa\",\"#EF553B\",\"#00cc96\",\"#ab63fa\",\"#FFA15A\",\"#19d3f3\",\"#FF6692\",\"#B6E880\",\"#FF97FF\",\"#FECB52\"],\"font\":{\"color\":\"#2a3f5f\"},\"geo\":{\"bgcolor\":\"white\",\"lakecolor\":\"white\",\"landcolor\":\"#E5ECF6\",\"showlakes\":true,\"showland\":true,\"subunitcolor\":\"white\"},\"hoverlabel\":{\"align\":\"left\"},\"hovermode\":\"closest\",\"mapbox\":{\"style\":\"light\"},\"paper_bgcolor\":\"white\",\"plot_bgcolor\":\"#E5ECF6\",\"polar\":{\"angularaxis\":{\"gridcolor\":\"white\",\"linecolor\":\"white\",\"ticks\":\"\"},\"bgcolor\":\"#E5ECF6\",\"radialaxis\":{\"gridcolor\":\"white\",\"linecolor\":\"white\",\"ticks\":\"\"}},\"scene\":{\"xaxis\":{\"backgroundcolor\":\"#E5ECF6\",\"gridcolor\":\"white\",\"gridwidth\":2,\"linecolor\":\"white\",\"showbackground\":true,\"ticks\":\"\",\"zerolinecolor\":\"white\"},\"yaxis\":{\"backgroundcolor\":\"#E5ECF6\",\"gridcolor\":\"white\",\"gridwidth\":2,\"linecolor\":\"white\",\"showbackground\":true,\"ticks\":\"\",\"zerolinecolor\":\"white\"},\"zaxis\":{\"backgroundcolor\":\"#E5ECF6\",\"gridcolor\":\"white\",\"gridwidth\":2,\"linecolor\":\"white\",\"showbackground\":true,\"ticks\":\"\",\"zerolinecolor\":\"white\"}},\"shapedefaults\":{\"line\":{\"color\":\"#2a3f5f\"}},\"ternary\":{\"aaxis\":{\"gridcolor\":\"white\",\"linecolor\":\"white\",\"ticks\":\"\"},\"baxis\":{\"gridcolor\":\"white\",\"linecolor\":\"white\",\"ticks\":\"\"},\"bgcolor\":\"#E5ECF6\",\"caxis\":{\"gridcolor\":\"white\",\"linecolor\":\"white\",\"ticks\":\"\"}},\"title\":{\"x\":0.05},\"xaxis\":{\"automargin\":true,\"gridcolor\":\"white\",\"linecolor\":\"white\",\"ticks\":\"\",\"title\":{\"standoff\":15},\"zerolinecolor\":\"white\",\"zerolinewidth\":2},\"yaxis\":{\"automargin\":true,\"gridcolor\":\"white\",\"linecolor\":\"white\",\"ticks\":\"\",\"title\":{\"standoff\":15},\"zerolinecolor\":\"white\",\"zerolinewidth\":2}}},\"xaxis\":{\"anchor\":\"y\",\"domain\":[0.0,1.0],\"fixedrange\":false,\"autorange\":true},\"yaxis\":{\"anchor\":\"x\",\"domain\":[0.0,1.0],\"fixedrange\":false,\"autorange\":true},\"annotations\":[{\"font\":{\"size\":16},\"showarrow\":false,\"text\":\"OHLC\",\"x\":0.5,\"xanchor\":\"center\",\"xref\":\"paper\",\"y\":1.0,\"yanchor\":\"bottom\",\"yref\":\"paper\"}]},                        {\"responsive\": true}                    ).then(function(){\n",
       "                            \n",
       "var gd = document.getElementById('0d340954-e99a-44fa-ad1c-566cd297241e');\n",
       "var x = new MutationObserver(function (mutations, observer) {{\n",
       "        var display = window.getComputedStyle(gd).display;\n",
       "        if (!display || display === 'none') {{\n",
       "            console.log([gd, 'removed!']);\n",
       "            Plotly.purge(gd);\n",
       "            observer.disconnect();\n",
       "        }}\n",
       "}});\n",
       "\n",
       "// Listen for the removal of the full notebook cells\n",
       "var notebookContainer = gd.closest('#notebook-container');\n",
       "if (notebookContainer) {{\n",
       "    x.observe(notebookContainer, {childList: true});\n",
       "}}\n",
       "\n",
       "// Listen for the clearing of the current output cell\n",
       "var outputEl = gd.closest('.output');\n",
       "if (outputEl) {{\n",
       "    x.observe(outputEl, {childList: true});\n",
       "}}\n",
       "\n",
       "                        })                };                });            </script>        </div>"
      ]
     },
     "metadata": {},
     "output_type": "display_data"
    }
   ],
   "source": [
    "fig = make_subplots(rows=1, cols=1, shared_xaxes=True, \n",
    "               vertical_spacing=0.07, subplot_titles=(\"OHLC\",), \n",
    "               row_width=[1],\n",
    "               )\n",
    "\n",
    "fig.add_trace(go.Candlestick(x=df.index,\n",
    "                             open=df[\"open\"], high=df[\"high\"],\n",
    "                             low=df[\"low\"], close=df[\"close\"],\n",
    "                             name=\"price\"\n",
    "                             ),\n",
    "            #    secondary_y=True,\n",
    "              )\n",
    "fig.layout.yaxis.fixedrange = False\n",
    "fig.layout.yaxis.autorange = True\n",
    "fig.layout.xaxis.fixedrange = False\n",
    "fig.layout.xaxis.autorange = True\n",
    "fig.show()"
   ]
  },
  {
   "cell_type": "code",
   "execution_count": null,
   "metadata": {
    "pycharm": {
     "name": "#%%\n"
    }
   },
   "outputs": [],
   "source": []
  },
  {
   "cell_type": "markdown",
   "metadata": {
    "pycharm": {
     "name": "#%% md\n"
    }
   },
   "source": [
    "### Second Price Example"
   ]
  },
  {
   "cell_type": "code",
   "execution_count": null,
   "metadata": {
    "pycharm": {
     "name": "#%%\n"
    }
   },
   "outputs": [
    {
     "name": "stderr",
     "output_type": "stream",
     "text": [
      "                                                                           \r"
     ]
    },
    {
     "data": {
      "text/plain": [
       "3"
      ]
     },
     "execution_count": 20,
     "metadata": {},
     "output_type": "execute_result"
    }
   ],
   "source": [
    "prices = client.get_candles(\n",
    "    contract=CONTRACT,\n",
    "    # from_=\"2022-01-01\", # if we omit parameter from_, default value is the oldest available data\n",
    "    # to=\"2022-02-01\",\n",
    "    resolution=\"MN1\",\n",
    ")\n",
    "len(prices)"
   ]
  },
  {
   "cell_type": "code",
   "execution_count": null,
   "metadata": {
    "pycharm": {
     "name": "#%%\n"
    }
   },
   "outputs": [
    {
     "data": {
      "text/html": [
       "<div>\n",
       "<style scoped>\n",
       "    .dataframe tbody tr th:only-of-type {\n",
       "        vertical-align: middle;\n",
       "    }\n",
       "\n",
       "    .dataframe tbody tr th {\n",
       "        vertical-align: top;\n",
       "    }\n",
       "\n",
       "    .dataframe thead th {\n",
       "        text-align: right;\n",
       "    }\n",
       "</style>\n",
       "<table border=\"1\" class=\"dataframe\">\n",
       "  <thead>\n",
       "    <tr style=\"text-align: right;\">\n",
       "      <th></th>\n",
       "      <th>open</th>\n",
       "      <th>high</th>\n",
       "      <th>low</th>\n",
       "      <th>close</th>\n",
       "    </tr>\n",
       "    <tr>\n",
       "      <th>time</th>\n",
       "      <th></th>\n",
       "      <th></th>\n",
       "      <th></th>\n",
       "      <th></th>\n",
       "    </tr>\n",
       "  </thead>\n",
       "  <tbody>\n",
       "    <tr>\n",
       "      <th>2021-12-08 01:00:00+01:00</th>\n",
       "      <td>1.393926</td>\n",
       "      <td>1.395809</td>\n",
       "      <td>1.188270</td>\n",
       "      <td>1.275293</td>\n",
       "    </tr>\n",
       "    <tr>\n",
       "      <th>2022-01-07 01:00:00+01:00</th>\n",
       "      <td>1.276525</td>\n",
       "      <td>1.635361</td>\n",
       "      <td>0.922352</td>\n",
       "      <td>1.130442</td>\n",
       "    </tr>\n",
       "    <tr>\n",
       "      <th>2022-02-06 01:00:00+01:00</th>\n",
       "      <td>1.129402</td>\n",
       "      <td>1.258251</td>\n",
       "      <td>0.747126</td>\n",
       "      <td>0.851657</td>\n",
       "    </tr>\n",
       "  </tbody>\n",
       "</table>\n",
       "</div>"
      ],
      "text/plain": [
       "                               open      high       low     close\n",
       "time                                                             \n",
       "2021-12-08 01:00:00+01:00  1.393926  1.395809  1.188270  1.275293\n",
       "2022-01-07 01:00:00+01:00  1.276525  1.635361  0.922352  1.130442\n",
       "2022-02-06 01:00:00+01:00  1.129402  1.258251  0.747126  0.851657"
      ]
     },
     "execution_count": 21,
     "metadata": {},
     "output_type": "execute_result"
    }
   ],
   "source": [
    "df = pd.DataFrame(\n",
    "    [p.__dict__ for p in prices],\n",
    ").set_index(\"time\")\n",
    "df"
   ]
  }
 ],
 "metadata": {
  "interpreter": {
   "hash": "c5e1fbb35f6f73757ee3f1685a0230ad9f20736172730fe2387c421ac6aeedba"
  },
  "kernelspec": {
   "display_name": "Python 3 (ipykernel)",
   "language": "python",
   "name": "python3"
  },
  "language_info": {
   "codemirror_mode": {
    "name": "ipython",
    "version": 3
   },
   "file_extension": ".py",
   "mimetype": "text/x-python",
   "name": "python",
   "nbconvert_exporter": "python",
   "pygments_lexer": "ipython3",
   "version": "3.9.9"
  }
 },
 "nbformat": 4,
 "nbformat_minor": 2
}