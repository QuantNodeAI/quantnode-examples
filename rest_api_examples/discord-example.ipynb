{
 "cells": [
  {
   "cell_type": "markdown",
   "metadata": {
    "pycharm": {
     "name": "#%% md\n"
    }
   },
   "source": [
    "# Discord Example"
   ]
  },
  {
   "cell_type": "markdown",
   "metadata": {
    "pycharm": {
     "name": "#%% md\n"
    }
   },
   "source": [
    "## Intro"
   ]
  },
  {
   "cell_type": "markdown",
   "metadata": {
    "pycharm": {
     "name": "#%% md\n"
    }
   },
   "source": [
    "### Imports"
   ]
  },
  {
   "cell_type": "code",
   "execution_count": 1,
   "metadata": {
    "pycharm": {
     "name": "#%%\n"
    }
   },
   "outputs": [],
   "source": [
    "%reload_ext autoreload\n",
    "%autoreload 2"
   ]
  },
  {
   "cell_type": "code",
   "execution_count": 2,
   "metadata": {
    "pycharm": {
     "name": "#%%\n"
    }
   },
   "outputs": [],
   "source": [
    "import os\n",
    "import sys\n",
    "from dotenv import load_dotenv\n"
   ]
  },
  {
   "cell_type": "code",
   "execution_count": 3,
   "metadata": {
    "pycharm": {
     "name": "#%%\n"
    }
   },
   "outputs": [],
   "source": [
    "import matplotlib.pyplot as plt\n",
    "import pandas as pd\n",
    "from tqdm.notebook import tqdm, trange\n",
    "\n",
    "from helixirapi.helixir_api import HelixirApi"
   ]
  },
  {
   "cell_type": "markdown",
   "metadata": {
    "pycharm": {
     "name": "#%% md\n"
    }
   },
   "source": [
    "### Create client instance"
   ]
  },
  {
   "cell_type": "code",
   "execution_count": 4,
   "metadata": {
    "pycharm": {
     "name": "#%%\n"
    }
   },
   "outputs": [
    {
     "data": {
      "text/plain": [
       "<helixirapi.helixir_api.HelixirApi at 0x7f35fc792fd0>"
      ]
     },
     "execution_count": 4,
     "metadata": {},
     "output_type": "execute_result"
    }
   ],
   "source": [
    "load_dotenv()\n",
    "AUTH_TOKEN = os.getenv(\"AUTH_TOKEN\")\n",
    "client = HelixirApi(auth_token=AUTH_TOKEN)\n",
    "client"
   ]
  },
  {
   "cell_type": "markdown",
   "metadata": {
    "pycharm": {
     "name": "#%% md\n"
    }
   },
   "source": [
    "## Getting Messages\n",
    "\n",
    "Returns list of discord messages according to filtration specified in the request.\n",
    "\n",
    "***Parameters:***\n",
    "\n",
    "`from_`\n",
    "- `from_` is the required parameter; however, the start of data history is used if omitted. The date could be entered as a timestamp (integer number) or by a human-readable string (e.g., `2022-05-01`).\n",
    "\n",
    "`limit`\n",
    "- The parameter `limit` has to be a positive number. It is compulsory parameter.\n",
    "\n",
    "`tag`\n",
    "- An optional parameter for filtering messages.\n",
    "\n",
    "`validate_params`\n",
    "- An optional parameter with a default value equal to _True_.\n"
   ]
  },
  {
   "cell_type": "code",
   "execution_count": 5,
   "metadata": {
    "pycharm": {
     "name": "#%%\n"
    }
   },
   "outputs": [
    {
     "data": {
      "text/plain": [
       "[DiscordPublicMessage(\n",
       " \tid = 3187488,\n",
       " \tcontent = Reminder: Please wait for a <@&878430782950092870> or <@&831289413849710662> to respond to your help request IN this channel. DO NOT TRUST direct (private) messages from anyone - we will not DM you first. We will never send you a link leading to a website or ask for your private seed phrase, etc. There is no \"Tokemak Support Team\" - only the <@&878430782950092870> or <@&831289413849710662> will respond to you here, and move to private messages if necessary.,\n",
       " \tcreated_at = 2022-03-31 22:00:07.333000+00:00,\n",
       " ),\n",
       " DiscordPublicMessage(\n",
       " \tid = 3187473,\n",
       " \tcontent = Hey everyone, **Cointelegraph** just posted a new Tweet!\n",
       " \thttps://twitter.com/Cointelegraph/status/1509651786608611330,\n",
       " \tcreated_at = 2022-03-31 22:00:19.879000+00:00,\n",
       " ),\n",
       " DiscordPublicMessage(\n",
       " \tid = 3187479,\n",
       " \tcontent = GM $WHALE fam 💫,\n",
       " \tcreated_at = 2022-03-31 22:00:32.057000+00:00,\n",
       " ),\n",
       " DiscordPublicMessage(\n",
       " \tid = 3187482,\n",
       " \tcontent = \"im gonna go to sleep now\".....,\n",
       " \tcreated_at = 2022-03-31 22:00:35.970000+00:00,\n",
       " ),\n",
       " DiscordPublicMessage(\n",
       " \tid = 3187483,\n",
       " \tcontent = \"april fools!\",\n",
       " \tcreated_at = 2022-03-31 22:00:40.545000+00:00,\n",
       " ),\n",
       " DiscordPublicMessage(\n",
       " \tid = 3187489,\n",
       " \tcontent = Heheh psychology is fun in that, when ya keep pushing something so confidently, people can be turned away because it makes em feel less confident in what they're doing.  Hence, it appeased them and garner their support when we go about it humbly as if we're not sure if it's going to do the trick but we're simply just doing our best and evolve from there.  Then they will start to feed us ideas and emotional support as opposed to resistance.,\n",
       " \tcreated_at = 2022-03-31 22:00:40.776000+00:00,\n",
       " ),\n",
       " DiscordPublicMessage(\n",
       " \tid = 3187496,\n",
       " \tcontent = register_discord emmyjj081@gmail.com,\n",
       " \tcreated_at = 2022-03-31 22:00:58.425000+00:00,\n",
       " ),\n",
       " DiscordPublicMessage(\n",
       " \tid = 4317439,\n",
       " \tcontent = Hey, we have set a maximum margin at 5%. You have a fair point there,\n",
       " \tcreated_at = 2022-03-31 22:01:06.179000+00:00,\n",
       " ),\n",
       " DiscordPublicMessage(\n",
       " \tid = 3187484,\n",
       " \tcontent = that one is obvious though,\n",
       " \tcreated_at = 2022-03-31 22:01:20.198000+00:00,\n",
       " ),\n",
       " DiscordPublicMessage(\n",
       " \tid = 3187485,\n",
       " \tcontent = an AI never sleeps,\n",
       " \tcreated_at = 2022-03-31 22:01:23.243000+00:00,\n",
       " )]"
      ]
     },
     "execution_count": 5,
     "metadata": {},
     "output_type": "execute_result"
    }
   ],
   "source": [
    "messages = client.get_discord(\n",
    "    \"2022-04-01\",\n",
    "    10\n",
    ")\n",
    "messages"
   ]
  },
  {
   "cell_type": "code",
   "execution_count": 7,
   "metadata": {
    "pycharm": {
     "name": "#%%\n"
    }
   },
   "outputs": [
    {
     "data": {
      "text/html": [
       "<div>\n",
       "<style scoped>\n",
       "    .dataframe tbody tr th:only-of-type {\n",
       "        vertical-align: middle;\n",
       "    }\n",
       "\n",
       "    .dataframe tbody tr th {\n",
       "        vertical-align: top;\n",
       "    }\n",
       "\n",
       "    .dataframe thead th {\n",
       "        text-align: right;\n",
       "    }\n",
       "</style>\n",
       "<table border=\"1\" class=\"dataframe\">\n",
       "  <thead>\n",
       "    <tr style=\"text-align: right;\">\n",
       "      <th></th>\n",
       "      <th>id</th>\n",
       "      <th>content</th>\n",
       "    </tr>\n",
       "    <tr>\n",
       "      <th>created_at</th>\n",
       "      <th></th>\n",
       "      <th></th>\n",
       "    </tr>\n",
       "  </thead>\n",
       "  <tbody>\n",
       "    <tr>\n",
       "      <th>2022-03-31 22:00:07.333000+00:00</th>\n",
       "      <td>3187488</td>\n",
       "      <td>Reminder: Please wait for a &lt;@&amp;878430782950092...</td>\n",
       "    </tr>\n",
       "    <tr>\n",
       "      <th>2022-03-31 22:00:19.879000+00:00</th>\n",
       "      <td>3187473</td>\n",
       "      <td>Hey everyone, **Cointelegraph** just posted a ...</td>\n",
       "    </tr>\n",
       "    <tr>\n",
       "      <th>2022-03-31 22:00:32.057000+00:00</th>\n",
       "      <td>3187479</td>\n",
       "      <td>GM $WHALE fam 💫</td>\n",
       "    </tr>\n",
       "    <tr>\n",
       "      <th>2022-03-31 22:00:35.970000+00:00</th>\n",
       "      <td>3187482</td>\n",
       "      <td>\"im gonna go to sleep now\".....</td>\n",
       "    </tr>\n",
       "    <tr>\n",
       "      <th>2022-03-31 22:00:40.545000+00:00</th>\n",
       "      <td>3187483</td>\n",
       "      <td>\"april fools!\"</td>\n",
       "    </tr>\n",
       "    <tr>\n",
       "      <th>2022-03-31 22:00:40.776000+00:00</th>\n",
       "      <td>3187489</td>\n",
       "      <td>Heheh psychology is fun in that, when ya keep ...</td>\n",
       "    </tr>\n",
       "    <tr>\n",
       "      <th>2022-03-31 22:00:58.425000+00:00</th>\n",
       "      <td>3187496</td>\n",
       "      <td>register_discord emmyjj081@gmail.com</td>\n",
       "    </tr>\n",
       "    <tr>\n",
       "      <th>2022-03-31 22:01:06.179000+00:00</th>\n",
       "      <td>4317439</td>\n",
       "      <td>Hey, we have set a maximum margin at 5%. You h...</td>\n",
       "    </tr>\n",
       "    <tr>\n",
       "      <th>2022-03-31 22:01:20.198000+00:00</th>\n",
       "      <td>3187484</td>\n",
       "      <td>that one is obvious though</td>\n",
       "    </tr>\n",
       "    <tr>\n",
       "      <th>2022-03-31 22:01:23.243000+00:00</th>\n",
       "      <td>3187485</td>\n",
       "      <td>an AI never sleeps</td>\n",
       "    </tr>\n",
       "  </tbody>\n",
       "</table>\n",
       "</div>"
      ],
      "text/plain": [
       "                                       id  \\\n",
       "created_at                                  \n",
       "2022-03-31 22:00:07.333000+00:00  3187488   \n",
       "2022-03-31 22:00:19.879000+00:00  3187473   \n",
       "2022-03-31 22:00:32.057000+00:00  3187479   \n",
       "2022-03-31 22:00:35.970000+00:00  3187482   \n",
       "2022-03-31 22:00:40.545000+00:00  3187483   \n",
       "2022-03-31 22:00:40.776000+00:00  3187489   \n",
       "2022-03-31 22:00:58.425000+00:00  3187496   \n",
       "2022-03-31 22:01:06.179000+00:00  4317439   \n",
       "2022-03-31 22:01:20.198000+00:00  3187484   \n",
       "2022-03-31 22:01:23.243000+00:00  3187485   \n",
       "\n",
       "                                                                            content  \n",
       "created_at                                                                           \n",
       "2022-03-31 22:00:07.333000+00:00  Reminder: Please wait for a <@&878430782950092...  \n",
       "2022-03-31 22:00:19.879000+00:00  Hey everyone, **Cointelegraph** just posted a ...  \n",
       "2022-03-31 22:00:32.057000+00:00                                    GM $WHALE fam 💫  \n",
       "2022-03-31 22:00:35.970000+00:00                    \"im gonna go to sleep now\".....  \n",
       "2022-03-31 22:00:40.545000+00:00                                     \"april fools!\"  \n",
       "2022-03-31 22:00:40.776000+00:00  Heheh psychology is fun in that, when ya keep ...  \n",
       "2022-03-31 22:00:58.425000+00:00               register_discord emmyjj081@gmail.com  \n",
       "2022-03-31 22:01:06.179000+00:00  Hey, we have set a maximum margin at 5%. You h...  \n",
       "2022-03-31 22:01:20.198000+00:00                         that one is obvious though  \n",
       "2022-03-31 22:01:23.243000+00:00                                 an AI never sleeps  "
      ]
     },
     "execution_count": 7,
     "metadata": {},
     "output_type": "execute_result"
    }
   ],
   "source": [
    "pd.DataFrame([m.__dict__ for m in messages]).set_index(\"created_at\")"
   ]
  },
  {
   "cell_type": "code",
   "execution_count": 8,
   "metadata": {
    "pycharm": {
     "name": "#%%\n"
    }
   },
   "outputs": [
    {
     "data": {
      "text/plain": [
       "[DiscordPublicMessage(\n",
       " \tid = 3191448,\n",
       " \tcontent = Cardano is going to hit $5 this run, watch,\n",
       " \tcreated_at = 2022-04-01 14:16:25.316000+00:00,\n",
       " ),\n",
       " DiscordPublicMessage(\n",
       " \tid = 3192540,\n",
       " \tcontent = Why is cardano so 💀,\n",
       " \tcreated_at = 2022-04-01 18:39:08.995000+00:00,\n",
       " ),\n",
       " DiscordPublicMessage(\n",
       " \tid = 3194447,\n",
       " \tcontent = https://decrypt.co/96722/cme-group-looking-at-offering-solana-cardano-futures,\n",
       " \tcreated_at = 2022-04-02 01:56:17.169000+00:00,\n",
       " ),\n",
       " DiscordPublicMessage(\n",
       " \tid = 3194979,\n",
       " \tcontent = Cardano was my first big gainer but was also my first crypto I bought when I first started last year <@!500784610226077717>,\n",
       " \tcreated_at = 2022-04-02 05:07:15.388000+00:00,\n",
       " ),\n",
       " DiscordPublicMessage(\n",
       " \tid = 3194980,\n",
       " \tcontent = I haven’t held Cardano since September tho,\n",
       " \tcreated_at = 2022-04-02 05:07:23.447000+00:00,\n",
       " ),\n",
       " DiscordPublicMessage(\n",
       " \tid = 3197637,\n",
       " \tcontent = i'll be honest, i exchanged some cardano for terra last night and it gave me a nice pump,\n",
       " \tcreated_at = 2022-04-02 14:20:31.434000+00:00,\n",
       " ),\n",
       " DiscordPublicMessage(\n",
       " \tid = 3200279,\n",
       " \tcontent = I dont really analyse the foundamentals of coins, but personally I wouldn't buy cardano for medium to long term investing and would opt for other coins like dot, matic, eth, etc.,\n",
       " \tcreated_at = 2022-04-02 18:30:03.959000+00:00,\n",
       " )]"
      ]
     },
     "execution_count": 8,
     "metadata": {},
     "output_type": "execute_result"
    }
   ],
   "source": [
    "messages = client.get_discord(\n",
    "    from_ = \"2022-04-01\",\n",
    "    limit = 10,\n",
    "    tag = \"cardano\"\n",
    ")\n",
    "messages"
   ]
  }
 ],
 "metadata": {
  "interpreter": {
   "hash": "c5e1fbb35f6f73757ee3f1685a0230ad9f20736172730fe2387c421ac6aeedba"
  },
  "kernelspec": {
   "display_name": "Python 3 (ipykernel)",
   "language": "python",
   "name": "python3"
  },
  "language_info": {
   "codemirror_mode": {
    "name": "ipython",
    "version": 3
   },
   "file_extension": ".py",
   "mimetype": "text/x-python",
   "name": "python",
   "nbconvert_exporter": "python",
   "pygments_lexer": "ipython3",
   "version": "3.9.9"
  }
 },
 "nbformat": 4,
 "nbformat_minor": 2
}