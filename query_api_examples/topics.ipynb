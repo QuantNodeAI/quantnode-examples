{
 "cells": [
  {
   "cell_type": "markdown",
   "source": [
    "# Get trending topics across articles"
   ],
   "metadata": {
    "collapsed": false
   }
  },
  {
   "cell_type": "code",
   "execution_count": 11,
   "outputs": [],
   "source": [
    "import os\n",
    "import sys\n",
    "import dotenv\n",
    "module_path = os.path.abspath(os.path.join('..'))\n",
    "if module_path not in sys.path:\n",
    "    sys.path.append(module_path)"
   ],
   "metadata": {
    "collapsed": false,
    "ExecuteTime": {
     "start_time": "2023-04-14T13:53:21.280240Z",
     "end_time": "2023-04-14T13:53:21.328934Z"
    }
   }
  },
  {
   "cell_type": "code",
   "execution_count": 12,
   "outputs": [],
   "source": [
    "from quantnote_query_api.query_api_client import QuantNoteQueryApi"
   ],
   "metadata": {
    "collapsed": false,
    "ExecuteTime": {
     "start_time": "2023-04-14T13:53:21.297936Z",
     "end_time": "2023-04-14T13:53:21.369976Z"
    }
   }
  },
  {
   "cell_type": "markdown",
   "source": [
    "## Get Query api Client"
   ],
   "metadata": {
    "collapsed": false
   }
  },
  {
   "cell_type": "code",
   "execution_count": 13,
   "outputs": [
    {
     "data": {
      "text/plain": "<quantnote_query_api.query_api_client.QuantNoteQueryApi at 0x7f3cbbc93ac0>"
     },
     "execution_count": 13,
     "metadata": {},
     "output_type": "execute_result"
    }
   ],
   "source": [
    "dotenv.load_dotenv(\".env\")\n",
    "AUTH_TOKEN = os.getenv(\"AUTH_TOKEN\")\n",
    "client = QuantNoteQueryApi(auth_token=AUTH_TOKEN, api_version=\"v1\")\n",
    "client"
   ],
   "metadata": {
    "collapsed": false,
    "ExecuteTime": {
     "start_time": "2023-04-14T13:53:21.298043Z",
     "end_time": "2023-04-14T13:53:21.370303Z"
    }
   }
  },
  {
   "cell_type": "markdown",
   "source": [
    "## Get most recent topics"
   ],
   "metadata": {
    "collapsed": false
   }
  },
  {
   "cell_type": "markdown",
   "source": [
    "Query directly on the database"
   ],
   "metadata": {
    "collapsed": false
   }
  },
  {
   "cell_type": "code",
   "execution_count": 14,
   "outputs": [
    {
     "data": {
      "text/plain": "Waiting for response till limit:   0%|          | 0/600 [00:00<?, ?it/s]",
      "application/vnd.jupyter.widget-view+json": {
       "version_major": 2,
       "version_minor": 0,
       "model_id": "7b8ab311043c41868eef1b7aa2db7f8a"
      }
     },
     "metadata": {},
     "output_type": "display_data"
    },
    {
     "data": {
      "text/plain": "                                             keywords  \\\n0   {word,book,burn,window,peace,attacker,mining,t...   \n1   {slot,bonus,casino,site,game,player,spin,biden...   \n2   {cagr,vehicle,jail,hong_kong,driver,month,subs...   \n3   {family,child,woman,home,people,life,time,man,...   \n4   {conversation,water,star,torstar,cat,alliance,...   \n5   {amazon,taiwan,music,song,lobby,folk,aws,light...   \n6   {company,share,revenue,business,sale,cost,stoc...   \n7   {app,apple,device,meta,file,news,phone,agm,use...   \n8   {trump,case,lawsuit,court,trial,investigation,...   \n9   {xrp,eth,twitter,ethereum,upgrade,ripple,price...   \n10  {game,player,goal,team,play,time,series,season...   \n11  {lee,police,death,car,officer,city,murder,comp...   \n12  {people,time,ban,decision,state,bill,issue,wor...   \n13  {price,fusion_media,datum,risk,website,cryptoc...   \n14  {india,country,g20,minister,indian,meeting,des...   \n15  {solana,camera,governor,import,sol,pump,impris...   \n16  {deposit,money,bank,mode,card,loan,account,off...   \n17  {avalanche,conductor,bjp,streak,party,silver,c...   \n18  {asset,investor,market,bitcoin,fund,cryptocurr...   \n19  {token,btc,user,transaction,digital,network,bl...   \n20  {technology,service,experience,industry,platfo...   \n21  {florida,abortion,bid,san_francisco,house,repu...   \n22  {combat,suspect,eu,troop,hole,sanction,probe,a...   \n23  {boeing,thread,uae,noise,elimination,cbdc,draw...   \n24  {uk,london,britain,venue,france,supreme_court,...   \n25  {study,test,patient,ruling,case,people,clinic,...   \n26  {company,statement,information,share,security,...   \n27  {tiktok,video,dog,youtube,brand,multiplier,nik...   \n28  {ukraine,china,us,russia,war,u.s.,document,rus...   \n29  {market,price,rate,level,report,us,economy,inf...   \n\n                   timestamp  \\\n0   2023-04-14T11:45:55.323Z   \n1   2023-04-14T11:45:55.323Z   \n2   2023-04-14T11:45:55.323Z   \n3   2023-04-14T11:45:55.323Z   \n4   2023-04-14T11:45:55.323Z   \n5   2023-04-14T11:45:55.323Z   \n6   2023-04-14T11:45:55.323Z   \n7   2023-04-14T11:45:55.323Z   \n8   2023-04-14T11:45:55.323Z   \n9   2023-04-14T11:45:55.323Z   \n10  2023-04-14T11:45:55.323Z   \n11  2023-04-14T11:45:55.323Z   \n12  2023-04-14T11:45:55.323Z   \n13  2023-04-14T11:45:55.323Z   \n14  2023-04-14T11:45:55.323Z   \n15  2023-04-14T11:45:55.323Z   \n16  2023-04-14T11:45:55.323Z   \n17  2023-04-14T11:45:55.323Z   \n18  2023-04-14T11:45:55.323Z   \n19  2023-04-14T11:45:55.323Z   \n20  2023-04-14T11:45:55.323Z   \n21  2023-04-14T11:45:55.323Z   \n22  2023-04-14T11:45:55.323Z   \n23  2023-04-14T11:45:55.323Z   \n24  2023-04-14T11:45:55.323Z   \n25  2023-04-14T11:45:55.323Z   \n26  2023-04-14T11:45:55.323Z   \n27  2023-04-14T11:45:55.323Z   \n28  2023-04-14T11:45:55.323Z   \n29  2023-04-14T11:45:55.323Z   \n\n                                         top_articles  \n0   [[\"Yearn Finance Bleeds $11.6M As Legacy Misco...  \n1   [[\"Bitcoin Casino No Deposit Bonus Free Spins:...  \n2   [[\"Cannes Film Festival: Record Number Of Fema...  \n3   [[\"Love Island's Jessie and Will can't keep th...  \n4   [[\"See inside NASA's 3D-printed Mars habitat w...  \n5   [[\"Pioneering fashion designer Mary Quant dies...  \n6   [[\"Sportsman's Warehouse Stock Is Sliding: Wha...  \n7   [[\"A Sigh of Relief: CPI Cools Down as Bitcoin...  \n8   [[\"Donald Trump 'Is Already Sunk' in Letitia J...  \n9   [[\"Ether staking withdrawals: Crypto exchanges...  \n10  [[\"NHL Daily Fantasy Helper: Thursday 4/13/23\"...  \n11  [[\"Suspect arrested in stabbing death of Cash ...  \n12  [[\"JPMorgan warns that bankers who fail to com...  \n13  [[\"Loop Capital maintains Sea at Hold\",0.93346...  \n14  [[\"PM Narendra Modi pays tribute to martyrs of...  \n15  [[\"MonkeDAO Plans to Buy Rights to Popular Sol...  \n16  [[\"Examining Non-Traditional Loan Options: Exp...  \n17  [[\"Nomination papers filed in three districts\"...  \n18  [[\"Memecoins Dogecoin (DOGE) and Shiba Inu (SH...  \n19  [[\"Frogs Over Fiat NY | Scarce City\",0.7182990...  \n20  [[\"Rackspace Technology Becomes First Multiclo...  \n21  [[\"Junior doctors should halt strikes for Gove...  \n22  [[\"James Webb Space Telescope discovers oldest...  \n23  [[\"IMF engaging with dozens of countries on CB...  \n24  [[\"LCH SA To Offer Clearing Services For Bitco...  \n25  [[\"New technique may aid early Parkinson’s det...  \n26  [[\"IceCure Medical : Report Of Foreign Private...  \n27  [[\"Golden Retriever Pup Caught Expressing 'Tin...  \n28  [[\"4/13/23National Security and Korean News an...  \n29  [[\"Litecoin price analysis: LTC spikes to $94....  ",
      "text/html": "<div>\n<style scoped>\n    .dataframe tbody tr th:only-of-type {\n        vertical-align: middle;\n    }\n\n    .dataframe tbody tr th {\n        vertical-align: top;\n    }\n\n    .dataframe thead th {\n        text-align: right;\n    }\n</style>\n<table border=\"1\" class=\"dataframe\">\n  <thead>\n    <tr style=\"text-align: right;\">\n      <th></th>\n      <th>keywords</th>\n      <th>timestamp</th>\n      <th>top_articles</th>\n    </tr>\n  </thead>\n  <tbody>\n    <tr>\n      <th>0</th>\n      <td>{word,book,burn,window,peace,attacker,mining,t...</td>\n      <td>2023-04-14T11:45:55.323Z</td>\n      <td>[[\"Yearn Finance Bleeds $11.6M As Legacy Misco...</td>\n    </tr>\n    <tr>\n      <th>1</th>\n      <td>{slot,bonus,casino,site,game,player,spin,biden...</td>\n      <td>2023-04-14T11:45:55.323Z</td>\n      <td>[[\"Bitcoin Casino No Deposit Bonus Free Spins:...</td>\n    </tr>\n    <tr>\n      <th>2</th>\n      <td>{cagr,vehicle,jail,hong_kong,driver,month,subs...</td>\n      <td>2023-04-14T11:45:55.323Z</td>\n      <td>[[\"Cannes Film Festival: Record Number Of Fema...</td>\n    </tr>\n    <tr>\n      <th>3</th>\n      <td>{family,child,woman,home,people,life,time,man,...</td>\n      <td>2023-04-14T11:45:55.323Z</td>\n      <td>[[\"Love Island's Jessie and Will can't keep th...</td>\n    </tr>\n    <tr>\n      <th>4</th>\n      <td>{conversation,water,star,torstar,cat,alliance,...</td>\n      <td>2023-04-14T11:45:55.323Z</td>\n      <td>[[\"See inside NASA's 3D-printed Mars habitat w...</td>\n    </tr>\n    <tr>\n      <th>5</th>\n      <td>{amazon,taiwan,music,song,lobby,folk,aws,light...</td>\n      <td>2023-04-14T11:45:55.323Z</td>\n      <td>[[\"Pioneering fashion designer Mary Quant dies...</td>\n    </tr>\n    <tr>\n      <th>6</th>\n      <td>{company,share,revenue,business,sale,cost,stoc...</td>\n      <td>2023-04-14T11:45:55.323Z</td>\n      <td>[[\"Sportsman's Warehouse Stock Is Sliding: Wha...</td>\n    </tr>\n    <tr>\n      <th>7</th>\n      <td>{app,apple,device,meta,file,news,phone,agm,use...</td>\n      <td>2023-04-14T11:45:55.323Z</td>\n      <td>[[\"A Sigh of Relief: CPI Cools Down as Bitcoin...</td>\n    </tr>\n    <tr>\n      <th>8</th>\n      <td>{trump,case,lawsuit,court,trial,investigation,...</td>\n      <td>2023-04-14T11:45:55.323Z</td>\n      <td>[[\"Donald Trump 'Is Already Sunk' in Letitia J...</td>\n    </tr>\n    <tr>\n      <th>9</th>\n      <td>{xrp,eth,twitter,ethereum,upgrade,ripple,price...</td>\n      <td>2023-04-14T11:45:55.323Z</td>\n      <td>[[\"Ether staking withdrawals: Crypto exchanges...</td>\n    </tr>\n    <tr>\n      <th>10</th>\n      <td>{game,player,goal,team,play,time,series,season...</td>\n      <td>2023-04-14T11:45:55.323Z</td>\n      <td>[[\"NHL Daily Fantasy Helper: Thursday 4/13/23\"...</td>\n    </tr>\n    <tr>\n      <th>11</th>\n      <td>{lee,police,death,car,officer,city,murder,comp...</td>\n      <td>2023-04-14T11:45:55.323Z</td>\n      <td>[[\"Suspect arrested in stabbing death of Cash ...</td>\n    </tr>\n    <tr>\n      <th>12</th>\n      <td>{people,time,ban,decision,state,bill,issue,wor...</td>\n      <td>2023-04-14T11:45:55.323Z</td>\n      <td>[[\"JPMorgan warns that bankers who fail to com...</td>\n    </tr>\n    <tr>\n      <th>13</th>\n      <td>{price,fusion_media,datum,risk,website,cryptoc...</td>\n      <td>2023-04-14T11:45:55.323Z</td>\n      <td>[[\"Loop Capital maintains Sea at Hold\",0.93346...</td>\n    </tr>\n    <tr>\n      <th>14</th>\n      <td>{india,country,g20,minister,indian,meeting,des...</td>\n      <td>2023-04-14T11:45:55.323Z</td>\n      <td>[[\"PM Narendra Modi pays tribute to martyrs of...</td>\n    </tr>\n    <tr>\n      <th>15</th>\n      <td>{solana,camera,governor,import,sol,pump,impris...</td>\n      <td>2023-04-14T11:45:55.323Z</td>\n      <td>[[\"MonkeDAO Plans to Buy Rights to Popular Sol...</td>\n    </tr>\n    <tr>\n      <th>16</th>\n      <td>{deposit,money,bank,mode,card,loan,account,off...</td>\n      <td>2023-04-14T11:45:55.323Z</td>\n      <td>[[\"Examining Non-Traditional Loan Options: Exp...</td>\n    </tr>\n    <tr>\n      <th>17</th>\n      <td>{avalanche,conductor,bjp,streak,party,silver,c...</td>\n      <td>2023-04-14T11:45:55.323Z</td>\n      <td>[[\"Nomination papers filed in three districts\"...</td>\n    </tr>\n    <tr>\n      <th>18</th>\n      <td>{asset,investor,market,bitcoin,fund,cryptocurr...</td>\n      <td>2023-04-14T11:45:55.323Z</td>\n      <td>[[\"Memecoins Dogecoin (DOGE) and Shiba Inu (SH...</td>\n    </tr>\n    <tr>\n      <th>19</th>\n      <td>{token,btc,user,transaction,digital,network,bl...</td>\n      <td>2023-04-14T11:45:55.323Z</td>\n      <td>[[\"Frogs Over Fiat NY | Scarce City\",0.7182990...</td>\n    </tr>\n    <tr>\n      <th>20</th>\n      <td>{technology,service,experience,industry,platfo...</td>\n      <td>2023-04-14T11:45:55.323Z</td>\n      <td>[[\"Rackspace Technology Becomes First Multiclo...</td>\n    </tr>\n    <tr>\n      <th>21</th>\n      <td>{florida,abortion,bid,san_francisco,house,repu...</td>\n      <td>2023-04-14T11:45:55.323Z</td>\n      <td>[[\"Junior doctors should halt strikes for Gove...</td>\n    </tr>\n    <tr>\n      <th>22</th>\n      <td>{combat,suspect,eu,troop,hole,sanction,probe,a...</td>\n      <td>2023-04-14T11:45:55.323Z</td>\n      <td>[[\"James Webb Space Telescope discovers oldest...</td>\n    </tr>\n    <tr>\n      <th>23</th>\n      <td>{boeing,thread,uae,noise,elimination,cbdc,draw...</td>\n      <td>2023-04-14T11:45:55.323Z</td>\n      <td>[[\"IMF engaging with dozens of countries on CB...</td>\n    </tr>\n    <tr>\n      <th>24</th>\n      <td>{uk,london,britain,venue,france,supreme_court,...</td>\n      <td>2023-04-14T11:45:55.323Z</td>\n      <td>[[\"LCH SA To Offer Clearing Services For Bitco...</td>\n    </tr>\n    <tr>\n      <th>25</th>\n      <td>{study,test,patient,ruling,case,people,clinic,...</td>\n      <td>2023-04-14T11:45:55.323Z</td>\n      <td>[[\"New technique may aid early Parkinson’s det...</td>\n    </tr>\n    <tr>\n      <th>26</th>\n      <td>{company,statement,information,share,security,...</td>\n      <td>2023-04-14T11:45:55.323Z</td>\n      <td>[[\"IceCure Medical : Report Of Foreign Private...</td>\n    </tr>\n    <tr>\n      <th>27</th>\n      <td>{tiktok,video,dog,youtube,brand,multiplier,nik...</td>\n      <td>2023-04-14T11:45:55.323Z</td>\n      <td>[[\"Golden Retriever Pup Caught Expressing 'Tin...</td>\n    </tr>\n    <tr>\n      <th>28</th>\n      <td>{ukraine,china,us,russia,war,u.s.,document,rus...</td>\n      <td>2023-04-14T11:45:55.323Z</td>\n      <td>[[\"4/13/23National Security and Korean News an...</td>\n    </tr>\n    <tr>\n      <th>29</th>\n      <td>{market,price,rate,level,report,us,economy,inf...</td>\n      <td>2023-04-14T11:45:55.323Z</td>\n      <td>[[\"Litecoin price analysis: LTC spikes to $94....</td>\n    </tr>\n  </tbody>\n</table>\n</div>"
     },
     "execution_count": 14,
     "metadata": {},
     "output_type": "execute_result"
    }
   ],
   "source": [
    "query = \"\"\"WITH latest_timestamp AS (SELECT timestamp\n",
    "                          FROM studies.helixir.topics\n",
    "                          ORDER BY timestamp desc\n",
    "                          limit 1)\n",
    "SELECT keywords, top_articles, latest_timestamp.timestamp\n",
    "FROM studies.helixir.topics t, latest_timestamp\n",
    "WHERE t.timestamp = latest_timestamp.timestamp;\"\"\"\n",
    "\n",
    "response = client.get_data_response(query)\n",
    "response"
   ],
   "metadata": {
    "collapsed": false,
    "ExecuteTime": {
     "start_time": "2023-04-14T13:53:21.308635Z",
     "end_time": "2023-04-14T13:53:22.058723Z"
    }
   }
  },
  {
   "cell_type": "markdown",
   "source": [
    "Query with usage of custom function"
   ],
   "metadata": {
    "collapsed": false
   }
  },
  {
   "cell_type": "code",
   "execution_count": 15,
   "outputs": [
    {
     "data": {
      "text/plain": "Waiting for response till limit:   0%|          | 0/600 [00:00<?, ?it/s]",
      "application/vnd.jupyter.widget-view+json": {
       "version_major": 2,
       "version_minor": 0,
       "model_id": "85096be652f84bcaac846358218e4d6e"
      }
     },
     "metadata": {},
     "output_type": "display_data"
    },
    {
     "data": {
      "text/plain": "                                         top_articles  \\\n0   [{\"title\":\"Suspect arrested in stabbing death ...   \n1   [{\"title\":\"Loop Capital maintains Sea at Hold\"...   \n2   [{\"title\":\"Memecoins Dogecoin (DOGE) and Shiba...   \n3   [{\"title\":\"Cannes Film Festival: Record Number...   \n4   [{\"title\":\"A Sigh of Relief: CPI Cools Down as...   \n5   [{\"title\":\"Rackspace Technology Becomes First ...   \n6   [{\"title\":\"James Webb Space Telescope discover...   \n7   [{\"title\":\"New technique may aid early Parkins...   \n8   [{\"title\":\"Golden Retriever Pup Caught Express...   \n9   [{\"title\":\"Litecoin price analysis: LTC spikes...   \n10  [{\"title\":\"Sportsmans Warehouse Stock Is Slidi...   \n11  [{\"title\":\"Examining Non-Traditional Loan Opti...   \n12  [{\"title\":\"See inside NASAs 3D-printed Mars ha...   \n13  [{\"title\":\"Ether staking withdrawals: Crypto e...   \n14  [{\"title\":\"MonkeDAO Plans to Buy Rights to Pop...   \n15  [{\"title\":\"IceCure Medical : Report Of Foreign...   \n16  [{\"title\":\"4/13/23National Security and Korean...   \n17  [{\"title\":\"Donald Trump Is Already Sunk in Let...   \n18  [{\"title\":\"NHL Daily Fantasy Helper: Thursday ...   \n19  [{\"title\":\"IMF engaging with dozens of countri...   \n20  [{\"title\":\"Bitcoin Casino No Deposit Bonus Fre...   \n21  [{\"title\":\"JPMorgan warns that bankers who fai...   \n22  [{\"title\":\"Frogs Over Fiat NY | Scarce City\",\"...   \n23  [{\"title\":\"LCH SA To Offer Clearing Services F...   \n24  [{\"title\":\"Pioneering fashion designer Mary Qu...   \n25  [{\"title\":\"PM Narendra Modi pays tribute to ma...   \n26  [{\"title\":\"Junior doctors should halt strikes ...   \n27  [{\"title\":\"Yearn Finance Bleeds $11.6M As Lega...   \n28  [{\"title\":\"Love Islands Jessie and Will cant k...   \n29  [{\"title\":\"Nomination papers filed in three di...   \n\n                                                topic  \n0   0.067*\"lee\" + 0.058*\"police\" + 0.053*\"death\" +...  \n1   0.090*\"price\" + 0.061*\"fusion_media\" + 0.056*\"...  \n2   0.055*\"asset\" + 0.042*\"investor\" + 0.035*\"mark...  \n3   0.065*\"cagr\" + 0.060*\"vehicle\" + 0.037*\"jail\" ...  \n4   0.047*\"app\" + 0.042*\"apple\" + 0.037*\"device\" +...  \n5   0.020*\"technology\" + 0.016*\"service\" + 0.014*\"...  \n6   0.052*\"combat\" + 0.034*\"suspect\" + 0.029*\"eu\" ...  \n7   0.036*\"study\" + 0.036*\"test\" + 0.022*\"patient\"...  \n8   0.054*\"tiktok\" + 0.054*\"video\" + 0.027*\"dog\" +...  \n9   0.050*\"market\" + 0.045*\"price\" + 0.028*\"rate\" ...  \n10  0.050*\"company\" + 0.029*\"share\" + 0.023*\"reven...  \n11  0.085*\"deposit\" + 0.053*\"money\" + 0.039*\"bank\"...  \n12  0.021*\"conversation\" + 0.020*\"water\" + 0.018*\"...  \n13  0.051*\"xrp\" + 0.043*\"eth\" + 0.043*\"twitter\" + ...  \n14  0.048*\"solana\" + 0.019*\"camera\" + 0.018*\"gover...  \n15  0.049*\"company\" + 0.039*\"statement\" + 0.036*\"i...  \n16  0.048*\"ukraine\" + 0.042*\"china\" + 0.039*\"us\" +...  \n17  0.065*\"trump\" + 0.058*\"case\" + 0.050*\"lawsuit\"...  \n18  0.086*\"game\" + 0.024*\"player\" + 0.021*\"goal\" +...  \n19  0.034*\"boeing\" + 0.026*\"thread\" + 0.023*\"uae\" ...  \n20  0.152*\"slot\" + 0.132*\"bonus\" + 0.080*\"casino\" ...  \n21  0.030*\"people\" + 0.013*\"time\" + 0.010*\"ban\" + ...  \n22  0.051*\"token\" + 0.046*\"btc\" + 0.046*\"user\" + 0...  \n23  0.078*\"uk\" + 0.068*\"london\" + 0.027*\"britain\" ...  \n24  0.021*\"amazon\" + 0.019*\"taiwan\" + 0.018*\"music...  \n25  0.104*\"india\" + 0.097*\"country\" + 0.033*\"g20\" ...  \n26  0.049*\"florida\" + 0.036*\"abortion\" + 0.029*\"bi...  \n27  0.025*\"word\" + 0.013*\"book\" + 0.012*\"burn\" + 0...  \n28  0.027*\"family\" + 0.025*\"child\" + 0.022*\"woman\"...  \n29  0.068*\"avalanche\" + 0.029*\"conductor\" + 0.028*...  ",
      "text/html": "<div>\n<style scoped>\n    .dataframe tbody tr th:only-of-type {\n        vertical-align: middle;\n    }\n\n    .dataframe tbody tr th {\n        vertical-align: top;\n    }\n\n    .dataframe thead th {\n        text-align: right;\n    }\n</style>\n<table border=\"1\" class=\"dataframe\">\n  <thead>\n    <tr style=\"text-align: right;\">\n      <th></th>\n      <th>top_articles</th>\n      <th>topic</th>\n    </tr>\n  </thead>\n  <tbody>\n    <tr>\n      <th>0</th>\n      <td>[{\"title\":\"Suspect arrested in stabbing death ...</td>\n      <td>0.067*\"lee\" + 0.058*\"police\" + 0.053*\"death\" +...</td>\n    </tr>\n    <tr>\n      <th>1</th>\n      <td>[{\"title\":\"Loop Capital maintains Sea at Hold\"...</td>\n      <td>0.090*\"price\" + 0.061*\"fusion_media\" + 0.056*\"...</td>\n    </tr>\n    <tr>\n      <th>2</th>\n      <td>[{\"title\":\"Memecoins Dogecoin (DOGE) and Shiba...</td>\n      <td>0.055*\"asset\" + 0.042*\"investor\" + 0.035*\"mark...</td>\n    </tr>\n    <tr>\n      <th>3</th>\n      <td>[{\"title\":\"Cannes Film Festival: Record Number...</td>\n      <td>0.065*\"cagr\" + 0.060*\"vehicle\" + 0.037*\"jail\" ...</td>\n    </tr>\n    <tr>\n      <th>4</th>\n      <td>[{\"title\":\"A Sigh of Relief: CPI Cools Down as...</td>\n      <td>0.047*\"app\" + 0.042*\"apple\" + 0.037*\"device\" +...</td>\n    </tr>\n    <tr>\n      <th>5</th>\n      <td>[{\"title\":\"Rackspace Technology Becomes First ...</td>\n      <td>0.020*\"technology\" + 0.016*\"service\" + 0.014*\"...</td>\n    </tr>\n    <tr>\n      <th>6</th>\n      <td>[{\"title\":\"James Webb Space Telescope discover...</td>\n      <td>0.052*\"combat\" + 0.034*\"suspect\" + 0.029*\"eu\" ...</td>\n    </tr>\n    <tr>\n      <th>7</th>\n      <td>[{\"title\":\"New technique may aid early Parkins...</td>\n      <td>0.036*\"study\" + 0.036*\"test\" + 0.022*\"patient\"...</td>\n    </tr>\n    <tr>\n      <th>8</th>\n      <td>[{\"title\":\"Golden Retriever Pup Caught Express...</td>\n      <td>0.054*\"tiktok\" + 0.054*\"video\" + 0.027*\"dog\" +...</td>\n    </tr>\n    <tr>\n      <th>9</th>\n      <td>[{\"title\":\"Litecoin price analysis: LTC spikes...</td>\n      <td>0.050*\"market\" + 0.045*\"price\" + 0.028*\"rate\" ...</td>\n    </tr>\n    <tr>\n      <th>10</th>\n      <td>[{\"title\":\"Sportsmans Warehouse Stock Is Slidi...</td>\n      <td>0.050*\"company\" + 0.029*\"share\" + 0.023*\"reven...</td>\n    </tr>\n    <tr>\n      <th>11</th>\n      <td>[{\"title\":\"Examining Non-Traditional Loan Opti...</td>\n      <td>0.085*\"deposit\" + 0.053*\"money\" + 0.039*\"bank\"...</td>\n    </tr>\n    <tr>\n      <th>12</th>\n      <td>[{\"title\":\"See inside NASAs 3D-printed Mars ha...</td>\n      <td>0.021*\"conversation\" + 0.020*\"water\" + 0.018*\"...</td>\n    </tr>\n    <tr>\n      <th>13</th>\n      <td>[{\"title\":\"Ether staking withdrawals: Crypto e...</td>\n      <td>0.051*\"xrp\" + 0.043*\"eth\" + 0.043*\"twitter\" + ...</td>\n    </tr>\n    <tr>\n      <th>14</th>\n      <td>[{\"title\":\"MonkeDAO Plans to Buy Rights to Pop...</td>\n      <td>0.048*\"solana\" + 0.019*\"camera\" + 0.018*\"gover...</td>\n    </tr>\n    <tr>\n      <th>15</th>\n      <td>[{\"title\":\"IceCure Medical : Report Of Foreign...</td>\n      <td>0.049*\"company\" + 0.039*\"statement\" + 0.036*\"i...</td>\n    </tr>\n    <tr>\n      <th>16</th>\n      <td>[{\"title\":\"4/13/23National Security and Korean...</td>\n      <td>0.048*\"ukraine\" + 0.042*\"china\" + 0.039*\"us\" +...</td>\n    </tr>\n    <tr>\n      <th>17</th>\n      <td>[{\"title\":\"Donald Trump Is Already Sunk in Let...</td>\n      <td>0.065*\"trump\" + 0.058*\"case\" + 0.050*\"lawsuit\"...</td>\n    </tr>\n    <tr>\n      <th>18</th>\n      <td>[{\"title\":\"NHL Daily Fantasy Helper: Thursday ...</td>\n      <td>0.086*\"game\" + 0.024*\"player\" + 0.021*\"goal\" +...</td>\n    </tr>\n    <tr>\n      <th>19</th>\n      <td>[{\"title\":\"IMF engaging with dozens of countri...</td>\n      <td>0.034*\"boeing\" + 0.026*\"thread\" + 0.023*\"uae\" ...</td>\n    </tr>\n    <tr>\n      <th>20</th>\n      <td>[{\"title\":\"Bitcoin Casino No Deposit Bonus Fre...</td>\n      <td>0.152*\"slot\" + 0.132*\"bonus\" + 0.080*\"casino\" ...</td>\n    </tr>\n    <tr>\n      <th>21</th>\n      <td>[{\"title\":\"JPMorgan warns that bankers who fai...</td>\n      <td>0.030*\"people\" + 0.013*\"time\" + 0.010*\"ban\" + ...</td>\n    </tr>\n    <tr>\n      <th>22</th>\n      <td>[{\"title\":\"Frogs Over Fiat NY | Scarce City\",\"...</td>\n      <td>0.051*\"token\" + 0.046*\"btc\" + 0.046*\"user\" + 0...</td>\n    </tr>\n    <tr>\n      <th>23</th>\n      <td>[{\"title\":\"LCH SA To Offer Clearing Services F...</td>\n      <td>0.078*\"uk\" + 0.068*\"london\" + 0.027*\"britain\" ...</td>\n    </tr>\n    <tr>\n      <th>24</th>\n      <td>[{\"title\":\"Pioneering fashion designer Mary Qu...</td>\n      <td>0.021*\"amazon\" + 0.019*\"taiwan\" + 0.018*\"music...</td>\n    </tr>\n    <tr>\n      <th>25</th>\n      <td>[{\"title\":\"PM Narendra Modi pays tribute to ma...</td>\n      <td>0.104*\"india\" + 0.097*\"country\" + 0.033*\"g20\" ...</td>\n    </tr>\n    <tr>\n      <th>26</th>\n      <td>[{\"title\":\"Junior doctors should halt strikes ...</td>\n      <td>0.049*\"florida\" + 0.036*\"abortion\" + 0.029*\"bi...</td>\n    </tr>\n    <tr>\n      <th>27</th>\n      <td>[{\"title\":\"Yearn Finance Bleeds $11.6M As Lega...</td>\n      <td>0.025*\"word\" + 0.013*\"book\" + 0.012*\"burn\" + 0...</td>\n    </tr>\n    <tr>\n      <th>28</th>\n      <td>[{\"title\":\"Love Islands Jessie and Will cant k...</td>\n      <td>0.027*\"family\" + 0.025*\"child\" + 0.022*\"woman\"...</td>\n    </tr>\n    <tr>\n      <th>29</th>\n      <td>[{\"title\":\"Nomination papers filed in three di...</td>\n      <td>0.068*\"avalanche\" + 0.029*\"conductor\" + 0.028*...</td>\n    </tr>\n  </tbody>\n</table>\n</div>"
     },
     "execution_count": 15,
     "metadata": {},
     "output_type": "execute_result"
    }
   ],
   "source": [
    "query2 = \"\"\"SELECT topic, top_articles\n",
    "FROM topics();\"\"\"\n",
    "\n",
    "topics = client.get_data_response(query2)\n",
    "topics"
   ],
   "metadata": {
    "collapsed": false,
    "ExecuteTime": {
     "start_time": "2023-04-14T13:53:22.061832Z",
     "end_time": "2023-04-14T13:53:22.748455Z"
    }
   }
  },
  {
   "cell_type": "markdown",
   "source": [
    "Get topics around given anchor words.\n",
    "It accepts comma separated list of anchor words and one numeric value for number of topics that should be modelled."
   ],
   "metadata": {
    "collapsed": false
   }
  },
  {
   "cell_type": "code",
   "execution_count": 16,
   "outputs": [
    {
     "data": {
      "text/plain": "Waiting for response till limit:   0%|          | 0/600 [00:00<?, ?it/s]",
      "application/vnd.jupyter.widget-view+json": {
       "version_major": 2,
       "version_minor": 0,
       "model_id": "3e9f9c7545e949dd8c4c46fe351f6d56"
      }
     },
     "metadata": {},
     "output_type": "display_data"
    },
    {
     "data": {
      "text/plain": "                                        top_articles  \\\n0  [{\"title\":\"Fantom [FTM] is growing and this ne...   \n1  [{\"title\":\"Arbitrum (ARB) Price Spike Draws th...   \n2  [{\"title\":\"Binance Affiliates Introduces Loyal...   \n3  [{\"title\":\"Lark Davis Names Big Money Maker in...   \n4  [{\"title\":\"Binance Affiliates Introduces Loyal...   \n\n                                               topic  \n0  btc, economy, government, city, minister, japa...  \n1  btc, price, upgrade, high, rally, shapella, su...  \n2  btc, information, system, fee, use, security, ...  \n3  btc, bitcoin, eth, capitalization, token, pres...  \n4  btc, bitcoin, chart, bull, altcoin, pattern, t...  ",
      "text/html": "<div>\n<style scoped>\n    .dataframe tbody tr th:only-of-type {\n        vertical-align: middle;\n    }\n\n    .dataframe tbody tr th {\n        vertical-align: top;\n    }\n\n    .dataframe thead th {\n        text-align: right;\n    }\n</style>\n<table border=\"1\" class=\"dataframe\">\n  <thead>\n    <tr style=\"text-align: right;\">\n      <th></th>\n      <th>top_articles</th>\n      <th>topic</th>\n    </tr>\n  </thead>\n  <tbody>\n    <tr>\n      <th>0</th>\n      <td>[{\"title\":\"Fantom [FTM] is growing and this ne...</td>\n      <td>btc, economy, government, city, minister, japa...</td>\n    </tr>\n    <tr>\n      <th>1</th>\n      <td>[{\"title\":\"Arbitrum (ARB) Price Spike Draws th...</td>\n      <td>btc, price, upgrade, high, rally, shapella, su...</td>\n    </tr>\n    <tr>\n      <th>2</th>\n      <td>[{\"title\":\"Binance Affiliates Introduces Loyal...</td>\n      <td>btc, information, system, fee, use, security, ...</td>\n    </tr>\n    <tr>\n      <th>3</th>\n      <td>[{\"title\":\"Lark Davis Names Big Money Maker in...</td>\n      <td>btc, bitcoin, eth, capitalization, token, pres...</td>\n    </tr>\n    <tr>\n      <th>4</th>\n      <td>[{\"title\":\"Binance Affiliates Introduces Loyal...</td>\n      <td>btc, bitcoin, chart, bull, altcoin, pattern, t...</td>\n    </tr>\n  </tbody>\n</table>\n</div>"
     },
     "execution_count": 16,
     "metadata": {},
     "output_type": "execute_result"
    }
   ],
   "source": [
    "anchors_query = \"\"\"SELECT topic, top_articles\n",
    "FROM topics('bitcoin', 'btc', 5);\"\"\"\n",
    "\n",
    "anchors_topics = client.get_data_response(anchors_query)\n",
    "anchors_topics"
   ],
   "metadata": {
    "collapsed": false,
    "ExecuteTime": {
     "start_time": "2023-04-14T13:53:22.752861Z",
     "end_time": "2023-04-14T13:53:33.186017Z"
    }
   }
  },
  {
   "cell_type": "code",
   "execution_count": 16,
   "outputs": [],
   "source": [],
   "metadata": {
    "collapsed": false,
    "ExecuteTime": {
     "start_time": "2023-04-14T13:53:33.186921Z",
     "end_time": "2023-04-14T13:53:33.191828Z"
    }
   }
  }
 ],
 "metadata": {
  "kernelspec": {
   "display_name": "Python 3",
   "language": "python",
   "name": "python3"
  },
  "language_info": {
   "codemirror_mode": {
    "name": "ipython",
    "version": 2
   },
   "file_extension": ".py",
   "mimetype": "text/x-python",
   "name": "python",
   "nbconvert_exporter": "python",
   "pygments_lexer": "ipython2",
   "version": "2.7.6"
  }
 },
 "nbformat": 4,
 "nbformat_minor": 0
}
