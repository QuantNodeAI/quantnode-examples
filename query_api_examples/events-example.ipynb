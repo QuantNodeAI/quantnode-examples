{
 "cells": [
  {
   "cell_type": "markdown",
   "source": [
    "# Crypto Events Example"
   ],
   "metadata": {
    "collapsed": false
   }
  },
  {
   "cell_type": "code",
   "execution_count": 12,
   "outputs": [
    {
     "name": "stderr",
     "output_type": "stream",
     "text": [
      "UsageError: Line magic function `%` not found.\n"
     ]
    }
   ],
   "source": [
    "% reload_ext autoreload\n",
    "% autoreload 2"
   ],
   "metadata": {
    "collapsed": false
   }
  },
  {
   "cell_type": "code",
   "execution_count": null,
   "outputs": [],
   "source": [
    "import os\n",
    "import sys\n",
    "import dotenv\n",
    "import plotly.graph_objects as go\n",
    "from plotly.subplots import make_subplots\n",
    "import pandas as pd\n",
    "\n",
    "module_path = os.path.abspath(os.path.join('..'))\n",
    "if module_path not in sys.path:\n",
    "    sys.path.append(module_path)"
   ],
   "metadata": {
    "collapsed": false,
    "ExecuteTime": {
     "start_time": "2023-04-14T14:16:03.373326Z",
     "end_time": "2023-04-14T14:16:03.887855Z"
    }
   }
  },
  {
   "cell_type": "code",
   "execution_count": null,
   "outputs": [],
   "source": [
    "from quantnote_query_api.query_api_client import QuantNoteQueryApi"
   ],
   "metadata": {
    "collapsed": false,
    "ExecuteTime": {
     "start_time": "2023-04-14T14:16:04.735662Z",
     "end_time": "2023-04-14T14:16:04.911373Z"
    }
   }
  },
  {
   "cell_type": "markdown",
   "source": [
    "## Create api client"
   ],
   "metadata": {
    "collapsed": false
   }
  },
  {
   "cell_type": "code",
   "execution_count": 13,
   "outputs": [
    {
     "data": {
      "text/plain": "<quantnote_query_api.query_api_client.QuantNoteQueryApi at 0x7fc41b7bad70>"
     },
     "execution_count": 13,
     "metadata": {},
     "output_type": "execute_result"
    }
   ],
   "source": [
    "dotenv.load_dotenv(\".env\")\n",
    "AUTH_TOKEN = os.getenv(\"AUTH_TOKEN\")\n",
    "client = QuantNoteQueryApi(auth_token=AUTH_TOKEN, api_version=\"v1\")\n",
    "client"
   ],
   "metadata": {
    "collapsed": false,
    "ExecuteTime": {
     "start_time": "2023-04-14T14:16:06.156801Z",
     "end_time": "2023-04-14T14:16:06.168313Z"
    }
   }
  },
  {
   "cell_type": "markdown",
   "source": [
    "# Getting upcoming events\n",
    "Filter events for listing of new tokens."
   ],
   "metadata": {
    "collapsed": false
   }
  },
  {
   "cell_type": "code",
   "execution_count": 14,
   "outputs": [
    {
     "data": {
      "text/plain": "Waiting for response till limit:   0%|          | 0/600 [00:00<?, ?it/s]",
      "application/vnd.jupyter.widget-view+json": {
       "version_major": 2,
       "version_minor": 0,
       "model_id": "93efb9367a70441ebe5b3923a6edd147"
      }
     },
     "metadata": {},
     "output_type": "display_data"
    },
    {
     "data": {
      "text/plain": "  asset             date_time event_type                          sources  \\\n0   PIT  2023-04-15T00:00:00Z    listing  {https://coinmarketcal.com/en/}   \n1  ALEX  2023-04-17T00:00:00Z    listing  {https://coinmarketcal.com/en/}   \n2   UNW  2023-04-20T00:00:00Z    listing  {https://coinmarketcal.com/en/}   \n\n                 title  \n0  AMA with Bitcointry  \n1         MEXC Listing  \n2  MEXC Global Listing  ",
      "text/html": "<div>\n<style scoped>\n    .dataframe tbody tr th:only-of-type {\n        vertical-align: middle;\n    }\n\n    .dataframe tbody tr th {\n        vertical-align: top;\n    }\n\n    .dataframe thead th {\n        text-align: right;\n    }\n</style>\n<table border=\"1\" class=\"dataframe\">\n  <thead>\n    <tr style=\"text-align: right;\">\n      <th></th>\n      <th>asset</th>\n      <th>date_time</th>\n      <th>event_type</th>\n      <th>sources</th>\n      <th>title</th>\n    </tr>\n  </thead>\n  <tbody>\n    <tr>\n      <th>0</th>\n      <td>PIT</td>\n      <td>2023-04-15T00:00:00Z</td>\n      <td>listing</td>\n      <td>{https://coinmarketcal.com/en/}</td>\n      <td>AMA with Bitcointry</td>\n    </tr>\n    <tr>\n      <th>1</th>\n      <td>ALEX</td>\n      <td>2023-04-17T00:00:00Z</td>\n      <td>listing</td>\n      <td>{https://coinmarketcal.com/en/}</td>\n      <td>MEXC Listing</td>\n    </tr>\n    <tr>\n      <th>2</th>\n      <td>UNW</td>\n      <td>2023-04-20T00:00:00Z</td>\n      <td>listing</td>\n      <td>{https://coinmarketcal.com/en/}</td>\n      <td>MEXC Global Listing</td>\n    </tr>\n  </tbody>\n</table>\n</div>"
     },
     "execution_count": 14,
     "metadata": {},
     "output_type": "execute_result"
    }
   ],
   "source": [
    "query = \"\"\"SELECT *\n",
    "FROM studies.helixir.events\n",
    "WHERE event_type = 'listing'\n",
    "  and date_time >= now()\n",
    "ORDER BY date_time\n",
    "limit 5;\"\"\"\n",
    "\n",
    "response1 = client.get_data_response(query)\n",
    "response1"
   ],
   "metadata": {
    "collapsed": false,
    "ExecuteTime": {
     "start_time": "2023-04-14T14:16:08.961482Z",
     "end_time": "2023-04-14T14:16:09.694382Z"
    }
   }
  },
  {
   "cell_type": "markdown",
   "source": [
    "All upcoming crypto events"
   ],
   "metadata": {
    "collapsed": false
   }
  },
  {
   "cell_type": "code",
   "execution_count": 15,
   "outputs": [
    {
     "data": {
      "text/plain": "Waiting for response till limit:   0%|          | 0/600 [00:00<?, ?it/s]",
      "application/vnd.jupyter.widget-view+json": {
       "version_major": 2,
       "version_minor": 0,
       "model_id": "50eb92f4232c43f7b2c80cac8360ed33"
      }
     },
     "metadata": {},
     "output_type": "display_data"
    },
    {
     "data": {
      "text/plain": "    asset             date_time event_type  \\\n0     KRX  2023-04-15T00:00:00Z        ico   \n1     KRN  2023-04-15T00:00:00Z        ico   \n2     EOS  2023-04-15T00:00:00Z      other   \n3     KAS  2023-04-15T00:00:00Z        ico   \n4   PUNCH  2023-04-15T00:00:00Z        ico   \n5     BLZ  2023-04-15T00:00:00Z      other   \n6    SEON  2023-04-15T00:00:00Z        ico   \n7    CHNG  2023-04-15T00:00:00Z        ico   \n8     KAS  2023-04-15T00:00:00Z        ico   \n9   1INCH  2023-04-15T00:00:00Z      other   \n10    PIT  2023-04-15T00:00:00Z    listing   \n11    PIT  2023-04-15T00:00:00Z      other   \n12    PPC  2023-04-17T00:00:00Z        ico   \n13   ALEX  2023-04-17T00:00:00Z    listing   \n14  CROWN  2023-04-17T00:00:00Z        ico   \n\n                                              sources  \\\n0                     {https://coinmarketcal.com/en/}   \n1                     {https://coinmarketcal.com/en/}   \n2                     {https://coinmarketcal.com/en/}   \n3                     {https://coinmarketcal.com/en/}   \n4                     {https://coinmarketcal.com/en/}   \n5                     {https://coinmarketcal.com/en/}   \n6                     {https://coinmarketcal.com/en/}   \n7                     {https://coinmarketcal.com/en/}   \n8                     {https://coinmarketcal.com/en/}   \n9                     {https://coinmarketcal.com/en/}   \n10                    {https://coinmarketcal.com/en/}   \n11                    {https://coinmarketcal.com/en/}   \n12                    {https://coinmarketcal.com/en/}   \n13                    {https://coinmarketcal.com/en/}   \n14  {https://icodrops.com/,https://icodrops.com/cr...   \n\n                       title  \n0           Cryptube Upgrade  \n1           Cryptube Upgrade  \n2   Yield+ Audit Requirement  \n3        Kaspa on Rust Alpha  \n4         Punchword V1 (IOS)  \n5        New Game Build Demo  \n6      Crowdfunding Platform  \n7                    Web App  \n8      Alpha Testing Release  \n9               Tokyo Meetup  \n10       AMA with Bitcointry  \n11       AMA with Bitcointry  \n12           V0.12 Hard Fork  \n13              MEXC Listing  \n14                     Crown  ",
      "text/html": "<div>\n<style scoped>\n    .dataframe tbody tr th:only-of-type {\n        vertical-align: middle;\n    }\n\n    .dataframe tbody tr th {\n        vertical-align: top;\n    }\n\n    .dataframe thead th {\n        text-align: right;\n    }\n</style>\n<table border=\"1\" class=\"dataframe\">\n  <thead>\n    <tr style=\"text-align: right;\">\n      <th></th>\n      <th>asset</th>\n      <th>date_time</th>\n      <th>event_type</th>\n      <th>sources</th>\n      <th>title</th>\n    </tr>\n  </thead>\n  <tbody>\n    <tr>\n      <th>0</th>\n      <td>KRX</td>\n      <td>2023-04-15T00:00:00Z</td>\n      <td>ico</td>\n      <td>{https://coinmarketcal.com/en/}</td>\n      <td>Cryptube Upgrade</td>\n    </tr>\n    <tr>\n      <th>1</th>\n      <td>KRN</td>\n      <td>2023-04-15T00:00:00Z</td>\n      <td>ico</td>\n      <td>{https://coinmarketcal.com/en/}</td>\n      <td>Cryptube Upgrade</td>\n    </tr>\n    <tr>\n      <th>2</th>\n      <td>EOS</td>\n      <td>2023-04-15T00:00:00Z</td>\n      <td>other</td>\n      <td>{https://coinmarketcal.com/en/}</td>\n      <td>Yield+ Audit Requirement</td>\n    </tr>\n    <tr>\n      <th>3</th>\n      <td>KAS</td>\n      <td>2023-04-15T00:00:00Z</td>\n      <td>ico</td>\n      <td>{https://coinmarketcal.com/en/}</td>\n      <td>Kaspa on Rust Alpha</td>\n    </tr>\n    <tr>\n      <th>4</th>\n      <td>PUNCH</td>\n      <td>2023-04-15T00:00:00Z</td>\n      <td>ico</td>\n      <td>{https://coinmarketcal.com/en/}</td>\n      <td>Punchword V1 (IOS)</td>\n    </tr>\n    <tr>\n      <th>5</th>\n      <td>BLZ</td>\n      <td>2023-04-15T00:00:00Z</td>\n      <td>other</td>\n      <td>{https://coinmarketcal.com/en/}</td>\n      <td>New Game Build Demo</td>\n    </tr>\n    <tr>\n      <th>6</th>\n      <td>SEON</td>\n      <td>2023-04-15T00:00:00Z</td>\n      <td>ico</td>\n      <td>{https://coinmarketcal.com/en/}</td>\n      <td>Crowdfunding Platform</td>\n    </tr>\n    <tr>\n      <th>7</th>\n      <td>CHNG</td>\n      <td>2023-04-15T00:00:00Z</td>\n      <td>ico</td>\n      <td>{https://coinmarketcal.com/en/}</td>\n      <td>Web App</td>\n    </tr>\n    <tr>\n      <th>8</th>\n      <td>KAS</td>\n      <td>2023-04-15T00:00:00Z</td>\n      <td>ico</td>\n      <td>{https://coinmarketcal.com/en/}</td>\n      <td>Alpha Testing Release</td>\n    </tr>\n    <tr>\n      <th>9</th>\n      <td>1INCH</td>\n      <td>2023-04-15T00:00:00Z</td>\n      <td>other</td>\n      <td>{https://coinmarketcal.com/en/}</td>\n      <td>Tokyo Meetup</td>\n    </tr>\n    <tr>\n      <th>10</th>\n      <td>PIT</td>\n      <td>2023-04-15T00:00:00Z</td>\n      <td>listing</td>\n      <td>{https://coinmarketcal.com/en/}</td>\n      <td>AMA with Bitcointry</td>\n    </tr>\n    <tr>\n      <th>11</th>\n      <td>PIT</td>\n      <td>2023-04-15T00:00:00Z</td>\n      <td>other</td>\n      <td>{https://coinmarketcal.com/en/}</td>\n      <td>AMA with Bitcointry</td>\n    </tr>\n    <tr>\n      <th>12</th>\n      <td>PPC</td>\n      <td>2023-04-17T00:00:00Z</td>\n      <td>ico</td>\n      <td>{https://coinmarketcal.com/en/}</td>\n      <td>V0.12 Hard Fork</td>\n    </tr>\n    <tr>\n      <th>13</th>\n      <td>ALEX</td>\n      <td>2023-04-17T00:00:00Z</td>\n      <td>listing</td>\n      <td>{https://coinmarketcal.com/en/}</td>\n      <td>MEXC Listing</td>\n    </tr>\n    <tr>\n      <th>14</th>\n      <td>CROWN</td>\n      <td>2023-04-17T00:00:00Z</td>\n      <td>ico</td>\n      <td>{https://icodrops.com/,https://icodrops.com/cr...</td>\n      <td>Crown</td>\n    </tr>\n  </tbody>\n</table>\n</div>"
     },
     "execution_count": 15,
     "metadata": {},
     "output_type": "execute_result"
    }
   ],
   "source": [
    "query = \"\"\"SELECT *\n",
    "FROM studies.helixir.events\n",
    "WHERE date_time >= now()\n",
    "ORDER BY date_time\n",
    "limit 15;\"\"\"\n",
    "\n",
    "response2 = client.get_data_response(query)\n",
    "response2"
   ],
   "metadata": {
    "collapsed": false,
    "ExecuteTime": {
     "start_time": "2023-04-14T14:16:21.370680Z",
     "end_time": "2023-04-14T14:16:21.982735Z"
    }
   }
  },
  {
   "cell_type": "markdown",
   "source": [
    "# Example of historic event with price of token that has been listed"
   ],
   "metadata": {
    "collapsed": false
   }
  },
  {
   "cell_type": "code",
   "execution_count": 18,
   "outputs": [
    {
     "data": {
      "text/plain": "Waiting for response till limit:   0%|          | 0/600 [00:00<?, ?it/s]",
      "application/vnd.jupyter.widget-view+json": {
       "version_major": 2,
       "version_minor": 0,
       "model_id": "5284428b40704f9c91d3f2fef595928c"
      }
     },
     "metadata": {},
     "output_type": "display_data"
    },
    {
     "data": {
      "text/plain": "   asset                 date_time event_type  \\\n0  MAGIC 2023-01-17 00:00:00+00:00    listing   \n1    FET 2023-01-17 00:00:00+00:00    listing   \n2   KRRX 2023-01-17 00:00:00+00:00    listing   \n3    LDO 2023-01-17 00:00:00+00:00    listing   \n4   DYDX 2023-01-17 00:00:00+00:00    listing   \n\n                           sources                 title  \n0  {https://coinmarketcal.com/en/}        KuCoin Listing  \n1  {https://coinmarketcal.com/en/}        Bitrue Listing  \n2  {https://coinmarketcal.com/en/}  Huobi Global Listing  \n3  {https://coinmarketcal.com/en/}        XT.COM Listing  \n4  {https://coinmarketcal.com/en/}        XT.COM Listing  ",
      "text/html": "<div>\n<style scoped>\n    .dataframe tbody tr th:only-of-type {\n        vertical-align: middle;\n    }\n\n    .dataframe tbody tr th {\n        vertical-align: top;\n    }\n\n    .dataframe thead th {\n        text-align: right;\n    }\n</style>\n<table border=\"1\" class=\"dataframe\">\n  <thead>\n    <tr style=\"text-align: right;\">\n      <th></th>\n      <th>asset</th>\n      <th>date_time</th>\n      <th>event_type</th>\n      <th>sources</th>\n      <th>title</th>\n    </tr>\n  </thead>\n  <tbody>\n    <tr>\n      <th>0</th>\n      <td>MAGIC</td>\n      <td>2023-01-17 00:00:00+00:00</td>\n      <td>listing</td>\n      <td>{https://coinmarketcal.com/en/}</td>\n      <td>KuCoin Listing</td>\n    </tr>\n    <tr>\n      <th>1</th>\n      <td>FET</td>\n      <td>2023-01-17 00:00:00+00:00</td>\n      <td>listing</td>\n      <td>{https://coinmarketcal.com/en/}</td>\n      <td>Bitrue Listing</td>\n    </tr>\n    <tr>\n      <th>2</th>\n      <td>KRRX</td>\n      <td>2023-01-17 00:00:00+00:00</td>\n      <td>listing</td>\n      <td>{https://coinmarketcal.com/en/}</td>\n      <td>Huobi Global Listing</td>\n    </tr>\n    <tr>\n      <th>3</th>\n      <td>LDO</td>\n      <td>2023-01-17 00:00:00+00:00</td>\n      <td>listing</td>\n      <td>{https://coinmarketcal.com/en/}</td>\n      <td>XT.COM Listing</td>\n    </tr>\n    <tr>\n      <th>4</th>\n      <td>DYDX</td>\n      <td>2023-01-17 00:00:00+00:00</td>\n      <td>listing</td>\n      <td>{https://coinmarketcal.com/en/}</td>\n      <td>XT.COM Listing</td>\n    </tr>\n  </tbody>\n</table>\n</div>"
     },
     "execution_count": 18,
     "metadata": {},
     "output_type": "execute_result"
    }
   ],
   "source": [
    "query = \"\"\"SELECT *\n",
    "FROM studies.helixir.events\n",
    "WHERE event_type = 'listing'\n",
    "  and date_time <= now()\n",
    "ORDER BY date_time\n",
    "limit 5;\"\"\"\n",
    "\n",
    "response3 = client.get_data_response(query)\n",
    "response3['date_time'] = pd.to_datetime(response3['date_time'])\n",
    "response3"
   ],
   "metadata": {
    "collapsed": false,
    "ExecuteTime": {
     "start_time": "2023-04-14T14:18:54.708557Z",
     "end_time": "2023-04-14T14:18:55.320456Z"
    }
   }
  }
 ],
 "metadata": {
  "kernelspec": {
   "display_name": "Python 3",
   "language": "python",
   "name": "python3"
  },
  "language_info": {
   "codemirror_mode": {
    "name": "ipython",
    "version": 2
   },
   "file_extension": ".py",
   "mimetype": "text/x-python",
   "name": "python",
   "nbconvert_exporter": "python",
   "pygments_lexer": "ipython2",
   "version": "2.7.6"
  }
 },
 "nbformat": 4,
 "nbformat_minor": 0
}
